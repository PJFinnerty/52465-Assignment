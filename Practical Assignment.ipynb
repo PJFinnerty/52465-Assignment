{
 "cells": [
  {
   "cell_type": "markdown",
   "metadata": {},
   "source": [
    "## Problem statement\n",
    "The following assignment concerns the numpy.random package in Python [2]. You are required to create a Jupyter [5] notebook explaining the use of the package, including detailed explanations of at least five of the distributions provided for in the package. \n",
    "\n",
    "**There are four distinct tasks to be carried out in your Jupyter notebook:** \n",
    "1. Explain the overall purpose of the package.\n",
    "2. Explain the use of the “Simple random data” and “Permutations” functions.\n",
    "3. Explain the use and purpose of at least five “Distributions” functions.\n",
    "4. Explain the use of seeds in generating pseudorandom numbers.\n"
   ]
  },
  {
   "cell_type": "code",
   "execution_count": 1,
   "metadata": {},
   "outputs": [],
   "source": [
    "import numpy as np\n",
    "import matplotlib.pyplot as plt\n",
    "import seaborn as sns"
   ]
  },
  {
   "cell_type": "markdown",
   "metadata": {},
   "source": [
    "## Q1: Explain the overall purpose of numpy.random package."
   ]
  },
  {
   "cell_type": "markdown",
   "metadata": {},
   "source": [
    "### 1.1. Overview"
   ]
  },
  {
   "cell_type": "markdown",
   "metadata": {},
   "source": [
    "Numpy.random is a package within the Numpy library that provides for the creation of pseudo-random values. This is done through the use of a seed value to act as to reference point from which seemingly random values are created. An important fact to note in this is how the values produced are not truly random. Rather, they are generated in a predictable manner from the seed value. A number of functions are utilised with numpy.random that allow for a variety of random number generating requirements.\n",
    "\n",
    "The generation of random numbers has broad reaching applications throughout information technology, including but not limited to computational creativity, modeling and simulation, robotics and gaming (O'Neill, 2014).\n",
    "\n",
    "This does not mean that numpy.random produces a different number everytime it is used, rather it is designed to make it impossible to predict within knowing in advance what the seed value that Numpy is using."
   ]
  },
  {
   "cell_type": "markdown",
   "metadata": {},
   "source": [
    "### 1.2. Documentation for numpy.random and Updates to its Contents"
   ]
  },
  {
   "cell_type": "markdown",
   "metadata": {},
   "source": [
    "With Version 1.17, Numpy have changed the way their Random package works. This have updated the documentation to reflect this. This has necessitated the removal of functions from the Simple Random Data section, that were essentially duplications. The rand, randn, randint, random_integers, random_sample, and ranf have been removed as individual functional entities and Simple Random Data now contains the integers, random, choice and bytes functions. \n",
    "\n",
    "In addition, a 'default_rng' constructor has been introduced for the Generator and associatied functions. This constructor function will instantiate a Generator with Numpys default BitGenerator. This is used by simply assigning a variable to this function and appending one of the numpy.random functions to the end. (EXPLAIN!!!!!)\n",
    "\n",
    "Versin 1.17 saw no change to the Permutations section of the documentation. This section still contains a Shuffle function to permute the elements in an array, by changing the original array and des not output a new variable. It also contains the Permutation function which can also permute an array along the first axis, but does so by returning a new variable, where the original was not changed.\n",
    "**Reference:https://stackoverflow.com/questions/15474159/shuffle-vs-permute-numpy#:~:text=shuffle(x)%20can%20permute%20the,original%20data%20is%20not%20changed.**) \n",
    "\n",
    "Finally, the Distributions section of the numpy.random documentation has been mostly untouched. Many of the same functions are available here. \n",
    "\n",
    "\n"
   ]
  },
  {
   "cell_type": "markdown",
   "metadata": {},
   "source": [
    "### 1.3 How Does numpy.random Generate Pseudo-Random Numbers?"
   ]
  },
  {
   "cell_type": "markdown",
   "metadata": {},
   "source": [
    "#### Random is Not Truly Random\n",
    "\n",
    "The most recent Numpy package, version 1.19, an efficient algorithm known as PCG-64 (Permutation Congruential Generator) to generate pseudo-random numbers. The PCG family of random number generators (RNG's) are different from others in that they produce random numbers quickly, without the need for cryptography, whilst remaining relatively secure. This is achieved by having the RNG pass the output to an efficient permutation function, thereby altering the result. This makes it very difficult for adversary's to discover the internal state of the generator from knowing the output alone (O'Neil, 2014).       \n",
    "\n",
    "In the case of Numpy, the constructor function, numpy.random.default_rng, will instantiate the PCG-64 through the use of a BitGenerator and the Generator will pass the output to be altered by the permutation function. \n",
    "\n",
    "The constructor for the generator in Numpy's recent versions is \n",
    "numpy.random.default_rng(\n",
    "\n",
    "However, there is one way to discover the internal state of the generator: to know the seed value. In Numpy, the seed is the value that is used as a reference point from which random numbers are generated. You can set the seed value to whatever value you wish and whilst you have it set at this value and run a block of numpy.random code, the output will remain the same. On the other hand, if you do not set a seed value, Numpy will determine a seed value and instantiate the generator from this point. This will create an output that you can not repeat, should you run the same code again. Numpy's methods for generating the number are complicated, but one example on how this can be done, is to consider the number Pi. Pi's floating point numbers are infinite. Therefore, one means to generate randomness would be to set a seed value somewhere after the decimal point of Pi and generate numbers from this reference point in a deterministic manner. \n",
    "\n",
    "\" When we say OS-specific randomness source it means\n",
    "\n",
    "On Linux, the getrandom() function can be used to get random bytes in non-blocking mode\n",
    "On a Unix-like system, random bytes are read from the /dev/urandom device\n",
    "On Windows, it will use CryptGenRandom(). \"\n",
    "\n",
    "Reference: https://pynative.com/python-random-seed/\n",
    "\n"
   ]
  },
  {
   "cell_type": "markdown",
   "metadata": {},
   "source": [
    "##### reference: https://www.sharpsightlabs.com/blog/numpy-random-seed/"
   ]
  },
  {
   "cell_type": "markdown",
   "metadata": {},
   "source": [
    "##### reference on the difference between pseudo random and natural randomness by Wolfram Mathworld: https://mathworld.wolfram.com/PseudorandomNumber.html"
   ]
  },
  {
   "cell_type": "markdown",
   "metadata": {},
   "source": [
    "### 1.4. Summarising the Random Package\n",
    "This Jupyter Notebook, seeks to provide a detailed overview of the numpy.random package. Below is a table that has been generated to provide key details on the functions that will be discussed in this project. The functions include the all of those in the Simple Random Data section and Permutations section. 5 Distributions functions are discussed is Section 3, which will provide graphs that illustrate the relationship between these distributions and Numpy's functions for simulating them. I have included examples of outputs from these distribution functions below, although the limited arrays in this table do not display the distribution as the graphs in Section 3 does."
   ]
  },
  {
   "cell_type": "markdown",
   "metadata": {},
   "source": [
    "|  Function Name | Parameters | What it does | Input Example &nbsp; &nbsp; &nbsp; &nbsp; &nbsp; &nbsp; &nbsp; &nbsp; &nbsp; &nbsp; &nbsp; &nbsp; &nbsp; &nbsp; &nbsp; &nbsp; &nbsp; &nbsp; &nbsp; &nbsp;&nbsp; &nbsp; &nbsp; &nbsp; &nbsp; &nbsp; | Output Example  |\n",
    "|:---|:---|:---|:---| :---|\n",
    "|  <font color='blue'>*Simple Random Data Functions*</font> |\n",
    "| integers()| (low[, high, size, dtype, endpoint])  | Generates random integers | rng.integers(5)  |4   | \n",
    "| random()  |([size, dtype, out]) |Generates random floats of a given array | rng.random(5) |array([0.10582498, 0.22151441, 0.88883466, 0.46139778, 0.02401577])   |\n",
    "|  choice() | (a[, size, replace, p, axis, shuffle]) | Return a random sample from a given array, for uniform or non-uniform probabilities |rng.choice(5, 3, p = [0.1, 0.1, 0.7, 0.1, 0] )  | array([2, 2, 2], dtype=int64)  | \n",
    "| bytes() | (length)| Return random bytes of a given length  |  rng.bytes(4) |  b'\\x8a\\xf9R\\x8b' | \n",
    "| <font color='blue'>*Permutation Functions*</font> |\n",
    "| shuffle() | (x[, axis]) | Modifify an array and return the modified version | rng.shuffle(x) ... *if x=np.arange(5)*| array([0, 2, 4, 3, 1]) | \n",
    "| permutation() | (x[, axis]) | Returns a new variable, a copy of an array that has been permuted | rng.permutation([1, 4, 9, 12]) |  array([4,  9,  1, 12])\n",
    "|  <font color='blue'>*Distribution Functions*</font> |\n",
    "| power()| (a[, size])| Draws samples in [0, 1] from a power distribution| rng.power(a, x)...*where a=8 and x=1*3 | [0.92881078, 0.79003738, 0.87355078] \n",
    "| standard_exponential()| ([size, dtype, method, out])| Draw samples from the standard exponential distribution| rng.standard_exponential((2, 4))| [[0.4319951,  1.69130996, 0.4522942,  0.12161319][0.70803341, 0.70335693, 0.04465385, 2.92988127]] \n",
    "| normal() | ([loc, scale, size])| Draw random samples from a normal distribution| rng.normal(mu, sigma, 3)...*where mu, sigma= 0, 0.1* |  [0.00100176,  0.00519112, -0.10541133]\n",
    "rayleigh()| ([scale, size])| Draw samples from a Rayleigh distribution| rng.rayleigh(1, 2)| array([1.08590067, 2.03465331])\n",
    "triangular()| (left, mode, right[, size])| Draw samples from the triangular distribution| rng.triangular(4, 6, 12, 3)| array([9.11802852, 5.05872803, 7.90736215])\n"
   ]
  },
  {
   "cell_type": "markdown",
   "metadata": {},
   "source": [
    "### 1.5. Formula for numpy.random Functions"
   ]
  },
  {
   "cell_type": "markdown",
   "metadata": {},
   "source": []
  },
  {
   "cell_type": "markdown",
   "metadata": {},
   "source": [
    "### 1.6. Visualising the numpy.random Package"
   ]
  },
  {
   "cell_type": "code",
   "execution_count": 2,
   "metadata": {},
   "outputs": [
    {
     "data": {
      "text/plain": [
       "array([5.23499285, 8.15794679, 7.52319254])"
      ]
     },
     "execution_count": 2,
     "metadata": {},
     "output_type": "execute_result"
    }
   ],
   "source": [
    "np.random.default_rng().triangular(4, 6, 12, 3)"
   ]
  },
  {
   "cell_type": "code",
   "execution_count": 3,
   "metadata": {},
   "outputs": [
    {
     "name": "stdout",
     "output_type": "stream",
     "text": [
      "[ 0.29382651  0.00617068 -0.0775472 ]\n"
     ]
    },
    {
     "data": {
      "text/plain": [
       "0.1"
      ]
     },
     "execution_count": 3,
     "metadata": {},
     "output_type": "execute_result"
    }
   ],
   "source": [
    "mu, sigma = 0, 0.1 # mean and standard deviation\n",
    "s = np.random.default_rng().normal(mu, sigma, 3)\n",
    "print(s)\n",
    "abs(mu - np.mean(s))\n",
    "0.0  # may vary\n",
    "\n",
    "abs(sigma - np.std(s, ddof=1))\n",
    "0.1  # may vary"
   ]
  },
  {
   "cell_type": "code",
   "execution_count": 4,
   "metadata": {},
   "outputs": [
    {
     "name": "stdout",
     "output_type": "stream",
     "text": [
      "[[0.2308539  2.54788756 0.0297248  2.70397153]\n",
      " [1.1599579  0.5548312  1.16305975 1.62730767]]\n"
     ]
    },
    {
     "ename": "TypeError",
     "evalue": "type numpy.ndarray doesn't define __round__ method",
     "output_type": "error",
     "traceback": [
      "\u001b[1;31m---------------------------------------------------------------------------\u001b[0m",
      "\u001b[1;31mTypeError\u001b[0m                                 Traceback (most recent call last)",
      "\u001b[1;32m<ipython-input-4-069c38fc07c1>\u001b[0m in \u001b[0;36m<module>\u001b[1;34m\u001b[0m\n\u001b[0;32m      1\u001b[0m \u001b[0mn\u001b[0m \u001b[1;33m=\u001b[0m \u001b[0mnp\u001b[0m\u001b[1;33m.\u001b[0m\u001b[0mrandom\u001b[0m\u001b[1;33m.\u001b[0m\u001b[0mdefault_rng\u001b[0m\u001b[1;33m(\u001b[0m\u001b[1;33m)\u001b[0m\u001b[1;33m.\u001b[0m\u001b[0mstandard_exponential\u001b[0m\u001b[1;33m(\u001b[0m\u001b[1;33m(\u001b[0m\u001b[1;36m2\u001b[0m\u001b[1;33m,\u001b[0m \u001b[1;36m4\u001b[0m\u001b[1;33m)\u001b[0m\u001b[1;33m)\u001b[0m\u001b[1;33m\u001b[0m\u001b[1;33m\u001b[0m\u001b[0m\n\u001b[0;32m      2\u001b[0m \u001b[0mprint\u001b[0m\u001b[1;33m(\u001b[0m\u001b[0mn\u001b[0m\u001b[1;33m)\u001b[0m\u001b[1;33m\u001b[0m\u001b[1;33m\u001b[0m\u001b[0m\n\u001b[1;32m----> 3\u001b[1;33m \u001b[0mnn\u001b[0m \u001b[1;33m=\u001b[0m \u001b[0mround\u001b[0m\u001b[1;33m(\u001b[0m\u001b[0mn\u001b[0m\u001b[1;33m,\u001b[0m \u001b[1;36m2\u001b[0m\u001b[1;33m)\u001b[0m\u001b[1;33m\u001b[0m\u001b[1;33m\u001b[0m\u001b[0m\n\u001b[0m\u001b[0;32m      4\u001b[0m \u001b[0mprint\u001b[0m\u001b[1;33m(\u001b[0m\u001b[0mnn\u001b[0m\u001b[1;33m)\u001b[0m\u001b[1;33m\u001b[0m\u001b[1;33m\u001b[0m\u001b[0m\n",
      "\u001b[1;31mTypeError\u001b[0m: type numpy.ndarray doesn't define __round__ method"
     ]
    }
   ],
   "source": [
    "n = np.random.default_rng().standard_exponential((2, 4))\n",
    "print(n)\n",
    "nn = round(n, 2)\n",
    "print(nn)"
   ]
  },
  {
   "cell_type": "markdown",
   "metadata": {},
   "source": []
  },
  {
   "cell_type": "code",
   "execution_count": null,
   "metadata": {},
   "outputs": [],
   "source": [
    "rng = np.random.default_rng()"
   ]
  },
  {
   "cell_type": "code",
   "execution_count": null,
   "metadata": {},
   "outputs": [],
   "source": [
    "rng.integers(5)"
   ]
  },
  {
   "cell_type": "code",
   "execution_count": null,
   "metadata": {},
   "outputs": [],
   "source": [
    "rng.random(5)"
   ]
  },
  {
   "cell_type": "code",
   "execution_count": null,
   "metadata": {},
   "outputs": [],
   "source": [
    "rng.choice(5, 3, p = [0.1, 0.1, 0.7, 0.1, 0] )"
   ]
  },
  {
   "cell_type": "code",
   "execution_count": null,
   "metadata": {},
   "outputs": [],
   "source": [
    "rng.bytes(4)"
   ]
  },
  {
   "cell_type": "code",
   "execution_count": null,
   "metadata": {},
   "outputs": [],
   "source": [
    "arr = np.arange(20).reshape((2, 10))\n",
    "rng.shuffle(arr, axis = 1)\n",
    "arr"
   ]
  },
  {
   "cell_type": "code",
   "execution_count": null,
   "metadata": {},
   "outputs": [],
   "source": [
    "x = np.arange(5)\n",
    "rng.shuffle(x)\n",
    "x"
   ]
  },
  {
   "cell_type": "code",
   "execution_count": null,
   "metadata": {},
   "outputs": [],
   "source": [
    "b = rng.shuffle([1, 2, 3, 4, 5])\n",
    "print(b)"
   ]
  },
  {
   "cell_type": "code",
   "execution_count": null,
   "metadata": {},
   "outputs": [],
   "source": []
  },
  {
   "cell_type": "markdown",
   "metadata": {},
   "source": [
    "## Q2: Explain the use of the “Simple random data” and “Permutations” functions."
   ]
  },
  {
   "cell_type": "markdown",
   "metadata": {},
   "source": [
    "The second section of the numpy.random package relates to the use of simple random data. This sections contains 4 functions that return random values of various types. The four functions are:\n",
    "1. integers\n",
    "2. random\n",
    "3. choice\n",
    "4. bytes"
   ]
  },
  {
   "cell_type": "markdown",
   "metadata": {},
   "source": [
    "## Simple Random Data"
   ]
  },
  {
   "cell_type": "markdown",
   "metadata": {},
   "source": [
    "### integers function explained - numpy.random.Generator.integers"
   ]
  },
  {
   "cell_type": "markdown",
   "metadata": {},
   "source": [
    "The integers function is designed to take an input of low and high integers and return a random value between these two values, with the high value input being exlcusive by default (i.e. can not be the return value). "
   ]
  },
  {
   "cell_type": "markdown",
   "metadata": {},
   "source": [
    "##### Parameters\n",
    "**low:** int or array-like of ints.\n",
    "Lowest (signed) integers to be drawn from the distribution (unless high=None, in which case this parameter is 0 and   this value is used for high).\n",
    "\n",
    "**high:** int or array-like of ints, optional.\n",
    "If provided, one above the largest (signed) integer to be drawn from the distribution (see above for behavior if high=None). If array-like, must contain integer values\n",
    "\n",
    "**size:** int or tuple of ints, optional.\n",
    "Output shape. If the given shape is, e.g., (m, n, k), then m * n * k samples are drawn. Default is None, in which case a single value is returned.\n",
    "\n",
    "**dtype:** dtype, optional.\n",
    "Desired dtype of the result. Byteorder must be native. The default value is np.int64.\n",
    "\n",
    "**endpoint**: bool, optional\n",
    "If true, sample from the interval [low, high] instead of the default [low, high) Defaults to False\n",
    "\n",
    "##### Returns\n",
    "**out:** int or ndarray of ints.\n",
    "Size-shaped array of random integers from the appropriate distribution, or a single such random int if size not provided."
   ]
  },
  {
   "cell_type": "code",
   "execution_count": null,
   "metadata": {},
   "outputs": [],
   "source": [
    "rng = np.random.default_rng()"
   ]
  },
  {
   "cell_type": "code",
   "execution_count": null,
   "metadata": {},
   "outputs": [],
   "source": [
    "rng.integers(3, size=(2, 3))"
   ]
  },
  {
   "cell_type": "code",
   "execution_count": null,
   "metadata": {},
   "outputs": [],
   "source": [
    "rng.integers(1, size=10)"
   ]
  },
  {
   "cell_type": "code",
   "execution_count": null,
   "metadata": {},
   "outputs": [],
   "source": [
    "# Generate a 2 x 4 array of ints between 0 and 4, inclusive:\n",
    "rng.integers(5, size=(2, 4))"
   ]
  },
  {
   "cell_type": "code",
   "execution_count": null,
   "metadata": {},
   "outputs": [],
   "source": [
    "# Generate a 1 x 3 array with 3 different upper bounds\n",
    "rng.integers(1, [3, 5, 10])"
   ]
  },
  {
   "cell_type": "code",
   "execution_count": null,
   "metadata": {},
   "outputs": [],
   "source": [
    "# Generate a 1 by 3 array with 3 different lower bounds\n",
    "rng.integers([1, 5, 7], 10)"
   ]
  },
  {
   "cell_type": "code",
   "execution_count": null,
   "metadata": {},
   "outputs": [],
   "source": [
    "# Generate a 2 by 4 array using broadcasting with dtype of uint8\n",
    "rng.integers([1, 3, 5, 7], [[10], [20]], dtype=np.uint8)"
   ]
  },
  {
   "cell_type": "markdown",
   "metadata": {},
   "source": [
    "================================================================================================================="
   ]
  },
  {
   "cell_type": "markdown",
   "metadata": {},
   "source": [
    "### random function explained - numpy.random.Generator.random\n",
    "Generator.random(size=None, dtype=np.float64, out=None)\n",
    "Return random floats in the half-open interval [0.0, 1.0).\n",
    "\n",
    "Results are from the “continuous uniform” distribution over the stated interval. To sample Unif[a, b), b > a multiply the output of random by (b-a) and add a:"
   ]
  },
  {
   "cell_type": "markdown",
   "metadata": {},
   "source": [
    "##### Parameters\n",
    "**size:** int or tuple of ints, optional.\n",
    "Output shape. If the given shape is, e.g., (m, n, k), then m * n * k samples are drawn. Default is None, in which case a single value is returned.\n",
    "\n",
    "**dtype:** dtype, optional.\n",
    "Desired dtype of the result, only float64 and float32 are supported. Byteorder must be native. The default value is np.float64.\n",
    "\n",
    "**out:** ndarray, optional.\n",
    "Alternative output array in which to place the result. If size is not None, it must have the same shape as the provided size and must match the type of the output values.\n",
    "\n",
    "##### Returns\n",
    "**out:** float or ndarray of floats.\n",
    "Array of random floats of shape size (unless size=None, in which case a single float is returned)."
   ]
  },
  {
   "cell_type": "code",
   "execution_count": null,
   "metadata": {},
   "outputs": [],
   "source": [
    "rng = np.random.default_rng()"
   ]
  },
  {
   "cell_type": "code",
   "execution_count": null,
   "metadata": {},
   "outputs": [],
   "source": [
    "rng.random()"
   ]
  },
  {
   "cell_type": "code",
   "execution_count": null,
   "metadata": {},
   "outputs": [],
   "source": [
    "type(rng.random())"
   ]
  },
  {
   "cell_type": "code",
   "execution_count": 21,
   "metadata": {},
   "outputs": [
    {
     "data": {
      "text/plain": [
       "array([0.12020858, 0.36340758, 0.11247348, 0.25011935, 0.2822775 ])"
      ]
     },
     "execution_count": 21,
     "metadata": {},
     "output_type": "execute_result"
    }
   ],
   "source": [
    "rng.random((5,))"
   ]
  },
  {
   "cell_type": "code",
   "execution_count": 22,
   "metadata": {},
   "outputs": [
    {
     "data": {
      "text/plain": [
       "array([[-3.49046687, -3.6498638 ],\n",
       "       [-2.88903369, -2.53154005],\n",
       "       [-2.41130001, -0.17144515]])"
      ]
     },
     "execution_count": 22,
     "metadata": {},
     "output_type": "execute_result"
    }
   ],
   "source": [
    "# Three-by-two array of random numbers from [-5, 0):\n",
    "5 * rng.random((3, 2)) - 5"
   ]
  },
  {
   "cell_type": "code",
   "execution_count": null,
   "metadata": {},
   "outputs": [],
   "source": []
  },
  {
   "cell_type": "markdown",
   "metadata": {},
   "source": [
    "====================================================================="
   ]
  },
  {
   "cell_type": "markdown",
   "metadata": {},
   "source": [
    "### choice function explained - numpy.random.Generator.choice\n",
    "method\n",
    "\n",
    "Generator.choice(a, size=None, replace=True, p=None, axis=0, shuffle=True)\n",
    "Generates a random sample from a given 1-D array"
   ]
  },
  {
   "cell_type": "markdown",
   "metadata": {},
   "source": [
    "##### Parameters\n",
    "**a:** {array_like, int}.\n",
    "If an ndarray, a random sample is generated from its elements. If an int, the random sample is generated from np.arange(a).\n",
    "\n",
    "**size:** {int, tuple[int]}, optional.\n",
    "Output shape. If the given shape is, e.g., (m, n, k), then m * n * k samples are drawn from the 1-d a. If a has more than one dimension, the size shape will be inserted into the axis dimension, so the output ndim will be a.ndim - 1 + len(size). Default is None, in which case a single value is returned.\n",
    "\n",
    "**replace:** bool, optional.\n",
    "Whether the sample is with or without replacement\n",
    "\n",
    "**p:** 1-D array_like, optional.\n",
    "The probabilities associated with each entry in a. If not given the sample assumes a uniform distribution over all entries in a.\n",
    "\n",
    "**axis:** int, optional.\n",
    "The axis along which the selection is performed. The default, 0, selects by row.\n",
    "\n",
    "**shuffle:** bool, optional.\n",
    "Whether the sample is shuffled when sampling without replacement. Default is True, False provides a speedup.\n",
    "\n",
    "##### Returns\n",
    "samplessingle item or ndarray\n",
    "The generated random samples\n",
    "\n",
    "##### Raises\n",
    "ValueError\n",
    "If a is an int and less than zero, if p is not 1-dimensional, if a is array-like with a size 0, if p is not a vector of probabilities, if a and p have different lengths, or if replace=False and the sample size is greater than the population size.\n",
    "\n"
   ]
  },
  {
   "cell_type": "code",
   "execution_count": 23,
   "metadata": {},
   "outputs": [],
   "source": [
    "rng = np.random.default_rng()"
   ]
  },
  {
   "cell_type": "code",
   "execution_count": 24,
   "metadata": {},
   "outputs": [
    {
     "data": {
      "text/plain": [
       "array([2, 3, 3], dtype=int64)"
      ]
     },
     "execution_count": 24,
     "metadata": {},
     "output_type": "execute_result"
    }
   ],
   "source": [
    "rng.choice(5, 3)\n",
    "#This is equivalent to rng.integers(0,5,3)"
   ]
  },
  {
   "cell_type": "code",
   "execution_count": 25,
   "metadata": {},
   "outputs": [
    {
     "data": {
      "text/plain": [
       "array([3, 2, 2], dtype=int64)"
      ]
     },
     "execution_count": 25,
     "metadata": {},
     "output_type": "execute_result"
    }
   ],
   "source": [
    "# Generate a non-uniform random sample from np.arange(5) of size 3:\n",
    "rng.choice(5, 3, p=[0.1, 0, 0.3, 0.6, 0])"
   ]
  },
  {
   "cell_type": "code",
   "execution_count": 26,
   "metadata": {},
   "outputs": [
    {
     "data": {
      "text/plain": [
       "array([1, 4, 3], dtype=int64)"
      ]
     },
     "execution_count": 26,
     "metadata": {},
     "output_type": "execute_result"
    }
   ],
   "source": [
    "# Generate a uniform random sample from np.arange(5) of size 3 without replacement:\n",
    "rng.choice(5, 3, replace=False)\n",
    "#This is equivalent to rng.permutation(np.arange(5))[:3]"
   ]
  },
  {
   "cell_type": "code",
   "execution_count": 27,
   "metadata": {},
   "outputs": [
    {
     "data": {
      "text/plain": [
       "array([3, 2, 0], dtype=int64)"
      ]
     },
     "execution_count": 27,
     "metadata": {},
     "output_type": "execute_result"
    }
   ],
   "source": [
    "# Generate a non-uniform random sample from np.arange(5) of size 3 without replacement:\n",
    "rng.choice(5, 3, replace=False, p=[0.1, 0, 0.3, 0.6, 0])"
   ]
  },
  {
   "cell_type": "code",
   "execution_count": 28,
   "metadata": {},
   "outputs": [
    {
     "data": {
      "text/plain": [
       "array(['pooh', 'pooh', 'rabbit', 'Christopher', 'rabbit'], dtype='<U11')"
      ]
     },
     "execution_count": 28,
     "metadata": {},
     "output_type": "execute_result"
    }
   ],
   "source": [
    "# Any of the above can be repeated with an arbitrary array-like instead of just integers. For instance:\n",
    "aa_milne_arr = ['pooh', 'rabbit', 'piglet', 'Christopher']\n",
    "\n",
    "rng.choice(aa_milne_arr, 5, p=[0.5, 0.1, 0.1, 0.3])"
   ]
  },
  {
   "cell_type": "markdown",
   "metadata": {},
   "source": [
    "====================================================================="
   ]
  },
  {
   "cell_type": "markdown",
   "metadata": {},
   "source": [
    "### bytes function explained - numpy.random.Generator.bytes\n",
    "##### method\n",
    "Generator.bytes(length)\n",
    "Return random bytes."
   ]
  },
  {
   "cell_type": "markdown",
   "metadata": {},
   "source": [
    "##### Parameters\n",
    "**length:** int. Number of random bytes.\n",
    "\n",
    "##### Returns\n",
    "**out:** str. String of length length."
   ]
  },
  {
   "cell_type": "code",
   "execution_count": 29,
   "metadata": {},
   "outputs": [
    {
     "data": {
      "text/plain": [
       "b'\\xd1\\x90\\xa3dH\\xda\\xb9\\xf0\\xba\\xc0'"
      ]
     },
     "execution_count": 29,
     "metadata": {},
     "output_type": "execute_result"
    }
   ],
   "source": [
    "np.random.default_rng().bytes(10)"
   ]
  },
  {
   "cell_type": "markdown",
   "metadata": {},
   "source": [
    "====================================================================="
   ]
  },
  {
   "cell_type": "markdown",
   "metadata": {},
   "source": [
    "## Permutations"
   ]
  },
  {
   "cell_type": "markdown",
   "metadata": {},
   "source": [
    "### shuffle function explained - numpy.random.Generator.shuffle\n",
    "\n",
    "##### method\n",
    "\n",
    "Generator.shuffle(x, axis=0)\n",
    "Modify a sequence in-place by shuffling its contents.\n",
    "\n",
    "The order of sub-arrays is changed but their contents remains the same."
   ]
  },
  {
   "cell_type": "markdown",
   "metadata": {},
   "source": [
    "##### Parameters\n",
    "**x:** array_like. The array or list to be shuffled.\n",
    "\n",
    "**axis:** int, optional. The axis which x is shuffled along. Default is 0. It is only supported on ndarray objects.\n",
    "\n",
    "##### Returns\n",
    "None"
   ]
  },
  {
   "cell_type": "code",
   "execution_count": 30,
   "metadata": {},
   "outputs": [
    {
     "data": {
      "text/plain": [
       "array([2, 0, 1, 4, 9, 8, 6, 7, 3, 5])"
      ]
     },
     "execution_count": 30,
     "metadata": {},
     "output_type": "execute_result"
    }
   ],
   "source": [
    "rng = np.random.default_rng()\n",
    "arr = np.arange(10)\n",
    "rng.shuffle(arr)\n",
    "arr"
   ]
  },
  {
   "cell_type": "code",
   "execution_count": 31,
   "metadata": {},
   "outputs": [
    {
     "data": {
      "text/plain": [
       "array([[3, 4, 5],\n",
       "       [6, 7, 8],\n",
       "       [0, 1, 2]])"
      ]
     },
     "execution_count": 31,
     "metadata": {},
     "output_type": "execute_result"
    }
   ],
   "source": [
    "arr = np.arange(9).reshape((3, 3))\n",
    "rng.shuffle(arr)\n",
    "arr"
   ]
  },
  {
   "cell_type": "code",
   "execution_count": 32,
   "metadata": {},
   "outputs": [
    {
     "data": {
      "text/plain": [
       "array([[0, 2, 1],\n",
       "       [3, 5, 4],\n",
       "       [6, 8, 7]])"
      ]
     },
     "execution_count": 32,
     "metadata": {},
     "output_type": "execute_result"
    }
   ],
   "source": [
    "arr = np.arange(9).reshape((3, 3))\n",
    "rng.shuffle(arr, axis=1)\n",
    "arr"
   ]
  },
  {
   "cell_type": "markdown",
   "metadata": {},
   "source": [
    "===================================================================="
   ]
  },
  {
   "cell_type": "markdown",
   "metadata": {},
   "source": [
    "### permutation function expained - numpy.random.Generator.permutation\n",
    "\n",
    "##### method\n",
    "\n",
    "Generator.permutation(x, axis=0).\n",
    "Randomly permute a sequence, or return a permuted range."
   ]
  },
  {
   "cell_type": "markdown",
   "metadata": {},
   "source": [
    "##### Parameters\n",
    "**x:** int or array_like. If x is an integer, randomly permute np.arange(x). If x is an array, make a copy and shuffle the elements randomly.\n",
    "\n",
    "**axis:** int, optional. The axis which x is shuffled along. Default is 0.\n",
    "\n",
    "##### Returns\n",
    "**out:** ndarray. Permuted sequence or array range."
   ]
  },
  {
   "cell_type": "markdown",
   "metadata": {},
   "source": [
    "#### Definition (Webster's Dictionary)\n",
    "\n",
    "#### permute (pəˈmjuːt)\n",
    "vb (tr)\n",
    "1. to change the sequence of\n",
    "2. (Mathematics) to subject to permutation\n",
    "[C14: from Latin permūtāre, from per- + mūtāre to change, alter]\n",
    "perˈmutable adj\n",
    "perˌmutaˈbility, perˈmutableness n\n",
    "perˈmutably adv\n",
    "\n",
    "Accrding to corporatefinanceinstitute.com, a permutation is a mathematical technique that determines the number of possible arrangements in a set when the order of the arrangements matters. Common mathematical problems involve choosing only several items from a set of items with a certain order.\n",
    "\n",
    "However, the numpy permutation function is more concerned with changing the order of items in an array. In order to visually understand how the function works, it is useful to look at a histogram of data that has been permutted. "
   ]
  },
  {
   "cell_type": "code",
   "execution_count": 33,
   "metadata": {},
   "outputs": [
    {
     "data": {
      "image/png": "[encoded data removed]",
      "text/plain": [
       "<Figure size 432x288 with 1 Axes>"
      ]
     },
     "metadata": {
      "needs_background": "light"
     },
     "output_type": "display_data"
    }
   ],
   "source": [
    "import matplotlib.pyplot as plt \n",
    "  \n",
    "# Using permutation() method \n",
    "change1 = np.random.permutation(200) \n",
    "  \n",
    "count, bins, ignored = plt.hist(change1, 14, density = True) \n",
    "plt.show()"
   ]
  },
  {
   "cell_type": "code",
   "execution_count": 34,
   "metadata": {},
   "outputs": [
    {
     "data": {
      "text/plain": [
       "array([3, 8, 4, 0, 2, 9, 5, 7, 6, 1])"
      ]
     },
     "execution_count": 34,
     "metadata": {},
     "output_type": "execute_result"
    }
   ],
   "source": [
    "rng = np.random.default_rng()\n",
    "rng.permutation(10)"
   ]
  },
  {
   "cell_type": "code",
   "execution_count": 35,
   "metadata": {},
   "outputs": [
    {
     "data": {
      "text/plain": [
       "array([15,  4,  9,  1, 12])"
      ]
     },
     "execution_count": 35,
     "metadata": {},
     "output_type": "execute_result"
    }
   ],
   "source": [
    "rng.permutation([1, 4, 9, 12, 15])"
   ]
  },
  {
   "cell_type": "code",
   "execution_count": 36,
   "metadata": {},
   "outputs": [
    {
     "data": {
      "text/plain": [
       "array([[6, 7, 8],\n",
       "       [0, 1, 2],\n",
       "       [3, 4, 5]])"
      ]
     },
     "execution_count": 36,
     "metadata": {},
     "output_type": "execute_result"
    }
   ],
   "source": [
    "arr = np.arange(9).reshape((3, 3))\n",
    "rng.permutation(arr)"
   ]
  },
  {
   "cell_type": "code",
   "execution_count": 37,
   "metadata": {},
   "outputs": [
    {
     "ename": "AxisError",
     "evalue": "axis 0 is out of bounds for array of dimension 0",
     "output_type": "error",
     "traceback": [
      "\u001b[1;31m---------------------------------------------------------------------------\u001b[0m",
      "\u001b[1;31mAxisError\u001b[0m                                 Traceback (most recent call last)",
      "\u001b[1;32m<ipython-input-37-f92eccbb101f>\u001b[0m in \u001b[0;36m<module>\u001b[1;34m\u001b[0m\n\u001b[1;32m----> 1\u001b[1;33m \u001b[0mrng\u001b[0m\u001b[1;33m.\u001b[0m\u001b[0mpermutation\u001b[0m\u001b[1;33m(\u001b[0m\u001b[1;34m\"abc\"\u001b[0m\u001b[1;33m)\u001b[0m\u001b[1;33m\u001b[0m\u001b[1;33m\u001b[0m\u001b[0m\n\u001b[0m",
      "\u001b[1;32m_generator.pyx\u001b[0m in \u001b[0;36mnumpy.random._generator.Generator.permutation\u001b[1;34m()\u001b[0m\n",
      "\u001b[1;31mAxisError\u001b[0m: axis 0 is out of bounds for array of dimension 0"
     ]
    }
   ],
   "source": [
    "rng.permutation(\"abc\")"
   ]
  },
  {
   "cell_type": "code",
   "execution_count": 72,
   "metadata": {},
   "outputs": [
    {
     "data": {
      "text/plain": [
       "array([[1, 0, 2],\n",
       "       [4, 3, 5],\n",
       "       [7, 6, 8]])"
      ]
     },
     "execution_count": 72,
     "metadata": {},
     "output_type": "execute_result"
    }
   ],
   "source": [
    "arr = np.arange(9).reshape((3, 3))\n",
    "rng.permutation(arr, axis=1)"
   ]
  },
  {
   "cell_type": "code",
   "execution_count": null,
   "metadata": {},
   "outputs": [],
   "source": []
  },
  {
   "cell_type": "markdown",
   "metadata": {},
   "source": [
    "## Q3: Explain the use and purpose of at least five “Distributions” functions."
   ]
  },
  {
   "cell_type": "markdown",
   "metadata": {},
   "source": [
    "### 3.1. Visualising The Distribution Functions"
   ]
  },
  {
   "cell_type": "markdown",
   "metadata": {},
   "source": [
    "#### Seaborn Plot Graphing 5 Overlayed Distribution Functions"
   ]
  },
  {
   "cell_type": "code",
   "execution_count": 120,
   "metadata": {},
   "outputs": [
    {
     "data": {
      "image/png": "[encoded data removed]",
      "text/plain": [
       "<Figure size 432x288 with 1 Axes>"
      ]
     },
     "metadata": {
      "needs_background": "light"
     },
     "output_type": "display_data"
    }
   ],
   "source": [
    "# Rayleigh Function\n",
    "\n",
    "rng = rng = np.random.default_rng()\n",
    "sns.distplot(rng.rayleigh(5.0, size=1000))\n",
    "sns.distplot(rng.uniform(11,21, 1000))\n",
    "sns.distplot(rng.normal(26, 3.0, 1000))\n",
    "sns.distplot(rng.triangular(28, 38, 39, 1000) )\n",
    "# sns.distplot(rng.power(3, 3))\n",
    "\n",
    "\n",
    "\n",
    "plt.show()"
   ]
  },
  {
   "cell_type": "markdown",
   "metadata": {},
   "source": [
    "#### Subplots of 5 Distribution Functions"
   ]
  },
  {
   "cell_type": "code",
   "execution_count": 121,
   "metadata": {},
   "outputs": [
    {
     "data": {
      "image/png": "[encoded data removed]",
      "text/plain": [
       "<Figure size 720x360 with 5 Axes>"
      ]
     },
     "metadata": {
      "needs_background": "light"
     },
     "output_type": "display_data"
    }
   ],
   "source": [
    "rng = rng = np.random.default_rng()\n",
    "\n",
    "uni = rng.uniform(0,1,10000) \n",
    "tri = rng.triangular(4, 6, 12, 10000)\n",
    "norm = rng.normal(3500, 500, 10000)\n",
    "ral = rng.rayleigh(size=10000)\n",
    "powr = rng.power(5, 1000)\n",
    "\n",
    "plt.figure(figsize = [10, 5])\n",
    "plt.suptitle(\"Histograms of Distribution Functions\")\n",
    "\n",
    "plt.subplot(2, 3, 1)\n",
    "plt.hist(uni)\n",
    "\n",
    "plt.subplot(2, 3, 2)\n",
    "plt.hist(norm)\n",
    "\n",
    "plt.subplot(2, 3, 3)\n",
    "plt.hist(tri)\n",
    "\n",
    "plt.subplot(2, 3, 4)\n",
    "plt.hist(ral)\n",
    "\n",
    "plt.subplot(2, 3, 5)\n",
    "plt.hist(powr)\n",
    "\n",
    "plt.show()"
   ]
  },
  {
   "cell_type": "markdown",
   "metadata": {},
   "source": [
    "### power function explained - numpy.random.Generator.power\n",
    "**method:**\n",
    "\n",
    "Generator.power(a, size=None). Draws samples in [0, 1] from a power distribution with positive exponent a - 1. Also known as the power function distribution.\n",
    "\n",
    "##### Parameters\n",
    "**a:** float or array_like of floats. Parameter of the distribution. Must be non-negative.\n",
    "\n",
    "**size:** int or tuple of ints, optional. Output shape. If the given shape is, e.g., (m, n, k), then m * n * k samples are drawn. If size is None (default), a single value is returned if a is a scalar. Otherwise, np.array(a).size samples are drawn.\n",
    "\n",
    "##### Returns\n",
    "**out:** ndarray or scalar. Drawn samples from the parameterized power distribution.\n",
    "\n",
    "##### Raises\n",
    "ValueError\n",
    "If a < 1."
   ]
  },
  {
   "cell_type": "code",
   "execution_count": 83,
   "metadata": {
    "collapsed": true
   },
   "outputs": [
    {
     "name": "stdout",
     "output_type": "stream",
     "text": [
      "16\n"
     ]
    }
   ],
   "source": [
    "# Raise an integer into an average power\n",
    "import numpy as np\n",
    "y = np.power(4,2)\n",
    "print(y)"
   ]
  },
  {
   "cell_type": "code",
   "execution_count": 73,
   "metadata": {},
   "outputs": [
    {
     "name": "stdout",
     "output_type": "stream",
     "text": [
      "[  5  50 100]\n",
      "\n",
      "\n",
      "[   25  2500 10000]\n"
     ]
    }
   ],
   "source": [
    "# Calculate Exponents Of An Array Of Numbers\n",
    "a = np.array([5,50,100])  \n",
    "print(a) \n",
    "print('\\n')   \n",
    "print(np.power(a,2))"
   ]
  },
  {
   "cell_type": "code",
   "execution_count": 86,
   "metadata": {},
   "outputs": [
    {
     "name": "stdout",
     "output_type": "stream",
     "text": [
      "Elements of a raised to the power elements of b are: \n",
      "[    1     5    49   729 14641]\n"
     ]
    }
   ],
   "source": [
    "# Power When Both Base And Exponents Are Arrays\n",
    "import numpy as np\n",
    " \n",
    "#Declaring a and b\n",
    "a = [3, 5, 7, 9, 11]\n",
    "b = [0, 1, 2, 3, 4]\n",
    " \n",
    "print(\"Elements of a raised to the power elements of b are: \")\n",
    "print(np.power(a, b))"
   ]
  },
  {
   "cell_type": "code",
   "execution_count": 79,
   "metadata": {},
   "outputs": [
    {
     "name": "stdout",
     "output_type": "stream",
     "text": [
      "[[ 0  1  4  9 16]\n",
      " [16  9  4  1  0]\n",
      " [16  0  1  4  9]\n",
      " [ 9 16  0  1  4]]\n"
     ]
    }
   ],
   "source": [
    "# Calculate Exponents With Multi-Dimensional Numpy Array\n",
    "a = np.array([[0,1,2,3,4],[4,3,2,1,0],[4,0,1,2,3],[3,4,0,1,2]])\n",
    "b = [2, 2, 2, 2, 2]\n",
    "print(np.power(a,b))"
   ]
  },
  {
   "cell_type": "markdown",
   "metadata": {},
   "source": [
    "##### Note: raising a number or an array to a negative numner, or an array that contains even 1 negative number will result in an error:"
   ]
  },
  {
   "cell_type": "code",
   "execution_count": 89,
   "metadata": {},
   "outputs": [
    {
     "ename": "ValueError",
     "evalue": "Integers to negative integer powers are not allowed.",
     "output_type": "error",
     "traceback": [
      "\u001b[1;31m---------------------------------------------------------------------------\u001b[0m",
      "\u001b[1;31mValueError\u001b[0m                                Traceback (most recent call last)",
      "\u001b[1;32m<ipython-input-89-08703236151d>\u001b[0m in \u001b[0;36m<module>\u001b[1;34m\u001b[0m\n\u001b[0;32m      5\u001b[0m \u001b[0mb\u001b[0m \u001b[1;33m=\u001b[0m \u001b[1;33m[\u001b[0m\u001b[1;36m0\u001b[0m\u001b[1;33m,\u001b[0m \u001b[1;33m-\u001b[0m\u001b[1;36m1\u001b[0m\u001b[1;33m,\u001b[0m \u001b[1;36m2\u001b[0m\u001b[1;33m,\u001b[0m \u001b[1;36m3\u001b[0m\u001b[1;33m,\u001b[0m \u001b[1;36m4\u001b[0m\u001b[1;33m]\u001b[0m\u001b[1;33m\u001b[0m\u001b[1;33m\u001b[0m\u001b[0m\n\u001b[0;32m      6\u001b[0m \u001b[1;33m\u001b[0m\u001b[0m\n\u001b[1;32m----> 7\u001b[1;33m \u001b[0mprint\u001b[0m\u001b[1;33m(\u001b[0m\u001b[0mnp\u001b[0m\u001b[1;33m.\u001b[0m\u001b[0mpower\u001b[0m\u001b[1;33m(\u001b[0m\u001b[0ma\u001b[0m\u001b[1;33m,\u001b[0m \u001b[0mb\u001b[0m\u001b[1;33m)\u001b[0m\u001b[1;33m)\u001b[0m\u001b[1;33m\u001b[0m\u001b[1;33m\u001b[0m\u001b[0m\n\u001b[0m",
      "\u001b[1;31mValueError\u001b[0m: Integers to negative integer powers are not allowed."
     ]
    }
   ],
   "source": [
    "import numpy as np\n",
    " \n",
    "#Declaring a and b\n",
    "a = [3, 5, 7, 9, 11]\n",
    "b = [0, -1, 2, 3, 4]\n",
    "\n",
    "print(np.power(a, b))"
   ]
  },
  {
   "cell_type": "markdown",
   "metadata": {},
   "source": [
    "#### Reference: https://www.pythonpool.com/numpy-power/"
   ]
  },
  {
   "cell_type": "code",
   "execution_count": 92,
   "metadata": {},
   "outputs": [
    {
     "data": {
      "image/png": "[encoded data removed]",
      "text/plain": [
       "<Figure size 432x288 with 1 Axes>"
      ]
     },
     "metadata": {
      "needs_background": "light"
     },
     "output_type": "display_data"
    }
   ],
   "source": [
    "from scipy.optimize import curve_fit\n",
    "\n",
    "offset, scale, a, nsamples = 240, -140, 3.5, 500000\n",
    "bkg = offset + scale*np.random.power(a, nsamples)  \n",
    "# values range between (offset, offset+scale), which map to 0 and 1\n",
    "nbins = 100\n",
    "\n",
    "count, bins, ignored = plt.hist(bkg, \n",
    "                bins=nbins, histtype='stepfilled', edgecolor='none')"
   ]
  },
  {
   "cell_type": "markdown",
   "metadata": {},
   "source": [
    "##### Reference: https://stackoverflow.com/questions/37595398/how-to-obtain-perfect-fit-from-np-random-power-function"
   ]
  },
  {
   "cell_type": "code",
   "execution_count": 93,
   "metadata": {},
   "outputs": [],
   "source": [
    "rng = np.random.default_rng()\n",
    "a = 5 #shape\n",
    "samples = 1000\n",
    "s = rng.power(a, samples)"
   ]
  },
  {
   "cell_type": "code",
   "execution_count": 39,
   "metadata": {},
   "outputs": [
    {
     "data": {
      "image/png": "[encoded data removed]",
      "text/plain": [
       "<Figure size 432x288 with 1 Axes>"
      ]
     },
     "metadata": {
      "needs_background": "light"
     },
     "output_type": "display_data"
    }
   ],
   "source": [
    "count, bins, ignored = plt.hist(s, bins=30)\n",
    "x = np.linspace(0, 1, 100)\n",
    "y = a*x**(a-1)\n",
    "normed_y = samples*np.diff(bins)[0]*y\n",
    "plt.plot(x, normed_y)\n",
    "plt.show()"
   ]
  },
  {
   "cell_type": "markdown",
   "metadata": {},
   "source": [
    "==============================================================="
   ]
  },
  {
   "cell_type": "markdown",
   "metadata": {},
   "source": [
    "### standard_exponential function explained - numpy.random.Generator.standard_exponential\n",
    "**method:** \n",
    "\n",
    "Generator.standard_exponential(size=None, dtype=np.float64, method='zig', out=None)\n",
    "Draw samples from the standard exponential distribution.\n",
    "\n",
    "standard_exponential is identical to the exponential distribution with a scale parameter of 1."
   ]
  },
  {
   "cell_type": "markdown",
   "metadata": {},
   "source": [
    "##### Parameters\n",
    "**size:** int or tuple of ints, optional. Output shape. If the given shape is, e.g., (m, n, k), then m * n * k samples are drawn. Default is None, in which case a single value is returned.\n",
    "\n",
    "**dtyped:** type, optional. Desired dtype of the result, only float64 and float32 are supported. Byteorder must be native. The default value is np.float64.\n",
    "\n",
    "**method:** str, optional. Either ‘inv’ or ‘zig’. ‘inv’ uses the default inverse CDF method. ‘zig’ uses the much faster Ziggurat method of Marsaglia and Tsang.\n",
    "\n",
    "**out:** ndarray, optional. Alternative output array in which to place the result. If size is not None, it must have the same shape as the provided size and must match the type of the output values.\n",
    "\n",
    "##### Returns\n",
    "**out:** float or ndarray. Drawn samples."
   ]
  },
  {
   "cell_type": "code",
   "execution_count": 33,
   "metadata": {},
   "outputs": [
    {
     "name": "stdout",
     "output_type": "stream",
     "text": [
      "[[0.95722157 0.33288523 0.30565899 ... 1.04644948 1.37072347 0.14876398]\n",
      " [0.82214946 0.99173558 0.55931792 ... 4.91799881 0.07522043 0.59360354]\n",
      " [0.19318566 0.52287421 1.21141932 ... 1.21470385 0.91341635 1.15956335]]\n"
     ]
    }
   ],
   "source": [
    "# Output a 3x8000 array:\n",
    "n = np.random.default_rng().standard_exponential((3, 8000))\n",
    "print(n)"
   ]
  },
  {
   "cell_type": "markdown",
   "metadata": {},
   "source": [
    "====================================================================="
   ]
  },
  {
   "cell_type": "markdown",
   "metadata": {},
   "source": [
    "### normal function explained - numpy.random.Generator.normal\n",
    "**method:**\n",
    "\n",
    "Generator.normal(loc=0.0, scale=1.0, size=None)\n",
    "Draw random samples from a normal (Gaussian) distribution.\n",
    "\n",
    "The probability density function of the normal distribution, first derived by De Moivre and 200 years later by both Gauss and Laplace independently [2], is often called the bell curve because of its characteristic shape (see the example below).\n",
    "\n",
    "The normal distributions occurs often in nature. For example, it describes the commonly occurring distribution of samples influenced by a large number of tiny, random disturbances, each with its own unique distribution [2]."
   ]
  },
  {
   "cell_type": "markdown",
   "metadata": {},
   "source": [
    "##### Parameters\n",
    "**loc:** float or array_like of floats. Mean (“centre”) of the distribution.\n",
    "\n",
    "**scale:** float or array_like of floats. Standard deviation (spread or “width”) of the distribution. Must be non-negative.\n",
    "\n",
    "**size:** int or tuple of ints, optional. Output shape. If the given shape is, e.g., (m, n, k), then m * n * k samples are drawn. If size is None (default), a single value is returned if loc and scale are both scalars. Otherwise, np.broadcast(loc, scale).size samples are drawn.\n",
    "\n",
    "##### Returns\n",
    "outndarray or scalar\n",
    "Drawn samples from the parameterized normal distribution."
   ]
  },
  {
   "cell_type": "markdown",
   "metadata": {},
   "source": [
    "##### Example application of normal distribution:\n",
    "\n",
    "A company that produces exercise bikes wish to examine the life-time of the internal parts of the bike in hours. The deartment that has marketed the bike has pledged to customers that the bike will last up to 4500 hours of use, as such it is important for the manufacturers to understand how many of the parts will fail after 4500 hours of use. After carrying out analysis, they have determined that the mean number of hours that the parts will remain functional at is 3500 hours and the standard deviation is determined to be 500 hours. As stated above, only the mean and standard deviation must be known to create a useful probability density function and a histogram of this data.\n",
    "\n",
    "Using Numpy's Random package, we can create a 1-dimensinal array of random normal data reflecting instances made during the inspection of the exercise bike parts. \n",
    "\n",
    "In the below example, loc is set to 3500, scale is set to 500 and size is set to 1000 (the minimum number of bike parts that must be examined to determine their lifespan)."
   ]
  },
  {
   "cell_type": "code",
   "execution_count": 63,
   "metadata": {},
   "outputs": [],
   "source": [
    "mu, sigma = 3500, 500 # mean and standard deviation\n",
    "rng = np.random.default_rng().normal(mu, sigma, 1000)"
   ]
  },
  {
   "cell_type": "code",
   "execution_count": 78,
   "metadata": {},
   "outputs": [
    {
     "data": {
      "image/png": "[encoded data removed]",
      "text/plain": [
       "<Figure size 432x288 with 1 Axes>"
      ]
     },
     "metadata": {
      "needs_background": "light"
     },
     "output_type": "display_data"
    }
   ],
   "source": [
    "plt.hist(rng, bins=50)\n",
    "plt.title(\"Operational Life of Exercise Bike Parts\")\n",
    "plt.xlabel(\"Use of bike parts (hrs)\")\n",
    "plt.ylabel(\"Probability of bike part failure\")\n",
    "plt.show()"
   ]
  },
  {
   "cell_type": "markdown",
   "metadata": {},
   "source": [
    "##### From the above graph, it can be seen that less than 5% of 1000 bike parts examined survived after 4500 hours of use. From these 1000 pseudo-randomly generated numbers, the bike produces can present information to the marketing department, advising them to lower the guaranteed bike lifespan presented to customers."
   ]
  },
  {
   "cell_type": "code",
   "execution_count": 45,
   "metadata": {},
   "outputs": [
    {
     "data": {
      "text/plain": [
       "array([[ 0.49671415, -0.1382643 ,  0.64768854],\n",
       "       [ 1.52302986, -0.23415337, -0.23413696]])"
      ]
     },
     "execution_count": 45,
     "metadata": {},
     "output_type": "execute_result"
    }
   ],
   "source": []
  },
  {
   "cell_type": "code",
   "execution_count": 34,
   "metadata": {},
   "outputs": [
    {
     "data": {
      "text/plain": [
       "7.649169760243213e-05"
      ]
     },
     "execution_count": 34,
     "metadata": {},
     "output_type": "execute_result"
    }
   ],
   "source": [
    "# Draw samples from the distribution:\n",
    "mu, sigma = 0, 0.1 # mean and standard deviation\n",
    "s = np.random.default_rng().normal(mu, sigma, 1000)\n",
    "\n",
    "# Verify the mean and the variance:\n",
    "abs(mu - np.mean(s)) \n",
    "abs(sigma - np.std(s, ddof=1))"
   ]
  },
  {
   "cell_type": "code",
   "execution_count": 35,
   "metadata": {},
   "outputs": [
    {
     "data": {
      "image/png": "[encoded data removed]",
      "text/plain": [
       "<Figure size 432x288 with 1 Axes>"
      ]
     },
     "metadata": {
      "needs_background": "light"
     },
     "output_type": "display_data"
    }
   ],
   "source": [
    "# Display the histogram of the samples, along with the \n",
    "# probability density function:\n",
    "count, bins, ignored = plt.hist(s, 30, density=True)\n",
    "plt.plot(bins, 1/(sigma * np.sqrt(2 * np.pi)) *\n",
    "               np.exp( - (bins - mu)**2 / (2 * sigma**2) ),\n",
    "         linewidth=2, color='r')\n",
    "plt.show()"
   ]
  },
  {
   "cell_type": "code",
   "execution_count": 36,
   "metadata": {},
   "outputs": [
    {
     "data": {
      "text/plain": [
       "array([[ 5.83600953,  4.68152738, -0.52439403,  1.92474116],\n",
       "       [ 2.69880013,  1.43979515,  3.67942131,  7.00182064]])"
      ]
     },
     "execution_count": 36,
     "metadata": {},
     "output_type": "execute_result"
    }
   ],
   "source": [
    "# Two-by-four array of samples from N(3, 6.25):\n",
    "np.random.default_rng().normal(3, 2.5, size=(2, 4))"
   ]
  },
  {
   "cell_type": "markdown",
   "metadata": {},
   "source": [
    "====================================================================="
   ]
  },
  {
   "cell_type": "markdown",
   "metadata": {},
   "source": [
    "### rayleigh function explained - numpy.random.Generator.rayleigh\n",
    "**method:**\n",
    "\n",
    "Generator.rayleigh(scale=1.0, size=None)\n",
    "Draw samples from a Rayleigh distribution. The \\chi and Weibull distributions are generalizations of the Rayleigh."
   ]
  },
  {
   "cell_type": "markdown",
   "metadata": {},
   "source": [
    "##### Parameters\n",
    "**scale:** float or array_like of floats, optional. Scale, also equals the mode. Must be non-negative. Default is 1.\n",
    "\n",
    "**size:** int or tuple of ints, optional. Output shape. If the given shape is, e.g., (m, n, k), then m * n * k samples are drawn. If size is None (default), a single value is returned if scale is a scalar. Otherwise, np.array(scale).size samples are drawn.\n",
    "\n",
    "##### Returns\n",
    "**out:** ndarray or scalar. Drawn samples from the parameterized Rayleigh distribution."
   ]
  },
  {
   "cell_type": "markdown",
   "metadata": {},
   "source": [
    "#### Notes\n",
    "\n",
    "The probability density function for the Rayleigh distribution is P(x;scale) = \\frac{x}{scale^2}e^{\\frac{-x^2}{2 \\cdotp scale^2}}\n",
    "\n",
    "The Rayleigh distribution would arise, for example, if the East and North components of the wind velocity had identical zero-mean Gaussian distributions. Then the wind speed would have a Rayleigh distribution."
   ]
  },
  {
   "cell_type": "code",
   "execution_count": null,
   "metadata": {},
   "outputs": [],
   "source": []
  },
  {
   "cell_type": "markdown",
   "metadata": {},
   "source": [
    "Reference: https://www.youtube.com/watch?v=lRZSGGKnTwI"
   ]
  },
  {
   "cell_type": "code",
   "execution_count": 110,
   "metadata": {},
   "outputs": [
    {
     "data": {
      "text/plain": [
       "array([[0.44267073, 0.66563651],\n",
       "       [2.22555003, 2.78974646]])"
      ]
     },
     "execution_count": 110,
     "metadata": {},
     "output_type": "execute_result"
    }
   ],
   "source": [
    "rng.rayleigh(1, (2, 2) )"
   ]
  },
  {
   "cell_type": "code",
   "execution_count": 37,
   "metadata": {},
   "outputs": [
    {
     "data": {
      "image/png": "[encoded data removed]",
      "text/plain": [
       "<Figure size 432x288 with 1 Axes>"
      ]
     },
     "metadata": {
      "needs_background": "light"
     },
     "output_type": "display_data"
    }
   ],
   "source": [
    "# Draw values from the distribution and plot the histogram\n",
    "from matplotlib.pyplot import hist\n",
    "rng = np.random.default_rng()\n",
    "values = hist(rng.rayleigh(3, 100000), bins=200, density=True)"
   ]
  },
  {
   "cell_type": "code",
   "execution_count": 104,
   "metadata": {},
   "outputs": [],
   "source": [
    "# Wave heights tend to follow a Rayleigh distribution. If the mean\n",
    "# wave height is 1 meter, what fraction of waves are likely to \n",
    "# be larger than 3 meters?\n",
    "meanvalue = 1\n",
    "modevalue = np.sqrt(2 / np.pi) * meanvalue\n",
    "s = rng.rayleigh(modevalue, 1000000)"
   ]
  },
  {
   "cell_type": "code",
   "execution_count": 39,
   "metadata": {},
   "outputs": [
    {
     "data": {
      "text/plain": [
       "0.0828"
      ]
     },
     "execution_count": 39,
     "metadata": {},
     "output_type": "execute_result"
    }
   ],
   "source": [
    "# The percentage of waves larger than 3 meters is:\n",
    "100.*sum(s>3)/1000000."
   ]
  },
  {
   "cell_type": "markdown",
   "metadata": {},
   "source": [
    "======================================================================"
   ]
  },
  {
   "cell_type": "markdown",
   "metadata": {},
   "source": [
    "### triangular function explained - numpy.random.Generator.triangular\n",
    "**method:**\n",
    "\n",
    "Generator.triangular(left, mode, right, size=None)\n",
    "Draw samples from the triangular distribution over the interval [left, right].\n",
    "\n",
    "The triangular distribution is a continuous probability distribution with lower limit left, peak at mode, and upper limit right. Unlike the other distributions, these parameters directly define the shape of the pdf."
   ]
  },
  {
   "cell_type": "markdown",
   "metadata": {},
   "source": [
    "##### Parameters\n",
    "**left:** float or array_like of floats. Lower limit.\n",
    "\n",
    "**mode:** float or array_like of floats.The value where the peak of the distribution occurs. The value must fulfill the condition left <= mode <= right.\n",
    "\n",
    "**right:** float or array_like of floats.Upper limit, must be larger than left."
   ]
  },
  {
   "cell_type": "markdown",
   "metadata": {},
   "source": [
    "**size:** int or tuple of ints, optional. Output shape. If the given shape is, e.g., (m, n, k), then m * n * k samples are drawn. If size is None (default), a single value is returned if left, mode, and right are all scalars. Otherwise, np.broadcast(left, mode, right).size samples are drawn.\n",
    "\n",
    "##### Returns\n",
    "**out:** ndarray or scalar\n",
    "Drawn samples from the parameterized triangular distribution."
   ]
  },
  {
   "cell_type": "markdown",
   "metadata": {},
   "source": [
    "##### Example of triangular distribution use:\n",
    "Mathmatician Lawrence Leemis, whilst working for Nasa in the 1980's, was asked to estimate the time that would be required to do some maintenance work on a thruster for the yet unbuilt International Space Station. Leemis consulted with an senior engineer within Nasa, who had experience on projects where similar maintenance work was carried out on satellites in low-Earth orbit. From this consultation, Leemis came up with a minimum, a mode and a maximum amount of time taken to perform the maintenance work. The figures were 4 hours, 6 hours and 12 hours respectively. As such, Leemis' data presented itself in a triangular distribution. \n",
    "\n",
    "Triangular distribution requires very little input data to carry out a simulation, just the three inputs that Leemis used in the above example will suffice. \n",
    "\n",
    "Utilising Leemis' investigation as an example, we can generate random figures using the numpy.random.triangular() function.\n",
    "We will also be required to input the amount of observations we wish to randomly generate. In order to create a useful graph, we will use a figure that is much higher than is likey to have been carried out in low-Earth orbit maintenance work. By using an input of 10000, we are presented with a probability density function in a triangular formation.\n",
    "\n",
    "The probability is represented on the y-axis and the time taken is represented on the x-axis.\n",
    "\n",
    "In the below code, 10000 pseudo-random vectors have been created, each representing a hypothethical Nasa maintenance mission. The peak of the ditribution is at 6 hours, with a slope in either direction to the minimum and maximum time limits. \n",
    "\n",
    "If the maximum abount of time an astronaut could spend on a maintenance mission was 10 hours, utilising the randomly generated data and graph below, it could be determined that there is roughly a 12.5% probability of exceeding this limit. "
   ]
  },
  {
   "cell_type": "code",
   "execution_count": 69,
   "metadata": {},
   "outputs": [
    {
     "data": {
      "image/png": "[encoded data removed]",
      "text/plain": [
       "<Figure size 432x288 with 1 Axes>"
      ]
     },
     "metadata": {
      "needs_background": "light"
     },
     "output_type": "display_data"
    }
   ],
   "source": [
    "# Draw values from the distribution and plot the histogram:\n",
    "h = plt.hist(np.random.default_rng().triangular(4, 6, 12, 10000), bins=100,\n",
    "             density=True)\n",
    "plt.title(\"Triangular Distribution: Maintenance Time for Thruster Repair\")\n",
    "plt.xlabel(\"Maintenance Time (hrs)\")\n",
    "plt.ylabel(\"Probability\")\n",
    "plt.show()"
   ]
  },
  {
   "cell_type": "markdown",
   "metadata": {},
   "source": [
    "Reference: https://www.youtube.com/watch?v=TwvXhX3bJJM"
   ]
  },
  {
   "cell_type": "code",
   "execution_count": 40,
   "metadata": {},
   "outputs": [],
   "source": [
    "from random import random, uniform\n",
    "\n",
    "def random_triangular(low, high, mode):\n",
    "    while True:\n",
    "        proposal = uniform(low, high)\n",
    "        if proposal < mode:\n",
    "            acceptance_prob = (proposal - low) / (mode - low)\n",
    "        else:\n",
    "            acceptance_prob = (high - proposal) / (high - mode)\n",
    "        if random() < acceptance_prob: break\n",
    "    return proposal"
   ]
  },
  {
   "cell_type": "code",
   "execution_count": 43,
   "metadata": {},
   "outputs": [
    {
     "data": {
      "text/plain": [
       "(array([  2.,   1.,   3.,   2.,   0.,   2.,   4.,   3.,   6.,  11.,   7.,\n",
       "          8.,   7.,   6.,   8.,  11.,  11.,  11.,  14.,   7.,  15.,  26.,\n",
       "         15.,  12.,  17.,  19.,  23.,  15.,  14.,  18.,  18.,  17.,  17.,\n",
       "         19.,  19.,  23.,  30.,  21.,  20.,  20.,  29.,  37.,  23.,  29.,\n",
       "         27.,  24.,  29.,  33.,  36.,  43.,  34.,  27.,  45.,  38.,  42.,\n",
       "         33.,  32.,  35.,  44.,  32.,  33.,  54.,  53.,  36.,  41.,  36.,\n",
       "         28.,  41.,  41.,  48.,  36.,  41.,  48.,  43.,  41.,  45.,  52.,\n",
       "         54.,  52.,  39.,  51.,  53.,  44.,  62.,  59.,  59.,  49.,  46.,\n",
       "         61.,  42.,  50.,  50.,  46.,  67.,  64.,  59.,  69.,  70.,  62.,\n",
       "         58.,  53.,  63.,  54.,  67.,  60.,  66.,  63.,  59.,  69.,  67.,\n",
       "         57.,  68.,  66.,  56.,  74.,  71.,  67.,  61.,  69.,  75.,  54.,\n",
       "         62.,  77.,  80.,  86.,  78.,  80.,  87.,  69.,  78.,  86.,  76.,\n",
       "         83.,  71.,  88.,  92.,  86.,  67.,  89.,  89.,  73.,  88.,  74.,\n",
       "         87.,  90.,  96.,  86., 100.,  99., 100., 106.,  87.,  95., 115.,\n",
       "        106., 103.,  90., 101.,  97.,  90.,  83.,  81.,  84.,  86.,  86.,\n",
       "         85.,  89., 103.,  79.,  75.,  83.,  76.,  68.,  76.,  70.,  61.,\n",
       "         56.,  53.,  53.,  56.,  54.,  48.,  52.,  49.,  33.,  45.,  34.,\n",
       "         34.,  36.,  36.,  26.,  34.,  24.,  20.,  16.,  16.,  14.,  12.,\n",
       "          4.,   7.]),\n",
       " array([1.00481804, 1.02962482, 1.05443159, 1.07923837, 1.10404514,\n",
       "        1.12885192, 1.1536587 , 1.17846547, 1.20327225, 1.22807902,\n",
       "        1.2528858 , 1.27769258, 1.30249935, 1.32730613, 1.3521129 ,\n",
       "        1.37691968, 1.40172646, 1.42653323, 1.45134001, 1.47614678,\n",
       "        1.50095356, 1.52576033, 1.55056711, 1.57537389, 1.60018066,\n",
       "        1.62498744, 1.64979421, 1.67460099, 1.69940777, 1.72421454,\n",
       "        1.74902132, 1.77382809, 1.79863487, 1.82344164, 1.84824842,\n",
       "        1.8730552 , 1.89786197, 1.92266875, 1.94747552, 1.9722823 ,\n",
       "        1.99708908, 2.02189585, 2.04670263, 2.0715094 , 2.09631618,\n",
       "        2.12112296, 2.14592973, 2.17073651, 2.19554328, 2.22035006,\n",
       "        2.24515683, 2.26996361, 2.29477039, 2.31957716, 2.34438394,\n",
       "        2.36919071, 2.39399749, 2.41880427, 2.44361104, 2.46841782,\n",
       "        2.49322459, 2.51803137, 2.54283814, 2.56764492, 2.5924517 ,\n",
       "        2.61725847, 2.64206525, 2.66687202, 2.6916788 , 2.71648558,\n",
       "        2.74129235, 2.76609913, 2.7909059 , 2.81571268, 2.84051946,\n",
       "        2.86532623, 2.89013301, 2.91493978, 2.93974656, 2.96455333,\n",
       "        2.98936011, 3.01416689, 3.03897366, 3.06378044, 3.08858721,\n",
       "        3.11339399, 3.13820077, 3.16300754, 3.18781432, 3.21262109,\n",
       "        3.23742787, 3.26223464, 3.28704142, 3.3118482 , 3.33665497,\n",
       "        3.36146175, 3.38626852, 3.4110753 , 3.43588208, 3.46068885,\n",
       "        3.48549563, 3.5103024 , 3.53510918, 3.55991596, 3.58472273,\n",
       "        3.60952951, 3.63433628, 3.65914306, 3.68394983, 3.70875661,\n",
       "        3.73356339, 3.75837016, 3.78317694, 3.80798371, 3.83279049,\n",
       "        3.85759727, 3.88240404, 3.90721082, 3.93201759, 3.95682437,\n",
       "        3.98163114, 4.00643792, 4.0312447 , 4.05605147, 4.08085825,\n",
       "        4.10566502, 4.1304718 , 4.15527858, 4.18008535, 4.20489213,\n",
       "        4.2296989 , 4.25450568, 4.27931246, 4.30411923, 4.32892601,\n",
       "        4.35373278, 4.37853956, 4.40334633, 4.42815311, 4.45295989,\n",
       "        4.47776666, 4.50257344, 4.52738021, 4.55218699, 4.57699377,\n",
       "        4.60180054, 4.62660732, 4.65141409, 4.67622087, 4.70102764,\n",
       "        4.72583442, 4.7506412 , 4.77544797, 4.80025475, 4.82506152,\n",
       "        4.8498683 , 4.87467508, 4.89948185, 4.92428863, 4.9490954 ,\n",
       "        4.97390218, 4.99870896, 5.02351573, 5.04832251, 5.07312928,\n",
       "        5.09793606, 5.12274283, 5.14754961, 5.17235639, 5.19716316,\n",
       "        5.22196994, 5.24677671, 5.27158349, 5.29639027, 5.32119704,\n",
       "        5.34600382, 5.37081059, 5.39561737, 5.42042414, 5.44523092,\n",
       "        5.4700377 , 5.49484447, 5.51965125, 5.54445802, 5.5692648 ,\n",
       "        5.59407158, 5.61887835, 5.64368513, 5.6684919 , 5.69329868,\n",
       "        5.71810546, 5.74291223, 5.76771901, 5.79252578, 5.81733256,\n",
       "        5.84213933, 5.86694611, 5.89175289, 5.91655966, 5.94136644,\n",
       "        5.96617321]),\n",
       " <a list of 200 Patch objects>)"
      ]
     },
     "execution_count": 43,
     "metadata": {},
     "output_type": "execute_result"
    },
    {
     "data": {
      "image/png": "[encoded data removed]",
      "text/plain": [
       "<Figure size 432x288 with 1 Axes>"
      ]
     },
     "metadata": {
      "needs_background": "light"
     },
     "output_type": "display_data"
    }
   ],
   "source": [
    "plt.hist([random_triangular(1, 6, 5) for t in range(10000)], bins=200)"
   ]
  },
  {
   "cell_type": "code",
   "execution_count": null,
   "metadata": {},
   "outputs": [],
   "source": []
  },
  {
   "cell_type": "code",
   "execution_count": null,
   "metadata": {},
   "outputs": [],
   "source": []
  },
  {
   "cell_type": "markdown",
   "metadata": {},
   "source": [
    "#### random.rand example\n",
    "\n",
    "Rand is used to generate random numbers between 0 and 1."
   ]
  },
  {
   "cell_type": "code",
   "execution_count": 4,
   "metadata": {},
   "outputs": [
    {
     "name": "stdout",
     "output_type": "stream",
     "text": [
      "[0.42196379 0.34454535 0.70344509 ... 0.86527477 0.87583384 0.46815598]\n"
     ]
    }
   ],
   "source": [
    "d = np.random.rand(1000000)\n",
    "print(d)"
   ]
  },
  {
   "cell_type": "code",
   "execution_count": 5,
   "metadata": {},
   "outputs": [
    {
     "data": {
      "text/plain": [
       "(array([ 99850., 100113., 100088., 100107.,  99266., 100383., 100509.,\n",
       "         99922.,  99849.,  99913.]),\n",
       " array([4.51842149e-07, 1.00000312e-01, 2.00000173e-01, 3.00000033e-01,\n",
       "        3.99999894e-01, 4.99999755e-01, 5.99999615e-01, 6.99999476e-01,\n",
       "        7.99999336e-01, 8.99999197e-01, 9.99999057e-01]),\n",
       " <a list of 10 Patch objects>)"
      ]
     },
     "execution_count": 5,
     "metadata": {},
     "output_type": "execute_result"
    },
    {
     "data": {
      "image/png": "[encoded data removed]",
      "text/plain": [
       "<Figure size 432x288 with 1 Axes>"
      ]
     },
     "metadata": {
      "needs_background": "light"
     },
     "output_type": "display_data"
    }
   ],
   "source": [
    "plt.hist(d)"
   ]
  },
  {
   "cell_type": "markdown",
   "metadata": {},
   "source": [
    "#### random.uniform example"
   ]
  },
  {
   "cell_type": "markdown",
   "metadata": {},
   "source": [
    "random.uniform is used to produce random numbers of uniform distriution between two numbers. In the below example all 20 datapoints are provided with uniform distribution between two input datapoints,t the first being the low and the latter being the high."
   ]
  },
  {
   "cell_type": "code",
   "execution_count": 6,
   "metadata": {},
   "outputs": [
    {
     "name": "stdout",
     "output_type": "stream",
     "text": [
      "[1.8475671  2.99392965 1.59759775 4.57308149 3.0266785  3.47764714\n",
      " 3.06255693 0.35653462 4.59502837 0.93982557 2.65254485 3.03376341\n",
      " 4.99305328 4.87328267 4.62871395 1.9318505  1.37505777 3.0482569\n",
      " 2.31150195 0.92437618]\n"
     ]
    }
   ],
   "source": [
    "x = np.random.uniform(0, 5, 20)\n",
    "print(x)"
   ]
  },
  {
   "cell_type": "code",
   "execution_count": 7,
   "metadata": {},
   "outputs": [
    {
     "name": "stdout",
     "output_type": "stream",
     "text": [
      "[0.         0.26315789 0.52631579 0.78947368 1.05263158 1.31578947\n",
      " 1.57894737 1.84210526 2.10526316 2.36842105 2.63157895 2.89473684\n",
      " 3.15789474 3.42105263 3.68421053 3.94736842 4.21052632 4.47368421\n",
      " 4.73684211 5.        ]\n"
     ]
    }
   ],
   "source": [
    "g = np.linspace(0, 5, 20)\n",
    "print(g)"
   ]
  },
  {
   "cell_type": "code",
   "execution_count": 8,
   "metadata": {},
   "outputs": [
    {
     "name": "stdout",
     "output_type": "stream",
     "text": [
      "[7.25251915 8.47121603 6.4024203  8.91257464 7.0491361  7.0975179\n",
      " 6.26958437 8.63888052 8.8815108  7.85111343 9.27509349 6.69672196\n",
      " 9.93324619 7.22991237 7.28392543 7.91357605 8.51574988 8.62556281\n",
      " 7.26107113 8.23350437]\n"
     ]
    }
   ],
   "source": [
    "y = np.random.uniform(6, 10, 20)\n",
    "print(y)"
   ]
  },
  {
   "cell_type": "code",
   "execution_count": 9,
   "metadata": {},
   "outputs": [
    {
     "data": {
      "text/plain": [
       "[<matplotlib.lines.Line2D at 0x20f05eba040>]"
      ]
     },
     "execution_count": 9,
     "metadata": {},
     "output_type": "execute_result"
    },
    {
     "data": {
      "image/png": "[encoded data removed]",
      "text/plain": [
       "<Figure size 432x288 with 1 Axes>"
      ]
     },
     "metadata": {
      "needs_background": "light"
     },
     "output_type": "display_data"
    }
   ],
   "source": [
    "plt.plot(x, 'r')\n",
    "plt.plot(g, 'g')"
   ]
  },
  {
   "cell_type": "markdown",
   "metadata": {},
   "source": [
    "#### random.power example"
   ]
  },
  {
   "cell_type": "code",
   "execution_count": 10,
   "metadata": {},
   "outputs": [
    {
     "name": "stdout",
     "output_type": "stream",
     "text": [
      "[0.14419508 0.85374285 0.4614726  0.37515243]\n"
     ]
    }
   ],
   "source": [
    "h = np.random.power(2, 4)\n",
    "print(h)"
   ]
  },
  {
   "cell_type": "markdown",
   "metadata": {},
   "source": [
    "#### random.randint example"
   ]
  },
  {
   "cell_type": "code",
   "execution_count": 11,
   "metadata": {},
   "outputs": [
    {
     "name": "stdout",
     "output_type": "stream",
     "text": [
      "5\n"
     ]
    }
   ],
   "source": [
    "p = np.random.randint(1, 12)\n",
    "print(p)"
   ]
  },
  {
   "cell_type": "markdown",
   "metadata": {},
   "source": [
    "======================================================================"
   ]
  },
  {
   "cell_type": "code",
   "execution_count": 11,
   "metadata": {},
   "outputs": [
    {
     "name": "stdout",
     "output_type": "stream",
     "text": [
      "0.37531628017153973\n",
      "0.9802034714354388\n",
      "0.3109095298636859\n",
      "0.9142912271466794\n",
      "0.30960604545065795\n",
      "0.24557923334284526\n",
      "0.30655089140179725\n",
      "0.879948934300795\n",
      "0.8089447176190708\n",
      "0.8663285501172305\n"
     ]
    }
   ],
   "source": [
    "for i in range(10):\n",
    "    print(random.random())"
   ]
  },
  {
   "cell_type": "code",
   "execution_count": 12,
   "metadata": {},
   "outputs": [
    {
     "name": "stdout",
     "output_type": "stream",
     "text": [
      "3.356802063948651\n",
      "3.1662266992108803\n",
      "6.760929355617986\n",
      "4.7933925105450985\n",
      "3.5861619597501257\n",
      "6.038881926253042\n",
      "4.754692632417672\n",
      "3.8553888598643535\n",
      "5.188489072049226\n",
      "3.6609118753508385\n"
     ]
    }
   ],
   "source": [
    "def my_random():\n",
    "    return 4*random.random() + 3\n",
    "\n",
    "for i in range(10):\n",
    "    print(my_random())"
   ]
  },
  {
   "cell_type": "code",
   "execution_count": 13,
   "metadata": {},
   "outputs": [
    {
     "name": "stdout",
     "output_type": "stream",
     "text": [
      "6.667991689210915\n",
      "5.195151495350453\n",
      "4.805079604275679\n",
      "6.286429499122683\n",
      "4.84338605777012\n",
      "3.371587380796232\n",
      "3.6339894901894323\n",
      "4.790924597617696\n",
      "4.8104205310678045\n",
      "3.764015717428688\n"
     ]
    }
   ],
   "source": [
    "for i in range(10):\n",
    "    print(random.uniform(3, 7))"
   ]
  },
  {
   "cell_type": "code",
   "execution_count": 14,
   "metadata": {},
   "outputs": [
    {
     "name": "stdout",
     "output_type": "stream",
     "text": [
      "6.8841864268835415\n",
      "6.044258323883702\n",
      "11.436624519710348\n",
      "-3.0762235332244026\n",
      "-0.841428621597965\n",
      "14.943849631694\n",
      "-17.172463434824667\n",
      "-0.16808813366449923\n",
      "2.719497541143213\n",
      "-10.581919337936341\n",
      "4.533953522595604\n",
      "9.617657158355724\n",
      "-1.6592859960955453\n",
      "2.708745579278615\n",
      "6.110511620829451\n",
      "16.065427204676528\n",
      "1.3705347856593393\n",
      "-1.1706194205043126\n",
      "12.352634466255287\n",
      "9.130667486000977\n"
     ]
    }
   ],
   "source": [
    "for i in range(20):\n",
    "    print(random.normalvariate(0,  9))"
   ]
  },
  {
   "cell_type": "markdown",
   "metadata": {},
   "source": [
    "### Backgrond info."
   ]
  },
  {
   "cell_type": "markdown",
   "metadata": {},
   "source": [
    "#### What is numpy?\n",
    "It is a way of creating 1D, 2D, 3D, 4D arrays etc "
   ]
  },
  {
   "cell_type": "markdown",
   "metadata": {},
   "source": [
    "Why do we use Numpy arrays instead of lists.\n",
    "**Lists are slow, Numpy is fast**\n",
    "\n",
    "**Why is this?**\n",
    "One reason is because Numpy uses fixed types.\n"
   ]
  },
  {
   "cell_type": "markdown",
   "metadata": {},
   "source": [
    "| |  |  | |\n",
    "|---|---|---|---|\n",
    "|3|1|2|4|\n",
    "|5|7|1|2|\n",
    "|4|1|0|1|"
   ]
  },
  {
   "cell_type": "markdown",
   "metadata": {},
   "source": [
    "* Imagine that we have a 3 by 4 matrix, all integer values, we will look at how they differ between Numpy and list.\n",
    "\n",
    "* In the table above the numpy 5 is interpreted as the binary number 00000101 - Numpy will cast this 5 an int.32 bit (this consits of 4 bites). \n",
    "\n",
    "* On the other hand, lists use a built in int. type that consist of 4 things (the object value, obj type, the reference count and the size of the int. value). Breaking this down into the binary that a list represents, the first 3 list types have 8 bits. This makes the memory space required for lists much larger.\n",
    "\n",
    "* Another reason for this, when iterating though each item in a numpy array, you don't have to have a type cheak each time. Because Numpy only has one type. \n",
    "\n",
    "* Wemory blocks utilised by a list are often split up within the memory. This means a list just contains many pointers leading to the memory blocks within the memory. This measn that lists are quite slow.\n",
    "\n",
    "* In contrast, Numpy also uses contiguous memory. This means that all memory blocks are right next to each other. This is much easier than the pointer-structure of lists. The first benefit of this is that CPU's are utilised better when memory blocks are near each other, i.e. many computations can be done on contiguous memory at the same time.\n",
    "\n",
    "* It also leads to effective cache utilisation. When array values are loaded in, they can all be loaded in at the same time in one load."
   ]
  },
  {
   "cell_type": "markdown",
   "metadata": {},
   "source": [
    "### What can we do with Numpy that can't be done with lists."
   ]
  },
  {
   "cell_type": "markdown",
   "metadata": {},
   "source": [
    "|Lists | Numpy|\n",
    "|:---:| :---: |\n",
    "|Insertion, deletion, appending, concatenation etc.| Insertion, deletion, appending, concatenation etc. + LOTS more |\n",
    "\n",
    "| Multiplying lists | Multiplying arrays |\n",
    "| :---: | :---: |\n",
    "| a = [1,3,5] | a = np.array([1,3,5]) |\n",
    "| b = [1,2,3] | b = np.array([1,2,3])|\n",
    "| a * b = ERROR | a * b = np.array([1,6,15])"
   ]
  },
  {
   "cell_type": "markdown",
   "metadata": {},
   "source": [
    "#### Applications of Numpy"
   ]
  },
  {
   "cell_type": "markdown",
   "metadata": {},
   "source": [
    "* Mathematics (MATLAB Replacement)\n",
    "* Plotting (Matplotlib)\n",
    "* Backend (Pandas, Connect 4, Digital Photography)\n",
    "* Machine learning - 'tenser' libraries are similar to Numpy"
   ]
  },
  {
   "cell_type": "markdown",
   "metadata": {},
   "source": [
    "#### Coding with Numpy"
   ]
  },
  {
   "cell_type": "code",
   "execution_count": 2,
   "metadata": {},
   "outputs": [],
   "source": [
    "import numpy as np"
   ]
  },
  {
   "cell_type": "markdown",
   "metadata": {},
   "source": [
    "##### The basics"
   ]
  },
  {
   "cell_type": "code",
   "execution_count": 71,
   "metadata": {},
   "outputs": [
    {
     "name": "stdout",
     "output_type": "stream",
     "text": [
      "[1 2 3]\n"
     ]
    }
   ],
   "source": [
    "a = np.array([1,2,3], dtype = 'int32')\n",
    "print(a)"
   ]
  },
  {
   "cell_type": "code",
   "execution_count": 72,
   "metadata": {},
   "outputs": [
    {
     "name": "stdout",
     "output_type": "stream",
     "text": [
      "[[9. 8. 7.]\n",
      " [6. 5. 4.]]\n"
     ]
    }
   ],
   "source": [
    "b = np.array([ [9.0, 8.0, 7.0], [6.0, 5.0, 4.0] ])\n",
    "print(b)"
   ]
  },
  {
   "cell_type": "code",
   "execution_count": 73,
   "metadata": {},
   "outputs": [
    {
     "data": {
      "text/plain": [
       "1"
      ]
     },
     "execution_count": 73,
     "metadata": {},
     "output_type": "execute_result"
    }
   ],
   "source": [
    "# Get dimensions\n",
    "a.ndim"
   ]
  },
  {
   "cell_type": "code",
   "execution_count": 74,
   "metadata": {},
   "outputs": [
    {
     "data": {
      "text/plain": [
       "2"
      ]
     },
     "execution_count": 74,
     "metadata": {},
     "output_type": "execute_result"
    }
   ],
   "source": [
    "b.ndim"
   ]
  },
  {
   "cell_type": "code",
   "execution_count": 75,
   "metadata": {},
   "outputs": [
    {
     "data": {
      "text/plain": [
       "(3,)"
      ]
     },
     "execution_count": 75,
     "metadata": {},
     "output_type": "execute_result"
    }
   ],
   "source": [
    "# Get shape\n",
    "a.shape"
   ]
  },
  {
   "cell_type": "code",
   "execution_count": 76,
   "metadata": {},
   "outputs": [
    {
     "data": {
      "text/plain": [
       "(2, 3)"
      ]
     },
     "execution_count": 76,
     "metadata": {},
     "output_type": "execute_result"
    }
   ],
   "source": [
    "b.shape"
   ]
  },
  {
   "cell_type": "code",
   "execution_count": 77,
   "metadata": {},
   "outputs": [
    {
     "data": {
      "text/plain": [
       "dtype('int32')"
      ]
     },
     "execution_count": 77,
     "metadata": {},
     "output_type": "execute_result"
    }
   ],
   "source": [
    "# Get type\n",
    "a.dtype"
   ]
  },
  {
   "cell_type": "code",
   "execution_count": 78,
   "metadata": {},
   "outputs": [
    {
     "data": {
      "text/plain": [
       "dtype('float64')"
      ]
     },
     "execution_count": 78,
     "metadata": {},
     "output_type": "execute_result"
    }
   ],
   "source": [
    "b.dtype"
   ]
  },
  {
   "cell_type": "code",
   "execution_count": 79,
   "metadata": {},
   "outputs": [
    {
     "data": {
      "text/plain": [
       "4"
      ]
     },
     "execution_count": 79,
     "metadata": {},
     "output_type": "execute_result"
    }
   ],
   "source": [
    "# Get size\n",
    "a.itemsize"
   ]
  },
  {
   "cell_type": "code",
   "execution_count": 80,
   "metadata": {},
   "outputs": [
    {
     "data": {
      "text/plain": [
       "8"
      ]
     },
     "execution_count": 80,
     "metadata": {},
     "output_type": "execute_result"
    }
   ],
   "source": [
    "b.itemsize"
   ]
  },
  {
   "cell_type": "code",
   "execution_count": 81,
   "metadata": {},
   "outputs": [
    {
     "data": {
      "text/plain": [
       "3"
      ]
     },
     "execution_count": 81,
     "metadata": {},
     "output_type": "execute_result"
    }
   ],
   "source": [
    "# Get total size\n",
    "a.size # (total number of elements)"
   ]
  },
  {
   "cell_type": "code",
   "execution_count": 82,
   "metadata": {},
   "outputs": [
    {
     "data": {
      "text/plain": [
       "6"
      ]
     },
     "execution_count": 82,
     "metadata": {},
     "output_type": "execute_result"
    }
   ],
   "source": [
    "b.size"
   ]
  },
  {
   "cell_type": "code",
   "execution_count": 83,
   "metadata": {},
   "outputs": [
    {
     "data": {
      "text/plain": [
       "12"
      ]
     },
     "execution_count": 83,
     "metadata": {},
     "output_type": "execute_result"
    }
   ],
   "source": [
    "a.nbytes # (the same as a.size * a.itemsize)"
   ]
  },
  {
   "cell_type": "code",
   "execution_count": 84,
   "metadata": {},
   "outputs": [
    {
     "data": {
      "text/plain": [
       "48"
      ]
     },
     "execution_count": 84,
     "metadata": {},
     "output_type": "execute_result"
    }
   ],
   "source": [
    "b.nbytes"
   ]
  },
  {
   "cell_type": "markdown",
   "metadata": {},
   "source": [
    "#### Accessing/Changine specific elements, rows, columns, etc."
   ]
  },
  {
   "cell_type": "code",
   "execution_count": 121,
   "metadata": {},
   "outputs": [],
   "source": [
    "a = np.array ([ [1, 2, 3, 4, 5, 6, 7],[8,9,10,11,12,13,14] ])"
   ]
  },
  {
   "cell_type": "code",
   "execution_count": 88,
   "metadata": {},
   "outputs": [
    {
     "name": "stdout",
     "output_type": "stream",
     "text": [
      "[[ 1  2  3  4  5  6  7]\n",
      " [ 8  9 10 11 12 13 14]]\n"
     ]
    }
   ],
   "source": [
    "print(a)"
   ]
  },
  {
   "cell_type": "code",
   "execution_count": 89,
   "metadata": {},
   "outputs": [
    {
     "data": {
      "text/plain": [
       "13"
      ]
     },
     "execution_count": 89,
     "metadata": {},
     "output_type": "execute_result"
    }
   ],
   "source": [
    "# Get a specific element\n",
    "a[1, 5]"
   ]
  },
  {
   "cell_type": "code",
   "execution_count": 90,
   "metadata": {},
   "outputs": [
    {
     "data": {
      "text/plain": [
       "13"
      ]
     },
     "execution_count": 90,
     "metadata": {},
     "output_type": "execute_result"
    }
   ],
   "source": [
    "# Using negative notation\n",
    "a[1, -2]"
   ]
  },
  {
   "cell_type": "code",
   "execution_count": 92,
   "metadata": {},
   "outputs": [
    {
     "data": {
      "text/plain": [
       "array([1, 2, 3, 4, 5, 6, 7])"
      ]
     },
     "execution_count": 92,
     "metadata": {},
     "output_type": "execute_result"
    }
   ],
   "source": [
    "# Get a specific row\n",
    "a[0, :]"
   ]
  },
  {
   "cell_type": "code",
   "execution_count": 93,
   "metadata": {},
   "outputs": [
    {
     "data": {
      "text/plain": [
       "array([ 3, 10])"
      ]
     },
     "execution_count": 93,
     "metadata": {},
     "output_type": "execute_result"
    }
   ],
   "source": [
    "a[:, 2]"
   ]
  },
  {
   "cell_type": "code",
   "execution_count": 97,
   "metadata": {},
   "outputs": [
    {
     "data": {
      "text/plain": [
       "array([2, 4, 6])"
      ]
     },
     "execution_count": 97,
     "metadata": {},
     "output_type": "execute_result"
    }
   ],
   "source": [
    "# Getting more nuanced outputs\n",
    "a[0, 1:6:2]"
   ]
  },
  {
   "cell_type": "code",
   "execution_count": 98,
   "metadata": {},
   "outputs": [
    {
     "data": {
      "text/plain": [
       "array([2, 4, 6])"
      ]
     },
     "execution_count": 98,
     "metadata": {},
     "output_type": "execute_result"
    }
   ],
   "source": [
    "a[0, 1:-1:2]"
   ]
  },
  {
   "cell_type": "code",
   "execution_count": 100,
   "metadata": {},
   "outputs": [
    {
     "name": "stdout",
     "output_type": "stream",
     "text": [
      "[[ 1  2  3  4  5  6  7]\n",
      " [ 8  9 10 11 12 20 14]]\n"
     ]
    }
   ],
   "source": [
    "a[1, 5] = 20\n",
    "print(a)"
   ]
  },
  {
   "cell_type": "code",
   "execution_count": 102,
   "metadata": {},
   "outputs": [
    {
     "name": "stdout",
     "output_type": "stream",
     "text": [
      "[[5 5 5 5 5 5 5]\n",
      " [5 5 5 5 5 5 5]]\n"
     ]
    }
   ],
   "source": [
    "a[:,2] = 5\n",
    "print(a)"
   ]
  },
  {
   "cell_type": "code",
   "execution_count": 105,
   "metadata": {},
   "outputs": [
    {
     "name": "stdout",
     "output_type": "stream",
     "text": [
      "[[5 5 1 5 5 5 5]\n",
      " [5 5 2 5 5 5 5]]\n"
     ]
    }
   ],
   "source": [
    "a[:,2] = [1,2]\n",
    "print(a)"
   ]
  },
  {
   "cell_type": "markdown",
   "metadata": {},
   "source": [
    "#### 3-d example"
   ]
  },
  {
   "cell_type": "code",
   "execution_count": 106,
   "metadata": {},
   "outputs": [
    {
     "name": "stdout",
     "output_type": "stream",
     "text": [
      "[[[1 2]\n",
      "  [3 4]]\n",
      "\n",
      " [[5 6]\n",
      "  [7 8]]]\n"
     ]
    }
   ],
   "source": [
    "b = np.array( [ [[1,2], [3,4] ], [ [5,6], [7,8] ] ])\n",
    "print(b)"
   ]
  },
  {
   "cell_type": "code",
   "execution_count": 107,
   "metadata": {},
   "outputs": [
    {
     "data": {
      "text/plain": [
       "4"
      ]
     },
     "execution_count": 107,
     "metadata": {},
     "output_type": "execute_result"
    }
   ],
   "source": [
    "# Get specific element (work outside in)\n",
    "b[0, 1, 1]"
   ]
  },
  {
   "cell_type": "code",
   "execution_count": 108,
   "metadata": {},
   "outputs": [
    {
     "data": {
      "text/plain": [
       "array([[[3, 4]],\n",
       "\n",
       "       [[7, 8]]])"
      ]
     },
     "execution_count": 108,
     "metadata": {},
     "output_type": "execute_result"
    }
   ],
   "source": [
    "b[:, 1: ]"
   ]
  },
  {
   "cell_type": "code",
   "execution_count": null,
   "metadata": {},
   "outputs": [],
   "source": [
    "# Replace\n",
    "b[:, 1: ] = [ [9,9], [8, 8] ]"
   ]
  },
  {
   "cell_type": "markdown",
   "metadata": {},
   "source": [
    "#### Initialising Different Types of Arrays"
   ]
  },
  {
   "cell_type": "code",
   "execution_count": 113,
   "metadata": {},
   "outputs": [
    {
     "data": {
      "text/plain": [
       "array([[0., 0., 0.],\n",
       "       [0., 0., 0.]])"
      ]
     },
     "execution_count": 113,
     "metadata": {},
     "output_type": "execute_result"
    }
   ],
   "source": [
    "# ALL 0's matrix\n",
    "np.zeros( (2,3) )"
   ]
  },
  {
   "cell_type": "code",
   "execution_count": 117,
   "metadata": {},
   "outputs": [
    {
     "data": {
      "text/plain": [
       "array([[[1, 1],\n",
       "        [1, 1]],\n",
       "\n",
       "       [[1, 1],\n",
       "        [1, 1]],\n",
       "\n",
       "       [[1, 1],\n",
       "        [1, 1]],\n",
       "\n",
       "       [[1, 1],\n",
       "        [1, 1]]])"
      ]
     },
     "execution_count": 117,
     "metadata": {},
     "output_type": "execute_result"
    }
   ],
   "source": [
    "# ALL 1's in matrix\n",
    "np.ones( (4,2,2), dtype = 'int32' )"
   ]
  },
  {
   "cell_type": "code",
   "execution_count": 120,
   "metadata": {},
   "outputs": [
    {
     "data": {
      "text/plain": [
       "array([[99., 99.],\n",
       "       [99., 99.]], dtype=float32)"
      ]
     },
     "execution_count": 120,
     "metadata": {},
     "output_type": "execute_result"
    }
   ],
   "source": [
    "# Any other number\n",
    "np.full( (2,2) , 99, dtype = 'float32')"
   ]
  },
  {
   "cell_type": "code",
   "execution_count": 125,
   "metadata": {},
   "outputs": [
    {
     "data": {
      "text/plain": [
       "array([[4, 4, 4, 4, 4, 4, 4],\n",
       "       [4, 4, 4, 4, 4, 4, 4]])"
      ]
     },
     "execution_count": 125,
     "metadata": {},
     "output_type": "execute_result"
    }
   ],
   "source": [
    "# Any other number (full_like method) to create an array of 4's etc,\n",
    "# for a shape already used in a previous array\n",
    "np.full_like(a, 4)"
   ]
  },
  {
   "cell_type": "code",
   "execution_count": 129,
   "metadata": {},
   "outputs": [
    {
     "data": {
      "text/plain": [
       "array([[0.12215718, 0.12422452, 0.78907686, 0.80388721, 0.68035937,\n",
       "        0.34593217, 0.13386641],\n",
       "       [0.58085149, 0.97861637, 0.35905845, 0.34205087, 0.88053344,\n",
       "        0.23651948, 0.69087075]])"
      ]
     },
     "execution_count": 129,
     "metadata": {},
     "output_type": "execute_result"
    }
   ],
   "source": [
    "# Random decimal number (random_sample method)\n",
    "np.random.random_sample(a.shape)"
   ]
  },
  {
   "cell_type": "code",
   "execution_count": 131,
   "metadata": {},
   "outputs": [
    {
     "data": {
      "text/plain": [
       "array([[3, 2, 3],\n",
       "       [2, 0, 3],\n",
       "       [5, 6, 5]])"
      ]
     },
     "execution_count": 131,
     "metadata": {},
     "output_type": "execute_result"
    }
   ],
   "source": [
    "# Random integer values\n",
    "np.random.randint(7, size=(3,3))"
   ]
  },
  {
   "cell_type": "code",
   "execution_count": 148,
   "metadata": {},
   "outputs": [
    {
     "data": {
      "text/plain": [
       "array([[ 6, -4],\n",
       "       [ 7, -1],\n",
       "       [ 1,  4]])"
      ]
     },
     "execution_count": 148,
     "metadata": {},
     "output_type": "execute_result"
    }
   ],
   "source": [
    "np.random.randint(-4, 8, size=(3,2))"
   ]
  },
  {
   "cell_type": "code",
   "execution_count": 137,
   "metadata": {},
   "outputs": [
    {
     "data": {
      "text/plain": [
       "array([[1., 0., 0., 0., 0.],\n",
       "       [0., 1., 0., 0., 0.],\n",
       "       [0., 0., 1., 0., 0.],\n",
       "       [0., 0., 0., 1., 0.],\n",
       "       [0., 0., 0., 0., 1.]])"
      ]
     },
     "execution_count": 137,
     "metadata": {},
     "output_type": "execute_result"
    }
   ],
   "source": [
    "# Identity matrix (only 1 parameter needed)\n",
    "np.identity(5)\n",
    "\n",
    "# Note this always produces a square matrix (e.g. 5 * 5)"
   ]
  },
  {
   "cell_type": "code",
   "execution_count": 143,
   "metadata": {},
   "outputs": [
    {
     "name": "stdout",
     "output_type": "stream",
     "text": [
      "[[1 2 3]\n",
      " [1 2 3]\n",
      " [1 2 3]]\n"
     ]
    }
   ],
   "source": [
    "# Repeat an array a few times\n",
    "arr = np.array( [ [1, 2, 3] ] )\n",
    "r1 = np.repeat(arr, 3, axis=0 )\n",
    "print(r1)"
   ]
  },
  {
   "cell_type": "markdown",
   "metadata": {},
   "source": [
    "| - | - | - | - | - |\n",
    "|---|---|---|---|---|\n",
    "| 1 | 1 | 1 | 1 | 1 |\n",
    "| 1 | 0 | 0 | 0 | 1 |  \n",
    "| 1 | 0 | 9 | 0 | 1 | \n",
    "| 1 | 0 | 0 | 0 | 1 | \n",
    "| 1 | 1 | 1 | 1 | 1 | \n"
   ]
  },
  {
   "cell_type": "markdown",
   "metadata": {},
   "source": [
    "##### Creating the array depicted by the numbers in the above table:"
   ]
  },
  {
   "cell_type": "code",
   "execution_count": 152,
   "metadata": {},
   "outputs": [
    {
     "name": "stdout",
     "output_type": "stream",
     "text": [
      "[[1. 1. 1. 1. 1.]\n",
      " [1. 1. 1. 1. 1.]\n",
      " [1. 1. 1. 1. 1.]\n",
      " [1. 1. 1. 1. 1.]\n",
      " [1. 1. 1. 1. 1.]]\n",
      "[[0. 0. 0.]\n",
      " [0. 9. 0.]\n",
      " [0. 0. 0.]]\n"
     ]
    }
   ],
   "source": [
    "output = np.ones( (5,5) )\n",
    "print(output)\n",
    "\n",
    "z = np.zeros( (3, 3) )\n",
    "\n",
    "z[1,1] = 9\n",
    "\n",
    "print(z)"
   ]
  },
  {
   "cell_type": "code",
   "execution_count": 153,
   "metadata": {},
   "outputs": [
    {
     "name": "stdout",
     "output_type": "stream",
     "text": [
      "[[1. 1. 1. 1. 1.]\n",
      " [1. 0. 0. 0. 1.]\n",
      " [1. 0. 9. 0. 1.]\n",
      " [1. 0. 0. 0. 1.]\n",
      " [1. 1. 1. 1. 1.]]\n"
     ]
    }
   ],
   "source": [
    "# Place z inside 'output'\n",
    "output[ 1:4, 1:4 ] = z\n",
    "print(output)"
   ]
  },
  {
   "cell_type": "markdown",
   "metadata": {},
   "source": [
    "##### Be careful when copying arrays"
   ]
  },
  {
   "cell_type": "code",
   "execution_count": 155,
   "metadata": {},
   "outputs": [
    {
     "name": "stdout",
     "output_type": "stream",
     "text": [
      "[1 2 3]\n"
     ]
    }
   ],
   "source": [
    "a = np.array( [1, 2, 3] )\n",
    "b = a\n",
    "print(b)"
   ]
  },
  {
   "cell_type": "code",
   "execution_count": 157,
   "metadata": {},
   "outputs": [
    {
     "name": "stdout",
     "output_type": "stream",
     "text": [
      "[100   2   3]\n"
     ]
    }
   ],
   "source": [
    "b[0] = 100\n",
    "print(b)"
   ]
  },
  {
   "cell_type": "code",
   "execution_count": 158,
   "metadata": {},
   "outputs": [
    {
     "name": "stdout",
     "output_type": "stream",
     "text": [
      "[100   2   3]\n"
     ]
    }
   ],
   "source": [
    "print(a)"
   ]
  },
  {
   "cell_type": "markdown",
   "metadata": {},
   "source": [
    "##### Note: that in the above examples, the alteration made to the first element of b is carried through to a as well.\n",
    "\n",
    "Because of the variable operations in Python, by setting b = a, we told Python that b points to the same list as a, therefore, both variables are getting their values from the same bucket and any alterations made to an element of b will be carried through to a.\n",
    "\n",
    "##### In the below example the variable d is pointed towards a.copy. When .copy is used on a variable, any alteration is not made to the original list."
   ]
  },
  {
   "cell_type": "code",
   "execution_count": 160,
   "metadata": {},
   "outputs": [
    {
     "name": "stdout",
     "output_type": "stream",
     "text": [
      "[200   2   3]\n"
     ]
    }
   ],
   "source": [
    "c = a.copy()\n",
    "c[0] = 200\n",
    "print(c)"
   ]
  },
  {
   "cell_type": "code",
   "execution_count": 161,
   "metadata": {},
   "outputs": [
    {
     "name": "stdout",
     "output_type": "stream",
     "text": [
      "[100   2   3]\n"
     ]
    }
   ],
   "source": [
    "print(a)"
   ]
  },
  {
   "cell_type": "markdown",
   "metadata": {},
   "source": [
    "### Mathematics\n",
    "One of the primary use of Numpy is the varied type of maths it can perform."
   ]
  },
  {
   "cell_type": "code",
   "execution_count": 171,
   "metadata": {},
   "outputs": [
    {
     "name": "stdout",
     "output_type": "stream",
     "text": [
      "[1 2 3 4]\n"
     ]
    }
   ],
   "source": [
    "a = np.array( [1, 2, 3, 4] )\n",
    "print(a)"
   ]
  },
  {
   "cell_type": "code",
   "execution_count": 172,
   "metadata": {},
   "outputs": [
    {
     "data": {
      "text/plain": [
       "array([3, 4, 5, 6])"
      ]
     },
     "execution_count": 172,
     "metadata": {},
     "output_type": "execute_result"
    }
   ],
   "source": [
    "a + 2"
   ]
  },
  {
   "cell_type": "code",
   "execution_count": 173,
   "metadata": {},
   "outputs": [
    {
     "data": {
      "text/plain": [
       "array([-1,  0,  1,  2])"
      ]
     },
     "execution_count": 173,
     "metadata": {},
     "output_type": "execute_result"
    }
   ],
   "source": [
    "a - 2"
   ]
  },
  {
   "cell_type": "code",
   "execution_count": 174,
   "metadata": {},
   "outputs": [
    {
     "data": {
      "text/plain": [
       "array([2, 4, 6, 8])"
      ]
     },
     "execution_count": 174,
     "metadata": {},
     "output_type": "execute_result"
    }
   ],
   "source": [
    "a * 2"
   ]
  },
  {
   "cell_type": "code",
   "execution_count": 175,
   "metadata": {},
   "outputs": [
    {
     "data": {
      "text/plain": [
       "array([0.5, 1. , 1.5, 2. ])"
      ]
     },
     "execution_count": 175,
     "metadata": {},
     "output_type": "execute_result"
    }
   ],
   "source": [
    "a / 2"
   ]
  },
  {
   "cell_type": "code",
   "execution_count": 176,
   "metadata": {},
   "outputs": [
    {
     "name": "stdout",
     "output_type": "stream",
     "text": [
      "[3 4 5 6]\n"
     ]
    }
   ],
   "source": [
    "a += 2\n",
    "print(a)"
   ]
  },
  {
   "cell_type": "code",
   "execution_count": 177,
   "metadata": {},
   "outputs": [],
   "source": [
    "b = np.array( [1, 0, 1, 0] )"
   ]
  },
  {
   "cell_type": "code",
   "execution_count": 178,
   "metadata": {},
   "outputs": [
    {
     "data": {
      "text/plain": [
       "array([4, 4, 6, 6])"
      ]
     },
     "execution_count": 178,
     "metadata": {},
     "output_type": "execute_result"
    }
   ],
   "source": [
    "a + b"
   ]
  },
  {
   "cell_type": "code",
   "execution_count": 179,
   "metadata": {},
   "outputs": [
    {
     "data": {
      "text/plain": [
       "array([ 9, 16, 25, 36], dtype=int32)"
      ]
     },
     "execution_count": 179,
     "metadata": {},
     "output_type": "execute_result"
    }
   ],
   "source": [
    "a ** 2"
   ]
  },
  {
   "cell_type": "code",
   "execution_count": 182,
   "metadata": {},
   "outputs": [
    {
     "data": {
      "text/plain": [
       "array([-0.9899925 , -0.65364362,  0.28366219,  0.96017029])"
      ]
     },
     "execution_count": 182,
     "metadata": {},
     "output_type": "execute_result"
    }
   ],
   "source": [
    "# Take the sign of all the values\n",
    "np.sin(a)\n",
    "np.cos(a)"
   ]
  },
  {
   "cell_type": "markdown",
   "metadata": {},
   "source": [
    "#### Linear Algebra"
   ]
  },
  {
   "cell_type": "code",
   "execution_count": 185,
   "metadata": {},
   "outputs": [
    {
     "name": "stdout",
     "output_type": "stream",
     "text": [
      "[[1. 1. 1.]\n",
      " [1. 1. 1.]]\n",
      "[[2 2]\n",
      " [2 2]\n",
      " [2 2]]\n"
     ]
    }
   ],
   "source": [
    "a = np.ones( (2, 3) )\n",
    "print(a)\n",
    "\n",
    "b = np.full( (3, 2), 2 )\n",
    "print(b)"
   ]
  },
  {
   "cell_type": "code",
   "execution_count": 186,
   "metadata": {},
   "outputs": [
    {
     "data": {
      "text/plain": [
       "array([[6., 6.],\n",
       "       [6., 6.]])"
      ]
     },
     "execution_count": 186,
     "metadata": {},
     "output_type": "execute_result"
    }
   ],
   "source": [
    "# Matrix Multiplication\n",
    "np.matmul(a, b)"
   ]
  },
  {
   "cell_type": "code",
   "execution_count": 188,
   "metadata": {},
   "outputs": [
    {
     "data": {
      "text/plain": [
       "1.0"
      ]
     },
     "execution_count": 188,
     "metadata": {},
     "output_type": "execute_result"
    }
   ],
   "source": [
    "# Determinant \n",
    "c = np.identity(3)\n",
    "np.linalg.det(c)"
   ]
  },
  {
   "cell_type": "markdown",
   "metadata": {},
   "source": [
    "#### Statistics with Numpy"
   ]
  },
  {
   "cell_type": "code",
   "execution_count": 189,
   "metadata": {},
   "outputs": [
    {
     "data": {
      "text/plain": [
       "array([[1, 2, 3],\n",
       "       [4, 5, 6]])"
      ]
     },
     "execution_count": 189,
     "metadata": {},
     "output_type": "execute_result"
    }
   ],
   "source": [
    "stats = np.array( [ [1, 2, 3], [4, 5, 6] ] )\n",
    "stats"
   ]
  },
  {
   "cell_type": "code",
   "execution_count": 190,
   "metadata": {},
   "outputs": [
    {
     "data": {
      "text/plain": [
       "array([1, 2, 3])"
      ]
     },
     "execution_count": 190,
     "metadata": {},
     "output_type": "execute_result"
    }
   ],
   "source": [
    "np.min(stats, axis = 0)"
   ]
  },
  {
   "cell_type": "code",
   "execution_count": 192,
   "metadata": {},
   "outputs": [
    {
     "data": {
      "text/plain": [
       "array([3, 6])"
      ]
     },
     "execution_count": 192,
     "metadata": {},
     "output_type": "execute_result"
    }
   ],
   "source": [
    "np.max(stats, axis = 1)"
   ]
  },
  {
   "cell_type": "code",
   "execution_count": 193,
   "metadata": {},
   "outputs": [
    {
     "data": {
      "text/plain": [
       "array([5, 7, 9])"
      ]
     },
     "execution_count": 193,
     "metadata": {},
     "output_type": "execute_result"
    }
   ],
   "source": [
    "np.sum(stats, axis=0)"
   ]
  },
  {
   "cell_type": "markdown",
   "metadata": {},
   "source": [
    "#### Reorganising Arrays"
   ]
  },
  {
   "cell_type": "code",
   "execution_count": 194,
   "metadata": {},
   "outputs": [
    {
     "name": "stdout",
     "output_type": "stream",
     "text": [
      "[[1 2 3 4]\n",
      " [5 6 7 8]]\n"
     ]
    }
   ],
   "source": [
    "before = np.array( [ [1, 2, 3, 4], [5, 6, 7, 8] ] )\n",
    "print(before)"
   ]
  },
  {
   "cell_type": "code",
   "execution_count": 198,
   "metadata": {},
   "outputs": [
    {
     "name": "stdout",
     "output_type": "stream",
     "text": [
      "[[[1 2]\n",
      "  [3 4]]\n",
      "\n",
      " [[5 6]\n",
      "  [7 8]]]\n"
     ]
    }
   ],
   "source": [
    "after = before.reshape((2, 2, 2))\n",
    "print(after)"
   ]
  },
  {
   "cell_type": "code",
   "execution_count": 201,
   "metadata": {},
   "outputs": [
    {
     "data": {
      "text/plain": [
       "array([[1, 2, 3, 4],\n",
       "       [5, 6, 7, 8],\n",
       "       [5, 6, 7, 8],\n",
       "       [5, 6, 7, 8]])"
      ]
     },
     "execution_count": 201,
     "metadata": {},
     "output_type": "execute_result"
    }
   ],
   "source": [
    "# Veritcal Staking matrixes\n",
    "v1 = ([1, 2, 3, 4])\n",
    "v2 = ([5, 6, 7, 8])\n",
    "\n",
    "np.vstack( [v1, v2, v2, v2])"
   ]
  },
  {
   "cell_type": "code",
   "execution_count": 204,
   "metadata": {},
   "outputs": [
    {
     "data": {
      "text/plain": [
       "array([[1., 1., 1., 1., 0., 0.],\n",
       "       [1., 1., 1., 1., 0., 0.]])"
      ]
     },
     "execution_count": 204,
     "metadata": {},
     "output_type": "execute_result"
    }
   ],
   "source": [
    "# Horizontal Stacking\n",
    "h1 = np.ones( (2, 4) )\n",
    "h2 = np.zeros( (2, 2) )\n",
    "\n",
    "np.hstack( (h1, h2 ) )"
   ]
  },
  {
   "cell_type": "markdown",
   "metadata": {},
   "source": [
    "#### Miscellaneous Uses of Numpy"
   ]
  },
  {
   "cell_type": "code",
   "execution_count": 209,
   "metadata": {},
   "outputs": [
    {
     "name": "stdout",
     "output_type": "stream",
     "text": [
      "[[nan nan nan nan nan]\n",
      " [nan nan nan nan nan]\n",
      " [5.1 3.5 1.4 0.2 nan]\n",
      " [4.9 3.  1.4 0.2 nan]\n",
      " [4.7 3.2 1.3 0.2 nan]\n",
      " [4.6 3.1 1.5 0.2 nan]\n",
      " [5.  3.6 1.4 0.2 nan]\n",
      " [5.4 3.9 1.7 0.4 nan]\n",
      " [4.6 3.4 1.4 0.3 nan]\n",
      " [5.  3.4 1.5 0.2 nan]\n",
      " [4.4 2.9 1.4 0.2 nan]\n",
      " [4.9 3.1 1.5 0.1 nan]]\n"
     ]
    }
   ],
   "source": [
    "# Load data from a file\n",
    "data5 = np.genfromtxt('data5.txt', delimiter=',' )\n",
    "print(data5)"
   ]
  },
  {
   "cell_type": "code",
   "execution_count": 210,
   "metadata": {},
   "outputs": [
    {
     "data": {
      "text/plain": [
       "array([[nan, nan, nan, nan, nan],\n",
       "       [nan, nan, nan, nan, nan],\n",
       "       [5.1, 3.5, 1.4, 0.2, nan],\n",
       "       [4.9, 3. , 1.4, 0.2, nan],\n",
       "       [4.7, 3.2, 1.3, 0.2, nan],\n",
       "       [4.6, 3.1, 1.5, 0.2, nan],\n",
       "       [5. , 3.6, 1.4, 0.2, nan],\n",
       "       [5.4, 3.9, 1.7, 0.4, nan],\n",
       "       [4.6, 3.4, 1.4, 0.3, nan],\n",
       "       [5. , 3.4, 1.5, 0.2, nan],\n",
       "       [4.4, 2.9, 1.4, 0.2, nan],\n",
       "       [4.9, 3.1, 1.5, 0.1, nan]])"
      ]
     },
     "execution_count": 210,
     "metadata": {},
     "output_type": "execute_result"
    }
   ],
   "source": [
    "data5.astype('int32')\n",
    "data5"
   ]
  },
  {
   "cell_type": "markdown",
   "metadata": {},
   "source": [
    "##### Boolean Masking and Advanced Indexing"
   ]
  },
  {
   "cell_type": "code",
   "execution_count": 216,
   "metadata": {
    "scrolled": true
   },
   "outputs": [
    {
     "name": "stderr",
     "output_type": "stream",
     "text": [
      "<ipython-input-216-af58febc9b87>:1: RuntimeWarning: invalid value encountered in greater\n",
      "  data5[data5 > 5]\n"
     ]
    },
    {
     "data": {
      "text/plain": [
       "array([5.1, 5.4])"
      ]
     },
     "execution_count": 216,
     "metadata": {},
     "output_type": "execute_result"
    }
   ],
   "source": [
    "# Extracting the vectors from a data file that are greater than 5\n",
    "data5[data5 > 5]"
   ]
  },
  {
   "cell_type": "code",
   "execution_count": 219,
   "metadata": {},
   "outputs": [
    {
     "name": "stderr",
     "output_type": "stream",
     "text": [
      "<ipython-input-219-196172771c52>:3: RuntimeWarning: invalid value encountered in greater\n",
      "  np.any(data5 > 4, axis = 0 )\n"
     ]
    },
    {
     "data": {
      "text/plain": [
       "array([ True, False, False, False, False])"
      ]
     },
     "execution_count": 219,
     "metadata": {},
     "output_type": "execute_result"
    }
   ],
   "source": [
    "# Checking through each column to see what columns \n",
    "# contain a value greater than 5.\n",
    "np.any(data5 > 4, axis = 0 )"
   ]
  },
  {
   "cell_type": "code",
   "execution_count": 220,
   "metadata": {},
   "outputs": [
    {
     "name": "stderr",
     "output_type": "stream",
     "text": [
      "<ipython-input-220-28bea8fe32f9>:2: RuntimeWarning: invalid value encountered in greater\n",
      "  ( ( data5 > 4) & (data5 < 4.5 ) )\n",
      "<ipython-input-220-28bea8fe32f9>:2: RuntimeWarning: invalid value encountered in less\n",
      "  ( ( data5 > 4) & (data5 < 4.5 ) )\n"
     ]
    },
    {
     "data": {
      "text/plain": [
       "array([[False, False, False, False, False],\n",
       "       [False, False, False, False, False],\n",
       "       [False, False, False, False, False],\n",
       "       [False, False, False, False, False],\n",
       "       [False, False, False, False, False],\n",
       "       [False, False, False, False, False],\n",
       "       [False, False, False, False, False],\n",
       "       [False, False, False, False, False],\n",
       "       [False, False, False, False, False],\n",
       "       [False, False, False, False, False],\n",
       "       [ True, False, False, False, False],\n",
       "       [False, False, False, False, False]])"
      ]
     },
     "execution_count": 220,
     "metadata": {},
     "output_type": "execute_result"
    }
   ],
   "source": [
    "# Setting a range for extracting values within\n",
    "( ( data5 > 4) & (data5 < 4.5 ) )"
   ]
  },
  {
   "cell_type": "markdown",
   "metadata": {},
   "source": [
    "##### Index matrix including 6, 8, 12, 13"
   ]
  },
  {
   "cell_type": "markdown",
   "metadata": {},
   "source": [
    "|-|-|- |- |- |\n",
    "|---|---|---|---|---|\n",
    "|1 |2 |3 |4 |5 |\n",
    "|6 |8 |9 |10 |11 |\n",
    "|12 |13 |14 |15 |16 |\n",
    "|17|18 |19 |20 |21 |\n",
    "|22 |23 |24 |25 |26 |\n",
    "|27 |28 |29 |30 |31 |"
   ]
  },
  {
   "cell_type": "markdown",
   "metadata": {},
   "source": [
    "### Random Package Explained"
   ]
  },
  {
   "cell_type": "markdown",
   "metadata": {},
   "source": [
    "#### Random Method 0 - 1"
   ]
  },
  {
   "cell_type": "markdown",
   "metadata": {},
   "source": [
    "The random method can be used to get a random number between 0 and 1. However, the 0 will be inclusive and the 1 will be exclusive. I.e. it can 0.999 but never 1.0."
   ]
  },
  {
   "cell_type": "code",
   "execution_count": 2,
   "metadata": {
    "scrolled": true
   },
   "outputs": [
    {
     "name": "stdout",
     "output_type": "stream",
     "text": [
      "0.44374952321015027\n"
     ]
    }
   ],
   "source": [
    "from numpy import random\n",
    "value = random.random()\n",
    "print(value)"
   ]
  },
  {
   "cell_type": "markdown",
   "metadata": {},
   "source": [
    "#### Uniform Method"
   ]
  },
  {
   "cell_type": "markdown",
   "metadata": {},
   "source": [
    "If you wish to generate a random number in a range that exceeds 1, you can use the uniform() method."
   ]
  },
  {
   "cell_type": "code",
   "execution_count": 3,
   "metadata": {},
   "outputs": [
    {
     "name": "stdout",
     "output_type": "stream",
     "text": [
      "2.3941233905231805\n"
     ]
    }
   ],
   "source": [
    "value2 = random.uniform(1, 10)\n",
    "print(value2)"
   ]
  },
  {
   "cell_type": "markdown",
   "metadata": {},
   "source": [
    "#### Randint Method"
   ]
  },
  {
   "cell_type": "markdown",
   "metadata": {},
   "source": [
    "Uniform and Random will often output floating point numbers. If you wish to produce integers exclusively, you can use the randint() method.\n",
    "\n",
    "This method could be used to simulate the rolling of a die or a given number of dice."
   ]
  },
  {
   "cell_type": "code",
   "execution_count": 37,
   "metadata": {},
   "outputs": [
    {
     "name": "stdout",
     "output_type": "stream",
     "text": [
      "4\n"
     ]
    }
   ],
   "source": [
    "value3 = random.randint(1, 6)\n",
    "print(value3)"
   ]
  },
  {
   "cell_type": "code",
   "execution_count": 57,
   "metadata": {},
   "outputs": [
    {
     "name": "stdout",
     "output_type": "stream",
     "text": [
      "4\n"
     ]
    }
   ],
   "source": [
    "# If you wish to simulate a cointoss you can set the paramaters \n",
    "# to 0 and 1.\n",
    "value4 = random.randint(0, 1)\n",
    "print(value3)\n"
   ]
  },
  {
   "cell_type": "markdown",
   "metadata": {},
   "source": [
    "#### Choice Method\n",
    "\n",
    "This method will produce a random value from a given list of values."
   ]
  },
  {
   "cell_type": "code",
   "execution_count": 53,
   "metadata": {},
   "outputs": [],
   "source": [
    "greetings = ['Hello', 'Hi', 'Hey', 'Howdy', 'Hola']"
   ]
  },
  {
   "cell_type": "code",
   "execution_count": 54,
   "metadata": {},
   "outputs": [],
   "source": [
    "value4 = random.choice(greetings)"
   ]
  },
  {
   "cell_type": "code",
   "execution_count": 55,
   "metadata": {},
   "outputs": [
    {
     "name": "stdout",
     "output_type": "stream",
     "text": [
      "Howdy, Konstantina\n"
     ]
    }
   ],
   "source": [
    "print(value4 + ', Konstantina')"
   ]
  },
  {
   "cell_type": "code",
   "execution_count": 62,
   "metadata": {},
   "outputs": [
    {
     "ename": "TypeError",
     "evalue": "random_sample() got an unexpected keyword argument 'k'",
     "output_type": "error",
     "traceback": [
      "\u001b[1;31m---------------------------------------------------------------------------\u001b[0m",
      "\u001b[1;31mTypeError\u001b[0m                                 Traceback (most recent call last)",
      "\u001b[1;32m<ipython-input-62-142be8032915>\u001b[0m in \u001b[0;36m<module>\u001b[1;34m\u001b[0m\n\u001b[0;32m      3\u001b[0m \u001b[0mcolours\u001b[0m \u001b[1;33m=\u001b[0m \u001b[1;33m[\u001b[0m\u001b[1;34m'Red'\u001b[0m\u001b[1;33m,\u001b[0m \u001b[1;34m'Black'\u001b[0m\u001b[1;33m,\u001b[0m \u001b[1;34m'Green'\u001b[0m\u001b[1;33m]\u001b[0m\u001b[1;33m\u001b[0m\u001b[1;33m\u001b[0m\u001b[0m\n\u001b[0;32m      4\u001b[0m \u001b[1;33m\u001b[0m\u001b[0m\n\u001b[1;32m----> 5\u001b[1;33m \u001b[0mvalue5\u001b[0m \u001b[1;33m=\u001b[0m \u001b[0mrandom\u001b[0m\u001b[1;33m.\u001b[0m\u001b[0msample\u001b[0m\u001b[1;33m(\u001b[0m\u001b[0mcolours\u001b[0m\u001b[1;33m,\u001b[0m \u001b[0mk\u001b[0m\u001b[1;33m=\u001b[0m\u001b[1;36m10\u001b[0m\u001b[1;33m)\u001b[0m\u001b[1;33m\u001b[0m\u001b[1;33m\u001b[0m\u001b[0m\n\u001b[0m",
      "\u001b[1;32mmtrand.pyx\u001b[0m in \u001b[0;36mnumpy.random.mtrand.sample\u001b[1;34m()\u001b[0m\n",
      "\u001b[1;32mmtrand.pyx\u001b[0m in \u001b[0;36mnumpy.random.mtrand.RandomState.random_sample\u001b[1;34m()\u001b[0m\n",
      "\u001b[1;31mTypeError\u001b[0m: random_sample() got an unexpected keyword argument 'k'"
     ]
    }
   ],
   "source": [
    "# LOOKUP!!!\n",
    "# Get multiple random values from a list using chices()\n",
    "colours = ['Red', 'Black', 'Green']\n",
    "\n",
    "value5 = random.sample(colours, k=10)"
   ]
  },
  {
   "cell_type": "code",
   "execution_count": 63,
   "metadata": {},
   "outputs": [
    {
     "name": "stdout",
     "output_type": "stream",
     "text": [
      "[1, 2, 3, 4, 5, 6, 7, 8, 9, 10, 11, 12, 13, 14, 15, 16, 17, 18, 19, 20, 21, 22, 23, 24, 25, 26, 27, 28, 29, 30, 31, 32, 33, 34, 35, 36, 37, 38, 39, 40, 41, 42, 43, 44, 45, 46, 47, 48, 49, 50, 51, 52]\n"
     ]
    }
   ],
   "source": [
    "# Randomly shuffle a list of values using sample() method\n",
    "\n",
    "# Create a list (deck of cards)\n",
    "deck = list(range(1, 53) )\n",
    "print(deck)\n"
   ]
  },
  {
   "cell_type": "code",
   "execution_count": 64,
   "metadata": {},
   "outputs": [
    {
     "name": "stdout",
     "output_type": "stream",
     "text": [
      "[20, 3, 15, 27, 45, 29, 9, 11, 33, 42, 21, 43, 32, 24, 36, 31, 52, 12, 25, 14, 1, 35, 22, 41, 34, 6, 26, 19, 16, 23, 30, 48, 38, 2, 5, 44, 49, 18, 46, 37, 51, 50, 7, 17, 28, 4, 13, 47, 8, 10, 40, 39]\n"
     ]
    }
   ],
   "source": [
    "# Use random.shuffle\n",
    "random.shuffle(deck)\n",
    "print(deck)"
   ]
  },
  {
   "cell_type": "code",
   "execution_count": 69,
   "metadata": {},
   "outputs": [
    {
     "ename": "TypeError",
     "evalue": "random_sample() got multiple values for keyword argument 'size'",
     "output_type": "error",
     "traceback": [
      "\u001b[1;31m---------------------------------------------------------------------------\u001b[0m",
      "\u001b[1;31mTypeError\u001b[0m                                 Traceback (most recent call last)",
      "\u001b[1;32m<ipython-input-69-9e995c9222c2>\u001b[0m in \u001b[0;36m<module>\u001b[1;34m\u001b[0m\n\u001b[1;32m----> 1\u001b[1;33m \u001b[0mhand\u001b[0m \u001b[1;33m=\u001b[0m \u001b[0mrandom\u001b[0m\u001b[1;33m.\u001b[0m\u001b[0msample\u001b[0m\u001b[1;33m(\u001b[0m\u001b[0mdeck\u001b[0m\u001b[1;33m,\u001b[0m \u001b[0msize\u001b[0m\u001b[1;33m=\u001b[0m\u001b[1;36m5\u001b[0m\u001b[1;33m)\u001b[0m\u001b[1;33m\u001b[0m\u001b[1;33m\u001b[0m\u001b[0m\n\u001b[0m\u001b[0;32m      2\u001b[0m \u001b[0mprint\u001b[0m\u001b[1;33m(\u001b[0m\u001b[0mhand\u001b[0m\u001b[1;33m)\u001b[0m\u001b[1;33m\u001b[0m\u001b[1;33m\u001b[0m\u001b[0m\n",
      "\u001b[1;32mmtrand.pyx\u001b[0m in \u001b[0;36mnumpy.random.mtrand.sample\u001b[1;34m()\u001b[0m\n",
      "\u001b[1;32mmtrand.pyx\u001b[0m in \u001b[0;36mnumpy.random.mtrand.RandomState.random_sample\u001b[1;34m()\u001b[0m\n",
      "\u001b[1;31mTypeError\u001b[0m: random_sample() got multiple values for keyword argument 'size'"
     ]
    }
   ],
   "source": [
    "hand = random.sample(deck, size=5)\n",
    "print(hand)"
   ]
  },
  {
   "cell_type": "code",
   "execution_count": 70,
   "metadata": {},
   "outputs": [],
   "source": [
    "# LOOKUP!!!"
   ]
  },
  {
   "cell_type": "code",
   "execution_count": null,
   "metadata": {},
   "outputs": [],
   "source": []
  }
 ],
 "metadata": {
  "kernelspec": {
   "display_name": "Python 3",
   "language": "python",
   "name": "python3"
  },
  "language_info": {
   "codemirror_mode": {
    "name": "ipython",
    "version": 3
   },
   "file_extension": ".py",
   "mimetype": "text/x-python",
   "name": "python",
   "nbconvert_exporter": "python",
   "pygments_lexer": "ipython3",
   "version": "3.8.3"
  }
 },
 "nbformat": 4,
 "nbformat_minor": 4
}
