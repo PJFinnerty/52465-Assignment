{
 "cells": [
  {
   "cell_type": "markdown",
   "metadata": {},
   "source": [
    "## Problem statement\n",
    "The following assignment concerns the numpy.random package in Python [2]. You are required to create a Jupyter [5] notebook explaining the use of the package, including detailed explanations of at least five of the distributions provided for in the package. \n",
    "\n",
    "**There are four distinct tasks to be carried out in your Jupyter notebook:** \n",
    "1. Explain the overall purpose of the package.\n",
    "2. Explain the use of the “Simple random data” and “Permutations” functions.\n",
    "3. Explain the use and purpose of at least five “Distributions” functions.\n",
    "4. Explain the use of seeds in generating pseudorandom numbers.\n"
   ]
  },
  {
   "cell_type": "code",
   "execution_count": 63,
   "metadata": {},
   "outputs": [],
   "source": [
    "import numpy as np\n",
    "import matplotlib.pyplot as plt\n",
    "import seaborn as sns"
   ]
  },
  {
   "cell_type": "markdown",
   "metadata": {},
   "source": [
    "## Q1: Explain the overall purpose of numpy.random package."
   ]
  },
  {
   "cell_type": "markdown",
   "metadata": {},
   "source": [
    "### 1.1. Overview"
   ]
  },
  {
   "cell_type": "markdown",
   "metadata": {},
   "source": [
    "Numpy.random is a package within the Numpy library that provides for the creation of pseudo-random values. This is done through the use of a seed value to act as to reference point from which seemingly random values are created. An important fact to note in this is how the values produced are not truly random. Rather, they are generated in a predictable manner from the seed value. A number of functions are utilised with numpy.random that allow for a variety of random number generating requirements.\n",
    "\n",
    "The generation of random numbers has broad reaching applications throughout information technology, including but not limited to computational creativity, modeling and simulation, robotics and gaming (O'Neill, 2014).\n",
    "\n",
    "This does not mean that numpy.random produces a different number everytime it is used, rather it is designed to make it impossible to predict within knowing in advance what the seed value that Numpy is using."
   ]
  },
  {
   "cell_type": "markdown",
   "metadata": {},
   "source": [
    "### 1.2. Documentation for numpy.random and Updates to its Contents"
   ]
  },
  {
   "cell_type": "markdown",
   "metadata": {},
   "source": [
    "With Version 1.17, Numpy have changed the way their Random package works. This have updated the documentation to reflect this. This has necessitated the removal of functions from the Simple Random Data section, that were essentially duplications. The rand, randn, randint, random_integers, random_sample, and ranf have been removed as individual functional entities and Simple Random Data now contains the integers, random, choice and bytes functions. \n",
    "\n",
    "In addition, a 'default_rng' constructor has been introduced for the Generator and associatied functions. This constructor function will instantiate a Generator with Numpys default BitGenerator. This is used by simply assigning a variable to this function and appending one of the numpy.random functions to the end. (EXPLAIN!!!!!)\n",
    "\n",
    "Versin 1.17 saw no change to the Permutations section of the documentation. This section still contains a Shuffle function to permute the elements in an array, by changing the original array and des not output a new variable. It also contains the Permutation function which can also permute an array along the first axis, but does so by returning a new variable, where the original was not changed.\n",
    "**Reference:https://stackoverflow.com/questions/15474159/shuffle-vs-permute-numpy#:~:text=shuffle(x)%20can%20permute%20the,original%20data%20is%20not%20changed.**) \n",
    "\n",
    "Finally, the Distributions section of the numpy.random documentation has been mostly untouched. Many of the same functions are available here. \n",
    "\n",
    "\n"
   ]
  },
  {
   "cell_type": "markdown",
   "metadata": {},
   "source": [
    "### 1.3 How Does numpy.random Generate Pseudo-Random Numbers?"
   ]
  },
  {
   "cell_type": "markdown",
   "metadata": {},
   "source": [
    "#### Random is Not Truly Random\n",
    "\n",
    "The most recent Numpy package, version 1.19, an efficient algorithm known as PCG-64 (Permutation Congruential Generator) to generate pseudo-random numbers. The PCG family of random number generators (RNG's) are different from others in that they produce random numbers quickly, without the need for cryptography, whilst remaining relatively secure. This is achieved by having the RNG pass the output to an efficient permutation function, thereby altering the result. This makes it very difficult for adversary's to discover the internal state of the generator from knowing the output alone (O'Neil, 2014).       \n",
    "\n",
    "In the case of Numpy, the constructor function, numpy.random.default_rng, will instantiate the PCG-64 through the use of a BitGenerator and the Generator will pass the output to be altered by the permutation function. \n",
    "\n",
    "The constructor for the generator in Numpy's recent versions is \n",
    "numpy.random.default_rng(\n",
    "\n",
    "However, there is one way to discover the internal state of the generator: to know the seed value. In Numpy, the seed is the value that is used as a reference point from which random numbers are generated. You can set the seed value to whatever value you wish and whilst you have it set at this value and run a block of numpy.random code, the output will remain the same. On the other hand, if you do not set a seed value, Numpy will determine a seed value and instantiate the generator from this point. This will create an output that you can not repeat, should you run the same code again. Numpy's methods for generating the number are complicated, but one example on how this can be done, is to consider the number Pi. Pi's floating point numbers are infinite. Therefore, one means to generate randomness would be to set a seed value somewhere after the decimal point of Pi and generate numbers from this reference point in a deterministic manner. \n",
    "\n",
    "\" When we say OS-specific randomness source it means\n",
    "\n",
    "On Linux, the getrandom() function can be used to get random bytes in non-blocking mode\n",
    "On a Unix-like system, random bytes are read from the /dev/urandom device\n",
    "On Windows, it will use CryptGenRandom(). \"\n",
    "\n",
    "Reference: https://pynative.com/python-random-seed/\n",
    "\n"
   ]
  },
  {
   "cell_type": "markdown",
   "metadata": {},
   "source": [
    "##### reference: https://www.sharpsightlabs.com/blog/numpy-random-seed/"
   ]
  },
  {
   "cell_type": "markdown",
   "metadata": {},
   "source": [
    "##### reference on the difference between pseudo random and natural randomness by Wolfram Mathworld: https://mathworld.wolfram.com/PseudorandomNumber.html"
   ]
  },
  {
   "cell_type": "markdown",
   "metadata": {},
   "source": [
    "### 1.4. Summarising the Random Package\n",
    "This Jupyter Notebook, seeks to provide a detailed overview of the numpy.random package. Below is a table that has been generated to provide key details on the functions that will be discussed in this project. The functions include the all of those in the Simple Random Data section and Permutations section. 5 Distributions functions are discussed is Section 3, which will provide graphs that illustrate the relationship between these distributions and Numpy's functions for simulating them. I have included examples of outputs from these distribution functions below, although the limited arrays in this table do not display the distribution as the graphs in Section 3 does."
   ]
  },
  {
   "cell_type": "markdown",
   "metadata": {},
   "source": [
    "|  Function Name | Parameters | What it does | Input Example &nbsp; &nbsp; &nbsp; &nbsp; &nbsp; &nbsp; &nbsp; &nbsp; &nbsp; &nbsp; &nbsp; &nbsp; &nbsp; &nbsp; &nbsp; &nbsp; &nbsp; &nbsp; &nbsp; &nbsp;&nbsp; &nbsp; &nbsp; &nbsp; &nbsp; &nbsp; | Output Example  |\n",
    "|:---|:---|:---|:---| :---|\n",
    "|  <font color='blue'>*Simple Random Data Functions*</font> |\n",
    "| integers()| (low[, high, size, dtype, endpoint])  | Generates random integers | rng.integers(5)  |4   | \n",
    "| random()  |([size, dtype, out]) |Generates random floats of a given array | rng.random(5) |array([0.10582498, 0.22151441, 0.88883466, 0.46139778, 0.02401577])   |\n",
    "|  choice() | (a[, size, replace, p, axis, shuffle]) | Return a random sample from a given array, for uniform or non-uniform probabilities |rng.choice(5, 3, p = [0.1, 0.1, 0.7, 0.1, 0] )  | array([2, 2, 2], dtype=int64)  | \n",
    "| bytes() | (length)| Return random bytes of a given length  |  rng.bytes(4) |  b'\\x8a\\xf9R\\x8b' | \n",
    "| <font color='blue'>*Permutation Functions*</font> |\n",
    "| shuffle() | (x[, axis]) | Modifify an array and return the modified version | rng.shuffle(x) ... *if x=np.arange(5)*| array([0, 2, 4, 3, 1]) | \n",
    "| permutation() | (x[, axis]) | Returns a new variable, a copy of an array that has been permuted | rng.permutation([1, 4, 9, 12]) |  array([4,  9,  1, 12])\n",
    "|  <font color='blue'>*Distribution Functions*</font> |\n",
    "| power()| (a[, size])| Draws samples in [0, 1] from a power distribution| rng.power(a, x)...*where a=8 and x=1*3 | [0.92881078, 0.79003738, 0.87355078] \n",
    "| standard_exponential()| ([size, dtype, method, out])| Draw samples from the standard exponential distribution| rng.standard_exponential((2, 4))| [[0.4319951,  1.69130996, 0.4522942,  0.12161319][0.70803341, 0.70335693, 0.04465385, 2.92988127]] \n",
    "| normal() | ([loc, scale, size])| Draw random samples from a normal distribution| rng.normal(mu, sigma, 3)...*where mu, sigma= 0, 0.1* |  [0.00100176,  0.00519112, -0.10541133]\n",
    "rayleigh()| ([scale, size])| Draw samples from a Rayleigh distribution| rng.rayleigh(1, 2)| array([1.08590067, 2.03465331])\n",
    "triangular()| (left, mode, right[, size])| Draw samples from the triangular distribution| rng.triangular(4, 6, 12, 3)| array([9.11802852, 5.05872803, 7.90736215])\n"
   ]
  },
  {
   "cell_type": "markdown",
   "metadata": {},
   "source": [
    "### 1.5. Formula for numpy.random Functions"
   ]
  },
  {
   "cell_type": "markdown",
   "metadata": {},
   "source": [
    "### 1.6. Visualising the numpy.random Package"
   ]
  },
  {
   "cell_type": "code",
   "execution_count": 64,
   "metadata": {},
   "outputs": [
    {
     "data": {
      "text/plain": [
       "array([ 5.4473649 , 10.94469887,  6.37257948])"
      ]
     },
     "execution_count": 64,
     "metadata": {},
     "output_type": "execute_result"
    }
   ],
   "source": [
    "np.random.default_rng().triangular(4, 6, 12, 3)"
   ]
  },
  {
   "cell_type": "code",
   "execution_count": 65,
   "metadata": {},
   "outputs": [
    {
     "name": "stdout",
     "output_type": "stream",
     "text": [
      "[-0.0093571   0.10686087 -0.23901736]\n"
     ]
    },
    {
     "data": {
      "text/plain": [
       "0.1"
      ]
     },
     "execution_count": 65,
     "metadata": {},
     "output_type": "execute_result"
    }
   ],
   "source": [
    "mu, sigma = 0, 0.1 # mean and standard deviation\n",
    "s = np.random.default_rng().normal(mu, sigma, 3)\n",
    "print(s)\n",
    "abs(mu - np.mean(s))\n",
    "0.0  # may vary\n",
    "\n",
    "abs(sigma - np.std(s, ddof=1))\n",
    "0.1  # may vary"
   ]
  },
  {
   "cell_type": "code",
   "execution_count": 66,
   "metadata": {},
   "outputs": [
    {
     "name": "stdout",
     "output_type": "stream",
     "text": [
      "[[0.09215669 0.25503481 0.68243112 0.27532013]\n",
      " [1.95076548 4.02418549 1.13828354 0.88424509]]\n"
     ]
    },
    {
     "ename": "TypeError",
     "evalue": "type numpy.ndarray doesn't define __round__ method",
     "output_type": "error",
     "traceback": [
      "\u001b[1;31m---------------------------------------------------------------------------\u001b[0m",
      "\u001b[1;31mTypeError\u001b[0m                                 Traceback (most recent call last)",
      "\u001b[1;32m<ipython-input-66-069c38fc07c1>\u001b[0m in \u001b[0;36m<module>\u001b[1;34m\u001b[0m\n\u001b[0;32m      1\u001b[0m \u001b[0mn\u001b[0m \u001b[1;33m=\u001b[0m \u001b[0mnp\u001b[0m\u001b[1;33m.\u001b[0m\u001b[0mrandom\u001b[0m\u001b[1;33m.\u001b[0m\u001b[0mdefault_rng\u001b[0m\u001b[1;33m(\u001b[0m\u001b[1;33m)\u001b[0m\u001b[1;33m.\u001b[0m\u001b[0mstandard_exponential\u001b[0m\u001b[1;33m(\u001b[0m\u001b[1;33m(\u001b[0m\u001b[1;36m2\u001b[0m\u001b[1;33m,\u001b[0m \u001b[1;36m4\u001b[0m\u001b[1;33m)\u001b[0m\u001b[1;33m)\u001b[0m\u001b[1;33m\u001b[0m\u001b[1;33m\u001b[0m\u001b[0m\n\u001b[0;32m      2\u001b[0m \u001b[0mprint\u001b[0m\u001b[1;33m(\u001b[0m\u001b[0mn\u001b[0m\u001b[1;33m)\u001b[0m\u001b[1;33m\u001b[0m\u001b[1;33m\u001b[0m\u001b[0m\n\u001b[1;32m----> 3\u001b[1;33m \u001b[0mnn\u001b[0m \u001b[1;33m=\u001b[0m \u001b[0mround\u001b[0m\u001b[1;33m(\u001b[0m\u001b[0mn\u001b[0m\u001b[1;33m,\u001b[0m \u001b[1;36m2\u001b[0m\u001b[1;33m)\u001b[0m\u001b[1;33m\u001b[0m\u001b[1;33m\u001b[0m\u001b[0m\n\u001b[0m\u001b[0;32m      4\u001b[0m \u001b[0mprint\u001b[0m\u001b[1;33m(\u001b[0m\u001b[0mnn\u001b[0m\u001b[1;33m)\u001b[0m\u001b[1;33m\u001b[0m\u001b[1;33m\u001b[0m\u001b[0m\n",
      "\u001b[1;31mTypeError\u001b[0m: type numpy.ndarray doesn't define __round__ method"
     ]
    }
   ],
   "source": [
    "n = np.random.default_rng().standard_exponential((2, 4))\n",
    "print(n)\n",
    "nn = round(n, 2)\n",
    "print(nn)"
   ]
  },
  {
   "cell_type": "markdown",
   "metadata": {},
   "source": []
  },
  {
   "cell_type": "code",
   "execution_count": 67,
   "metadata": {},
   "outputs": [],
   "source": [
    "rng = np.random.default_rng()"
   ]
  },
  {
   "cell_type": "code",
   "execution_count": 68,
   "metadata": {},
   "outputs": [
    {
     "data": {
      "text/plain": [
       "2"
      ]
     },
     "execution_count": 68,
     "metadata": {},
     "output_type": "execute_result"
    }
   ],
   "source": [
    "rng.integers(5)"
   ]
  },
  {
   "cell_type": "code",
   "execution_count": 69,
   "metadata": {},
   "outputs": [
    {
     "data": {
      "text/plain": [
       "array([0.5701948 , 0.23021448, 0.13685124, 0.40722763, 0.95956203])"
      ]
     },
     "execution_count": 69,
     "metadata": {},
     "output_type": "execute_result"
    }
   ],
   "source": [
    "rng.random(5)"
   ]
  },
  {
   "cell_type": "code",
   "execution_count": 70,
   "metadata": {},
   "outputs": [
    {
     "data": {
      "text/plain": [
       "array([2, 3, 2], dtype=int64)"
      ]
     },
     "execution_count": 70,
     "metadata": {},
     "output_type": "execute_result"
    }
   ],
   "source": [
    "rng.choice(5, 3, p = [0.1, 0.1, 0.7, 0.1, 0] )"
   ]
  },
  {
   "cell_type": "code",
   "execution_count": 71,
   "metadata": {},
   "outputs": [
    {
     "data": {
      "text/plain": [
       "b'*\\xbc\\xa7\\xb7'"
      ]
     },
     "execution_count": 71,
     "metadata": {},
     "output_type": "execute_result"
    }
   ],
   "source": [
    "rng.bytes(4)"
   ]
  },
  {
   "cell_type": "code",
   "execution_count": 72,
   "metadata": {},
   "outputs": [
    {
     "data": {
      "text/plain": [
       "array([[ 3,  7,  6,  5,  1,  0,  9,  4,  8,  2],\n",
       "       [13, 17, 16, 15, 11, 10, 19, 14, 18, 12]])"
      ]
     },
     "execution_count": 72,
     "metadata": {},
     "output_type": "execute_result"
    }
   ],
   "source": [
    "arr = np.arange(20).reshape((2, 10))\n",
    "rng.shuffle(arr, axis = 1)\n",
    "arr"
   ]
  },
  {
   "cell_type": "code",
   "execution_count": 73,
   "metadata": {},
   "outputs": [
    {
     "data": {
      "text/plain": [
       "array([3, 1, 2, 4, 0])"
      ]
     },
     "execution_count": 73,
     "metadata": {},
     "output_type": "execute_result"
    }
   ],
   "source": [
    "x = np.arange(5)\n",
    "rng.shuffle(x)\n",
    "x"
   ]
  },
  {
   "cell_type": "code",
   "execution_count": 74,
   "metadata": {},
   "outputs": [
    {
     "name": "stdout",
     "output_type": "stream",
     "text": [
      "None\n"
     ]
    }
   ],
   "source": [
    "b = rng.shuffle([1, 2, 3, 4, 5])\n",
    "print(b)"
   ]
  },
  {
   "cell_type": "code",
   "execution_count": null,
   "metadata": {},
   "outputs": [],
   "source": []
  },
  {
   "cell_type": "markdown",
   "metadata": {},
   "source": [
    "## Q2: Explain the use of the “Simple random data” and “Permutations” functions."
   ]
  },
  {
   "cell_type": "code",
   "execution_count": 75,
   "metadata": {},
   "outputs": [],
   "source": [
    "import numpy as np\n",
    "import matplotlib.pyplot as plt\n",
    "import seaborn as sns\n",
    "import pandas as pd"
   ]
  },
  {
   "cell_type": "markdown",
   "metadata": {},
   "source": [
    "### 2.1. Simple Random Data\n",
    "\n",
    "#### 2.1.1. What do the Simple Random Data Functions Do?\n",
    "The second section of the numpy.random package relates to the use of simple random data. This sections contains 4 functions that return random values of various types. The four functions are:\n",
    "1. integers\n",
    "2. random\n",
    "3. choice\n",
    "4. bytes\n",
    "\n",
    "Numpy's classification of its Random package into three groups (Simple Random Data, Permuations and Distributions) may not be immediately intuitive when first using the package. However, by practicing the use of functions from each of these groups, one can grasp the distinctions between them. The Permutation functions can take an ordered array as input and output either a shuffled version or a new variable that has been 'randomly' permuted. The Distribution functions all produce random data that reflects a particular statistical distribution. \n",
    "\n",
    "However, the functions under in Simple Random Data section are, it could be argued, the most random of the entire numpy.random package. In the case of the random.integers() and random.random() functions, the output is manipulated based on type (integer or floating point number). Whereas, in the case of the random.choice function(), the random data produced can be set at a specific probability, providing a useful means to replicate rea-life 'chance' scenarios, such as the simulation of a game of roulette. The bytes() function is limited to producing random bites of a given length. These functions have broad use across all probabilities and areas of statistics. They are less concerned with producing manipulated data and are designed to provide the most basic statistical ramdomisation tools. "
   ]
  },
  {
   "cell_type": "markdown",
   "metadata": {},
   "source": [
    "#### 2.2. Numpy Integers Function"
   ]
  },
  {
   "cell_type": "markdown",
   "metadata": {},
   "source": [
    "<img src=\"https://vrzkj25a871bpq7t1ugcgmn9-wpengine.netdna-ssl.com/wp-content/uploads/2020/03/anp-random-randint_syntax-explanation_v4.png\" alt=\"Drawing\" style=\"width: 600px;\"/>"
   ]
  },
  {
   "cell_type": "code",
   "execution_count": 76,
   "metadata": {},
   "outputs": [
    {
     "data": {
      "text/plain": [
       "12"
      ]
     },
     "execution_count": 76,
     "metadata": {},
     "output_type": "execute_result"
    }
   ],
   "source": [
    "np.random.seed(30) \n",
    "rng = np.random.default_rng()\n",
    "rng.integers(4, 20)"
   ]
  },
  {
   "cell_type": "code",
   "execution_count": 77,
   "metadata": {},
   "outputs": [
    {
     "name": "stdout",
     "output_type": "stream",
     "text": [
      "[[5 2 4]\n",
      " [2 8 0]]\n",
      "\n",
      " [[13  3  6 19 13]\n",
      " [17  5 11 19  0]\n",
      " [15 10  3  0 14]\n",
      " [ 3 15  4 12  7]]\n"
     ]
    }
   ],
   "source": [
    "rng = np.random.default_rng()\n",
    "np.random.seed(0)\n",
    "\n",
    "# Produce a 2 by 3 array of random integers between 1 and 10\n",
    "print(rng.integers(10, size=(2, 3)) )\n",
    "np.random.seed(0)\n",
    "\n",
    "# Produce a 4 by 5 array between 1 and 20\n",
    "print(\"\\n\", rng.integers(20, size=(4, 5)) )"
   ]
  },
  {
   "cell_type": "code",
   "execution_count": 78,
   "metadata": {},
   "outputs": [
    {
     "name": "stdout",
     "output_type": "stream",
     "text": [
      "\n",
      " [[[[46  6 19  5]\n",
      "   [ 7 18 17  2]\n",
      "   [33 33  3 18]]\n",
      "\n",
      "  [[23 26 27  4]\n",
      "   [18 14 24 11]\n",
      "   [38  0 30  8]]]\n",
      "\n",
      "\n",
      " [[[24 47 45 39]\n",
      "   [ 7  0 24 19]\n",
      "   [16  6 42  5]]\n",
      "\n",
      "  [[12 15  2 11]\n",
      "   [32 46 28 19]\n",
      "   [29 14 44 28]]]]\n"
     ]
    }
   ],
   "source": [
    "# prduce a matrix of integers between 1 and 48 in 4-d\n",
    "print(\"\\n\", rng.integers(48, size=(2, 2, 3, 4)) )"
   ]
  },
  {
   "cell_type": "code",
   "execution_count": 79,
   "metadata": {},
   "outputs": [
    {
     "name": "stdout",
     "output_type": "stream",
     "text": [
      "    age     mon  year1\n",
      "0    62   54652   2018\n",
      "1    58   53749   2019\n",
      "2    41   66180   2019\n",
      "3    29   99448   2017\n",
      "4    42   46274   2019\n",
      "..  ...     ...    ...\n",
      "95   46  100834   2017\n",
      "96   64   86223   2019\n",
      "97   47   81332   2018\n",
      "98   18  102686   2018\n",
      "99   21   30467   2019\n",
      "\n",
      "[100 rows x 3 columns]\n"
     ]
    },
    {
     "data": {
      "image/png": "[encoded data removed]",
      "text/plain": [
       "<Figure size 432x288 with 1 Axes>"
      ]
     },
     "metadata": {
      "needs_background": "light"
     },
     "output_type": "display_data"
    }
   ],
   "source": [
    "pd.set_option('display.max_rows', 50)\n",
    "age=rng.integers(18, 65, size=100)\n",
    "\n",
    "mon=rng.integers(18500, 110000, size=100)\n",
    "\n",
    "year1=rng.integers(2017, 2020, size=100)\n",
    "year1\n",
    "\n",
    "df = pd.DataFrame({'age': age.ravel(), 'mon': mon.ravel(), 'year1': year1.ravel()})\n",
    "print (df)\n",
    "\n",
    "stat = sns.scatterplot(x=\"age\", y=\"mon\", hue= \"year1\", data=df)\n",
    "plt.legend()\n",
    "plt.show()"
   ]
  },
  {
   "cell_type": "markdown",
   "metadata": {},
   "source": [
    "##### putting arrays into a database https://www.marsja.se/how-to-convert-numpy-array-to-pandas-dataframe-examples/#:~:text=To%20convert%20an%20array%20to%20a%20dataframe%20with%20Python%20you,to%20be%20named%20with%20columns.\n",
    "\n",
    "##### info on np.arange(): https://realpython.com/how-to-use-numpy-arange/\n",
    "\n",
    "##### info n setting row limit in Jupyter: https://stackoverflow.com/questions/58298963/jupyter-not-showing-whole-output"
   ]
  },
  {
   "cell_type": "markdown",
   "metadata": {},
   "source": []
  },
  {
   "cell_type": "markdown",
   "metadata": {},
   "source": []
  },
  {
   "cell_type": "markdown",
   "metadata": {},
   "source": [
    "#### Numpy's Random Function - "
   ]
  },
  {
   "cell_type": "markdown",
   "metadata": {},
   "source": [
    "<img src=\"https://cdn.shortpixel.ai/spai/w_995+q_lossy+ret_img+to_webp/https://www.sharpsightlabs.com/wp-content/uploads/2019/05/numpy-random-choice-syntax-explanation.png\" alt=\"Drawing\" style=\"width: 600px;\"/>\n",
    "\n",
    "*Image from sharpsightlabs.com*"
   ]
  },
  {
   "cell_type": "code",
   "execution_count": 80,
   "metadata": {},
   "outputs": [
    {
     "data": {
      "image/png": "[encoded data removed]",
      "text/plain": [
       "<Figure size 432x288 with 1 Axes>"
      ]
     },
     "metadata": {
      "needs_background": "light"
     },
     "output_type": "display_data"
    }
   ],
   "source": [
    "import pandas as pd\n",
    "\n",
    "df = pd.DataFrame(np.random.random(size=(10000,5)), columns=list('ABCDE')) # creating a Dataframe directly with pandas\n",
    "plt.boxplot(df.A, labels = 'A')\n",
    "plt.show()"
   ]
  },
  {
   "cell_type": "code",
   "execution_count": 81,
   "metadata": {},
   "outputs": [
    {
     "data": {
      "image/png": "[encoded data removed]",
      "text/plain": [
       "<Figure size 432x288 with 1 Axes>"
      ]
     },
     "metadata": {
      "needs_background": "light"
     },
     "output_type": "display_data"
    }
   ],
   "source": [
    "# Seed the random number generator\n",
    "np.random.seed(0)\n",
    "\n",
    "# Initialize random numbers: random_numbers\n",
    "random_numbers = np.empty(100)\n",
    "\n",
    "# Generate random numbers by looping over range(100000)\n",
    "for i in range(100):\n",
    "    random_numbers[i] = np.random.random()\n",
    "\n",
    "# Plot a histogram\n",
    "sns.distplot(random_numbers)\n",
    "\n",
    "# Show the plot\n",
    "plt.show()"
   ]
  },
  {
   "cell_type": "markdown",
   "metadata": {},
   "source": [
    "========================================================================================================="
   ]
  },
  {
   "cell_type": "markdown",
   "metadata": {},
   "source": [
    "#### Choice Function"
   ]
  },
  {
   "cell_type": "markdown",
   "metadata": {},
   "source": [
    "#### Formula"
   ]
  },
  {
   "cell_type": "markdown",
   "metadata": {},
   "source": []
  },
  {
   "cell_type": "markdown",
   "metadata": {},
   "source": []
  },
  {
   "cell_type": "code",
   "execution_count": 82,
   "metadata": {},
   "outputs": [
    {
     "data": {
      "image/png": "[encoded data removed]",
      "text/plain": [
       "<Figure size 432x288 with 1 Axes>"
      ]
     },
     "metadata": {
      "needs_background": "light"
     },
     "output_type": "display_data"
    }
   ],
   "source": [
    "import pandas as pd\n",
    "\n",
    "rng = np.random.default_rng()\n",
    "\n",
    "pd.set_option('display.max_rows', 90)\n",
    "#########################################################################\n",
    "\n",
    "cost = rng.integers(500, 1500, 60)\n",
    "#print(\"cost:\", cost)\n",
    "\n",
    "age2 = rng.integers(16, 70, 60)\n",
    "#print(\"age2:\", age2)\n",
    "\n",
    "df2 = pd.DataFrame({'cost': cost.ravel(), 'age2': age2.ravel()})\n",
    "####################################################################\n",
    "PC=['brand', 'Windows', 'Mac', 'Windows', 'Mac',\n",
    "     'Windows', 'Mac', 'Windows', 'Mac', 'Windows', 'Mac',\n",
    "      'Windows', 'Mac', 'Windows', 'Mac', 'Windows', 'Mac',\n",
    "     'Windows', 'Mac', 'Windows', 'Mac', 'Windows', 'Mac',\n",
    "     'Windows', 'Mac', 'Windows', 'Mac', 'Windows', 'Mac',\n",
    "      'Windows', 'Mac', 'Windows', 'Mac', 'Windows', 'Mac',\n",
    "     'Windows', 'Mac', 'Windows', 'Mac', 'Windows', 'Mac',\n",
    "     'Windows', 'Mac', 'Windows', 'Mac', 'Windows', 'Mac',\n",
    "      'Windows', 'Mac', 'Windows', 'Mac', 'Windows', 'Mac',\n",
    "      'Windows', 'Mac', 'Windows', 'Mac', 'Windows', 'Mac',\n",
    "     'Windows', 'Mac', 'Windows', 'Mac']\n",
    "data = list(zip(*[iter(PC)]))\n",
    "df1 = pd.DataFrame(data[1:], columns=data[0])\n",
    "\n",
    "frames = [df1, df2]\n",
    "\n",
    "result = pd.concat([df1, df2], axis=1, join='inner')\n",
    "\n",
    "scatter_choice = sns.scatterplot(x=\"cost\", y=\"age2\", hue=\"brand\", data=result)\n",
    "plt.legend()\n",
    "plt.show()\n"
   ]
  },
  {
   "cell_type": "markdown",
   "metadata": {},
   "source": [
    "##### Concatenating a list of strings into a database: https://stackoverflow.com/questions/46269294/convert-a-list-of-strings-into-a-dataframe\n",
    "\n",
    "##### merging databases https://pandas.pydata.org/pandas-docs/stable/user_guide/merging.html"
   ]
  },
  {
   "cell_type": "markdown",
   "metadata": {},
   "source": [
    "### 2.2. Permutation Functions\n",
    "\n",
    "##### Definition (Webster's Dictionary)\n",
    "*permute (pəˈmjuːt)*\n",
    "*vb (tr)*\n",
    "\n",
    "1. *to change the sequence of*\n",
    "2. *(Mathematics) to subject to permutation [C14: from Latin permūtāre, from per- + mūtāre to change, alter] perˈmutable adj perˌmutaˈbility, perˈmutableness n perˈmutably adv*\n",
    "\n",
    "Accrding to corporatefinanceinstitute.com, a permutation is a mathematical technique that determines the number of possible arrangements in a set when the order of the arrangements matters. Common mathematical problems involve choosing only several items from a set of items with a certain order.\n",
    "\n",
    "There are two functions within Numpy's Permutations Section:\n",
    "* The Shuffle function\n",
    "\n",
    "*and*\n",
    "* The Permutation function\n",
    "\n",
    "Both of these function, permute a list in order to create random data. In particular, they both change the order of elements in an array. However, whist shuffle() merely permutes an array and outputs the altered array, permutation() makes a copy of an array, permutes it and then outputs the change in the form of a new variable."
   ]
  },
  {
   "cell_type": "markdown",
   "metadata": {},
   "source": [
    "#### 2.2.1. Shuffle Function - numpy.random.Generator.shuffle"
   ]
  },
  {
   "cell_type": "code",
   "execution_count": 83,
   "metadata": {},
   "outputs": [
    {
     "data": {
      "text/plain": [
       "array([4, 0, 3, 9, 5, 1, 6, 8, 7, 2])"
      ]
     },
     "execution_count": 83,
     "metadata": {},
     "output_type": "execute_result"
    }
   ],
   "source": [
    "rng = np.random.default_rng()\n",
    "arr = np.arange(10)\n",
    "rng.shuffle(arr)\n",
    "arr"
   ]
  },
  {
   "cell_type": "code",
   "execution_count": 84,
   "metadata": {},
   "outputs": [
    {
     "data": {
      "text/plain": [
       "array([[6, 7, 8],\n",
       "       [0, 1, 2],\n",
       "       [3, 4, 5]])"
      ]
     },
     "execution_count": 84,
     "metadata": {},
     "output_type": "execute_result"
    }
   ],
   "source": [
    "arr = np.arange(9).reshape((3, 3))\n",
    "rng.shuffle(arr)\n",
    "arr"
   ]
  },
  {
   "cell_type": "code",
   "execution_count": 85,
   "metadata": {},
   "outputs": [
    {
     "data": {
      "text/plain": [
       "array([[1, 0, 2],\n",
       "       [4, 3, 5],\n",
       "       [7, 6, 8]])"
      ]
     },
     "execution_count": 85,
     "metadata": {},
     "output_type": "execute_result"
    }
   ],
   "source": [
    "arr = np.arange(9).reshape((3, 3))\n",
    "rng.shuffle(arr, axis=1)\n",
    "arr"
   ]
  },
  {
   "cell_type": "code",
   "execution_count": 86,
   "metadata": {},
   "outputs": [
    {
     "data": {
      "image/png": "[encoded data removed]",
      "text/plain": [
       "<Figure size 432x288 with 1 Axes>"
      ]
     },
     "metadata": {
      "needs_background": "light"
     },
     "output_type": "display_data"
    },
    {
     "name": "stdout",
     "output_type": "stream",
     "text": [
      "[[[ 0  1  2  3]\n",
      "  [ 4  5  6  7]\n",
      "  [ 8  9 10 11]\n",
      "  [12 13 14 15]\n",
      "  [16 17 18 19]]]\n"
     ]
    }
   ],
   "source": [
    "rng = np.random.default_rng()\n",
    "shuffle1 = np.arange(20).reshape((1, 5, 4))\n",
    "rng.shuffle(shuffle1)\n",
    "sns.distplot(shuffle1, kde=False, bins=14, color='green') \n",
    "plt.show()\n",
    "print(shuffle1)"
   ]
  },
  {
   "cell_type": "code",
   "execution_count": 87,
   "metadata": {},
   "outputs": [
    {
     "name": "stdout",
     "output_type": "stream",
     "text": [
      "[[70 80 90]\n",
      " [40 50 60]\n",
      " [10 20 30]]\n",
      "[[100 102 103]\n",
      " [104 105 106]\n",
      " [107 108 109]]\n",
      "[['a' 'b' 'd']\n",
      " ['a' 'b' 'd']\n",
      " ['a' 'b' 'd']]\n",
      "   lat  long val\n",
      "0   70   100   a\n",
      "1   80   102   b\n",
      "2   90   103   d\n",
      "3   40   104   a\n",
      "4   50   105   b\n",
      "5   60   106   d\n",
      "6   10   107   a\n",
      "7   20   108   b\n",
      "8   30   109   d\n"
     ]
    }
   ],
   "source": [
    "rng = np.random.default_rng()\n",
    "\n",
    "lat=np.array([[10, 20, 30],\n",
    "              [40, 50, 60],\n",
    "              [70, 80, 90]])\n",
    "rng.shuffle(lat)\n",
    "print(lat)\n",
    "\n",
    "long=np.array([[100, 102, 103],\n",
    "              [104, 105, 106],\n",
    "              [107, 108, 109]])\n",
    "#rng.shuffle(long)\n",
    "print(long)\n",
    "\n",
    "val=np.array([['a', 'b', 'd'],\n",
    "              ['a', 'b', 'd'],\n",
    "              ['a', 'b', 'd']])\n",
    "#rng.shuffle(val)\n",
    "print(val)\n",
    "\n",
    "\n",
    "\n",
    "df = pd.DataFrame({'lat': lat.ravel(), 'long': long.ravel(), 'val': val.ravel()})\n",
    "print (df)"
   ]
  },
  {
   "cell_type": "code",
   "execution_count": 88,
   "metadata": {},
   "outputs": [
    {
     "data": {
      "image/png": "[encoded data removed]",
      "text/plain": [
       "<Figure size 432x288 with 1 Axes>"
      ]
     },
     "metadata": {
      "needs_background": "light"
     },
     "output_type": "display_data"
    }
   ],
   "source": [
    "shuffle_scatter2 = sns.scatterplot(x=\"lat\", y=\"long\", hue= \"val\", data=df)"
   ]
  },
  {
   "cell_type": "markdown",
   "metadata": {},
   "source": [
    "#### reference: https://stackoverflow.com/questions/41873198/pandas-create-a-dataframe-from-2d-numpy-arrays-preserving-their-sequential-orde"
   ]
  },
  {
   "cell_type": "markdown",
   "metadata": {},
   "source": []
  },
  {
   "cell_type": "markdown",
   "metadata": {},
   "source": []
  },
  {
   "cell_type": "markdown",
   "metadata": {},
   "source": [
    "#### 2.2.2. Permutation Function - numpy.random.Generator.permutation"
   ]
  },
  {
   "cell_type": "markdown",
   "metadata": {},
   "source": [
    "#### Formula\n",
    "\n",
    "##### <font color='blue'>np.random.default_rng().permutation(x [int or array_like ints], axis[int, optional])</font>\n",
    "*Where x is an int., random pemutation occurs using np.arange(x). If x is array, a copy is created into a new varianle and elements are shuffled randomly. Axis is which axis x is shuffled along, defaulted to 0.*\n",
    "\n",
    "\n",
    "#### Permutation Definition (Webster's Dictionary)\n",
    "\n",
    "###### permute (pəˈmjuːt)\n",
    "vb (tr)\n",
    "1. to change the sequence of\n",
    "2. (Mathematics) to subject to permutation\n",
    "[C14: from Latin permūtāre, from per- + mūtāre to change, alter]\n",
    "perˈmutable adj\n",
    "perˌmutaˈbility, perˈmutableness n\n",
    "perˈmutably adv\n",
    "\n",
    "Accrding to corporatefinanceinstitute.com, a permutation is a mathematical technique that determines the number of possible arrangements in a set when the order of the arrangements matters. Common mathematical problems involve choosing only several items from a set of items with a certain order.\n",
    "\n",
    "However, the numpy permutation function is more concerned with changing the order of items in an array. In order to visually understand how the function works, it is useful to look at a histogram of data that has been permutted. "
   ]
  },
  {
   "cell_type": "code",
   "execution_count": 89,
   "metadata": {},
   "outputs": [
    {
     "data": {
      "image/png": "[encoded data removed]",
      "text/plain": [
       "<Figure size 432x288 with 1 Axes>"
      ]
     },
     "metadata": {
      "needs_background": "light"
     },
     "output_type": "display_data"
    }
   ],
   "source": [
    "import matplotlib.pyplot as plt \n",
    "import seaborn as sns\n",
    "\n",
    "# Using permutation() method \n",
    "permute1 = np.random.permutation(20) \n",
    "\n",
    "sns.distplot(permute1, kde=False, bins=14, color='red')\n",
    "plt.show()"
   ]
  },
  {
   "cell_type": "markdown",
   "metadata": {},
   "source": [
    "# ↓ REDO!!"
   ]
  },
  {
   "cell_type": "code",
   "execution_count": 90,
   "metadata": {},
   "outputs": [
    {
     "name": "stdout",
     "output_type": "stream",
     "text": [
      "      a   b     c\n",
      "0   100   0  2017\n",
      "1   101   1  2018\n",
      "2   102   2  2018\n",
      "3   103   3  2019\n",
      "4   104   4  2018\n",
      "..  ...  ..   ...\n",
      "95  195  95  2018\n",
      "96  196  96  2018\n",
      "97  197  97  2017\n",
      "98  198  98  2018\n",
      "99  199  99  2018\n",
      "\n",
      "[100 rows x 3 columns]\n"
     ]
    },
    {
     "data": {
      "image/png": "[encoded data removed]",
      "text/plain": [
       "<Figure size 432x288 with 1 Axes>"
      ]
     },
     "metadata": {
      "needs_background": "light"
     },
     "output_type": "display_data"
    }
   ],
   "source": [
    "rng = np.random.default_rng()\n",
    "pd.set_option('display.max_rows', 50)\n",
    "a =np.arange(start=100, stop=200, step=1)\n",
    "b =np.arange(start=0, stop=100, step=1)\n",
    "c =rng.integers(2017, 2020, size=100)\n",
    "\n",
    "df = pd.DataFrame({'a': a.ravel(), 'b': b.ravel(), 'c': c.ravel()})\n",
    "print (df)\n",
    "\n",
    "stat = sns.scatterplot(x=\"a\", y=\"b\", hue= \"c\", data=df)"
   ]
  },
  {
   "cell_type": "markdown",
   "metadata": {},
   "source": [
    "# ↓ REDO!!!"
   ]
  },
  {
   "cell_type": "code",
   "execution_count": 91,
   "metadata": {
    "scrolled": true
   },
   "outputs": [
    {
     "name": "stdout",
     "output_type": "stream",
     "text": [
      "[100 101 102 103 104 105 106 107 108 109 110 111 112 113 114 115 116 117\n",
      " 118 119 120 121 122 123 124 125 126 127 128 129 130 131 132 133 134 135\n",
      " 136 137 138 139 140 141 142 143 144 145 146 147 148 149 150 151 152 153\n",
      " 154 155 156 157 158 159 160 161 162 163 164 165 166 167 168 169 170 171\n",
      " 172 173 174 175 176 177 178 179 180 181 182 183 184 185 186 187 188 189\n",
      " 190 191 192 193 194 195 196 197 198 199]\n",
      "      a   b     c\n",
      "0   100   0   932\n",
      "1   101   1   594\n",
      "2   102   2   893\n",
      "3   103   3   937\n",
      "4   104   4   906\n",
      "..  ...  ..   ...\n",
      "95  195  95   735\n",
      "96  196  96  1094\n",
      "97  197  97   772\n",
      "98  198  98   584\n",
      "99  199  99   837\n",
      "\n",
      "[100 rows x 3 columns]\n"
     ]
    },
    {
     "data": {
      "image/png": "[encoded data removed]",
      "text/plain": [
       "<Figure size 432x288 with 1 Axes>"
      ]
     },
     "metadata": {
      "needs_background": "light"
     },
     "output_type": "display_data"
    }
   ],
   "source": [
    "pd.set_option('display.max_rows', 10)\n",
    "a =np.arange(start=100, stop=200, step=1)\n",
    "rng.permutation(a)\n",
    "print(a)\n",
    "\n",
    "b =np.arange(start=0, stop=100, step=1)\n",
    "rng.permutation(b)\n",
    "\n",
    "c =rng.integers(500, 1300, size=100)\n",
    "rng.permutation(c)\n",
    "\n",
    "df = pd.DataFrame({'a': a.ravel(), 'b': b.ravel(), 'c': c.ravel()})\n",
    "print (df)\n",
    "\n",
    "stat = sns.scatterplot(x=\"a\", y=\"b\", hue= \"c\", data=df)"
   ]
  },
  {
   "cell_type": "markdown",
   "metadata": {},
   "source": [
    "## Q3: Explain the use and purpose of at least five “Distributions” functions."
   ]
  },
  {
   "cell_type": "markdown",
   "metadata": {},
   "source": [
    "### 3.1. Visualising The Distribution Functions"
   ]
  },
  {
   "cell_type": "markdown",
   "metadata": {},
   "source": [
    "#### Seaborn Plot Graphing 5 Overlayed Distribution Functions"
   ]
  },
  {
   "cell_type": "code",
   "execution_count": 92,
   "metadata": {},
   "outputs": [
    {
     "data": {
      "image/png": "[encoded data removed]",
      "text/plain": [
       "<Figure size 432x288 with 1 Axes>"
      ]
     },
     "metadata": {
      "needs_background": "light"
     },
     "output_type": "display_data"
    }
   ],
   "source": [
    "# Rayleigh Function\n",
    "\n",
    "rng = rng = np.random.default_rng()\n",
    "sns.distplot(rng.rayleigh(5.0, size=1000))\n",
    "sns.distplot(rng.uniform(11,21, 1000))\n",
    "sns.distplot(rng.normal(26, 3.0, 1000))\n",
    "sns.distplot(rng.triangular(28, 38, 39, 1000) )\n",
    "# sns.distplot(rng.power(3, 3))\n",
    "\n",
    "\n",
    "\n",
    "plt.show()"
   ]
  },
  {
   "cell_type": "markdown",
   "metadata": {},
   "source": [
    "## Distribution Functions"
   ]
  },
  {
   "cell_type": "code",
   "execution_count": 93,
   "metadata": {},
   "outputs": [],
   "source": [
    "import numpy as np\n",
    "import matplotlib.pyplot as plt\n",
    "import seaborn as sns\n",
    "import pandas as pd\n",
    "rng = rng = np.random.default_rng()"
   ]
  },
  {
   "cell_type": "markdown",
   "metadata": {},
   "source": [
    "================================================================="
   ]
  },
  {
   "cell_type": "markdown",
   "metadata": {},
   "source": [
    "### 3.2.1. The Normal Distribution Function - numpy.random.Generator.normal"
   ]
  },
  {
   "cell_type": "markdown",
   "metadata": {},
   "source": [
    "#### Formula\n",
    "\n",
    "##### <font color='blue'>np.random.default_rng().normal(mu, sigma, size{int or tuple)</font>    \n",
    "*where mu = mean, or \"centre\" and sigma = standard deviation*"
   ]
  },
  {
   "cell_type": "markdown",
   "metadata": {},
   "source": [
    "<img src=\"https://i2.wp.com/www.sharpsightlabs.com/wp-content/uploads/2018/12/numpy-random-normal-syntax-explanation.png?w=600&ssl=1\" alt=\"Drawing\" style=\"width: 400px;\"/>\n",
    "\n",
    "*Image from sharpsightlabs.com*       "
   ]
  },
  {
   "cell_type": "markdown",
   "metadata": {},
   "source": [
    "\n",
    "#### Significance\n",
    "\n",
    "Calling on numpy.random.normal will transform data into the Normal or Gaussian distribution. It is also known as the bell-curve, however, there are other distributions that resemble this shape, so Normal or Gaussian is preferred. The primary characteristic of the Normal Distribution is that the mean, the median and the mode are the same. The application of the Normal Distribution is not refined to Statitics, rather it has broad reaching consequences for the natural sciences, such as Electronic Spectroscopy (Salman, 2017). Furthermore, it has found application in the study of psychological and physical phenomena (e.g. IQ scores and heartbeat)."
   ]
  },
  {
   "cell_type": "markdown",
   "metadata": {},
   "source": [
    "A well-known application of the Normal Distribution is the Covid-19 healthcare capacity curve that was discussed broadly by governments around the world as a justification for imposing lockdown to reduce casualties of the virus. The model displays two Gaussian curves, one that has a high peak, representing high ICU demand and a model where demand is kept low by restrictive measures. The graph is presented below:\n",
    "\n",
    "\n",
    "![](https://i.stack.imgur.com/sCwiV.png)"
   ]
  },
  {
   "cell_type": "markdown",
   "metadata": {},
   "source": [
    "Reference: Salman R. Salman, 'Electronic Spectroscopy, Study of Chemical Reactions', in Encyclopedia of Spectroscopy and Spectrometry (Third Edition), 2017 - url: https://www.sciencedirect.com/topics/biochemistry-genetics-and-molecular-biology/gaussian-distribution"
   ]
  },
  {
   "cell_type": "markdown",
   "metadata": {},
   "source": [
    "#### Basic Use in Numpy.random\n",
    "The parameter 'loc' requires a float reflecting the Mean vector of the sample data. 'Scale' requires the standard deviation as a float. 'Size' can be an integer or a tuple of ints, a single integer will reflect the size of the data, whilst a tuple such as (m, n, k) will draw samples in the form *m * n * k*. \n",
    "\n",
    "An example of the basic use of the Normal Distribution function is seen below:"
   ]
  },
  {
   "cell_type": "code",
   "execution_count": 94,
   "metadata": {},
   "outputs": [
    {
     "data": {
      "text/plain": [
       "array([25.4451177 , 16.48506275, 25.62535305, 18.47235145, 25.84159227,\n",
       "       21.24369663, 26.59785184, 25.63938188, 23.638334  , 20.01056504])"
      ]
     },
     "execution_count": 94,
     "metadata": {},
     "output_type": "execute_result"
    }
   ],
   "source": [
    "rng = np.random.default_rng()\n",
    "# Set the mean and standard deviation values:\n",
    "mu, sigma = 20, 6\n",
    "normal_1 = np.random.normal(mu, sigma, 10)\n",
    "\n",
    "normal_1"
   ]
  },
  {
   "cell_type": "markdown",
   "metadata": {},
   "source": [
    "We gather a greater idea of how the random.normal() function works if we graph a sample of normally distributed random data on a histogram. By plotting this histogram against the histogram of uniformly distributed data created using the linspace() function, we can gain an understanding of the shape of the 'Bell-Curve' and more importantly, how numpy.random recreates this naturally occurring phenomena with random data. The graph below utilises Seaborn to illustrate this:"
   ]
  },
  {
   "cell_type": "code",
   "execution_count": 95,
   "metadata": {},
   "outputs": [
    {
     "data": {
      "image/png": "[encoded data removed]",
      "text/plain": [
       "<Figure size 432x288 with 1 Axes>"
      ]
     },
     "metadata": {
      "needs_background": "light"
     },
     "output_type": "display_data"
    }
   ],
   "source": [
    "import seaborn as sns\n",
    "\n",
    "b = np.linspace(5, 10, 1000)\n",
    "c = np.random.normal(b)\n",
    "sns.distplot(c)\n",
    "sns.distplot(b)\n",
    "plt.show()"
   ]
  },
  {
   "cell_type": "markdown",
   "metadata": {},
   "source": [
    "#### Visualising the Normal Distribution\n",
    "A company that produces exercise bikes wish to examine the life-time of the internal parts of the bike in hours. The deartment that has marketed the bike has pledged to customers that the bike will last up to 4500 hours of use, as such it is important for the manufacturers to understand how many of the parts will fail after 4500 hours of use. After carrying out analysis, they have determined that the mean number of hours that the parts will remain functional at is 3500 hours and the standard deviation is determined to be 500 hours. As stated above, only the mean and standard deviation must be known to create a useful probability density function and a histogram of this data.\n",
    "\n",
    "Using Numpy's Random package, we can create a 1-dimensinal array of random normal data reflecting instances made during the inspection of the exercise bike parts.\n",
    "\n",
    "In the below example, loc is set to 3500, scale is set to 500 and size is set to 1000 (the minimum number of bike parts that must be examined to determine their lifespan)."
   ]
  },
  {
   "cell_type": "code",
   "execution_count": 96,
   "metadata": {},
   "outputs": [
    {
     "data": {
      "image/png": "[encoded data removed]",
      "text/plain": [
       "<Figure size 432x288 with 1 Axes>"
      ]
     },
     "metadata": {
      "needs_background": "light"
     },
     "output_type": "display_data"
    }
   ],
   "source": [
    "\n",
    "mu, sigma = 3500, 500 # mean and standard deviation\n",
    "# Create variable and assign normal function with mean,\n",
    "# standard deviation and size as inputs\n",
    "rng = np.random.default_rng().normal(mu, sigma, 1000)\n",
    "# Create distplt using Seaborn and format\n",
    "sns.distplot(rng, axlabel=\"Use of Bike Parts (hrs)\")\n",
    "plt.title(\"Operational Life of Exercise Bike Parts\")\n",
    "plt.show()"
   ]
  },
  {
   "cell_type": "markdown",
   "metadata": {},
   "source": [
    "*From the above graph, it can be seen that less than 5% of 1000 bike parts examined survived after 4500 hours of use. From these 1000 pseudo-randomly generated numbers, the bike produces can present information to the marketing department, advising them to lower the guaranteed bike lifespan presented to customers.*"
   ]
  },
  {
   "cell_type": "markdown",
   "metadata": {},
   "source": [
    "================================================================================================"
   ]
  },
  {
   "cell_type": "markdown",
   "metadata": {},
   "source": [
    "### 3.2.2. The Uniform Distribution - numpy.random.Generator.uniform"
   ]
  },
  {
   "cell_type": "markdown",
   "metadata": {},
   "source": [
    "#### Parameters and Formula\n",
    "\n",
    "##### <font color='blue'>np.random.default_rng().uniform(low, high, size{int or tuple)</font>\n",
    "*where low is for the lower boundary of the output and high is for the higher boundary.*"
   ]
  },
  {
   "cell_type": "markdown",
   "metadata": {},
   "source": [
    "#### Significance\n",
    "\n",
    "The origin of the Continuous Uniform Distribution are difficult to pinpoint. It may be more worthwhile to investigate the origin of the concept of Equiprobability. Equiprobability is where the collection of a series of events all possess equil, or uniform, probability of occurring. This developed both from the philosophical concept of Equipossibility, but also from the more grounded Equiprobability application of rolling dice. It is intuitive that it is equally ikely for a rolling die to land on any one of its six faces. This sort of uniformity is particularly useful in computer programming, where creating uniform probability is highly desirable. It is from this aspect of Equiprobability that Numpy utilises the random.uniform distribution.\n",
    "\n",
    "The Uniform Distribution, in contrast to the Normal Distribution, does not have much expression in the natral world. As previusly stated, the uniform distribution is present in the rolling of dice, it is also seen in a deck of cards, where each card is equally likely to occur. Unsurprisingly, it is in the generation of pseudo-random numbers, throgh alogrithms, such as Numpy, that the Uniform Distribution is applied with most benefit. Numpy's Simple Random Data functions all create data that is uniformly distributed. "
   ]
  },
  {
   "cell_type": "markdown",
   "metadata": {},
   "source": [
    "#### Basic Command Specifics"
   ]
  },
  {
   "cell_type": "code",
   "execution_count": 97,
   "metadata": {},
   "outputs": [
    {
     "data": {
      "image/png": "[encoded data removed]",
      "text/plain": [
       "<Figure size 432x288 with 1 Axes>"
      ]
     },
     "metadata": {
      "needs_background": "light"
     },
     "output_type": "display_data"
    }
   ],
   "source": [
    "import numpy as np\n",
    "import matplotlib.pyplot as plt\n",
    "import seaborn as sns\n",
    "rng = np.random.default_rng()\n",
    "uni1 = rng.uniform(10, 30, (20, 100))\n",
    "uni2 = rng.uniform(40, 70, (20, 1000))\n",
    "uni3 = rng.uniform(80, 110, (20, 500000))\n",
    "sns.distplot(uni1, label=\"uni1\")\n",
    "sns.distplot(uni2, label=\"uni2\")\n",
    "sns.distplot(uni3, label=\"uni3\")\n",
    "plt.legend()\n",
    "plt.show()\n"
   ]
  },
  {
   "cell_type": "markdown",
   "metadata": {},
   "source": [
    "In the above example it is clear from the distplot created for uni3 that the distribution of data is completely uniform. 50000 random numbers is seemingly more than enough to present a plot of uniform appearance. As there are less random vectors created for 'uni1' and 'uni2', the uniformity is not obvious. This is because the uniform function is creating random numbers in the given range and with a lower range of data point, the randomness will present the distribution as seemingly non-uniform. "
   ]
  },
  {
   "cell_type": "markdown",
   "metadata": {},
   "source": []
  },
  {
   "cell_type": "markdown",
   "metadata": {},
   "source": [
    "=================================================================="
   ]
  },
  {
   "cell_type": "markdown",
   "metadata": {},
   "source": [
    "### 3.2.3. The Rayleigh Distribution Function - numpy.random.Generator.rayleigh"
   ]
  },
  {
   "cell_type": "markdown",
   "metadata": {},
   "source": [
    "#### Formula\n",
    "\n",
    "##### <font color='blue'>np.random.default_rng().rayleigh(scale, size(int or tuple of ints))</font>\n",
    "*where scale must be non-negative (defaulted to 1) and size determines shape (defaulted to a single value)\n"
   ]
  },
  {
   "cell_type": "markdown",
   "metadata": {},
   "source": [
    "#### Significance\n",
    "\n",
    "This distribution was first conceptualised by John Raleigh in 1887. Since then it has become widely used in various realms of science. It is used in commnications to model the pathways of signals to reveivers. It has also found widespread use in the modelling of wind speed and in the measure of light radiation. However, this project will look at Raleigh's original use of the model in terms of wave height and how this can be modelled with Numpy.\n"
   ]
  },
  {
   "cell_type": "markdown",
   "metadata": {},
   "source": [
    "#### Application"
   ]
  },
  {
   "cell_type": "markdown",
   "metadata": {},
   "source": [
    "Raleigh showed that the distribution could be used to reflect the amplitude of wave heights. The distribution of random wave heights could be descirbed with any of the following formulas:"
   ]
  },
  {
   "cell_type": "code",
   "execution_count": 98,
   "metadata": {},
   "outputs": [
    {
     "data": {
      "image/png": "[encoded data removed]",
      "text/plain": [
       "<IPython.core.display.Image object>"
      ]
     },
     "execution_count": 98,
     "metadata": {},
     "output_type": "execute_result"
    }
   ],
   "source": [
    "from IPython.display import Image\n",
    "Image(r'C:\\Users\\HP\\Programming 52465\\52465-Assignment\\.ipynb_checkpoints\\waveheights.png')"
   ]
  },
  {
   "cell_type": "markdown",
   "metadata": {},
   "source": [
    "The random values of H in the above formula can be discovered once one of the following measurements is known:\n",
    "\n",
    "* Hmode = modal or most common wave height\n",
    "* Hmean = mean or average wave height\n",
    "* HRMS = root-mean-square wave height.\n",
    "\n",
    "An even better way to visualise the elements of this equation is found in the image below, where the variables are graphed over the profile of wave:   \n",
    "\n",
    "<img src=\"https://images.slideplayer.com/19/5892025/slides/slide_11.jpg\" alt=\"Drawing\" style=\"width: 600px;\"/>"
   ]
  },
  {
   "cell_type": "code",
   "execution_count": 99,
   "metadata": {},
   "outputs": [
    {
     "data": {
      "image/png": "[encoded data removed]",
      "text/plain": [
       "<Figure size 432x288 with 1 Axes>"
      ]
     },
     "metadata": {
      "needs_background": "light"
     },
     "output_type": "display_data"
    }
   ],
   "source": [
    "# Rayleigh Function\n",
    "\n",
    "rng = rng = np.random.default_rng()\n",
    "sns.distplot(rng.rayleigh(size=1000), hist=True)\n",
    "plt.show()"
   ]
  },
  {
   "cell_type": "markdown",
   "metadata": {},
   "source": [
    "##### Reference: https://encyclopediaofmath.org/wiki/Rayleigh_distribution#:~:text=A%20Rayleigh%20distribution%20is%20mainly,the%20addition%20of%20harmonic%20oscillations."
   ]
  },
  {
   "cell_type": "markdown",
   "metadata": {},
   "source": [
    "=================================================================="
   ]
  },
  {
   "cell_type": "markdown",
   "metadata": {},
   "source": [
    "### 3.2.4. The Triangular Distribution Function - numpy.random.Generator.triangular"
   ]
  },
  {
   "cell_type": "markdown",
   "metadata": {},
   "source": [
    "#### Formula\n",
    "\n",
    "##### <font color='blue'>np.random.default_rng().triangular(lower-limit, mode, upper-limit, size{int or tuple)</font>\n",
    "*where left <= mode <= right and mode = the peak of the distribution.*"
   ]
  },
  {
   "cell_type": "markdown",
   "metadata": {},
   "source": [
    "http://www.math.wm.edu/~leemis/chart/UDR/PDFs/Standardtriangular.pdf"
   ]
  },
  {
   "cell_type": "markdown",
   "metadata": {},
   "source": [
    "#### History and Significance\n",
    "\n",
    "The development of the Trinagular Distribution dates back to the 18th Century mathematician Thomas Simpson. According to Seal (1949), Simpson envisioned a distribution that could mathematically represent the method practiced by astronomers, of taking the mean of a number of observations and using this to reduce the defections arising from human error and instrumentational limits. Kotz (2004) explains that Simpson stated that the triangular distribution should be employed to limit errors in obersations to within ± 1 and that this was the first time a continuous (or symmetric) probability law was introduced. This situates the triangular distribution amongst the first continuous distributions of the 18th Century.\n",
    "\n",
    "Today, the Triangular Distribution finds application primariy for populations of data that is scarce and is used in a subjective manner, rather than as a rigid and well-defined tool of analysis. It is understandable, therefore, that it has its roots in the attempt by Simpson to mitigate the errors made in observations made when data was significantly more difficult to collect. The distribution is commonly used in audio dithering, or in project management, where it is used to used to model events within an interval determined by the minimum and maximum value.\n",
    "\n",
    "\n",
    "##### Reference: Seal, H. L. 1949. The historical development of the use of generating functions in probability theory. Bulletin de I’ Association des Actuaires suisses 49, 209-228. (Reprinted in Kendall & Packett 1977.) \n",
    "\n",
    "##### Reference: By (author): Samuel Kotz, Beyond Beta, December 2004 (The George Washington University, USA) and Johan René van Dorp (The George Washington University, USA) - https://pdfs.semanticscholar.org/0a47/b8938024fc12bbb20de241c63a786f332455.pdf"
   ]
  },
  {
   "cell_type": "markdown",
   "metadata": {},
   "source": [
    "#### Example of triangular distribution use:\n",
    "Mathmatician Lawrence Leemis, whilst working for Nasa in the 1980's, was asked to estimate the time that would be required to do some maintenance work on a thruster for the yet unbuilt International Space Station. Leemis consulted with an senior engineer within Nasa, who had experience on projects where similar maintenance work was carried out on satellites in low-Earth orbit. From this consultation, Leemis came up with a minimum, a mode and a maximum amount of time taken to perform the maintenance work. The figures were 4 hours, 6 hours and 12 hours respectively. As such, Leemis' data presented itself in a triangular distribution. \n",
    "\n",
    "Triangular distribution requires very little input data to carry out a simulation, just the three inputs that Leemis used in the above example will suffice. \n",
    "\n",
    "Utilising Leemis' investigation as an example, we can generate random figures using the numpy.random.triangular() function.\n",
    "We will also be required to input the amount of observations we wish to randomly generate. In order to create a useful graph, we will use a figure that is much higher than is likey to have been carried out in low-Earth orbit maintenance work. By using an input of 10000, we are presented with a probability density function in a triangular formation.\n",
    "\n",
    "The probability is represented on the y-axis and the time taken is represented on the x-axis.\n",
    "\n",
    "In the below code, 10000 pseudo-random vectors have been created, each representing a hypothethical Nasa maintenance mission. The peak of the ditribution is at 6 hours, with a slope in either direction to the minimum and maximum time limits. \n",
    "\n",
    "If the maximum abount of time an astronaut could spend on a maintenance mission was 10 hours, utilising the randomly generated data and graph below, it could be determined that there is roughly a 12.5% probability of exceeding this limit. \n",
    "\n",
    "##### Reference: Leemis, Lawrence, 'Reliability: Probabilistic Models and Statistical Methods', First Edition, 1995, Prentice-Hall. ISBN: 0-13-720517-1 - http://www.math.wm.edu/~leemis/"
   ]
  },
  {
   "cell_type": "markdown",
   "metadata": {},
   "source": [
    "#### Visualising Numpy's Tiangular Distribution Function\n",
    "\n",
    "Below is histogram that simulates Leemis' research on maintenance on thrusters:"
   ]
  },
  {
   "cell_type": "code",
   "execution_count": 100,
   "metadata": {},
   "outputs": [
    {
     "data": {
      "image/png": "[encoded data removed]",
      "text/plain": [
       "<Figure size 432x288 with 1 Axes>"
      ]
     },
     "metadata": {
      "needs_background": "light"
     },
     "output_type": "display_data"
    }
   ],
   "source": [
    "# Set constructor function as 'rng'\n",
    "rng = np.random.default_rng()\n",
    "# Generate a random sample using triangular function and inputs\n",
    "# for low, mode, high and number of datapoints.\n",
    "tri1 = rng.triangular(4, 6, 12, 10000)\n",
    "# Plot a distplot with Seaborn\n",
    "sns.distplot(tri1, axlabel=\"Maintenance Time(hrs)\")\n",
    "plt.title(\"Triangular Distribution: Time for Thruster Repair\")\n",
    "plt.show()"
   ]
  },
  {
   "cell_type": "markdown",
   "metadata": {},
   "source": [
    "##### Reference: https://uk.mathworks.com/help/stats/triangular-distribution.html"
   ]
  },
  {
   "cell_type": "markdown",
   "metadata": {},
   "source": [
    "============================================================================================================="
   ]
  },
  {
   "cell_type": "markdown",
   "metadata": {},
   "source": [
    "### 3.2.5. The Wald Distribution Function - numpy.random.Generator.uniform"
   ]
  },
  {
   "cell_type": "markdown",
   "metadata": {},
   "source": [
    "#### Forumula\n",
    "\n",
    "##### <font color='blue'>np.random.default_rng().wald(mean, scale, size(int or tuple of ints)</font>\n",
    "*where the mean must be >0, scale must be >0 and size determines shape (defaulted to 0)*"
   ]
  },
  {
   "cell_type": "markdown",
   "metadata": {},
   "source": [
    "#### Significance\n",
    "\n",
    "The Wald Distribution is more often known as the Inverse Gaussian Distribution or Inverse Normal. The Wald has a similar shape to the Weibull Distribution but is easier to predict since the former takes 2 parameters, but the latter takes three. The Inverse Gaussian distribution has its origins in Shrödinger's study of Brownian motion. However, it also hold applications in modellng stock returns and interest rate process and in electrical engineering (Sato and Inoue, 1994)."
   ]
  },
  {
   "cell_type": "markdown",
   "metadata": {},
   "source": [
    "##### references: https://www.statisticshowto.com/inverse-gaussian/\n",
    "Shunsuke Sato  Junko Inoue, Inverse gaussian distribution and its application, Electronics and Communications in Japan (Part III: Fundamental Electronic Science), 1994, url: https://onlinelibrary.wiley.com/doi/abs/10.1002/ecjc.4430770104\n"
   ]
  },
  {
   "cell_type": "markdown",
   "metadata": {},
   "source": [
    "#### Visualising the Inverse Gaussian Distribution\n",
    "\n",
    "Numpy's Wald function wil simulate random data in a right-skewed distribution bounded at 0. In the image below, 3 variations of the Inverse Gaussian distribution are seen. \n",
    "* The blue line is where mean and scale are both input as 1.\n",
    "* The red line distributes data at mean 1 and scale 10, resulting in a higher peak.\n",
    "* The black line has mean at 2 and scale at 4, resulting in the distribution being spaced out along the x-axis.  "
   ]
  },
  {
   "cell_type": "markdown",
   "metadata": {},
   "source": [
    "![](https://www.vosesoftware.com/riskwiki/images/image2c33.gif)"
   ]
  },
  {
   "cell_type": "markdown",
   "metadata": {},
   "source": [
    "# ↓ DO PLOT"
   ]
  },
  {
   "cell_type": "markdown",
   "metadata": {},
   "source": [
    "##### Reference: https://www.vosesoftware.com/riskwiki/InverseGaussiandistribution.php"
   ]
  },
  {
   "cell_type": "markdown",
   "metadata": {},
   "source": [
    "#### Basic Use With Numpy"
   ]
  },
  {
   "cell_type": "markdown",
   "metadata": {},
   "source": [
    "https://www.tandfonline.com/doi/full/10.1080/02664763.2018.1542668\n"
   ]
  },
  {
   "cell_type": "markdown",
   "metadata": {},
   "source": [
    "===================================================================="
   ]
  },
  {
   "cell_type": "markdown",
   "metadata": {},
   "source": [
    "## Q.4. Explain the use of seeds in generating pseudorandom numbers."
   ]
  },
  {
   "cell_type": "markdown",
   "metadata": {},
   "source": [
    "### 4.1. The Function of the Seed in Generating 'Random' Numbers\n",
    "\n",
    "The Seed in Numpy's Random package is the entity at the heart of the pseudo-random number generation process. In reality, it is simply a single value. The Seed is the 'BitGenerator' and the Seed value is the reference point that determines which numbers are selected to be provided to the 'Generator'. Numpy uses this reference point to select random numbers from. The Seed provides an 'instant', that is to say an internal state, that is very difficult to determine without knowing the Seed value. The user can, however, determine the seed value and in doing so remove the veil of mystery surrounding numpy.random.\n",
    "\n",
    "In order to understand the basic function of the Seed it might be a good time to utilise a cheesy metaphore drawn from pop-culture!\n",
    "\n",
    "Think of the Seed as the Seed as...\n",
    "\n",
    "![](https://www.nsxprime.com/photopost/data/1032/THE_MATRIX_RELOADED-0.jpg)"
   ]
  },
  {
   "cell_type": "markdown",
   "metadata": {},
   "source": [
    "##### ... The Keymaker from the Matrix series...\n",
    "\n",
    "It might seem cliché to make a reference to the Matrix series when describing an aspect of Data Science (and not even the best of the series), but the comparison may be useful in translating the operations of the Seed into a digestible form.\n",
    "\n",
    "In the film, the Keymaker is a computer program, within the simulation known as the Matrix, which has been created by an alien population that have taken over the Earth and have sedated humans by plugging them into the Matrix. Neo is a human that has been unplugged frm the Marix. He has been selected by 'virus' programs within the Matrix that wish to destroy it. As he has been deemed 'The One', the Keymaker program is designated to take Neo to the Source, which is believed to be the CPU of the Matrix. The Keymaker posseses keys that take Neo away from danger within the Matrix. Each key has been made by hand by the Keymaker and is used in just 1 lock, in scenarios that he, and only he, is aware of before they have happened. The Keymaker takes Neo through a door and is killed before he himself can enter. Having gone through the door, Neo does not find himself at the source but must escape further dangers and return to receive counsel from 'The Oracle'. The Oracle is another retrogade program that wishes to destroy the Matrix. She provides Neo with the location of the Source (sort of).  \n",
    "\n",
    "The Keymaker is a character of importance in the film, as he and only he posseses unique keys for doors that the characters must travel through. By finding the Keymaker, one can use his keys and in some sense cheat the Matix. The Seed in a similar sense is a glimpse of the internal state of the computer. Like obtaining one of the Keymaker's keys, users can set the Seed value and therefore, control what random numbers are generated. The PRNG system, PCG-64, is similar to the Keymaker as the system takes the Seed value and uses it as a reference point to create a random number from. The Generator, a program with a different purpose, takes the stream of bits and transates it into a random distribution for use by the user. Similarly, the Oracle is a program with a different purpose to the Keyholder that Neo must use after the Keymaker's death. This chain eventually leads to the Source, in the case of our metaphor and in reality for Numpy, the production of a random number. \n",
    "\n",
    "\n"
   ]
  },
  {
   "cell_type": "markdown",
   "metadata": {},
   "source": [
    "Neo   > The Keymaker >  The Oracle      >| The Source     > Destruction of the Matrix\n",
    "\n",
    "Human >    Program   > High-level program  >|    CPU         >     Server\n",
    "\n",
    "Bits  >     Seed     >       PCG-64        >| Generator      >  Random Number "
   ]
  },
  {
   "cell_type": "markdown",
   "metadata": {},
   "source": [
    "|    -  |   -  |    The Matrix  |    -  |    - |\n",
    "|:---: | :---: | :---: | :---: | :---: | \n",
    "|    Key  →| The Keymaker(Program)  →|  The Oracle(High-level program)  →|The Source(CPU)  |\n",
    "|     ↕     |            ↕    |       ↕       |                  |\n",
    "|Seed/Seed Value  →     |        PCG-64  →          |       Generator  →          |    A Random Number is produced   | \n",
    "\n",
    "\n"
   ]
  },
  {
   "cell_type": "code",
   "execution_count": null,
   "metadata": {},
   "outputs": [],
   "source": []
  },
  {
   "cell_type": "markdown",
   "metadata": {},
   "source": [
    "|    -  |   -  |    -  |    -  |    - |\n",
    "|:---: | :---: | :---: | :---: | :---: | \n",
    "|    Human  |   Program  | High-level program  | The CPU  |\n",
    "|Neo  →|The Keymaker  →|The Oracle  →|The Source  →|Destruction of the Matrix |\n",
    "|     ↕     |     ↕    |       ↕     |        ↕      |                  |\n",
    "|  Bits  →     |         Seed  →        |       PCG-64  →             | Generator  →     | A Random Number is produced |"
   ]
  },
  {
   "cell_type": "markdown",
   "metadata": {},
   "source": [
    "<img src=\"https://cdn.shortpixel.ai/spai/w_995+q_lossy+ret_img+to_webp/https://www.sharpsightlabs.com/wp-content/uploads/2019/05/numpy-random-seed_syntax.png\" alt=\"Drawing\" style=\"width: 400px;\"/>"
   ]
  },
  {
   "cell_type": "markdown",
   "metadata": {},
   "source": [
    "### 4.2. The Generator and the BitGenerator"
   ]
  },
  {
   "cell_type": "markdown",
   "metadata": {},
   "source": [
    "#### What are they?\n",
    "\n",
    "With Numpy's Version 1.17 release, the package has been divided into two sections: the Generator and the BitGenerator. In order to understand how the seed operates within Numpy, it is first necessary to understand what these functional algorithms do. \n",
    "\n",
    "The Generator is the 'user-facing' umbrella of methods for drawing random numbers from a variety of distributions. Therefore, it emcompasses the Simple Random Data, Permuation and Distribution functions. Before Version 1.17, Numpy utilised a Generator known as RandomState. The Generator interface contained a more complicated Simple Random Data (SRD) section, that contained numerous functions to produce random integers and floating point numbers. The SRD functions of the new Generator has been refined down to 1 function for generating integers, 1 for floats, 1 for random samples and 1 for random bytes. \n",
    "\n",
    "The Bit Generator uses an efficient algorithm to produce a 'stream' of random bits to the Generator, which in turn will be given random shape in a distribution. The BitGenerator, therefore, is responsible for 'instantiating' the Generator, which means it provides bits of data, that are randomised the moment it is called. Since Version 1.17 this process occurs when the user commands the Generator via the numpy.random.default_rng. The default_rng function is a 'constructor' that call on the BitGenerator to instantiate the Generator.\n",
    "\n",
    "The complicated workings of the BitGenerator make it difficult for the user to comprehend in how it operates and its relationship to the interface of Numpy. By investigating the particular Pseudo-Random Number Generator (PRNG) that Numpy has adopted in its latest releases, the PCG-64 (Permutation Congruential Generator, 64-bit), we can understand more about the BitGenerators role in numpy.random.\n",
    "\n",
    "#### PCG-64 \n",
    "\n",
    "PCG-64 is a family of PRNG's that seeks to address a perceived shortcoming of previous algorithms, that are guilty of falling into one pit fall or another when it comes to random number generation. Some PRNG's use encryption to keep the internal state of the generator secret, but these programs use a lot of space and are slow in operation. Other PRNG's are fast but do not offer any methods to conceal the internal state. One the creators of PCG-64 has explained that this new PRNG is designed to to pass the output of a fast well-understood “medium quality” random number generator to an efficient permutation function (O'Neill, 2014). The random number generator used in the first stage of this process is known as a Linear Congruential Generator (LCG). Therefore, the stream of random bits produced by the LCG is further 'randomised' by a special function, before it is passed to the Generator. "
   ]
  },
  {
   "cell_type": "markdown",
   "metadata": {},
   "source": [
    "### 4.3. The SeedSequence\n",
    "\n",
    "#### Introducing the New Seeding Method\n",
    "\n",
    "To further complicate what has been discussed in the previous section, where it was stated that the PCG-64 *was* the BitGenerator, it is more correct to say that PCG-64 is the PRNG method that uses the Seed itself as the BitGenerator. Looking at the paramters for the OCG-64 class in Numpy, we can see how the seed plays a central role in how the BitGenerator works:\n",
    "\n",
    "##### <font color='blue'>np.random.PCG64(seed=[None, int, array_like[ints], SeedSequence}, optional])</font>\n",
    "\n",
    "If the seed is set to 'None' a 'fresh' instantiate entropy will be pulled from the OS using the LCG. However, if one is to set the seed to an integer, or an array of integers, then it will be passed to the SeedSequence class. \n",
    "\n",
    "Leaving the term 'SeedSequence' aside for now, more understanding of the concept of 'the seed' itself is required. The legacy methods now discouraged by Numpy, employ a reseeding method for the BitGenerator. That is to say, if the user wishes to change the seed, they merely change the seed of the BitGenerator. Since Numpy 1.17, users are advised not to reseed, but rather to create a new BitGenerator with a new seed.\n",
    "\n",
    "Before anymore theoretical explanation takes place, it might be appropriate to first test how the seed works in a block or code."
   ]
  },
  {
   "cell_type": "markdown",
   "metadata": {},
   "source": [
    "#### Basic Use of the Seed"
   ]
  },
  {
   "cell_type": "code",
   "execution_count": null,
   "metadata": {},
   "outputs": [],
   "source": []
  },
  {
   "cell_type": "code",
   "execution_count": 6,
   "metadata": {},
   "outputs": [
    {
     "data": {
      "text/plain": [
       "3"
      ]
     },
     "execution_count": 6,
     "metadata": {},
     "output_type": "execute_result"
    }
   ],
   "source": [
    "from numpy.random import default_rng\n",
    "rng = default_rng()\n",
    "vals = rng.integers(10)\n",
    "more_vals = rng.integers(10)\n",
    "vals\n"
   ]
  },
  {
   "cell_type": "code",
   "execution_count": null,
   "metadata": {},
   "outputs": [],
   "source": []
  },
  {
   "cell_type": "code",
   "execution_count": null,
   "metadata": {},
   "outputs": [],
   "source": []
  }
 ],
 "metadata": {
  "kernelspec": {
   "display_name": "Python 3",
   "language": "python",
   "name": "python3"
  },
  "language_info": {
   "codemirror_mode": {
    "name": "ipython",
    "version": 3
   },
   "file_extension": ".py",
   "mimetype": "text/x-python",
   "name": "python",
   "nbconvert_exporter": "python",
   "pygments_lexer": "ipython3",
   "version": "3.8.3"
  }
 },
 "nbformat": 4,
 "nbformat_minor": 4
}
