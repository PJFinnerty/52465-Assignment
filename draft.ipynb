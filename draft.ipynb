{
 "cells": [
  {
   "cell_type": "markdown",
   "metadata": {},
   "source": []
  },
  {
   "cell_type": "markdown",
   "metadata": {},
   "source": [
    "# 52465-Assignment\n",
    "\n",
    "## Peter Finnerty - Programming for Data Analysis - Practical Assignment\n",
    "\n",
    "#### Due Date: 22 November 2020\n",
    "\n",
    "## Problem Statement\n",
    "\n",
    "The following assignment concerns the numpy.random package in Python [2]. You are\n",
    "required to create a Jupyter [5] notebook explaining the use of the package, including\n",
    "detailed explanations of at least five of the distributions provided for in the package.\n",
    "There are four distinct tasks to be carried out in your Jupyter notebook.\n",
    "1. Explain the overall purpose of the package.\n",
    "2. Explain the use of the “Simple random data” and “Permutations” functions.\n",
    "3. Explain the use and purpose of at least five “Distributions” functions.\n",
    "4. Explain the use of seeds in generating pseudorandom numbers\n",
    "\n",
    "### Aim of the Project from the Students Perspective\n",
    "\n",
    "### Files\n",
    "\n",
    "1. Practical Assignment.ipynb\n",
    "2. LICENSE\n",
    "3. ProgDA_Assignmen\n",
    "4. README.md\n",
    "\n",
    "\n",
    "### References\n",
    "\n",
    "#### Scholarly Articles\n",
    "\n",
    "reference: \n",
    "\n",
    "Leemis, Lawrence, 'Reliability: Probabilistic Models and Statistical Methods', First Edition, 1995, Prentice-Hall. ISBN: 0-13-720517-1 - http://www.math.wm.edu/~leemis/\n",
    "\n",
    "Punzo, Antonio, 'A new look at the inverse Gaussian distribution with applications to insurance and economic data', October 2018, *Taylor and Francis*, url: https://www.tandfonline.com/doi/full/10.1080/02664763.2018.1542668\n",
    "\n",
    "Salman R. Salman, 'Electronic Spectroscopy, Study of Chemical Reactions', in Encyclopedia of Spectroscopy and Spectrometry (Third Edition), 2017 - url: https://www.sciencedirect.com/topics/biochemistry-genetics-and-molecular-biology/gaussian-distribution\n",
    "\n",
    "Samuel Kotz, Beyond Beta, December 2004 (The George Washington University, USA) and Johan René van Dorp (The George Washington University, USA) - https://pdfs.semanticscholar.org/0a47/b8938024fc12bbb20de241c63a786f332455.pdf\n",
    "\n",
    "Sato, Shunsuke and Inoue, Junko, 'Inverse gaussian distribution and its application, Electronics and Communications in Japan', *Fundamental Electronic Science*, 1994, url: https://onlinelibrary.wiley.com/doi/abs/10.1002/ecjc.4430770104\n",
    "\n",
    "Seal, H. L. 1949. The historical development of the use of generating functions in probability theory. Bulletin de I’ Association des Actuaires suisses 49, 209-228. (Reprinted in Kendall & Packett 1977.)  \n",
    "\n",
    "#### Website References and Code Solutions\n",
    "\n",
    "'How to Convert a NumPy Array to Pandas Dataframe: 3 Examples', url: https://www.marsja.se/how-to-convert-numpy-array-to-pandas-dataframe-examples/#:~:text=To%20convert%20an%20array%20to%20a%20dataframe%20with%20Python%20you,to%20be%20named%20with%20columns\n",
    "\n",
    "'NumPy arange(): How to Use np.arange()', *RealPython*, url: https://realpython.com/how-to-use-numpy-arange/\n",
    "\n",
    "Solution to show full dataframe in Jupyter, *Stackoverflow*, url: https://stackoverflow.com/questions/58298963/jupyter-not-showing-whole-output\n",
    "\n",
    "Solution for converting a list of strings into a dataframe, [used in Section 2.2. Choice Function], *Stackoverflow*, url: https://stackoverflow.com/questions/46269294/convert-a-list-of-strings-into-a-dataframe\n",
    "\n",
    "'Merge, join, concatenate and compare', [solution used in Section 2.2. Choice Function],  *Pandas*, url: https://pandas.pydata.org/pandas-docs/stable/user_guide/merging.html\n",
    "\n",
    "'Pandas: create a dataframe from 2D numpy arrays preserving their sequential order', [solution used in Section 2.2.1 Shuffle Function], *Stackoverflow*, url: https://stackoverflow.com/questions/41873198/pandas-create-a-dataframe-from-2d-numpy-arrays-preserving-their-sequential-orde\n",
    "\n",
    "'NUMPY RANDOM SEED EXPLAINED', *SharpSightLabs*, url: https://www.sharpsightlabs.com/blog/numpy-random-seed/\n",
    "\n",
    "'Pseudorandom Number', *Wolfram MathWorld*, url: https://www.sharpsightlabs.com/blog/numpy-random-seed/https://mathworld.wolfram.com/PseudorandomNumber.html\n",
    "\n",
    "'Python random.seed() function to initialize the pseudo-random number generator', *Pynative*, url: https://pynative.com/python-random-seed/\n",
    "\n",
    "'Rayleigh distribution', *Encyclopedia of Maths*, url: https://encyclopediaofmath.org/wiki/Rayleigh_distribution#:~:text=A%20Rayleigh%20distribution%20is%20mainly,the%20addition%20of%20harmonic%20oscillations\n",
    "\n",
    "'Standard triangular distribution', [formula], pdf: http://www.math.wm.edu/~leemis/chart/UDR/PDFs/Standardtriangular.pdf\n",
    "\n",
    "'Triangular Distribution', *Mathworks*, url: https://uk.mathworks.com/help/stats/triangular-distribution.html\n",
    "\n",
    "'Inverse Gaussian Distribution / Wald Distribution', *StatisticsHowTo*, url: https://www.statisticshowto.com/inverse-gaussian/\n",
    "\n",
    "#### Image Sources\n",
    "\n",
    "'Inverse Gaussian distribution', *VosesSoftware*, [Used in Section 3.2.5. Wald Distribution], url: https://www.vosesoftware.com/riskwiki/images/image2c33.gif\n",
    "\n",
    "'The Keymaker', [used in Section 4.1.], url: https://www.nsxprime.com/photopost/data/1032/THE_MATRIX_RELOADED-0.jpg\n",
    "\n",
    "'Integer Function Formula', *SharpSightLabs*, [Section 2.2.], url: https://vrzkj25a871bpq7t1ugcgmn9-wpengine.netdna-ssl.com/wp-content/uploads/2020/03/anp-random-randint_syntax-explanation_v4.png\n",
    "\n",
    "'Random Function Formula', [Section 2.2.], *SharpSightLabs*, url: https://cdn.shortpixel.ai/spai/w_995+q_lossy+ret_img+to_webp/https://www.sharpsightlabs.com/wp-content/uploads/2019/05/numpy-random-choice-syntax-explanation.png\n",
    "\n",
    "'Normal Distribution Function Formula', [Section 3.2.1.], *SharpSightLabs*, url: https://i2.wp.com/www.sharpsightlabs.com/wp-content/uploads/2018/12/numpy-random-normal-syntax-explanation.png?w=600&ssl=1\n",
    "\n",
    "Normal Distribution Graph - Healthcare Capacity for Covid 19, 'Flattening the Coronavirus Curve', *The New York Times*, March 2020, [Section 3.2.1.], url: https://static01.nyt.com/images/2020/03/22/science/11SCI-VIRUS-CURVE1/11SCI-VIRUS-TRACKER1-mobileMasterAt3x.jpg\n",
    "\n",
    "Rayleigh Distribution Formula/Wave Height Graph, [Section 3.2.3], url: https://images.slideplayer.com/19/5892025/slides/slide_11.jpg"
   ]
  },
  {
   "cell_type": "code",
   "execution_count": 12,
   "metadata": {},
   "outputs": [
    {
     "ename": "AttributeError",
     "evalue": "module 'numpy.random' has no attribute 'default_rnd'",
     "output_type": "error",
     "traceback": [
      "\u001b[1;31m---------------------------------------------------------------------------\u001b[0m",
      "\u001b[1;31mAttributeError\u001b[0m                            Traceback (most recent call last)",
      "\u001b[1;32m<ipython-input-12-03b584086f91>\u001b[0m in \u001b[0;36m<module>\u001b[1;34m\u001b[0m\n\u001b[0;32m      4\u001b[0m \u001b[1;32mimport\u001b[0m \u001b[0mpandas\u001b[0m \u001b[1;32mas\u001b[0m \u001b[0mpd\u001b[0m\u001b[1;33m\u001b[0m\u001b[1;33m\u001b[0m\u001b[0m\n\u001b[0;32m      5\u001b[0m \u001b[1;33m\u001b[0m\u001b[0m\n\u001b[1;32m----> 6\u001b[1;33m \u001b[0mrng\u001b[0m \u001b[1;33m=\u001b[0m \u001b[0mnp\u001b[0m\u001b[1;33m.\u001b[0m\u001b[0mrandom\u001b[0m\u001b[1;33m.\u001b[0m\u001b[0mdefault_rnd\u001b[0m\u001b[1;33m(\u001b[0m\u001b[1;33m)\u001b[0m\u001b[1;33m\u001b[0m\u001b[1;33m\u001b[0m\u001b[0m\n\u001b[0m",
      "\u001b[1;31mAttributeError\u001b[0m: module 'numpy.random' has no attribute 'default_rnd'"
     ]
    }
   ],
   "source": [
    "import numpy as np\n",
    "import matplotlib.pyplot as plt\n",
    "import seaborn as sns\n",
    "import pandas as pd\n",
    "\n",
    "rng = np.random.default_rnd()"
   ]
  },
  {
   "cell_type": "markdown",
   "metadata": {},
   "source": [
    "## Q2: Explain the use of the “Simple random data” and “Permutations” functions.\n",
    "\n",
    "The second section of the numpy.random package relates to the use of simple random data. This sections contains 4 functions that return random values of various types. The four functions are:\n",
    "1. integers\n",
    "2. random\n",
    "3. choice\n",
    "4. bytes\n",
    "\n",
    "## Simple Random Data\n",
    "\n",
    "### integers function explained - numpy.random.Generator.integers\n",
    "\n",
    "The integers function is designed to take an input of low and high integers and return a random value between these two values, with the high value input being exlcusive by default (i.e. can not be the return value). \n",
    "\n",
    "##### Parameters\n",
    "**low:** int or array-like of ints.\n",
    "Lowest (signed) integers to be drawn from the distribution (unless high=None, in which case this parameter is 0 and   this value is used for high).\n",
    "\n",
    "**high:** int or array-like of ints, optional.\n",
    "If provided, one above the largest (signed) integer to be drawn from the distribution (see above for behavior if high=None). If array-like, must contain integer values\n",
    "\n",
    "**size:** int or tuple of ints, optional.\n",
    "Output shape. If the given shape is, e.g., (m, n, k), then m * n * k samples are drawn. Default is None, in which case a single value is returned.\n",
    "\n",
    "**dtype:** dtype, optional.\n",
    "Desired dtype of the result. Byteorder must be native. The default value is np.int64.\n",
    "\n",
    "**endpoint**: bool, optional\n",
    "If true, sample from the interval [low, high] instead of the default [low, high) Defaults to False\n",
    "\n",
    "##### Returns\n",
    "**out:** int or ndarray of ints.\n",
    "Size-shaped array of random integers from the appropriate distribution, or a single such random int if size not provided."
   ]
  },
  {
   "cell_type": "code",
   "execution_count": 13,
   "metadata": {},
   "outputs": [],
   "source": [
    "rng = np.random.default_rng()"
   ]
  },
  {
   "cell_type": "code",
   "execution_count": 14,
   "metadata": {},
   "outputs": [
    {
     "data": {
      "text/plain": [
       "array([[2, 1, 1],\n",
       "       [2, 0, 1]], dtype=int64)"
      ]
     },
     "execution_count": 14,
     "metadata": {},
     "output_type": "execute_result"
    }
   ],
   "source": [
    "rng.integers(3, size=(2, 3))"
   ]
  },
  {
   "cell_type": "code",
   "execution_count": 15,
   "metadata": {},
   "outputs": [
    {
     "data": {
      "text/plain": [
       "array([0, 0, 0, 0, 0, 0, 0, 0, 0, 0], dtype=int64)"
      ]
     },
     "execution_count": 15,
     "metadata": {},
     "output_type": "execute_result"
    }
   ],
   "source": [
    "rng.integers(1, size=10)"
   ]
  },
  {
   "cell_type": "code",
   "execution_count": 16,
   "metadata": {},
   "outputs": [
    {
     "data": {
      "text/plain": [
       "array([[4, 4, 2, 3],\n",
       "       [4, 1, 4, 1]], dtype=int64)"
      ]
     },
     "execution_count": 16,
     "metadata": {},
     "output_type": "execute_result"
    }
   ],
   "source": [
    "# Generate a 2 x 4 array of ints between 0 and 4, inclusive:\n",
    "rng.integers(5, size=(2, 4))"
   ]
  },
  {
   "cell_type": "code",
   "execution_count": 17,
   "metadata": {},
   "outputs": [
    {
     "data": {
      "text/plain": [
       "array([2, 4, 9], dtype=int64)"
      ]
     },
     "execution_count": 17,
     "metadata": {},
     "output_type": "execute_result"
    }
   ],
   "source": [
    "# Generate a 1 x 3 array with 3 different upper bounds\n",
    "rng.integers(1, [3, 5, 10])"
   ]
  },
  {
   "cell_type": "code",
   "execution_count": 18,
   "metadata": {},
   "outputs": [
    {
     "data": {
      "text/plain": [
       "array([9, 8, 8], dtype=int64)"
      ]
     },
     "execution_count": 18,
     "metadata": {},
     "output_type": "execute_result"
    }
   ],
   "source": [
    "# Generate a 1 by 3 array with 3 different lower bounds\n",
    "rng.integers([1, 5, 7], 10)"
   ]
  },
  {
   "cell_type": "code",
   "execution_count": 19,
   "metadata": {},
   "outputs": [
    {
     "data": {
      "text/plain": [
       "array([[ 1,  8,  7,  8],\n",
       "       [13, 13, 18, 11]], dtype=uint8)"
      ]
     },
     "execution_count": 19,
     "metadata": {},
     "output_type": "execute_result"
    }
   ],
   "source": [
    "# Generate a 2 by 4 array using broadcasting with dtype of uint8\n",
    "rng.integers([1, 3, 5, 7], [[10], [20]], dtype=np.uint8)"
   ]
  },
  {
   "cell_type": "markdown",
   "metadata": {},
   "source": [
    "================================================================================================================="
   ]
  },
  {
   "cell_type": "markdown",
   "metadata": {},
   "source": [
    "### random function explained - numpy.random.Generator.random\n",
    "Generator.random(size=None, dtype=np.float64, out=None)\n",
    "Return random floats in the half-open interval [0.0, 1.0).\n",
    "\n",
    "Results are from the “continuous uniform” distribution over the stated interval. To sample Unif[a, b), b > a multiply the output of random by (b-a) and add a:"
   ]
  },
  {
   "cell_type": "markdown",
   "metadata": {},
   "source": [
    "##### Parameters\n",
    "**size:** int or tuple of ints, optional.\n",
    "Output shape. If the given shape is, e.g., (m, n, k), then m * n * k samples are drawn. Default is None, in which case a single value is returned.\n",
    "\n",
    "**dtype:** dtype, optional.\n",
    "Desired dtype of the result, only float64 and float32 are supported. Byteorder must be native. The default value is np.float64.\n",
    "\n",
    "**out:** ndarray, optional.\n",
    "Alternative output array in which to place the result. If size is not None, it must have the same shape as the provided size and must match the type of the output values.\n",
    "\n",
    "##### Returns\n",
    "**out:** float or ndarray of floats.\n",
    "Array of random floats of shape size (unless size=None, in which case a single float is returned)."
   ]
  },
  {
   "cell_type": "code",
   "execution_count": 20,
   "metadata": {},
   "outputs": [],
   "source": [
    "rng = np.random.default_rng()"
   ]
  },
  {
   "cell_type": "code",
   "execution_count": 21,
   "metadata": {},
   "outputs": [
    {
     "data": {
      "text/plain": [
       "0.34923874493552587"
      ]
     },
     "execution_count": 21,
     "metadata": {},
     "output_type": "execute_result"
    }
   ],
   "source": [
    "rng.random()"
   ]
  },
  {
   "cell_type": "code",
   "execution_count": 22,
   "metadata": {},
   "outputs": [
    {
     "data": {
      "text/plain": [
       "float"
      ]
     },
     "execution_count": 22,
     "metadata": {},
     "output_type": "execute_result"
    }
   ],
   "source": [
    "type(rng.random())"
   ]
  },
  {
   "cell_type": "code",
   "execution_count": 23,
   "metadata": {},
   "outputs": [
    {
     "data": {
      "text/plain": [
       "array([0.46516629, 0.15054015, 0.35693092, 0.4344828 , 0.34526634])"
      ]
     },
     "execution_count": 23,
     "metadata": {},
     "output_type": "execute_result"
    }
   ],
   "source": [
    "rng.random((5,))"
   ]
  },
  {
   "cell_type": "code",
   "execution_count": 24,
   "metadata": {},
   "outputs": [
    {
     "data": {
      "text/plain": [
       "array([[-4.82875226, -3.08097491],\n",
       "       [-2.25694073, -2.87679798],\n",
       "       [-2.10485306, -2.39980683]])"
      ]
     },
     "execution_count": 24,
     "metadata": {},
     "output_type": "execute_result"
    }
   ],
   "source": [
    "# Three-by-two array of random numbers from [-5, 0):\n",
    "5 * rng.random((3, 2)) - 5"
   ]
  },
  {
   "cell_type": "code",
   "execution_count": null,
   "metadata": {},
   "outputs": [],
   "source": []
  },
  {
   "cell_type": "markdown",
   "metadata": {},
   "source": [
    "====================================================================="
   ]
  },
  {
   "cell_type": "markdown",
   "metadata": {},
   "source": [
    "### choice function explained - numpy.random.Generator.choice\n",
    "method\n",
    "\n",
    "Generator.choice(a, size=None, replace=True, p=None, axis=0, shuffle=True)\n",
    "Generates a random sample from a given 1-D array"
   ]
  },
  {
   "cell_type": "markdown",
   "metadata": {},
   "source": [
    "##### Parameters\n",
    "**a:** {array_like, int}.\n",
    "If an ndarray, a random sample is generated from its elements. If an int, the random sample is generated from np.arange(a).\n",
    "\n",
    "**size:** {int, tuple[int]}, optional.\n",
    "Output shape. If the given shape is, e.g., (m, n, k), then m * n * k samples are drawn from the 1-d a. If a has more than one dimension, the size shape will be inserted into the axis dimension, so the output ndim will be a.ndim - 1 + len(size). Default is None, in which case a single value is returned.\n",
    "\n",
    "**replace:** bool, optional.\n",
    "Whether the sample is with or without replacement\n",
    "\n",
    "**p:** 1-D array_like, optional.\n",
    "The probabilities associated with each entry in a. If not given the sample assumes a uniform distribution over all entries in a.\n",
    "\n",
    "**axis:** int, optional.\n",
    "The axis along which the selection is performed. The default, 0, selects by row.\n",
    "\n",
    "**shuffle:** bool, optional.\n",
    "Whether the sample is shuffled when sampling without replacement. Default is True, False provides a speedup.\n",
    "\n",
    "##### Returns\n",
    "samplessingle item or ndarray\n",
    "The generated random samples\n",
    "\n",
    "##### Raises\n",
    "ValueError\n",
    "If a is an int and less than zero, if p is not 1-dimensional, if a is array-like with a size 0, if p is not a vector of probabilities, if a and p have different lengths, or if replace=False and the sample size is greater than the population size.\n",
    "\n"
   ]
  },
  {
   "cell_type": "code",
   "execution_count": 25,
   "metadata": {},
   "outputs": [],
   "source": [
    "rng = np.random.default_rng()"
   ]
  },
  {
   "cell_type": "code",
   "execution_count": 26,
   "metadata": {},
   "outputs": [
    {
     "data": {
      "text/plain": [
       "array([3, 3, 0], dtype=int64)"
      ]
     },
     "execution_count": 26,
     "metadata": {},
     "output_type": "execute_result"
    }
   ],
   "source": [
    "rng.choice(5, 3)\n",
    "#This is equivalent to rng.integers(0,5,3)"
   ]
  },
  {
   "cell_type": "code",
   "execution_count": 27,
   "metadata": {},
   "outputs": [
    {
     "data": {
      "text/plain": [
       "array([3, 2, 3], dtype=int64)"
      ]
     },
     "execution_count": 27,
     "metadata": {},
     "output_type": "execute_result"
    }
   ],
   "source": [
    "# Generate a non-uniform random sample from np.arange(5) of size 3:\n",
    "rng.choice(5, 3, p=[0.1, 0, 0.3, 0.6, 0])"
   ]
  },
  {
   "cell_type": "code",
   "execution_count": 28,
   "metadata": {},
   "outputs": [
    {
     "data": {
      "text/plain": [
       "array([0, 4, 3], dtype=int64)"
      ]
     },
     "execution_count": 28,
     "metadata": {},
     "output_type": "execute_result"
    }
   ],
   "source": [
    "# Generate a uniform random sample from np.arange(5) of size 3 without replacement:\n",
    "rng.choice(5, 3, replace=False)\n",
    "#This is equivalent to rng.permutation(np.arange(5))[:3]"
   ]
  },
  {
   "cell_type": "code",
   "execution_count": 29,
   "metadata": {},
   "outputs": [
    {
     "data": {
      "text/plain": [
       "array([3, 2, 0], dtype=int64)"
      ]
     },
     "execution_count": 29,
     "metadata": {},
     "output_type": "execute_result"
    }
   ],
   "source": [
    "# Generate a non-uniform random sample from np.arange(5) of size 3 without replacement:\n",
    "rng.choice(5, 3, replace=False, p=[0.1, 0, 0.3, 0.6, 0])"
   ]
  },
  {
   "cell_type": "code",
   "execution_count": 30,
   "metadata": {},
   "outputs": [
    {
     "data": {
      "text/plain": [
       "array(['Christopher', 'Christopher', 'Christopher', 'pooh', 'pooh'],\n",
       "      dtype='<U11')"
      ]
     },
     "execution_count": 30,
     "metadata": {},
     "output_type": "execute_result"
    }
   ],
   "source": [
    "# Any of the above can be repeated with an arbitrary array-like instead of just integers. For instance:\n",
    "aa_milne_arr = ['pooh', 'rabbit', 'piglet', 'Christopher']\n",
    "\n",
    "rng.choice(aa_milne_arr, 5, p=[0.5, 0.1, 0.1, 0.3])"
   ]
  },
  {
   "cell_type": "markdown",
   "metadata": {},
   "source": [
    "====================================================================="
   ]
  },
  {
   "cell_type": "markdown",
   "metadata": {},
   "source": [
    "### bytes function explained - numpy.random.Generator.bytes\n",
    "##### method\n",
    "Generator.bytes(length)\n",
    "Return random bytes."
   ]
  },
  {
   "cell_type": "markdown",
   "metadata": {},
   "source": [
    "##### Parameters\n",
    "**length:** int. Number of random bytes.\n",
    "\n",
    "##### Returns\n",
    "**out:** str. String of length length."
   ]
  },
  {
   "cell_type": "code",
   "execution_count": 31,
   "metadata": {},
   "outputs": [
    {
     "data": {
      "text/plain": [
       "b';\\xc5?v\\xa3\\xe2t\\\\Z\\xed'"
      ]
     },
     "execution_count": 31,
     "metadata": {},
     "output_type": "execute_result"
    }
   ],
   "source": [
    "np.random.default_rng().bytes(10)"
   ]
  },
  {
   "cell_type": "markdown",
   "metadata": {},
   "source": [
    "====================================================================="
   ]
  },
  {
   "cell_type": "markdown",
   "metadata": {},
   "source": [
    "## Permutations"
   ]
  },
  {
   "cell_type": "markdown",
   "metadata": {},
   "source": [
    "### shuffle function explained - numpy.random.Generator.shuffle\n",
    "\n",
    "##### method\n",
    "\n",
    "Generator.shuffle(x, axis=0)\n",
    "Modify a sequence in-place by shuffling its contents.\n",
    "\n",
    "The order of sub-arrays is changed but their contents remains the same."
   ]
  },
  {
   "cell_type": "markdown",
   "metadata": {},
   "source": [
    "##### Parameters\n",
    "**x:** array_like. The array or list to be shuffled.\n",
    "\n",
    "**axis:** int, optional. The axis which x is shuffled along. Default is 0. It is only supported on ndarray objects.\n",
    "\n",
    "##### Returns\n",
    "None"
   ]
  },
  {
   "cell_type": "code",
   "execution_count": 32,
   "metadata": {},
   "outputs": [
    {
     "data": {
      "text/plain": [
       "array([9, 3, 7, 8, 1, 0, 4, 2, 5, 6])"
      ]
     },
     "execution_count": 32,
     "metadata": {},
     "output_type": "execute_result"
    }
   ],
   "source": [
    "rng = np.random.default_rng()\n",
    "arr = np.arange(10)\n",
    "rng.shuffle(arr)\n",
    "arr"
   ]
  },
  {
   "cell_type": "code",
   "execution_count": 33,
   "metadata": {},
   "outputs": [
    {
     "data": {
      "text/plain": [
       "array([[3, 4, 5],\n",
       "       [6, 7, 8],\n",
       "       [0, 1, 2]])"
      ]
     },
     "execution_count": 33,
     "metadata": {},
     "output_type": "execute_result"
    }
   ],
   "source": [
    "arr = np.arange(9).reshape((3, 3))\n",
    "rng.shuffle(arr)\n",
    "arr"
   ]
  },
  {
   "cell_type": "code",
   "execution_count": 34,
   "metadata": {},
   "outputs": [
    {
     "data": {
      "text/plain": [
       "array([[1, 2, 0],\n",
       "       [4, 5, 3],\n",
       "       [7, 8, 6]])"
      ]
     },
     "execution_count": 34,
     "metadata": {},
     "output_type": "execute_result"
    }
   ],
   "source": [
    "arr = np.arange(9).reshape((3, 3))\n",
    "rng.shuffle(arr, axis=1)\n",
    "arr"
   ]
  },
  {
   "cell_type": "markdown",
   "metadata": {},
   "source": [
    "===================================================================="
   ]
  },
  {
   "cell_type": "markdown",
   "metadata": {},
   "source": [
    "### permutation function expained - numpy.random.Generator.permutation\n",
    "\n",
    "##### method\n",
    "\n",
    "Generator.permutation(x, axis=0).\n",
    "Randomly permute a sequence, or return a permuted range."
   ]
  },
  {
   "cell_type": "markdown",
   "metadata": {},
   "source": [
    "##### Parameters\n",
    "**x:** int or array_like. If x is an integer, randomly permute np.arange(x). If x is an array, make a copy and shuffle the elements randomly.\n",
    "\n",
    "**axis:** int, optional. The axis which x is shuffled along. Default is 0.\n",
    "\n",
    "##### Returns\n",
    "**out:** ndarray. Permuted sequence or array range."
   ]
  },
  {
   "cell_type": "markdown",
   "metadata": {},
   "source": [
    "#### Definition (Webster's Dictionary)\n",
    "\n",
    "#### permute (pəˈmjuːt)\n",
    "vb (tr)\n",
    "1. to change the sequence of\n",
    "2. (Mathematics) to subject to permutation\n",
    "[C14: from Latin permūtāre, from per- + mūtāre to change, alter]\n",
    "perˈmutable adj\n",
    "perˌmutaˈbility, perˈmutableness n\n",
    "perˈmutably adv\n",
    "\n",
    "Accrding to corporatefinanceinstitute.com, a permutation is a mathematical technique that determines the number of possible arrangements in a set when the order of the arrangements matters. Common mathematical problems involve choosing only several items from a set of items with a certain order.\n",
    "\n",
    "However, the numpy permutation function is more concerned with changing the order of items in an array. In order to visually understand how the function works, it is useful to look at a histogram of data that has been permutted. "
   ]
  },
  {
   "cell_type": "code",
   "execution_count": 35,
   "metadata": {},
   "outputs": [
    {
     "ename": "SyntaxError",
     "evalue": "invalid syntax (<ipython-input-35-11c94e8d0df4>, line 6)",
     "output_type": "error",
     "traceback": [
      "\u001b[1;36m  File \u001b[1;32m\"<ipython-input-35-11c94e8d0df4>\"\u001b[1;36m, line \u001b[1;32m6\u001b[0m\n\u001b[1;33m    sns.\u001b[0m\n\u001b[1;37m        ^\u001b[0m\n\u001b[1;31mSyntaxError\u001b[0m\u001b[1;31m:\u001b[0m invalid syntax\n"
     ]
    }
   ],
   "source": [
    "import matplotlib.pyplot as plt \n",
    "  \n",
    "# Using permutation() method \n",
    "change1 = np.random.permutation(200) \n",
    "\n",
    "sns.\n",
    "  \n",
    "count, bins, ignored = plt.hist(change1, 14, density = True) \n",
    "plt.show()"
   ]
  },
  {
   "cell_type": "code",
   "execution_count": 36,
   "metadata": {},
   "outputs": [
    {
     "data": {
      "text/plain": [
       "array([7, 1, 9, 5, 2, 3, 6, 4, 0, 8])"
      ]
     },
     "execution_count": 36,
     "metadata": {},
     "output_type": "execute_result"
    }
   ],
   "source": [
    "rng = np.random.default_rng()\n",
    "rng.permutation(10)"
   ]
  },
  {
   "cell_type": "code",
   "execution_count": 37,
   "metadata": {},
   "outputs": [
    {
     "data": {
      "text/plain": [
       "array([ 1, 12, 15,  9,  4])"
      ]
     },
     "execution_count": 37,
     "metadata": {},
     "output_type": "execute_result"
    }
   ],
   "source": [
    "rng.permutation([1, 4, 9, 12, 15])"
   ]
  },
  {
   "cell_type": "code",
   "execution_count": 38,
   "metadata": {},
   "outputs": [
    {
     "data": {
      "text/plain": [
       "array([[3, 4, 5],\n",
       "       [0, 1, 2],\n",
       "       [6, 7, 8]])"
      ]
     },
     "execution_count": 38,
     "metadata": {},
     "output_type": "execute_result"
    }
   ],
   "source": [
    "arr = np.arange(9).reshape((3, 3))\n",
    "rng.permutation(arr)"
   ]
  },
  {
   "cell_type": "code",
   "execution_count": 39,
   "metadata": {},
   "outputs": [
    {
     "ename": "AxisError",
     "evalue": "axis 0 is out of bounds for array of dimension 0",
     "output_type": "error",
     "traceback": [
      "\u001b[1;31m---------------------------------------------------------------------------\u001b[0m",
      "\u001b[1;31mAxisError\u001b[0m                                 Traceback (most recent call last)",
      "\u001b[1;32m<ipython-input-39-f92eccbb101f>\u001b[0m in \u001b[0;36m<module>\u001b[1;34m\u001b[0m\n\u001b[1;32m----> 1\u001b[1;33m \u001b[0mrng\u001b[0m\u001b[1;33m.\u001b[0m\u001b[0mpermutation\u001b[0m\u001b[1;33m(\u001b[0m\u001b[1;34m\"abc\"\u001b[0m\u001b[1;33m)\u001b[0m\u001b[1;33m\u001b[0m\u001b[1;33m\u001b[0m\u001b[0m\n\u001b[0m",
      "\u001b[1;32m_generator.pyx\u001b[0m in \u001b[0;36mnumpy.random._generator.Generator.permutation\u001b[1;34m()\u001b[0m\n",
      "\u001b[1;31mAxisError\u001b[0m: axis 0 is out of bounds for array of dimension 0"
     ]
    }
   ],
   "source": [
    "rng.permutation(\"abc\")"
   ]
  },
  {
   "cell_type": "code",
   "execution_count": 40,
   "metadata": {},
   "outputs": [
    {
     "data": {
      "text/plain": [
       "array([[0, 2, 1],\n",
       "       [3, 5, 4],\n",
       "       [6, 8, 7]])"
      ]
     },
     "execution_count": 40,
     "metadata": {},
     "output_type": "execute_result"
    }
   ],
   "source": [
    "arr = np.arange(9).reshape((3, 3))\n",
    "rng.permutation(arr, axis=1)"
   ]
  },
  {
   "cell_type": "code",
   "execution_count": null,
   "metadata": {},
   "outputs": [],
   "source": []
  },
  {
   "cell_type": "markdown",
   "metadata": {},
   "source": []
  },
  {
   "cell_type": "markdown",
   "metadata": {},
   "source": [
    "# Pasted from Q2 doc:"
   ]
  },
  {
   "cell_type": "markdown",
   "metadata": {},
   "source": [
    "## Q2: Explain the use of the “Simple random data” and “Permutations” functions."
   ]
  },
  {
   "cell_type": "code",
   "execution_count": 41,
   "metadata": {},
   "outputs": [],
   "source": [
    "import numpy as np\n",
    "import matplotlib.pyplot as plt\n",
    "import seaborn as sns\n",
    "import pandas as pd"
   ]
  },
  {
   "cell_type": "markdown",
   "metadata": {},
   "source": [
    "### 2.1. Simple Random Data\n",
    "\n",
    "#### 2.1.1. What do the Simple Random Data Functions Do?\n",
    "The second section of the numpy.random package relates to the use of simple random data. This sections contains 4 functions that return random values of various types. The four functions are:\n",
    "1. integers\n",
    "2. random\n",
    "3. choice\n",
    "4. bytes\n",
    "\n",
    "Numpy's classification of its Random package into three groups (Simple Random Data, Permuations and Distributions) may not be immediately intuitive when first using the package. However, by practicing the use of functions from each of these groups, one can grasp the distinctions between them. The Permutation functions can take an ordered array as input and output either a shuffled version or a new variable that has been 'randomly' permuted. The Distribution functions all produce random data that reflects a particular statistical distribution. \n",
    "\n",
    "However, the functions under in Simple Random Data section are, it could be argued, the most random of the entire numpy.random package. In the case of the random.integers() and random.random() functions, the output is manipulated based on type (integer or floating point number). Whereas, in the case of the random.choice function(), the random data produced can be set at a specific probability, providing a useful means to replicate rea-life 'chance' scenarios, such as the simulation of a game of roulette. The bytes() function is limited to producing random bites of a given length. These functions have broad use across all probabilities and areas of statistics. They are less concerned with producing manipulated data and are designed to provide the most basic statistical ramdomisation tools. "
   ]
  },
  {
   "cell_type": "markdown",
   "metadata": {},
   "source": [
    "#### 2.2. Numpy Integers Function"
   ]
  },
  {
   "cell_type": "markdown",
   "metadata": {},
   "source": [
    "<img src=\"https://vrzkj25a871bpq7t1ugcgmn9-wpengine.netdna-ssl.com/wp-content/uploads/2020/03/anp-random-randint_syntax-explanation_v4.png\" alt=\"Drawing\" style=\"width: 600px;\"/>"
   ]
  },
  {
   "cell_type": "code",
   "execution_count": 42,
   "metadata": {},
   "outputs": [
    {
     "data": {
      "text/plain": [
       "7"
      ]
     },
     "execution_count": 42,
     "metadata": {},
     "output_type": "execute_result"
    }
   ],
   "source": [
    "np.random.seed(30) \n",
    "rng = np.random.default_rng()\n",
    "rng.integers(4, 20)"
   ]
  },
  {
   "cell_type": "code",
   "execution_count": 43,
   "metadata": {},
   "outputs": [
    {
     "name": "stdout",
     "output_type": "stream",
     "text": [
      "[[0 1 9]\n",
      " [8 9 9]]\n",
      "\n",
      " [[ 7  1  1  1 16]\n",
      " [ 5 14 15  4  0]\n",
      " [14 19  7  5  9]\n",
      " [16 14 12 10 13]]\n"
     ]
    }
   ],
   "source": [
    "rng = np.random.default_rng()\n",
    "np.random.seed(0)\n",
    "\n",
    "# Produce a 2 by 3 array of random integers between 1 and 10\n",
    "print(rng.integers(10, size=(2, 3)) )\n",
    "np.random.seed(0)\n",
    "\n",
    "# Produce a 4 by 5 array between 1 and 20\n",
    "print(\"\\n\", rng.integers(20, size=(4, 5)) )"
   ]
  },
  {
   "cell_type": "code",
   "execution_count": 44,
   "metadata": {},
   "outputs": [
    {
     "name": "stdout",
     "output_type": "stream",
     "text": [
      "\n",
      " [[[[12  6 38  3]\n",
      "   [29 10 26 23]\n",
      "   [30 47 26 37]]\n",
      "\n",
      "  [[47 10 16 14]\n",
      "   [ 9 11 30 17]\n",
      "   [ 9 11  1 34]]]\n",
      "\n",
      "\n",
      " [[[ 7 31 39 32]\n",
      "   [29 12 41 18]\n",
      "   [41 46 25 22]]\n",
      "\n",
      "  [[14  5  8 13]\n",
      "   [23 23 36 16]\n",
      "   [40 43 31 30]]]]\n"
     ]
    }
   ],
   "source": [
    "# prduce a matrix of integers between 1 and 48 in 4-d\n",
    "print(\"\\n\", rng.integers(48, size=(2, 2, 3, 4)) )"
   ]
  },
  {
   "cell_type": "markdown",
   "metadata": {},
   "source": [
    "#### Numpy's Random Function - "
   ]
  },
  {
   "cell_type": "markdown",
   "metadata": {},
   "source": [
    "<img src=\"https://cdn.shortpixel.ai/spai/w_995+q_lossy+ret_img+to_webp/https://www.sharpsightlabs.com/wp-content/uploads/2019/05/numpy-random-choice-syntax-explanation.png\" alt=\"Drawing\" style=\"width: 600px;\"/>\n",
    "\n",
    "*Image from sharpsightlabs.com*"
   ]
  },
  {
   "cell_type": "code",
   "execution_count": 45,
   "metadata": {},
   "outputs": [
    {
     "data": {
      "image/png": "[encoded data removed]",
      "text/plain": [
       "<Figure size 432x288 with 1 Axes>"
      ]
     },
     "metadata": {
      "needs_background": "light"
     },
     "output_type": "display_data"
    }
   ],
   "source": [
    "import pandas as pd\n",
    "\n",
    "df = pd.DataFrame(np.random.random(size=(10000,5)), columns=list('ABCDE')) # creating a Dataframe directly with pandas\n",
    "plt.boxplot(df.A, labels = 'A')\n",
    "plt.show()"
   ]
  },
  {
   "cell_type": "code",
   "execution_count": 46,
   "metadata": {},
   "outputs": [
    {
     "name": "stdout",
     "output_type": "stream",
     "text": [
      "[0.5488135  0.71518937 0.60276338 0.54488318 0.4236548  0.64589411\n",
      " 0.43758721 0.891773   0.96366276 0.38344152 0.79172504 0.52889492\n",
      " 0.56804456 0.92559664 0.07103606 0.0871293  0.0202184  0.83261985\n",
      " 0.77815675 0.87001215 0.97861834 0.79915856 0.46147936 0.78052918\n",
      " 0.11827443 0.63992102 0.14335329 0.94466892 0.52184832 0.41466194\n",
      " 0.26455561 0.77423369 0.45615033 0.56843395 0.0187898  0.6176355\n",
      " 0.61209572 0.616934   0.94374808 0.6818203  0.3595079  0.43703195\n",
      " 0.6976312  0.06022547 0.66676672 0.67063787 0.21038256 0.1289263\n",
      " 0.31542835 0.36371077 0.57019677 0.43860151 0.98837384 0.10204481\n",
      " 0.20887676 0.16130952 0.65310833 0.2532916  0.46631077 0.24442559\n",
      " 0.15896958 0.11037514 0.65632959 0.13818295 0.19658236 0.36872517\n",
      " 0.82099323 0.09710128 0.83794491 0.09609841 0.97645947 0.4686512\n",
      " 0.97676109 0.60484552 0.73926358 0.03918779 0.28280696 0.12019656\n",
      " 0.2961402  0.11872772 0.31798318 0.41426299 0.0641475  0.69247212\n",
      " 0.56660145 0.26538949 0.52324805 0.09394051 0.5759465  0.9292962\n",
      " 0.31856895 0.66741038 0.13179786 0.7163272  0.28940609 0.18319136\n",
      " 0.58651293 0.02010755 0.82894003 0.00469548]\n"
     ]
    },
    {
     "data": {
      "image/png": "[encoded data removed]",
      "text/plain": [
       "<Figure size 432x288 with 1 Axes>"
      ]
     },
     "metadata": {
      "needs_background": "light"
     },
     "output_type": "display_data"
    }
   ],
   "source": [
    "# Seed the random number generator\n",
    "np.random.seed(0)\n",
    "\n",
    "# Initialize random numbers: random_numbers\n",
    "random_numbers = np.empty(100)\n",
    "\n",
    "# Generate random numbers by looping over range(100000)\n",
    "for i in range(100):\n",
    "    random_numbers[i] = np.random.random()\n",
    "\n",
    "# Plot a histogram\n",
    "_ = plt.hist(random_numbers)\n",
    "\n",
    "print(random_numbers)\n",
    "# Show the plot\n",
    "plt.show()"
   ]
  },
  {
   "cell_type": "markdown",
   "metadata": {},
   "source": [
    "========================================================================================================="
   ]
  },
  {
   "cell_type": "markdown",
   "metadata": {},
   "source": [
    "#### Choice Function"
   ]
  },
  {
   "cell_type": "markdown",
   "metadata": {},
   "source": [
    "#### Formula"
   ]
  },
  {
   "cell_type": "markdown",
   "metadata": {},
   "source": []
  },
  {
   "cell_type": "code",
   "execution_count": 47,
   "metadata": {},
   "outputs": [
    {
     "data": {
      "image/png": "[encoded data removed]",
      "text/plain": [
       "<Figure size 432x288 with 1 Axes>"
      ]
     },
     "metadata": {
      "needs_background": "light"
     },
     "output_type": "display_data"
    }
   ],
   "source": [
    "import pandas as pd\n",
    "\n",
    "pd.set_option('display.max_rows', 90)\n",
    "#########################################################################\n",
    "\n",
    "cost = rng.integers(500, 1500, 60)\n",
    "#print(\"cost:\", cost)\n",
    "\n",
    "age2 = rng.integers(16, 70, 60)\n",
    "#print(\"age2:\", age2)\n",
    "\n",
    "df2 = pd.DataFrame({'cost': cost.ravel(), 'age2': age2.ravel()})\n",
    "####################################################################\n",
    "PC=['brand', 'Windows', 'Mac', 'Windows', 'Mac',\n",
    "     'Windows', 'Mac', 'Windows', 'Mac', 'Windows', 'Mac',\n",
    "      'Windows', 'Mac', 'Windows', 'Mac', 'Windows', 'Mac',\n",
    "     'Windows', 'Mac', 'Windows', 'Mac', 'Windows', 'Mac',\n",
    "     'Windows', 'Mac', 'Windows', 'Mac', 'Windows', 'Mac',\n",
    "      'Windows', 'Mac', 'Windows', 'Mac', 'Windows', 'Mac',\n",
    "     'Windows', 'Mac', 'Windows', 'Mac', 'Windows', 'Mac',\n",
    "     'Windows', 'Mac', 'Windows', 'Mac', 'Windows', 'Mac',\n",
    "      'Windows', 'Mac', 'Windows', 'Mac', 'Windows', 'Mac',\n",
    "      'Windows', 'Mac', 'Windows', 'Mac', 'Windows', 'Mac',\n",
    "     'Windows', 'Mac', 'Windows', 'Mac']\n",
    "data = list(zip(*[iter(PC)]))\n",
    "df1 = pd.DataFrame(data[1:], columns=data[0])\n",
    "\n",
    "frames = [df1, df2]\n",
    "\n",
    "result = pd.concat([df1, df2], axis=1, join='inner')\n",
    "\n",
    "scatter_choice = sns.scatterplot(x=\"cost\", y=\"age2\", hue=\"brand\", data=result)\n",
    "plt.legend()\n",
    "plt.show()\n"
   ]
  },
  {
   "cell_type": "code",
   "execution_count": null,
   "metadata": {},
   "outputs": [],
   "source": []
  },
  {
   "cell_type": "markdown",
   "metadata": {},
   "source": [
    "### 2.2. Permutation Functions\n",
    "\n",
    "##### Definition (Webster's Dictionary)\n",
    "*permute (pəˈmjuːt)*\n",
    "*vb (tr)*\n",
    "\n",
    "1. *to change the sequence of*\n",
    "2. *(Mathematics) to subject to permutation [C14: from Latin permūtāre, from per- + mūtāre to change, alter] perˈmutable adj perˌmutaˈbility, perˈmutableness n perˈmutably adv*\n",
    "\n",
    "Accrding to corporatefinanceinstitute.com, a permutation is a mathematical technique that determines the number of possible arrangements in a set when the order of the arrangements matters. Common mathematical problems involve choosing only several items from a set of items with a certain order.\n",
    "\n",
    "There are two functions within Numpy's Permutations Section:\n",
    "* The Shuffle function\n",
    "\n",
    "*and*\n",
    "* The Permutation function\n",
    "\n",
    "Both of these function, permute a list in order to create random data. In particular, they both change the order of elements in an array. However, whist shuffle() merely permutes an array and outputs the altered array, permutation() makes a copy of an array, permutes it and then outputs the change in the form of a new variable."
   ]
  },
  {
   "cell_type": "markdown",
   "metadata": {},
   "source": [
    "#### 2.2.1. Permutation Function - numpy.random.Generator.permutation"
   ]
  },
  {
   "cell_type": "markdown",
   "metadata": {},
   "source": [
    "#### Formula\n",
    "\n",
    "##### <font color='blue'>np.random.default_rng().permutation(x [int or array_like ints], axis[int, optional])</font>\n",
    "*Where x is an int., random pemutation occurs using np.arange(x). If x is array, a copy is created into a new varianle and elements are shuffled randomly. Axis is which axis x is shuffled along, defaulted to 0.*\n",
    "\n",
    "\n",
    "#### Permutation Definition (Webster's Dictionary)\n",
    "\n",
    "###### permute (pəˈmjuːt)\n",
    "vb (tr)\n",
    "1. to change the sequence of\n",
    "2. (Mathematics) to subject to permutation\n",
    "[C14: from Latin permūtāre, from per- + mūtāre to change, alter]\n",
    "perˈmutable adj\n",
    "perˌmutaˈbility, perˈmutableness n\n",
    "perˈmutably adv\n",
    "\n",
    "Accrding to corporatefinanceinstitute.com, a permutation is a mathematical technique that determines the number of possible arrangements in a set when the order of the arrangements matters. Common mathematical problems involve choosing only several items from a set of items with a certain order.\n",
    "\n",
    "However, the numpy permutation function is more concerned with changing the order of items in an array. In order to visually understand how the function works, it is useful to look at a histogram of data that has been permutted. "
   ]
  },
  {
   "cell_type": "code",
   "execution_count": 48,
   "metadata": {},
   "outputs": [
    {
     "data": {
      "image/png": "[encoded data removed]",
      "text/plain": [
       "<Figure size 432x288 with 1 Axes>"
      ]
     },
     "metadata": {
      "needs_background": "light"
     },
     "output_type": "display_data"
    }
   ],
   "source": [
    "import matplotlib.pyplot as plt \n",
    "import seaborn as sns\n",
    "\n",
    "# Using permutation() method \n",
    "permute1 = np.random.permutation(20) \n",
    "\n",
    "sns.distplot(permute1, kde=False, bins=14, color='red')\n",
    "plt.show()"
   ]
  },
  {
   "cell_type": "markdown",
   "metadata": {},
   "source": [
    "#### 2.2.2. Shuffle Function - numpy.random.Generator.shuffle"
   ]
  },
  {
   "cell_type": "code",
   "execution_count": 49,
   "metadata": {},
   "outputs": [
    {
     "data": {
      "text/plain": [
       "array([3, 1, 6, 9, 8, 7, 5, 2, 4, 0])"
      ]
     },
     "execution_count": 49,
     "metadata": {},
     "output_type": "execute_result"
    }
   ],
   "source": [
    "rng = np.random.default_rng()\n",
    "arr = np.arange(10)\n",
    "rng.shuffle(arr)\n",
    "arr"
   ]
  },
  {
   "cell_type": "code",
   "execution_count": 50,
   "metadata": {},
   "outputs": [
    {
     "data": {
      "text/plain": [
       "array([[6, 7, 8],\n",
       "       [3, 4, 5],\n",
       "       [0, 1, 2]])"
      ]
     },
     "execution_count": 50,
     "metadata": {},
     "output_type": "execute_result"
    }
   ],
   "source": [
    "arr = np.arange(9).reshape((3, 3))\n",
    "rng.shuffle(arr)\n",
    "arr"
   ]
  },
  {
   "cell_type": "code",
   "execution_count": 51,
   "metadata": {},
   "outputs": [
    {
     "data": {
      "text/plain": [
       "array([[0, 2, 1],\n",
       "       [3, 5, 4],\n",
       "       [6, 8, 7]])"
      ]
     },
     "execution_count": 51,
     "metadata": {},
     "output_type": "execute_result"
    }
   ],
   "source": [
    "arr = np.arange(9).reshape((3, 3))\n",
    "rng.shuffle(arr, axis=1)\n",
    "arr"
   ]
  },
  {
   "cell_type": "code",
   "execution_count": 52,
   "metadata": {},
   "outputs": [
    {
     "data": {
      "image/png": "[encoded data removed]",
      "text/plain": [
       "<Figure size 432x288 with 1 Axes>"
      ]
     },
     "metadata": {
      "needs_background": "light"
     },
     "output_type": "display_data"
    },
    {
     "name": "stdout",
     "output_type": "stream",
     "text": [
      "[[[ 0  1  2  3]\n",
      "  [ 4  5  6  7]\n",
      "  [ 8  9 10 11]\n",
      "  [12 13 14 15]\n",
      "  [16 17 18 19]]]\n"
     ]
    }
   ],
   "source": [
    "rng = np.random.default_rng()\n",
    "shuffle1 = np.arange(20).reshape((1, 5, 4))\n",
    "rng.shuffle(shuffle1)\n",
    "sns.distplot(shuffle1, kde=False, bins=14, color='green') \n",
    "plt.show()\n",
    "print(shuffle1)"
   ]
  },
  {
   "cell_type": "code",
   "execution_count": 53,
   "metadata": {},
   "outputs": [
    {
     "name": "stdout",
     "output_type": "stream",
     "text": [
      "      a   b     c\n",
      "0   100   0  2018\n",
      "1   101   1  2017\n",
      "2   102   2  2017\n",
      "3   103   3  2018\n",
      "4   104   4  2017\n",
      "..  ...  ..   ...\n",
      "95  195  95  2018\n",
      "96  196  96  2019\n",
      "97  197  97  2018\n",
      "98  198  98  2018\n",
      "99  199  99  2017\n",
      "\n",
      "[100 rows x 3 columns]\n"
     ]
    },
    {
     "data": {
      "image/png": "[encoded data removed]",
      "text/plain": [
       "<Figure size 432x288 with 1 Axes>"
      ]
     },
     "metadata": {
      "needs_background": "light"
     },
     "output_type": "display_data"
    }
   ],
   "source": [
    "pd.set_option('display.max_rows', 50)\n",
    "a =np.arange(start=100, stop=200, step=1)\n",
    "b =np.arange(start=0, stop=100, step=1)\n",
    "c =rng.integers(2017, 2020, size=100)\n",
    "\n",
    "df = pd.DataFrame({'a': a.ravel(), 'b': b.ravel(), 'c': c.ravel()})\n",
    "print (df)\n",
    "\n",
    "stat = sns.scatterplot(x=\"a\", y=\"b\", hue= \"c\", data=df)"
   ]
  },
  {
   "cell_type": "code",
   "execution_count": 54,
   "metadata": {},
   "outputs": [
    {
     "name": "stdout",
     "output_type": "stream",
     "text": [
      "      a   b     c\n",
      "0   100   0  1161\n",
      "1   101   1  1034\n",
      "2   102   2   505\n",
      "3   103   3   527\n",
      "4   104   4  1220\n",
      "..  ...  ..   ...\n",
      "95  195  95   952\n",
      "96  196  96   630\n",
      "97  197  97  1110\n",
      "98  198  98  1161\n",
      "99  199  99  1204\n",
      "\n",
      "[100 rows x 3 columns]\n"
     ]
    },
    {
     "data": {
      "image/png": "[encoded data removed]",
      "text/plain": [
       "<Figure size 432x288 with 1 Axes>"
      ]
     },
     "metadata": {
      "needs_background": "light"
     },
     "output_type": "display_data"
    }
   ],
   "source": [
    "pd.set_option('display.max_rows', 50)\n",
    "apple =np.arange(start=100, stop=200, step=1)\n",
    "#rng.shuffle(a)\n",
    "windows =np.arange(start=0, stop=100, step=1)\n",
    "#rng.permutation(b)\n",
    "c =rng.integers(500, 1300, size=100)\n",
    "rng.shuffle(c)\n",
    "\n",
    "df = pd.DataFrame({'a': a.ravel(), 'b': b.ravel(), 'c': c.ravel()})\n",
    "print (df)\n",
    "\n",
    "stat = sns.scatterplot(x=\"a\", y=\"b\", hue= \"c\", data=df)"
   ]
  },
  {
   "cell_type": "code",
   "execution_count": null,
   "metadata": {},
   "outputs": [],
   "source": []
  },
  {
   "cell_type": "code",
   "execution_count": null,
   "metadata": {},
   "outputs": [],
   "source": []
  },
  {
   "cell_type": "code",
   "execution_count": 55,
   "metadata": {},
   "outputs": [
    {
     "data": {
      "text/plain": [
       "array([2017, 2018, 2019, 2017, 2019, 2019, 2018, 2017, 2018, 2019],\n",
       "      dtype=int64)"
      ]
     },
     "execution_count": 55,
     "metadata": {},
     "output_type": "execute_result"
    }
   ],
   "source": [
    "year4=rng.integers(2017, 2020, size=10)\n",
    "year4"
   ]
  },
  {
   "cell_type": "code",
   "execution_count": 56,
   "metadata": {},
   "outputs": [
    {
     "name": "stdout",
     "output_type": "stream",
     "text": [
      "      brand  cost  age2\n",
      "0   Windows   693    17\n",
      "1       Mac  1223    57\n",
      "2   Windows   864    53\n",
      "3       Mac  1428    30\n",
      "4   Windows   916    18\n",
      "5       Mac   888    18\n",
      "6   Windows   704    46\n",
      "7       Mac  1029    54\n",
      "8   Windows   772    24\n",
      "9       Mac  1383    59\n",
      "10  Windows  1309    69\n",
      "11      Mac   813    46\n",
      "12  Windows  1244    62\n",
      "13      Mac  1299    24\n",
      "14  Windows   834    38\n",
      "15      Mac  1367    19\n",
      "16  Windows   881    60\n",
      "17      Mac  1304    17\n",
      "18  Windows   969    46\n",
      "19      Mac  1097    53\n",
      "20  Windows  1305    59\n",
      "21      Mac  1193    42\n",
      "22  Windows   873    61\n",
      "23      Mac  1203    67\n",
      "24  Windows   709    46\n",
      "25      Mac   596    31\n",
      "26  Windows   670    22\n",
      "27      Mac   814    51\n",
      "28  Windows   839    44\n",
      "29      Mac   690    43\n",
      "30  Windows  1392    52\n",
      "31      Mac   972    60\n",
      "32  Windows   842    38\n",
      "33      Mac   642    36\n",
      "34  Windows   806    55\n",
      "35      Mac  1042    55\n",
      "36  Windows   736    45\n",
      "37      Mac  1387    55\n",
      "38  Windows  1134    56\n",
      "39      Mac   934    24\n",
      "40  Windows   981    66\n",
      "41      Mac   837    67\n",
      "42  Windows  1116    41\n",
      "43      Mac   618    53\n",
      "44  Windows   968    63\n",
      "45      Mac  1411    31\n",
      "46  Windows  1410    33\n",
      "47      Mac  1354    47\n",
      "48  Windows  1360    56\n",
      "49      Mac  1110    57\n",
      "50  Windows   960    48\n",
      "51      Mac   791    39\n",
      "52  Windows   980    56\n",
      "53      Mac  1069    65\n",
      "54  Windows   881    20\n",
      "55      Mac   831    66\n",
      "56  Windows  1433    18\n",
      "57      Mac   755    41\n",
      "58  Windows  1035    65\n",
      "59      Mac   968    29\n"
     ]
    },
    {
     "data": {
      "image/png": "[encoded data removed]",
      "text/plain": [
       "<Figure size 432x288 with 1 Axes>"
      ]
     },
     "metadata": {
      "needs_background": "light"
     },
     "output_type": "display_data"
    }
   ],
   "source": [
    "import pandas as pd\n",
    "\n",
    "pd.set_option('display.max_rows', 90)\n",
    "#########################################################################\n",
    "\n",
    "cost = rng.integers(500, 1500, 60)\n",
    "#print(\"cost:\", cost)\n",
    "\n",
    "age2 = rng.integers(16, 70, 60)\n",
    "#print(\"age2:\", age2)\n",
    "\n",
    "df2 = pd.DataFrame({'cost': cost.ravel(), 'age2': age2.ravel()})\n",
    "####################################################################\n",
    "PC=['brand', 'Windows', 'Mac', 'Windows', 'Mac',\n",
    "     'Windows', 'Mac', 'Windows', 'Mac', 'Windows', 'Mac',\n",
    "      'Windows', 'Mac', 'Windows', 'Mac', 'Windows', 'Mac',\n",
    "     'Windows', 'Mac', 'Windows', 'Mac', 'Windows', 'Mac',\n",
    "     'Windows', 'Mac', 'Windows', 'Mac', 'Windows', 'Mac',\n",
    "      'Windows', 'Mac', 'Windows', 'Mac', 'Windows', 'Mac',\n",
    "     'Windows', 'Mac', 'Windows', 'Mac', 'Windows', 'Mac',\n",
    "     'Windows', 'Mac', 'Windows', 'Mac', 'Windows', 'Mac',\n",
    "      'Windows', 'Mac', 'Windows', 'Mac', 'Windows', 'Mac',\n",
    "      'Windows', 'Mac', 'Windows', 'Mac', 'Windows', 'Mac',\n",
    "     'Windows', 'Mac', 'Windows', 'Mac']\n",
    "data = list(zip(*[iter(PC)]))\n",
    "df1 = pd.DataFrame(data[1:], columns=data[0])\n",
    "\n",
    "frames = [df1, df2]\n",
    "\n",
    "result = pd.concat([df1, df2], axis=1, join='inner')\n",
    "print(result)\n",
    "\n",
    "stat2 = sns.scatterplot(x=\"cost\", y=\"age2\", hue=\"brand\", data=result)\n",
    "plt.legend()\n",
    "plt.show()\n"
   ]
  },
  {
   "cell_type": "markdown",
   "metadata": {},
   "source": [
    "##### Concatenating a list of strings into a database: https://stackoverflow.com/questions/46269294/convert-a-list-of-strings-into-a-dataframe\n",
    "\n",
    "##### merging databases https://pandas.pydata.org/pandas-docs/stable/user_guide/merging.html"
   ]
  },
  {
   "cell_type": "code",
   "execution_count": 57,
   "metadata": {},
   "outputs": [
    {
     "name": "stdout",
     "output_type": "stream",
     "text": [
      "Randomly selected item from list is -  The Shawshank Redemption\n",
      "Randomly selected item from list is -  Citizen Kane\n"
     ]
    }
   ],
   "source": [
    "import random\n",
    "movie_list = ['The Godfather', 'The Wizard of Oz', 'Citizen Kane', 'The Shawshank Redemption', 'Pulp Fiction']\n",
    "\n",
    "moview_item = random.choice(movie_list)\n",
    "print (\"Randomly selected item from list is - \", moview_item)\n",
    "\n",
    "moview_item = random.choice(movie_list)\n",
    "print (\"Randomly selected item from list is - \", moview_item)"
   ]
  },
  {
   "cell_type": "code",
   "execution_count": 58,
   "metadata": {},
   "outputs": [
    {
     "name": "stdout",
     "output_type": "stream",
     "text": [
      "choosing 3 random items from a list using random.sample() function\n"
     ]
    },
    {
     "ename": "ValueError",
     "evalue": "Sample larger than population or is negative",
     "output_type": "error",
     "traceback": [
      "\u001b[1;31m---------------------------------------------------------------------------\u001b[0m",
      "\u001b[1;31mValueError\u001b[0m                                Traceback (most recent call last)",
      "\u001b[1;32m<ipython-input-58-f5fbd32929e9>\u001b[0m in \u001b[0;36m<module>\u001b[1;34m\u001b[0m\n\u001b[0;32m      3\u001b[0m \u001b[0maList\u001b[0m \u001b[1;33m=\u001b[0m \u001b[1;33m[\u001b[0m\u001b[1;36m20\u001b[0m\u001b[1;33m,\u001b[0m \u001b[1;36m40\u001b[0m\u001b[1;33m,\u001b[0m \u001b[1;36m80\u001b[0m\u001b[1;33m,\u001b[0m \u001b[1;36m100\u001b[0m\u001b[1;33m,\u001b[0m \u001b[1;36m120\u001b[0m\u001b[1;33m]\u001b[0m\u001b[1;33m\u001b[0m\u001b[1;33m\u001b[0m\u001b[0m\n\u001b[0;32m      4\u001b[0m \u001b[0mprint\u001b[0m \u001b[1;33m(\u001b[0m\u001b[1;34m\"choosing 3 random items from a list using random.sample() function\"\u001b[0m\u001b[1;33m)\u001b[0m\u001b[1;33m\u001b[0m\u001b[1;33m\u001b[0m\u001b[0m\n\u001b[1;32m----> 5\u001b[1;33m \u001b[0msampled_list\u001b[0m \u001b[1;33m=\u001b[0m \u001b[0mrandom\u001b[0m\u001b[1;33m.\u001b[0m\u001b[0msample\u001b[0m\u001b[1;33m(\u001b[0m\u001b[0maList\u001b[0m\u001b[1;33m,\u001b[0m \u001b[1;36m9\u001b[0m\u001b[1;33m)\u001b[0m\u001b[1;33m\u001b[0m\u001b[1;33m\u001b[0m\u001b[0m\n\u001b[0m\u001b[0;32m      6\u001b[0m \u001b[0mprint\u001b[0m\u001b[1;33m(\u001b[0m\u001b[0msampled_list\u001b[0m\u001b[1;33m)\u001b[0m\u001b[1;33m\u001b[0m\u001b[1;33m\u001b[0m\u001b[0m\n",
      "\u001b[1;32m~\\anaconda3\\lib\\random.py\u001b[0m in \u001b[0;36msample\u001b[1;34m(self, population, k)\u001b[0m\n\u001b[0;32m    361\u001b[0m         \u001b[0mn\u001b[0m \u001b[1;33m=\u001b[0m \u001b[0mlen\u001b[0m\u001b[1;33m(\u001b[0m\u001b[0mpopulation\u001b[0m\u001b[1;33m)\u001b[0m\u001b[1;33m\u001b[0m\u001b[1;33m\u001b[0m\u001b[0m\n\u001b[0;32m    362\u001b[0m         \u001b[1;32mif\u001b[0m \u001b[1;32mnot\u001b[0m \u001b[1;36m0\u001b[0m \u001b[1;33m<=\u001b[0m \u001b[0mk\u001b[0m \u001b[1;33m<=\u001b[0m \u001b[0mn\u001b[0m\u001b[1;33m:\u001b[0m\u001b[1;33m\u001b[0m\u001b[1;33m\u001b[0m\u001b[0m\n\u001b[1;32m--> 363\u001b[1;33m             \u001b[1;32mraise\u001b[0m \u001b[0mValueError\u001b[0m\u001b[1;33m(\u001b[0m\u001b[1;34m\"Sample larger than population or is negative\"\u001b[0m\u001b[1;33m)\u001b[0m\u001b[1;33m\u001b[0m\u001b[1;33m\u001b[0m\u001b[0m\n\u001b[0m\u001b[0;32m    364\u001b[0m         \u001b[0mresult\u001b[0m \u001b[1;33m=\u001b[0m \u001b[1;33m[\u001b[0m\u001b[1;32mNone\u001b[0m\u001b[1;33m]\u001b[0m \u001b[1;33m*\u001b[0m \u001b[0mk\u001b[0m\u001b[1;33m\u001b[0m\u001b[1;33m\u001b[0m\u001b[0m\n\u001b[0;32m    365\u001b[0m         \u001b[0msetsize\u001b[0m \u001b[1;33m=\u001b[0m \u001b[1;36m21\u001b[0m        \u001b[1;31m# size of a small set minus size of an empty list\u001b[0m\u001b[1;33m\u001b[0m\u001b[1;33m\u001b[0m\u001b[0m\n",
      "\u001b[1;31mValueError\u001b[0m: Sample larger than population or is negative"
     ]
    }
   ],
   "source": [
    "import random\n",
    "\n",
    "aList = [20, 40, 80, 100, 120]\n",
    "print (\"choosing 3 random items from a list using random.sample() function\")\n",
    "sampled_list = random.sample(aList, 9)\n",
    "print(sampled_list)"
   ]
  },
  {
   "cell_type": "code",
   "execution_count": 59,
   "metadata": {},
   "outputs": [
    {
     "name": "stdout",
     "output_type": "stream",
     "text": [
      "Apple Apple\n",
      "Apple Apple\n",
      "Mac Apple\n",
      "Mac Apple\n"
     ]
    }
   ],
   "source": [
    "import random\n",
    "\n",
    "def randomcolour():\n",
    "    foo = ['Apple', 'Mac']\n",
    "    PC = [ ]\n",
    "\n",
    "    for i in foo:\n",
    "        rand = random.choice(foo)\n",
    "        print(i, rand)\n",
    "        if rand == \"Apple\":\n",
    "            print(i, \"Apple\")\n",
    "        else:\n",
    "            print(i, \"Mac\")\n",
    "\n",
    "randomcolour()\n"
   ]
  },
  {
   "cell_type": "code",
   "execution_count": 60,
   "metadata": {},
   "outputs": [
    {
     "ename": "NameError",
     "evalue": "name 'random_colour' is not defined",
     "output_type": "error",
     "traceback": [
      "\u001b[1;31m---------------------------------------------------------------------------\u001b[0m",
      "\u001b[1;31mNameError\u001b[0m                                 Traceback (most recent call last)",
      "\u001b[1;32m<ipython-input-60-5e945971d085>\u001b[0m in \u001b[0;36m<module>\u001b[1;34m\u001b[0m\n\u001b[0;32m      1\u001b[0m \u001b[0mpd\u001b[0m\u001b[1;33m.\u001b[0m\u001b[0mset_option\u001b[0m\u001b[1;33m(\u001b[0m\u001b[1;34m'display.max_rows'\u001b[0m\u001b[1;33m,\u001b[0m \u001b[1;36m50\u001b[0m\u001b[1;33m)\u001b[0m\u001b[1;33m\u001b[0m\u001b[1;33m\u001b[0m\u001b[0m\n\u001b[1;32m----> 2\u001b[1;33m \u001b[0mage\u001b[0m\u001b[1;33m=\u001b[0m\u001b[0mrandom_colour\u001b[0m\u001b[1;33m(\u001b[0m\u001b[1;33m)\u001b[0m\u001b[1;33m\u001b[0m\u001b[1;33m\u001b[0m\u001b[0m\n\u001b[0m\u001b[0;32m      3\u001b[0m \u001b[1;33m\u001b[0m\u001b[0m\n\u001b[0;32m      4\u001b[0m \u001b[0mmon\u001b[0m\u001b[1;33m=\u001b[0m\u001b[0mrng\u001b[0m\u001b[1;33m.\u001b[0m\u001b[0mintegers\u001b[0m\u001b[1;33m(\u001b[0m\u001b[1;36m18500\u001b[0m\u001b[1;33m,\u001b[0m \u001b[1;36m110000\u001b[0m\u001b[1;33m,\u001b[0m \u001b[0msize\u001b[0m\u001b[1;33m=\u001b[0m\u001b[1;36m10\u001b[0m\u001b[1;33m)\u001b[0m\u001b[1;33m\u001b[0m\u001b[1;33m\u001b[0m\u001b[0m\n\u001b[0;32m      5\u001b[0m \u001b[1;33m\u001b[0m\u001b[0m\n",
      "\u001b[1;31mNameError\u001b[0m: name 'random_colour' is not defined"
     ]
    }
   ],
   "source": [
    "pd.set_option('display.max_rows', 50)\n",
    "age=random_colour()\n",
    "\n",
    "mon=rng.integers(18500, 110000, size=10)\n",
    "\n",
    "year1=rng.integers(2017, 2020, size=10)\n",
    "year1\n",
    "\n",
    "df = pd.DataFrame({'age': age.ravel(), 'mon': mon.ravel(), 'year1': year1.ravel()})\n",
    "print (df)\n",
    "\n",
    "stat = sns.scatterplot(x=\"age\", y=\"mon\", hue= \"year1\", data=df)\n",
    "plt.legend()\n",
    "plt.show()"
   ]
  },
  {
   "cell_type": "markdown",
   "metadata": {},
   "source": [
    "##### choice loop: https://stackoverflow.com/questions/41026536/python-random-choice-in-loop-with-if-function-how-to-assign-value-to-each-it"
   ]
  },
  {
   "cell_type": "code",
   "execution_count": null,
   "metadata": {},
   "outputs": [],
   "source": []
  },
  {
   "cell_type": "code",
   "execution_count": null,
   "metadata": {},
   "outputs": [],
   "source": []
  },
  {
   "cell_type": "code",
   "execution_count": null,
   "metadata": {},
   "outputs": [],
   "source": []
  },
  {
   "cell_type": "code",
   "execution_count": null,
   "metadata": {},
   "outputs": [],
   "source": []
  },
  {
   "cell_type": "code",
   "execution_count": null,
   "metadata": {},
   "outputs": [],
   "source": []
  },
  {
   "cell_type": "code",
   "execution_count": null,
   "metadata": {},
   "outputs": [],
   "source": []
  },
  {
   "cell_type": "code",
   "execution_count": null,
   "metadata": {},
   "outputs": [],
   "source": []
  },
  {
   "cell_type": "code",
   "execution_count": null,
   "metadata": {},
   "outputs": [],
   "source": []
  },
  {
   "cell_type": "code",
   "execution_count": 63,
   "metadata": {},
   "outputs": [
    {
     "name": "stdout",
     "output_type": "stream",
     "text": [
      "[[10 20 30]\n",
      " [40 50 60]\n",
      " [70 80 90]]\n",
      "[[100 102 103]\n",
      " [104 105 106]\n",
      " [107 108 109]]\n",
      "[['a' 'b' 'd']\n",
      " ['a' 'b' 'd']\n",
      " ['a' 'b' 'd']]\n",
      "   lat  long val\n",
      "0   10   100   a\n",
      "1   20   102   b\n",
      "2   30   103   d\n",
      "3   40   104   a\n",
      "4   50   105   b\n",
      "5   60   106   d\n",
      "6   70   107   a\n",
      "7   80   108   b\n",
      "8   90   109   d\n"
     ]
    }
   ],
   "source": [
    "lat=np.array([[10, 20, 30],\n",
    "              [40, 50, 60],\n",
    "              [70, 80, 90]])\n",
    "#rng.shuffle(lat)\n",
    "print(lat)\n",
    "\n",
    "long=np.array([[100, 102, 103],\n",
    "              [104, 105, 106],\n",
    "              [107, 108, 109]])\n",
    "#rng.shuffle(long)\n",
    "print(long)\n",
    "\n",
    "val=np.array([['a', 'b', 'd'],\n",
    "              ['a', 'b', 'd'],\n",
    "              ['a', 'b', 'd']])\n",
    "#rng.shuffle(val)\n",
    "print(val)\n",
    "\n",
    "\n",
    "\n",
    "df = pd.DataFrame({'lat': lat.ravel(), 'long': long.ravel(), 'val': val.ravel()})\n",
    "print (df)"
   ]
  },
  {
   "cell_type": "code",
   "execution_count": 64,
   "metadata": {},
   "outputs": [
    {
     "data": {
      "image/png": "[encoded data removed]",
      "text/plain": [
       "<Figure size 432x288 with 1 Axes>"
      ]
     },
     "metadata": {
      "needs_background": "light"
     },
     "output_type": "display_data"
    }
   ],
   "source": [
    "iris = sns.scatterplot(x=\"lat\", y=\"long\", hue= \"val\", data=df)"
   ]
  },
  {
   "cell_type": "markdown",
   "metadata": {},
   "source": [
    "#### reference: https://stackoverflow.com/questions/41873198/pandas-create-a-dataframe-from-2d-numpy-arrays-preserving-their-sequential-orde"
   ]
  },
  {
   "cell_type": "code",
   "execution_count": 97,
   "metadata": {},
   "outputs": [
    {
     "ename": "TypeError",
     "evalue": "data type not understood",
     "output_type": "error",
     "traceback": [
      "\u001b[1;31m---------------------------------------------------------------------------\u001b[0m",
      "\u001b[1;31mTypeError\u001b[0m                                 Traceback (most recent call last)",
      "\u001b[1;32m<ipython-input-97-f55666a7bcfd>\u001b[0m in \u001b[0;36m<module>\u001b[1;34m\u001b[0m\n\u001b[0;32m      3\u001b[0m \u001b[1;31m#rng.shuffle(shuffle1)\u001b[0m\u001b[1;33m\u001b[0m\u001b[1;33m\u001b[0m\u001b[1;33m\u001b[0m\u001b[0m\n\u001b[0;32m      4\u001b[0m \u001b[1;33m\u001b[0m\u001b[0m\n\u001b[1;32m----> 5\u001b[1;33m \u001b[0mnumpy_array2\u001b[0m \u001b[1;33m=\u001b[0m \u001b[0mnp\u001b[0m\u001b[1;33m.\u001b[0m\u001b[0marray\u001b[0m\u001b[1;33m(\u001b[0m \u001b[1;33m[\u001b[0m\u001b[1;36m1\u001b[0m\u001b[1;33m,\u001b[0m \u001b[1;36m10\u001b[0m\u001b[1;33m,\u001b[0m \u001b[1;36m20\u001b[0m\u001b[1;33m]\u001b[0m\u001b[1;33m,\u001b[0m \u001b[1;33m[\u001b[0m\u001b[1;36m1\u001b[0m\u001b[1;33m,\u001b[0m \u001b[1;36m5\u001b[0m\u001b[1;33m,\u001b[0m \u001b[1;36m30\u001b[0m\u001b[1;33m]\u001b[0m \u001b[1;33m)\u001b[0m\u001b[1;33m\u001b[0m\u001b[1;33m\u001b[0m\u001b[0m\n\u001b[0m\u001b[0;32m      6\u001b[0m \u001b[0mrng\u001b[0m\u001b[1;33m.\u001b[0m\u001b[0mshuffle\u001b[0m\u001b[1;33m(\u001b[0m\u001b[0mnumpy_array2\u001b[0m\u001b[1;33m)\u001b[0m\u001b[1;33m\u001b[0m\u001b[1;33m\u001b[0m\u001b[0m\n\u001b[0;32m      7\u001b[0m \u001b[0mnumpy_array2\u001b[0m\u001b[1;33m\u001b[0m\u001b[1;33m\u001b[0m\u001b[0m\n",
      "\u001b[1;31mTypeError\u001b[0m: data type not understood"
     ]
    }
   ],
   "source": [
    "rng = np.random.default_rng()\n",
    "#shuffle1 = np.arange(20).reshape((1, 5, 4))\n",
    "#rng.shuffle(shuffle1)\n",
    "\n",
    "numpy_array2 = np.linspace( [1, 10, 20], [1, 5, 30] )\n",
    "rng.shuffle(numpy_array2)\n",
    "numpy_array2\n",
    "\n",
    "import pandas as pd\n",
    "\n",
    "# Create the dataframe\n",
    "df = pd.DataFrame(numpy_array2, \n",
    "             columns=['a', 'b',\n",
    "                      'c'])\n",
    "print(df)\n",
    "\n",
    "ccc = sns.scatterplot(x = 'c', y = 'b', data = df)\n",
    "plt.show()"
   ]
  },
  {
   "cell_type": "code",
   "execution_count": null,
   "metadata": {},
   "outputs": [],
   "source": []
  },
  {
   "cell_type": "markdown",
   "metadata": {},
   "source": []
  },
  {
   "cell_type": "markdown",
   "metadata": {},
   "source": []
  },
  {
   "cell_type": "markdown",
   "metadata": {},
   "source": []
  },
  {
   "cell_type": "markdown",
   "metadata": {},
   "source": []
  },
  {
   "cell_type": "markdown",
   "metadata": {},
   "source": [
    "## Q3: Explain the use and purpose of at least five “Distributions” functions."
   ]
  },
  {
   "cell_type": "markdown",
   "metadata": {},
   "source": [
    "## Distribution Functions"
   ]
  },
  {
   "cell_type": "code",
   "execution_count": 39,
   "metadata": {},
   "outputs": [],
   "source": [
    "import numpy as np\n",
    "import matplotlib.pyplot as plt\n",
    "import seaborn as sns"
   ]
  },
  {
   "cell_type": "code",
   "execution_count": 40,
   "metadata": {},
   "outputs": [
    {
     "data": {
      "image/png": "[encoded data removed]",
      "text/plain": [
       "<Figure size 720x360 with 4 Axes>"
      ]
     },
     "metadata": {
      "needs_background": "light"
     },
     "output_type": "display_data"
    }
   ],
   "source": [
    "rng = rng = np.random.default_rng()\n",
    "np.random.seed(30)\n",
    "\n",
    "uni = rng.uniform(0,1,1000)\n",
    "tri = rng.triangular(4, 6, 12, 1000)\n",
    "norm = rng.normal(3500, 500, 1000)\n",
    "ral = rng.rayleigh(size=1000)\n",
    "powr = rng.power(5, 1000)\n",
    "\n",
    "plt.figure(figsize = [10, 5])\n",
    "plt.suptitle(\"Histograms of Distribution Functions\")\n",
    "\n",
    "plt.subplot(2, 3, 1)\n",
    "plt.hist(uni)\n",
    "\n",
    "plt.subplot(2, 3, 2)\n",
    "plt.hist(norm)\n",
    "\n",
    "plt.subplot(2, 3, 3)\n",
    "plt.hist(tri)\n",
    "\n",
    "plt.subplot(2, 3, 4)\n",
    "plt.hist(ral)\n",
    "\n",
    "# plt.subplot(2, 3, 5)\n",
    "# plt.hist(powr)\n",
    "\n",
    "plt.show()"
   ]
  },
  {
   "cell_type": "code",
   "execution_count": 41,
   "metadata": {},
   "outputs": [],
   "source": [
    "import numpy as np\n",
    "import matplotlib.pyplot as plt\n",
    "import seaborn as sns"
   ]
  },
  {
   "cell_type": "code",
   "execution_count": 42,
   "metadata": {},
   "outputs": [
    {
     "data": {
      "image/png": "[encoded data removed]",
      "text/plain": [
       "<Figure size 432x288 with 1 Axes>"
      ]
     },
     "metadata": {
      "needs_background": "light"
     },
     "output_type": "display_data"
    }
   ],
   "source": [
    "# Normal Function\n",
    "\n",
    "mu, sigma = 3500, 500 # mean and standard deviation\n",
    "rng = np.random.default_rng().normal(mu, sigma, 1000)\n",
    "\n",
    "plt.hist(rng, bins=50)\n",
    "plt.title(\"Operational Life of Exercise Bike Parts\")\n",
    "plt.xlabel(\"Use of bike parts (hrs)\")\n",
    "plt.ylabel(\"Probability of bike part failure\")\n",
    "plt.show()"
   ]
  },
  {
   "cell_type": "code",
   "execution_count": 43,
   "metadata": {},
   "outputs": [
    {
     "data": {
      "image/png": "[encoded data removed]",
      "text/plain": [
       "<Figure size 432x288 with 1 Axes>"
      ]
     },
     "metadata": {
      "needs_background": "light"
     },
     "output_type": "display_data"
    }
   ],
   "source": [
    "# Triangular Function\n",
    "\n",
    "# Draw values from the distribution and plot the histogram:\n",
    "h = plt.hist(np.random.default_rng().triangular(4, 6, 12, 10000), bins=100,\n",
    "             density=True)\n",
    "plt.title(\"Triangular Distribution: Maintenance Time for Thruster Repair\")\n",
    "plt.xlabel(\"Maintenance Time (hrs)\")\n",
    "plt.ylabel(\"Probability\")\n",
    "plt.show()"
   ]
  },
  {
   "cell_type": "code",
   "execution_count": 44,
   "metadata": {},
   "outputs": [
    {
     "data": {
      "image/png": "[encoded data removed]",
      "text/plain": [
       "<Figure size 432x288 with 1 Axes>"
      ]
     },
     "metadata": {
      "needs_background": "light"
     },
     "output_type": "display_data"
    }
   ],
   "source": [
    "# Power Function\n",
    "\n",
    "gfg = np.random.power(6.75, 500) \n",
    "  \n",
    "plt.figure() \n",
    "plt.hist(gfg, bins = 50, density = True) \n",
    "plt.show()\n",
    "\n",
    "# https://www.geeksforgeeks.org/numpy-random-power-in-python/"
   ]
  },
  {
   "cell_type": "code",
   "execution_count": 45,
   "metadata": {},
   "outputs": [
    {
     "data": {
      "image/png": "[encoded data removed]",
      "text/plain": [
       "<Figure size 432x288 with 1 Axes>"
      ]
     },
     "metadata": {
      "needs_background": "light"
     },
     "output_type": "display_data"
    }
   ],
   "source": [
    "# Uniform Function\n",
    "\n",
    "data = np.random.uniform(0,1,1000) # You are generating 1000 points between 0 and 1.\n",
    "count, bins, ignored = plt.hist(data, 20, facecolor='green') \n",
    "\n",
    "plt.xlabel('X~U[0,1]')\n",
    "plt.ylabel('Count')\n",
    "plt.title(\"Uniform Distribution Histogram (Bin size 20)\")\n",
    "plt.axis([0, 1, 0, 100]) # x_start, x_end, y_start, y_end\n",
    "plt.grid(True)\n",
    "\n",
    "plt.show(block = False)\n",
    "\n",
    "# https://stackoverflow.com/questions/22744577/plotting-basic-uniform-distribution-on-python"
   ]
  },
  {
   "cell_type": "code",
   "execution_count": 46,
   "metadata": {},
   "outputs": [
    {
     "data": {
      "image/png": "[encoded data removed]",
      "text/plain": [
       "<Figure size 432x288 with 1 Axes>"
      ]
     },
     "metadata": {
      "needs_background": "light"
     },
     "output_type": "display_data"
    },
    {
     "data": {
      "image/png": "[encoded data removed]",
      "text/plain": [
       "<Figure size 432x288 with 1 Axes>"
      ]
     },
     "metadata": {
      "needs_background": "light"
     },
     "output_type": "display_data"
    }
   ],
   "source": [
    "# Rayleigh Function\n",
    "\n",
    "rng = rng = np.random.default_rng()\n",
    "sns.distplot(rng.rayleigh(size=1000), hist=True)\n",
    "plt.show()\n",
    "\n",
    "\n",
    "data = np.random.uniform(0,1,1000) # You are generating 1000 \n",
    "count, bins, ignored = plt.hist(data, 20, facecolor='green') "
   ]
  },
  {
   "cell_type": "markdown",
   "metadata": {},
   "source": [
    "### power function explained - numpy.random.Generator.power"
   ]
  },
  {
   "cell_type": "code",
   "execution_count": 47,
   "metadata": {},
   "outputs": [],
   "source": [
    "import numpy as np\n",
    "import matplotlib.pyplot as plt"
   ]
  },
  {
   "cell_type": "code",
   "execution_count": 48,
   "metadata": {},
   "outputs": [
    {
     "name": "stdout",
     "output_type": "stream",
     "text": [
      "16\n"
     ]
    }
   ],
   "source": [
    "# Raise an integer into an average power\n",
    "import numpy as np\n",
    "y = np.power(4,2)\n",
    "print(y)"
   ]
  },
  {
   "cell_type": "code",
   "execution_count": 49,
   "metadata": {},
   "outputs": [
    {
     "name": "stdout",
     "output_type": "stream",
     "text": [
      "16\n"
     ]
    }
   ],
   "source": [
    "# Raise an integer into an average power\n",
    "import numpy as np\n",
    "y = np.power(4,2)\n",
    "print(y)"
   ]
  },
  {
   "cell_type": "code",
   "execution_count": 50,
   "metadata": {},
   "outputs": [
    {
     "name": "stdout",
     "output_type": "stream",
     "text": [
      "Elements of a raised to the power elements of b are: \n",
      "[    1     5    49   729 14641]\n"
     ]
    }
   ],
   "source": [
    "# Power When Both Base And Exponents Are Arrays\n",
    "import numpy as np\n",
    " \n",
    "#Declaring a and b\n",
    "a = [3, 5, 7, 9, 11]\n",
    "b = [0, 1, 2, 3, 4]\n",
    " \n",
    "print(\"Elements of a raised to the power elements of b are: \")\n",
    "print(np.power(a, b))"
   ]
  },
  {
   "cell_type": "code",
   "execution_count": 51,
   "metadata": {},
   "outputs": [
    {
     "name": "stdout",
     "output_type": "stream",
     "text": [
      "[[ 0  1  4  9 16]\n",
      " [16  9  4  1  0]\n",
      " [16  0  1  4  9]\n",
      " [ 9 16  0  1  4]]\n"
     ]
    }
   ],
   "source": [
    "# Calculate Exponents With Multi-Dimensional Numpy Array\n",
    "a = np.array([[0,1,2,3,4],[4,3,2,1,0],[4,0,1,2,3],[3,4,0,1,2]])\n",
    "b = [2, 2, 2, 2, 2]\n",
    "print(np.power(a,b))"
   ]
  },
  {
   "cell_type": "markdown",
   "metadata": {},
   "source": [
    "Note: raising a number or an array to a negative numner, or an array that contains even 1 negative number will result in an error:"
   ]
  },
  {
   "cell_type": "code",
   "execution_count": 52,
   "metadata": {},
   "outputs": [
    {
     "ename": "ValueError",
     "evalue": "Integers to negative integer powers are not allowed.",
     "output_type": "error",
     "traceback": [
      "\u001b[1;31m---------------------------------------------------------------------------\u001b[0m",
      "\u001b[1;31mValueError\u001b[0m                                Traceback (most recent call last)",
      "\u001b[1;32m<ipython-input-52-08703236151d>\u001b[0m in \u001b[0;36m<module>\u001b[1;34m\u001b[0m\n\u001b[0;32m      5\u001b[0m \u001b[0mb\u001b[0m \u001b[1;33m=\u001b[0m \u001b[1;33m[\u001b[0m\u001b[1;36m0\u001b[0m\u001b[1;33m,\u001b[0m \u001b[1;33m-\u001b[0m\u001b[1;36m1\u001b[0m\u001b[1;33m,\u001b[0m \u001b[1;36m2\u001b[0m\u001b[1;33m,\u001b[0m \u001b[1;36m3\u001b[0m\u001b[1;33m,\u001b[0m \u001b[1;36m4\u001b[0m\u001b[1;33m]\u001b[0m\u001b[1;33m\u001b[0m\u001b[1;33m\u001b[0m\u001b[0m\n\u001b[0;32m      6\u001b[0m \u001b[1;33m\u001b[0m\u001b[0m\n\u001b[1;32m----> 7\u001b[1;33m \u001b[0mprint\u001b[0m\u001b[1;33m(\u001b[0m\u001b[0mnp\u001b[0m\u001b[1;33m.\u001b[0m\u001b[0mpower\u001b[0m\u001b[1;33m(\u001b[0m\u001b[0ma\u001b[0m\u001b[1;33m,\u001b[0m \u001b[0mb\u001b[0m\u001b[1;33m)\u001b[0m\u001b[1;33m)\u001b[0m\u001b[1;33m\u001b[0m\u001b[1;33m\u001b[0m\u001b[0m\n\u001b[0m",
      "\u001b[1;31mValueError\u001b[0m: Integers to negative integer powers are not allowed."
     ]
    }
   ],
   "source": [
    "import numpy as np\n",
    " \n",
    "#Declaring a and b\n",
    "a = [3, 5, 7, 9, 11]\n",
    "b = [0, -1, 2, 3, 4]\n",
    "\n",
    "print(np.power(a, b))"
   ]
  },
  {
   "cell_type": "markdown",
   "metadata": {},
   "source": [
    "#### Reference: https://www.pythonpool.com/numpy-power/"
   ]
  },
  {
   "cell_type": "code",
   "execution_count": null,
   "metadata": {},
   "outputs": [],
   "source": [
    "from scipy.optimize import curve_fit\n",
    "\n",
    "offset, scale, a, nsamples = 240, -140, 3.5, 500000\n",
    "bkg = offset + scale*np.random.power(a, nsamples)  \n",
    "# values range between (offset, offset+scale), which map to 0 and 1\n",
    "nbins = 100\n",
    "\n",
    "count, bins, ignored = plt.hist(bkg, \n",
    "                bins=nbins, histtype='stepfilled', edgecolor='none')"
   ]
  },
  {
   "cell_type": "markdown",
   "metadata": {},
   "source": [
    "##### Reference: https://stackoverflow.com/questions/37595398/how-to-obtain-perfect-fit-from-np-random-power-function"
   ]
  },
  {
   "cell_type": "code",
   "execution_count": null,
   "metadata": {},
   "outputs": [],
   "source": [
    "rng = np.random.default_rng()\n",
    "a = 5 #shape\n",
    "samples = 1000\n",
    "s = rng.power(a, samples)"
   ]
  },
  {
   "cell_type": "code",
   "execution_count": null,
   "metadata": {},
   "outputs": [],
   "source": [
    "count, bins, ignored = plt.hist(s, bins=30)\n",
    "x = np.linspace(0, 1, 100)\n",
    "y = a*x**(a, 1)\n",
    "normed_y = samples*np.diff(bins)[0]*y\n",
    "plt.plot(x, normed_y)\n",
    "plt.show()"
   ]
  },
  {
   "cell_type": "markdown",
   "metadata": {},
   "source": [
    "================================================================="
   ]
  },
  {
   "cell_type": "markdown",
   "metadata": {},
   "source": [
    "### normal function explained - numpy.random.Generator.normal"
   ]
  },
  {
   "cell_type": "markdown",
   "metadata": {},
   "source": [
    "### 3.3.1. The Normal Distribution Function - numpy.random.Generator.normal"
   ]
  },
  {
   "cell_type": "markdown",
   "metadata": {},
   "source": [
    "#### Formula\n",
    "\n",
    "##### <font color='blue'>np.random.default_rng().normal(mu, sigma, size{int or tuple)</font>    \n",
    "*where mu = mean, or \"centre\" and sigma = standard deviation*"
   ]
  },
  {
   "cell_type": "markdown",
   "metadata": {},
   "source": [
    "<img src=\"https://i2.wp.com/www.sharpsightlabs.com/wp-content/uploads/2018/12/numpy-random-normal-syntax-explanation.png?w=600&ssl=1\" alt=\"Drawing\" style=\"width: 600px;\"/>\n",
    "\n",
    "*Image from sharpsightlabs.com*       "
   ]
  },
  {
   "cell_type": "markdown",
   "metadata": {},
   "source": [
    "\n",
    "#### Significance\n",
    "\n",
    "Calling on numpy.random.normal will transform data into the Normal or Gaussian distribution. It is also known as the bell-curve, however, there are other distributions that resemble this shape, so Normal or Gaussian is preferred. The primary characteristic of the Normal Distribution is that the mean, the median and the mode are the same. The application of the Normal Distribution is not refined to Statitics, rather it has broad reaching consequences for the natural sciences, such as Electronic Spectroscopy (Salman, 2017). Furthermore, it has found application in the study of psychological and physical phenomena (e.g. IQ scores and heartbeat)."
   ]
  },
  {
   "cell_type": "markdown",
   "metadata": {},
   "source": [
    "A well-known application of the Normal Distribution is the Covid-19 healthcare capacity curve that was discussed broadly by governments around the world as a justification for imposing lockdown to reduce casualties of the virus. The model displays two Gaussian curves, one that has a high peak, representing high ICU demand and a model where demand is kept low by restrictive measures. The graph is presented below:\n",
    "\n",
    "\n",
    "![](https://i.stack.imgur.com/sCwiV.png)"
   ]
  },
  {
   "cell_type": "markdown",
   "metadata": {},
   "source": [
    "Reference: Salman R. Salman, 'Electronic Spectroscopy, Study of Chemical Reactions', in Encyclopedia of Spectroscopy and Spectrometry (Third Edition), 2017 - url: https://www.sciencedirect.com/topics/biochemistry-genetics-and-molecular-biology/gaussian-distribution"
   ]
  },
  {
   "cell_type": "markdown",
   "metadata": {},
   "source": [
    "#### Basic Use in Numpy.random\n",
    "The parameter 'loc' requires a float reflecting the Mean vector of the sample data. 'Scale' requires the standard deviation as a float. 'Size' can be an integer or a tuple of ints, a single integer will reflect the size of the data, whilst a tuple such as (m, n, k) will draw samples in the form *m * n * k*. \n",
    "\n",
    "An example of the basic use of the Normal Distribution function is seen below:"
   ]
  },
  {
   "cell_type": "code",
   "execution_count": 53,
   "metadata": {},
   "outputs": [
    {
     "data": {
      "text/plain": [
       "array([22.04821924, 19.04558325, 27.17006668, 18.15547023, 16.58231767,\n",
       "        2.72846674, 29.28356718, 19.98691973, 11.53813265, 17.26074819])"
      ]
     },
     "execution_count": 53,
     "metadata": {},
     "output_type": "execute_result"
    }
   ],
   "source": [
    "rng = np.random.default_rng()\n",
    "# Set the mean and standard deviation values:\n",
    "mu, sigma = 20, 6\n",
    "normal_1 = np.random.normal(mu, sigma, 10)\n",
    "\n",
    "normal_1"
   ]
  },
  {
   "cell_type": "markdown",
   "metadata": {},
   "source": [
    "We gather a greater idea of how the random.normal() function works if we graph a sample of normally distributed random data on a histogram. By plotting this histogram against the histogram of uniformly distributed data created using the linspace() function, we can gain an understanding of the shape of the 'Bell-Curve' and more importantly, how numpy.random recreates this naturally occurring phenomena with random data. The graph below utilises Seaborn to illustrate this:"
   ]
  },
  {
   "cell_type": "code",
   "execution_count": 54,
   "metadata": {},
   "outputs": [
    {
     "data": {
      "image/png": "[encoded data removed]",
      "text/plain": [
       "<Figure size 432x288 with 1 Axes>"
      ]
     },
     "metadata": {
      "needs_background": "light"
     },
     "output_type": "display_data"
    }
   ],
   "source": [
    "import seaborn as sns\n",
    "\n",
    "b = np.linspace(5, 10, 1000)\n",
    "c = np.random.normal(b)\n",
    "sns.distplot(c)\n",
    "sns.distplot(b)\n",
    "plt.show()"
   ]
  },
  {
   "cell_type": "markdown",
   "metadata": {},
   "source": [
    "#### Visualising the Normal Distribution\n",
    "A company that produces exercise bikes wish to examine the life-time of the internal parts of the bike in hours. The deartment that has marketed the bike has pledged to customers that the bike will last up to 4500 hours of use, as such it is important for the manufacturers to understand how many of the parts will fail after 4500 hours of use. After carrying out analysis, they have determined that the mean number of hours that the parts will remain functional at is 3500 hours and the standard deviation is determined to be 500 hours. As stated above, only the mean and standard deviation must be known to create a useful probability density function and a histogram of this data.\n",
    "\n",
    "Using Numpy's Random package, we can create a 1-dimensinal array of random normal data reflecting instances made during the inspection of the exercise bike parts.\n",
    "\n",
    "In the below example, loc is set to 3500, scale is set to 500 and size is set to 1000 (the minimum number of bike parts that must be examined to determine their lifespan)."
   ]
  },
  {
   "cell_type": "code",
   "execution_count": 55,
   "metadata": {},
   "outputs": [
    {
     "data": {
      "image/png": "[encoded data removed]",
      "text/plain": [
       "<Figure size 432x288 with 1 Axes>"
      ]
     },
     "metadata": {
      "needs_background": "light"
     },
     "output_type": "display_data"
    }
   ],
   "source": [
    "\n",
    "mu, sigma = 3500, 500 # mean and standard deviation\n",
    "# Create variable and assign normal function with mean,\n",
    "# standard deviation and size as inputs\n",
    "rng = np.random.default_rng().normal(mu, sigma, 1000)\n",
    "# Create distplt using Seaborn and format\n",
    "sns.distplot(rng, axlabel=\"Use of Bike Parts (hrs)\")\n",
    "plt.title(\"Operational Life of Exercise Bike Parts\")\n",
    "plt.show()"
   ]
  },
  {
   "cell_type": "markdown",
   "metadata": {},
   "source": [
    "*From the above graph, it can be seen that less than 5% of 1000 bike parts examined survived after 4500 hours of use. From these 1000 pseudo-randomly generated numbers, the bike produces can present information to the marketing department, advising them to lower the guaranteed bike lifespan presented to customers.*"
   ]
  },
  {
   "cell_type": "markdown",
   "metadata": {},
   "source": [
    "=================================================================="
   ]
  },
  {
   "cell_type": "markdown",
   "metadata": {},
   "source": [
    "### The Rayleigh Distribution Function - numpy.random.Generator.rayleigh"
   ]
  },
  {
   "cell_type": "markdown",
   "metadata": {},
   "source": [
    "#### Formula\n",
    "\n",
    "##### <font color='blue'>np.random.default_rng().rayleigh(scale, size(int or tuple of ints))</font>\n",
    "*where scale must be non-negative (defaulted to 1) and size determines shape (defaulted to a single value)\n"
   ]
  },
  {
   "cell_type": "markdown",
   "metadata": {},
   "source": [
    "#### Significance\n",
    "\n",
    "This distribution was first conceptualised by John Raleigh in 1887. Since then it has become widely used in various realms of science. It is used in commnications to model the pathways of signals to reveivers. It has also found widespread use in the modelling of wind speed and in the measure of light radiation. However, this project will look at Raleigh's original use of the model in terms of wave height and how this can be modelled with Numpy.\n"
   ]
  },
  {
   "cell_type": "markdown",
   "metadata": {},
   "source": [
    "#### Application"
   ]
  },
  {
   "cell_type": "markdown",
   "metadata": {},
   "source": [
    "Raleigh showed that the distribution could be used to reflect the amplitude of wave heights. The distribution of random wave heights could be descirbed with any of the following formulas:"
   ]
  },
  {
   "cell_type": "code",
   "execution_count": 95,
   "metadata": {},
   "outputs": [
    {
     "data": {
      "image/png": "[encoded data removed]",
      "text/plain": [
       "<IPython.core.display.Image object>"
      ]
     },
     "execution_count": 95,
     "metadata": {},
     "output_type": "execute_result"
    }
   ],
   "source": [
    "from IPython.display import Image\n",
    "Image(r'C:\\Users\\HP\\Programming 52465\\52465-Assignment\\.ipynb_checkpoints\\waveheights.png')"
   ]
  },
  {
   "cell_type": "markdown",
   "metadata": {},
   "source": [
    "The random values of H in the above formula can be discovered once one of the following measurements is known:\n",
    "\n",
    "* Hmode = modal or most common wave height\n",
    "* Hmean = mean or average wave height\n",
    "* HRMS = root-mean-square wave height.\n",
    "\n",
    "An even better way to visualise the elements of this equation is found in the image below, where the variables are graphed over the profile of wave:   \n",
    "\n",
    "<img src=\"https://images.slideplayer.com/19/5892025/slides/slide_11.jpg\" alt=\"Drawing\" style=\"width: 600px;\"/>"
   ]
  },
  {
   "cell_type": "code",
   "execution_count": 96,
   "metadata": {},
   "outputs": [
    {
     "data": {
      "image/png": "[encoded data removed]",
      "text/plain": [
       "<Figure size 432x288 with 1 Axes>"
      ]
     },
     "metadata": {
      "needs_background": "light"
     },
     "output_type": "display_data"
    }
   ],
   "source": [
    "# Rayleigh Function\n",
    "\n",
    "rng = rng = np.random.default_rng()\n",
    "sns.distplot(rng.rayleigh(size=1000), hist=True)\n",
    "plt.show()"
   ]
  },
  {
   "cell_type": "markdown",
   "metadata": {},
   "source": [
    "##### Reference: https://encyclopediaofmath.org/wiki/Rayleigh_distribution#:~:text=A%20Rayleigh%20distribution%20is%20mainly,the%20addition%20of%20harmonic%20oscillations."
   ]
  },
  {
   "cell_type": "markdown",
   "metadata": {},
   "source": [
    "=================================================================="
   ]
  },
  {
   "cell_type": "markdown",
   "metadata": {},
   "source": [
    "### The Triangular Distribution Function - numpy.random.Generator.triangular"
   ]
  },
  {
   "cell_type": "markdown",
   "metadata": {},
   "source": [
    "#### Formula\n",
    "\n",
    "##### <font color='blue'>np.random.default_rng().triangular(lower-limit, mode, upper-limit, size{int or tuple)</font>\n",
    "*where left <= mode <= right and mode = the peak of the distribution.*"
   ]
  },
  {
   "cell_type": "markdown",
   "metadata": {},
   "source": [
    "http://www.math.wm.edu/~leemis/chart/UDR/PDFs/Standardtriangular.pdf"
   ]
  },
  {
   "cell_type": "markdown",
   "metadata": {},
   "source": [
    "#### History and Significance\n",
    "\n",
    "The development of the Trinagular Distribution dates back to the 18th Century mathematician Thomas Simpson. According to Seal (1949), Simpson envisioned a distribution that could mathematically represent the method practiced by astronomers, of taking the mean of a number of observations and using this to reduce the defections arising from human error and instrumentational limits. Kotz (2004) explains that Simpson stated that the triangular distribution should be employed to limit errors in obersations to within ± 1 and that this was the first time a continuous (or symmetric) probability law was introduced. This situates the triangular distribution amongst the first continuous distributions of the 18th Century.\n",
    "\n",
    "Today, the Triangular Distribution finds application primariy for populations of data that is scarce and is used in a subjective manner, rather than as a rigid and well-defined tool of analysis. It is understandable, therefore, that it has its roots in the attempt by Simpson to mitigate the errors made in observations made when data was significantly more difficult to collect. The distribution is commonly used in audio dithering, or in project management, where it is used to used to model events within an interval determined by the minimum and maximum value.\n",
    "\n",
    "\n",
    "##### Reference: Seal, H. L. 1949. The historical development of the use of generating functions in probability theory. Bulletin de I’ Association des Actuaires suisses 49, 209-228. (Reprinted in Kendall & Packett 1977.) \n",
    "\n",
    "##### Reference: By (author): Samuel Kotz, Beyond Beta, December 2004 (The George Washington University, USA) and Johan René van Dorp (The George Washington University, USA) - https://pdfs.semanticscholar.org/0a47/b8938024fc12bbb20de241c63a786f332455.pdf"
   ]
  },
  {
   "cell_type": "markdown",
   "metadata": {},
   "source": [
    "#### Example of triangular distribution use:\n",
    "Mathmatician Lawrence Leemis, whilst working for Nasa in the 1980's, was asked to estimate the time that would be required to do some maintenance work on a thruster for the yet unbuilt International Space Station. Leemis consulted with an senior engineer within Nasa, who had experience on projects where similar maintenance work was carried out on satellites in low-Earth orbit. From this consultation, Leemis came up with a minimum, a mode and a maximum amount of time taken to perform the maintenance work. The figures were 4 hours, 6 hours and 12 hours respectively. As such, Leemis' data presented itself in a triangular distribution. \n",
    "\n",
    "Triangular distribution requires very little input data to carry out a simulation, just the three inputs that Leemis used in the above example will suffice. \n",
    "\n",
    "Utilising Leemis' investigation as an example, we can generate random figures using the numpy.random.triangular() function.\n",
    "We will also be required to input the amount of observations we wish to randomly generate. In order to create a useful graph, we will use a figure that is much higher than is likey to have been carried out in low-Earth orbit maintenance work. By using an input of 10000, we are presented with a probability density function in a triangular formation.\n",
    "\n",
    "The probability is represented on the y-axis and the time taken is represented on the x-axis.\n",
    "\n",
    "In the below code, 10000 pseudo-random vectors have been created, each representing a hypothethical Nasa maintenance mission. The peak of the ditribution is at 6 hours, with a slope in either direction to the minimum and maximum time limits. \n",
    "\n",
    "If the maximum abount of time an astronaut could spend on a maintenance mission was 10 hours, utilising the randomly generated data and graph below, it could be determined that there is roughly a 12.5% probability of exceeding this limit. \n",
    "\n",
    "##### Reference: Leemis, Lawrence, 'Reliability: Probabilistic Models and Statistical Methods', First Edition, 1995, Prentice-Hall. ISBN: 0-13-720517-1 - http://www.math.wm.edu/~leemis/"
   ]
  },
  {
   "cell_type": "markdown",
   "metadata": {},
   "source": [
    "#### Visualising Numpy's Tiangular Distribution Function\n",
    "\n",
    "Below is histogram that simulates Leemis' research on maintenance on thrusters:"
   ]
  },
  {
   "cell_type": "code",
   "execution_count": 57,
   "metadata": {},
   "outputs": [
    {
     "data": {
      "image/png": "[encoded data removed]",
      "text/plain": [
       "<Figure size 432x288 with 1 Axes>"
      ]
     },
     "metadata": {
      "needs_background": "light"
     },
     "output_type": "display_data"
    }
   ],
   "source": [
    "# Set constructor function as 'rng'\n",
    "rng = np.random.default_rng()\n",
    "# Generate a random sample using triangular function and inputs\n",
    "# for low, mode, high and number of datapoints.\n",
    "tri1 = rng.triangular(4, 6, 12, 10000)\n",
    "# Plot a distplot with Seaborn\n",
    "sns.distplot(tri1, axlabel=\"Maintenance Time(hrs)\")\n",
    "plt.title(\"Triangular Distribution: Time for Thruster Repair\")\n",
    "plt.show()"
   ]
  },
  {
   "cell_type": "markdown",
   "metadata": {},
   "source": [
    "##### Reference: https://uk.mathworks.com/help/stats/triangular-distribution.html"
   ]
  },
  {
   "cell_type": "markdown",
   "metadata": {},
   "source": [
    "============================================================================================================="
   ]
  },
  {
   "cell_type": "markdown",
   "metadata": {},
   "source": [
    "### The Uniform Distribution - numpy.random.Generator.uniform"
   ]
  },
  {
   "cell_type": "markdown",
   "metadata": {},
   "source": [
    "#### Parameters and Formula\n",
    "\n",
    "##### <font color='blue'>np.random.default_rng().uniform(low, high, size{int or tuple)</font>\n",
    "*where low is for the lower boundary of the output and high is for the higher boundary.*"
   ]
  },
  {
   "cell_type": "markdown",
   "metadata": {},
   "source": [
    "#### Significance\n",
    "\n",
    "The origin of the Continuous Uniform Distribution are difficult to pinpoint. It may be more worthwhile to investigate the origin of the concept of Equiprobability. Equiprobability is where the collection of a series of events all possess equil, or uniform, probability of occurring. This developed both from the philosophical concept of Equipossibility, but also from the more grounded Equiprobability application of rolling dice. It is intuitive that it is equally ikely for a rolling die to land on any one of its six faces. This sort of uniformity is particularly useful in computer programming, where creating uniform probability is highly desirable. It is from this aspect of Equiprobability that Numpy utilises the random.uniform distribution.\n",
    "\n",
    "The Uniform Distribution, in contrast to the Normal Distribution, does not have much expression in the natral world. As previusly stated, the uniform distribution is present in the rolling of dice, it is also seen in a deck of cards, where each card is equally likely to occur. Unsurprisingly, it is in the generation of pseudo-random numbers, throgh alogrithms, such as Numpy, that the Uniform Distribution is applied with most benefit. Numpy's Simple Random Data functions all create data that is uniformly distributed. "
   ]
  },
  {
   "cell_type": "markdown",
   "metadata": {},
   "source": [
    "#### Basic Command Specifics"
   ]
  },
  {
   "cell_type": "code",
   "execution_count": 97,
   "metadata": {},
   "outputs": [
    {
     "data": {
      "image/png": "[encoded data removed]",
      "text/plain": [
       "<Figure size 432x288 with 1 Axes>"
      ]
     },
     "metadata": {
      "needs_background": "light"
     },
     "output_type": "display_data"
    }
   ],
   "source": [
    "import numpy as np\n",
    "import matplotlib.pyplot as plt\n",
    "import seaborn as sns\n",
    "rng = np.random.default_rng()\n",
    "uni1 = rng.uniform(10, 30, (20, 100))\n",
    "uni2 = rng.uniform(40, 70, (20, 1000))\n",
    "uni3 = rng.uniform(80, 110, (20, 500000))\n",
    "sns.distplot(uni1, label=\"uni1\")\n",
    "sns.distplot(uni2, label=\"uni2\")\n",
    "sns.distplot(uni3, label=\"uni3\")\n",
    "plt.legend()\n",
    "plt.show()\n"
   ]
  },
  {
   "cell_type": "markdown",
   "metadata": {},
   "source": [
    "In the above example it is clear from the distplot created for uni3 that the distribution of data is completely uniform. 50000 random numbers is seemingly more than enough to present a plot of uniform appearance. As there are less random vectors created for 'uni1' and 'uni2', the uniformity is not obvious. This is because the uniform function is creating random numbers in the given range and with a lower range of data point, the randomness will present the distribution as seemingly non-uniform. "
   ]
  },
  {
   "cell_type": "markdown",
   "metadata": {},
   "source": [
    "======================================================================================================================"
   ]
  },
  {
   "cell_type": "markdown",
   "metadata": {},
   "source": [
    "### The Wald Distribution Function - numpy.random.Generator.uniform"
   ]
  },
  {
   "cell_type": "markdown",
   "metadata": {},
   "source": [
    "#### Forumula\n",
    "\n",
    "##### <font color='blue'>np.random.default_rng().wald(mean, scale, size(int or tuple of ints)</font>\n",
    "*where the mean must be >0, scale must be >0 and size determines shape (defaulted to 0)*"
   ]
  },
  {
   "cell_type": "markdown",
   "metadata": {},
   "source": [
    "#### Significance\n",
    "\n",
    "The Wald Distribution is more often known as the Inverse Gaussian Distribution or Inverse Normal. The Wald has a similar shape to the Weibull Distribution but is easier to predict since the former takes 2 parameters, but the latter takes three. The Inverse Gaussian distribution has its origins in Shrödinger's study of Brownian motion. However, it also hold applications in modellng stock returns and interest rate process and in electrical engineering (Sato and Inoue, 1994)."
   ]
  },
  {
   "cell_type": "markdown",
   "metadata": {},
   "source": [
    "##### references: https://www.statisticshowto.com/inverse-gaussian/\n",
    "Shunsuke Sato  Junko Inoue, Inverse gaussian distribution and its application, Electronics and Communications in Japan (Part III: Fundamental Electronic Science), 1994, url: https://onlinelibrary.wiley.com/doi/abs/10.1002/ecjc.4430770104\n"
   ]
  },
  {
   "cell_type": "markdown",
   "metadata": {},
   "source": [
    "#### Visualising the Inverse Gaussian Distribution\n",
    "\n",
    "Numpy's Wald function wil simulate random data in a right-skewed distribution bounded at 0. In the image below, 3 variations of the Inverse Gaussian distribution are seen. \n",
    "* The blue line is where mean and scale are both input as 1.\n",
    "* The red line distributes data at mean 1 and scale 10, resulting in a higher peak.\n",
    "* The black line has mean at 2 and scale at 4, resulting in the distribution being spaced out along the x-axis.  "
   ]
  },
  {
   "cell_type": "markdown",
   "metadata": {},
   "source": [
    "![](https://www.vosesoftware.com/riskwiki/images/image2c33.gif)"
   ]
  },
  {
   "cell_type": "markdown",
   "metadata": {},
   "source": [
    "##### Reference: https://www.vosesoftware.com/riskwiki/InverseGaussiandistribution.php"
   ]
  },
  {
   "cell_type": "markdown",
   "metadata": {},
   "source": [
    "#### Basic Use With Numpy"
   ]
  },
  {
   "cell_type": "markdown",
   "metadata": {},
   "source": [
    "https://www.tandfonline.com/doi/full/10.1080/02664763.2018.1542668\n"
   ]
  },
  {
   "cell_type": "markdown",
   "metadata": {},
   "source": []
  },
  {
   "cell_type": "markdown",
   "metadata": {},
   "source": []
  },
  {
   "cell_type": "markdown",
   "metadata": {},
   "source": []
  },
  {
   "cell_type": "markdown",
   "metadata": {},
   "source": [
    "=============================================================="
   ]
  },
  {
   "cell_type": "markdown",
   "metadata": {},
   "source": [
    "#### Subplots of 5 Distribution Functions"
   ]
  },
  {
   "cell_type": "code",
   "execution_count": 121,
   "metadata": {},
   "outputs": [
    {
     "data": {
      "image/png": "[encoded data removed]",
      "text/plain": [
       "<Figure size 720x360 with 5 Axes>"
      ]
     },
     "metadata": {
      "needs_background": "light"
     },
     "output_type": "display_data"
    }
   ],
   "source": [
    "rng = rng = np.random.default_rng()\n",
    "\n",
    "uni = rng.uniform(0,1,10000) \n",
    "tri = rng.triangular(4, 6, 12, 10000)\n",
    "norm = rng.normal(3500, 500, 10000)\n",
    "ral = rng.rayleigh(size=10000)\n",
    "powr = rng.power(5, 1000)\n",
    "\n",
    "plt.figure(figsize = [10, 5])\n",
    "plt.suptitle(\"Histograms of Distribution Functions\")\n",
    "\n",
    "plt.subplot(2, 3, 1)\n",
    "plt.hist(uni)\n",
    "\n",
    "plt.subplot(2, 3, 2)\n",
    "plt.hist(norm)\n",
    "\n",
    "plt.subplot(2, 3, 3)\n",
    "plt.hist(tri)\n",
    "\n",
    "plt.subplot(2, 3, 4)\n",
    "plt.hist(ral)\n",
    "\n",
    "plt.subplot(2, 3, 5)\n",
    "plt.hist(powr)\n",
    "\n",
    "plt.show()"
   ]
  },
  {
   "cell_type": "markdown",
   "metadata": {},
   "source": [
    "### power function explained - numpy.random.Generator.power\n",
    "**method:**\n",
    "\n",
    "Generator.power(a, size=None). Draws samples in [0, 1] from a power distribution with positive exponent a - 1. Also known as the power function distribution.\n",
    "\n",
    "##### Parameters\n",
    "**a:** float or array_like of floats. Parameter of the distribution. Must be non-negative.\n",
    "\n",
    "**size:** int or tuple of ints, optional. Output shape. If the given shape is, e.g., (m, n, k), then m * n * k samples are drawn. If size is None (default), a single value is returned if a is a scalar. Otherwise, np.array(a).size samples are drawn.\n",
    "\n",
    "##### Returns\n",
    "**out:** ndarray or scalar. Drawn samples from the parameterized power distribution.\n",
    "\n",
    "##### Raises\n",
    "ValueError\n",
    "If a < 1."
   ]
  },
  {
   "cell_type": "code",
   "execution_count": 83,
   "metadata": {
    "collapsed": true
   },
   "outputs": [
    {
     "name": "stdout",
     "output_type": "stream",
     "text": [
      "16\n"
     ]
    }
   ],
   "source": [
    "# Raise an integer into an average power\n",
    "import numpy as np\n",
    "y = np.power(4,2)\n",
    "print(y)"
   ]
  },
  {
   "cell_type": "code",
   "execution_count": 73,
   "metadata": {},
   "outputs": [
    {
     "name": "stdout",
     "output_type": "stream",
     "text": [
      "[  5  50 100]\n",
      "\n",
      "\n",
      "[   25  2500 10000]\n"
     ]
    }
   ],
   "source": [
    "# Calculate Exponents Of An Array Of Numbers\n",
    "a = np.array([5,50,100])  \n",
    "print(a) \n",
    "print('\\n')   \n",
    "print(np.power(a,2))"
   ]
  },
  {
   "cell_type": "code",
   "execution_count": 86,
   "metadata": {},
   "outputs": [
    {
     "name": "stdout",
     "output_type": "stream",
     "text": [
      "Elements of a raised to the power elements of b are: \n",
      "[    1     5    49   729 14641]\n"
     ]
    }
   ],
   "source": [
    "# Power When Both Base And Exponents Are Arrays\n",
    "import numpy as np\n",
    " \n",
    "#Declaring a and b\n",
    "a = [3, 5, 7, 9, 11]\n",
    "b = [0, 1, 2, 3, 4]\n",
    " \n",
    "print(\"Elements of a raised to the power elements of b are: \")\n",
    "print(np.power(a, b))"
   ]
  },
  {
   "cell_type": "code",
   "execution_count": 79,
   "metadata": {},
   "outputs": [
    {
     "name": "stdout",
     "output_type": "stream",
     "text": [
      "[[ 0  1  4  9 16]\n",
      " [16  9  4  1  0]\n",
      " [16  0  1  4  9]\n",
      " [ 9 16  0  1  4]]\n"
     ]
    }
   ],
   "source": [
    "# Calculate Exponents With Multi-Dimensional Numpy Array\n",
    "a = np.array([[0,1,2,3,4],[4,3,2,1,0],[4,0,1,2,3],[3,4,0,1,2]])\n",
    "b = [2, 2, 2, 2, 2]\n",
    "print(np.power(a,b))"
   ]
  },
  {
   "cell_type": "markdown",
   "metadata": {},
   "source": [
    "##### Note: raising a number or an array to a negative numner, or an array that contains even 1 negative number will result in an error:"
   ]
  },
  {
   "cell_type": "code",
   "execution_count": 89,
   "metadata": {},
   "outputs": [
    {
     "ename": "ValueError",
     "evalue": "Integers to negative integer powers are not allowed.",
     "output_type": "error",
     "traceback": [
      "\u001b[1;31m---------------------------------------------------------------------------\u001b[0m",
      "\u001b[1;31mValueError\u001b[0m                                Traceback (most recent call last)",
      "\u001b[1;32m<ipython-input-89-08703236151d>\u001b[0m in \u001b[0;36m<module>\u001b[1;34m\u001b[0m\n\u001b[0;32m      5\u001b[0m \u001b[0mb\u001b[0m \u001b[1;33m=\u001b[0m \u001b[1;33m[\u001b[0m\u001b[1;36m0\u001b[0m\u001b[1;33m,\u001b[0m \u001b[1;33m-\u001b[0m\u001b[1;36m1\u001b[0m\u001b[1;33m,\u001b[0m \u001b[1;36m2\u001b[0m\u001b[1;33m,\u001b[0m \u001b[1;36m3\u001b[0m\u001b[1;33m,\u001b[0m \u001b[1;36m4\u001b[0m\u001b[1;33m]\u001b[0m\u001b[1;33m\u001b[0m\u001b[1;33m\u001b[0m\u001b[0m\n\u001b[0;32m      6\u001b[0m \u001b[1;33m\u001b[0m\u001b[0m\n\u001b[1;32m----> 7\u001b[1;33m \u001b[0mprint\u001b[0m\u001b[1;33m(\u001b[0m\u001b[0mnp\u001b[0m\u001b[1;33m.\u001b[0m\u001b[0mpower\u001b[0m\u001b[1;33m(\u001b[0m\u001b[0ma\u001b[0m\u001b[1;33m,\u001b[0m \u001b[0mb\u001b[0m\u001b[1;33m)\u001b[0m\u001b[1;33m)\u001b[0m\u001b[1;33m\u001b[0m\u001b[1;33m\u001b[0m\u001b[0m\n\u001b[0m",
      "\u001b[1;31mValueError\u001b[0m: Integers to negative integer powers are not allowed."
     ]
    }
   ],
   "source": [
    "import numpy as np\n",
    " \n",
    "#Declaring a and b\n",
    "a = [3, 5, 7, 9, 11]\n",
    "b = [0, -1, 2, 3, 4]\n",
    "\n",
    "print(np.power(a, b))"
   ]
  },
  {
   "cell_type": "markdown",
   "metadata": {},
   "source": [
    "#### Reference: https://www.pythonpool.com/numpy-power/"
   ]
  },
  {
   "cell_type": "code",
   "execution_count": 92,
   "metadata": {},
   "outputs": [
    {
     "data": {
      "image/png": "[encoded data removed]",
      "text/plain": [
       "<Figure size 432x288 with 1 Axes>"
      ]
     },
     "metadata": {
      "needs_background": "light"
     },
     "output_type": "display_data"
    }
   ],
   "source": [
    "from scipy.optimize import curve_fit\n",
    "\n",
    "offset, scale, a, nsamples = 240, -140, 3.5, 500000\n",
    "bkg = offset + scale*np.random.power(a, nsamples)  \n",
    "# values range between (offset, offset+scale), which map to 0 and 1\n",
    "nbins = 100\n",
    "\n",
    "count, bins, ignored = plt.hist(bkg, \n",
    "                bins=nbins, histtype='stepfilled', edgecolor='none')"
   ]
  },
  {
   "cell_type": "markdown",
   "metadata": {},
   "source": [
    "##### Reference: https://stackoverflow.com/questions/37595398/how-to-obtain-perfect-fit-from-np-random-power-function"
   ]
  },
  {
   "cell_type": "code",
   "execution_count": 93,
   "metadata": {},
   "outputs": [],
   "source": [
    "rng = np.random.default_rng()\n",
    "a = 5 #shape\n",
    "samples = 1000\n",
    "s = rng.power(a, samples)"
   ]
  },
  {
   "cell_type": "code",
   "execution_count": 39,
   "metadata": {},
   "outputs": [
    {
     "data": {
      "image/png": "[encoded data removed]",
      "text/plain": [
       "<Figure size 432x288 with 1 Axes>"
      ]
     },
     "metadata": {
      "needs_background": "light"
     },
     "output_type": "display_data"
    }
   ],
   "source": [
    "count, bins, ignored = plt.hist(s, bins=30)\n",
    "x = np.linspace(0, 1, 100)\n",
    "y = a*x**(a-1)\n",
    "normed_y = samples*np.diff(bins)[0]*y\n",
    "plt.plot(x, normed_y)\n",
    "plt.show()"
   ]
  },
  {
   "cell_type": "markdown",
   "metadata": {},
   "source": [
    "==============================================================="
   ]
  },
  {
   "cell_type": "markdown",
   "metadata": {},
   "source": [
    "### standard_exponential function explained - numpy.random.Generator.standard_exponential\n",
    "**method:** \n",
    "\n",
    "Generator.standard_exponential(size=None, dtype=np.float64, method='zig', out=None)\n",
    "Draw samples from the standard exponential distribution.\n",
    "\n",
    "standard_exponential is identical to the exponential distribution with a scale parameter of 1."
   ]
  },
  {
   "cell_type": "markdown",
   "metadata": {},
   "source": [
    "##### Parameters\n",
    "**size:** int or tuple of ints, optional. Output shape. If the given shape is, e.g., (m, n, k), then m * n * k samples are drawn. Default is None, in which case a single value is returned.\n",
    "\n",
    "**dtyped:** type, optional. Desired dtype of the result, only float64 and float32 are supported. Byteorder must be native. The default value is np.float64.\n",
    "\n",
    "**method:** str, optional. Either ‘inv’ or ‘zig’. ‘inv’ uses the default inverse CDF method. ‘zig’ uses the much faster Ziggurat method of Marsaglia and Tsang.\n",
    "\n",
    "**out:** ndarray, optional. Alternative output array in which to place the result. If size is not None, it must have the same shape as the provided size and must match the type of the output values.\n",
    "\n",
    "##### Returns\n",
    "**out:** float or ndarray. Drawn samples."
   ]
  },
  {
   "cell_type": "code",
   "execution_count": 33,
   "metadata": {},
   "outputs": [
    {
     "name": "stdout",
     "output_type": "stream",
     "text": [
      "[[0.95722157 0.33288523 0.30565899 ... 1.04644948 1.37072347 0.14876398]\n",
      " [0.82214946 0.99173558 0.55931792 ... 4.91799881 0.07522043 0.59360354]\n",
      " [0.19318566 0.52287421 1.21141932 ... 1.21470385 0.91341635 1.15956335]]\n"
     ]
    }
   ],
   "source": [
    "# Output a 3x8000 array:\n",
    "n = np.random.default_rng().standard_exponential((3, 8000))\n",
    "print(n)"
   ]
  },
  {
   "cell_type": "markdown",
   "metadata": {},
   "source": [
    "====================================================================="
   ]
  },
  {
   "cell_type": "markdown",
   "metadata": {},
   "source": [
    "### normal function explained - numpy.random.Generator.normal\n",
    "**method:**\n",
    "\n",
    "Generator.normal(loc=0.0, scale=1.0, size=None)\n",
    "Draw random samples from a normal (Gaussian) distribution.\n",
    "\n",
    "The probability density function of the normal distribution, first derived by De Moivre and 200 years later by both Gauss and Laplace independently [2], is often called the bell curve because of its characteristic shape (see the example below).\n",
    "\n",
    "The normal distributions occurs often in nature. For example, it describes the commonly occurring distribution of samples influenced by a large number of tiny, random disturbances, each with its own unique distribution [2]."
   ]
  },
  {
   "cell_type": "markdown",
   "metadata": {},
   "source": [
    "##### Parameters\n",
    "**loc:** float or array_like of floats. Mean (“centre”) of the distribution.\n",
    "\n",
    "**scale:** float or array_like of floats. Standard deviation (spread or “width”) of the distribution. Must be non-negative.\n",
    "\n",
    "**size:** int or tuple of ints, optional. Output shape. If the given shape is, e.g., (m, n, k), then m * n * k samples are drawn. If size is None (default), a single value is returned if loc and scale are both scalars. Otherwise, np.broadcast(loc, scale).size samples are drawn.\n",
    "\n",
    "##### Returns\n",
    "outndarray or scalar\n",
    "Drawn samples from the parameterized normal distribution."
   ]
  },
  {
   "cell_type": "markdown",
   "metadata": {},
   "source": [
    "##### Example application of normal distribution:\n",
    "\n",
    "A company that produces exercise bikes wish to examine the life-time of the internal parts of the bike in hours. The deartment that has marketed the bike has pledged to customers that the bike will last up to 4500 hours of use, as such it is important for the manufacturers to understand how many of the parts will fail after 4500 hours of use. After carrying out analysis, they have determined that the mean number of hours that the parts will remain functional at is 3500 hours and the standard deviation is determined to be 500 hours. As stated above, only the mean and standard deviation must be known to create a useful probability density function and a histogram of this data.\n",
    "\n",
    "Using Numpy's Random package, we can create a 1-dimensinal array of random normal data reflecting instances made during the inspection of the exercise bike parts. \n",
    "\n",
    "In the below example, loc is set to 3500, scale is set to 500 and size is set to 1000 (the minimum number of bike parts that must be examined to determine their lifespan)."
   ]
  },
  {
   "cell_type": "code",
   "execution_count": 63,
   "metadata": {},
   "outputs": [],
   "source": [
    "mu, sigma = 3500, 500 # mean and standard deviation\n",
    "rng = np.random.default_rng().normal(mu, sigma, 1000)"
   ]
  },
  {
   "cell_type": "code",
   "execution_count": 78,
   "metadata": {},
   "outputs": [
    {
     "data": {
      "image/png": "[encoded data removed]",
      "text/plain": [
       "<Figure size 432x288 with 1 Axes>"
      ]
     },
     "metadata": {
      "needs_background": "light"
     },
     "output_type": "display_data"
    }
   ],
   "source": [
    "plt.hist(rng, bins=50)\n",
    "plt.title(\"Operational Life of Exercise Bike Parts\")\n",
    "plt.xlabel(\"Use of bike parts (hrs)\")\n",
    "plt.ylabel(\"Probability of bike part failure\")\n",
    "plt.show()"
   ]
  },
  {
   "cell_type": "markdown",
   "metadata": {},
   "source": [
    "##### From the above graph, it can be seen that less than 5% of 1000 bike parts examined survived after 4500 hours of use. From these 1000 pseudo-randomly generated numbers, the bike produces can present information to the marketing department, advising them to lower the guaranteed bike lifespan presented to customers."
   ]
  },
  {
   "cell_type": "code",
   "execution_count": 45,
   "metadata": {},
   "outputs": [
    {
     "data": {
      "text/plain": [
       "array([[ 0.49671415, -0.1382643 ,  0.64768854],\n",
       "       [ 1.52302986, -0.23415337, -0.23413696]])"
      ]
     },
     "execution_count": 45,
     "metadata": {},
     "output_type": "execute_result"
    }
   ],
   "source": []
  },
  {
   "cell_type": "code",
   "execution_count": 34,
   "metadata": {},
   "outputs": [
    {
     "data": {
      "text/plain": [
       "7.649169760243213e-05"
      ]
     },
     "execution_count": 34,
     "metadata": {},
     "output_type": "execute_result"
    }
   ],
   "source": [
    "# Draw samples from the distribution:\n",
    "mu, sigma = 0, 0.1 # mean and standard deviation\n",
    "s = np.random.default_rng().normal(mu, sigma, 1000)\n",
    "\n",
    "# Verify the mean and the variance:\n",
    "abs(mu - np.mean(s)) \n",
    "abs(sigma - np.std(s, ddof=1))"
   ]
  },
  {
   "cell_type": "code",
   "execution_count": 35,
   "metadata": {},
   "outputs": [
    {
     "data": {
      "image/png": "[encoded data removed]",
      "text/plain": [
       "<Figure size 432x288 with 1 Axes>"
      ]
     },
     "metadata": {
      "needs_background": "light"
     },
     "output_type": "display_data"
    }
   ],
   "source": [
    "# Display the histogram of the samples, along with the \n",
    "# probability density function:\n",
    "count, bins, ignored = plt.hist(s, 30, density=True)\n",
    "plt.plot(bins, 1/(sigma * np.sqrt(2 * np.pi)) *\n",
    "               np.exp( - (bins - mu)**2 / (2 * sigma**2) ),\n",
    "         linewidth=2, color='r')\n",
    "plt.show()"
   ]
  },
  {
   "cell_type": "code",
   "execution_count": 36,
   "metadata": {},
   "outputs": [
    {
     "data": {
      "text/plain": [
       "array([[ 5.83600953,  4.68152738, -0.52439403,  1.92474116],\n",
       "       [ 2.69880013,  1.43979515,  3.67942131,  7.00182064]])"
      ]
     },
     "execution_count": 36,
     "metadata": {},
     "output_type": "execute_result"
    }
   ],
   "source": [
    "# Two-by-four array of samples from N(3, 6.25):\n",
    "np.random.default_rng().normal(3, 2.5, size=(2, 4))"
   ]
  },
  {
   "cell_type": "markdown",
   "metadata": {},
   "source": [
    "====================================================================="
   ]
  },
  {
   "cell_type": "markdown",
   "metadata": {},
   "source": [
    "### rayleigh function explained - numpy.random.Generator.rayleigh\n",
    "**method:**\n",
    "\n",
    "Generator.rayleigh(scale=1.0, size=None)\n",
    "Draw samples from a Rayleigh distribution. The \\chi and Weibull distributions are generalizations of the Rayleigh."
   ]
  },
  {
   "cell_type": "markdown",
   "metadata": {},
   "source": [
    "##### Parameters\n",
    "**scale:** float or array_like of floats, optional. Scale, also equals the mode. Must be non-negative. Default is 1.\n",
    "\n",
    "**size:** int or tuple of ints, optional. Output shape. If the given shape is, e.g., (m, n, k), then m * n * k samples are drawn. If size is None (default), a single value is returned if scale is a scalar. Otherwise, np.array(scale).size samples are drawn.\n",
    "\n",
    "##### Returns\n",
    "**out:** ndarray or scalar. Drawn samples from the parameterized Rayleigh distribution."
   ]
  },
  {
   "cell_type": "markdown",
   "metadata": {},
   "source": [
    "#### Notes\n",
    "\n",
    "The probability density function for the Rayleigh distribution is P(x;scale) = \\frac{x}{scale^2}e^{\\frac{-x^2}{2 \\cdotp scale^2}}\n",
    "\n",
    "The Rayleigh distribution would arise, for example, if the East and North components of the wind velocity had identical zero-mean Gaussian distributions. Then the wind speed would have a Rayleigh distribution."
   ]
  },
  {
   "cell_type": "code",
   "execution_count": null,
   "metadata": {},
   "outputs": [],
   "source": []
  },
  {
   "cell_type": "markdown",
   "metadata": {},
   "source": [
    "Reference: https://www.youtube.com/watch?v=lRZSGGKnTwI"
   ]
  },
  {
   "cell_type": "code",
   "execution_count": 110,
   "metadata": {},
   "outputs": [
    {
     "data": {
      "text/plain": [
       "array([[0.44267073, 0.66563651],\n",
       "       [2.22555003, 2.78974646]])"
      ]
     },
     "execution_count": 110,
     "metadata": {},
     "output_type": "execute_result"
    }
   ],
   "source": [
    "rng.rayleigh(1, (2, 2) )"
   ]
  },
  {
   "cell_type": "code",
   "execution_count": 37,
   "metadata": {},
   "outputs": [
    {
     "data": {
      "image/png": "[encoded data removed]",
      "text/plain": [
       "<Figure size 432x288 with 1 Axes>"
      ]
     },
     "metadata": {
      "needs_background": "light"
     },
     "output_type": "display_data"
    }
   ],
   "source": [
    "# Draw values from the distribution and plot the histogram\n",
    "from matplotlib.pyplot import hist\n",
    "rng = np.random.default_rng()\n",
    "values = hist(rng.rayleigh(3, 100000), bins=200, density=True)"
   ]
  },
  {
   "cell_type": "code",
   "execution_count": 104,
   "metadata": {},
   "outputs": [],
   "source": [
    "# Wave heights tend to follow a Rayleigh distribution. If the mean\n",
    "# wave height is 1 meter, what fraction of waves are likely to \n",
    "# be larger than 3 meters?\n",
    "meanvalue = 1\n",
    "modevalue = np.sqrt(2 / np.pi) * meanvalue\n",
    "s = rng.rayleigh(modevalue, 1000000)"
   ]
  },
  {
   "cell_type": "code",
   "execution_count": 39,
   "metadata": {},
   "outputs": [
    {
     "data": {
      "text/plain": [
       "0.0828"
      ]
     },
     "execution_count": 39,
     "metadata": {},
     "output_type": "execute_result"
    }
   ],
   "source": [
    "# The percentage of waves larger than 3 meters is:\n",
    "100.*sum(s>3)/1000000."
   ]
  },
  {
   "cell_type": "markdown",
   "metadata": {},
   "source": [
    "======================================================================"
   ]
  },
  {
   "cell_type": "markdown",
   "metadata": {},
   "source": [
    "### triangular function explained - numpy.random.Generator.triangular\n",
    "**method:**\n",
    "\n",
    "Generator.triangular(left, mode, right, size=None)\n",
    "Draw samples from the triangular distribution over the interval [left, right].\n",
    "\n",
    "The triangular distribution is a continuous probability distribution with lower limit left, peak at mode, and upper limit right. Unlike the other distributions, these parameters directly define the shape of the pdf."
   ]
  },
  {
   "cell_type": "markdown",
   "metadata": {},
   "source": [
    "##### Parameters\n",
    "**left:** float or array_like of floats. Lower limit.\n",
    "\n",
    "**mode:** float or array_like of floats.The value where the peak of the distribution occurs. The value must fulfill the condition left <= mode <= right.\n",
    "\n",
    "**right:** float or array_like of floats.Upper limit, must be larger than left."
   ]
  },
  {
   "cell_type": "markdown",
   "metadata": {},
   "source": [
    "**size:** int or tuple of ints, optional. Output shape. If the given shape is, e.g., (m, n, k), then m * n * k samples are drawn. If size is None (default), a single value is returned if left, mode, and right are all scalars. Otherwise, np.broadcast(left, mode, right).size samples are drawn.\n",
    "\n",
    "##### Returns\n",
    "**out:** ndarray or scalar\n",
    "Drawn samples from the parameterized triangular distribution."
   ]
  },
  {
   "cell_type": "markdown",
   "metadata": {},
   "source": [
    "##### Example of triangular distribution use:\n",
    "Mathmatician Lawrence Leemis, whilst working for Nasa in the 1980's, was asked to estimate the time that would be required to do some maintenance work on a thruster for the yet unbuilt International Space Station. Leemis consulted with an senior engineer within Nasa, who had experience on projects where similar maintenance work was carried out on satellites in low-Earth orbit. From this consultation, Leemis came up with a minimum, a mode and a maximum amount of time taken to perform the maintenance work. The figures were 4 hours, 6 hours and 12 hours respectively. As such, Leemis' data presented itself in a triangular distribution. \n",
    "\n",
    "Triangular distribution requires very little input data to carry out a simulation, just the three inputs that Leemis used in the above example will suffice. \n",
    "\n",
    "Utilising Leemis' investigation as an example, we can generate random figures using the numpy.random.triangular() function.\n",
    "We will also be required to input the amount of observations we wish to randomly generate. In order to create a useful graph, we will use a figure that is much higher than is likey to have been carried out in low-Earth orbit maintenance work. By using an input of 10000, we are presented with a probability density function in a triangular formation.\n",
    "\n",
    "The probability is represented on the y-axis and the time taken is represented on the x-axis.\n",
    "\n",
    "In the below code, 10000 pseudo-random vectors have been created, each representing a hypothethical Nasa maintenance mission. The peak of the ditribution is at 6 hours, with a slope in either direction to the minimum and maximum time limits. \n",
    "\n",
    "If the maximum abount of time an astronaut could spend on a maintenance mission was 10 hours, utilising the randomly generated data and graph below, it could be determined that there is roughly a 12.5% probability of exceeding this limit. "
   ]
  },
  {
   "cell_type": "code",
   "execution_count": 69,
   "metadata": {},
   "outputs": [
    {
     "data": {
      "image/png": "[encoded data removed]",
      "text/plain": [
       "<Figure size 432x288 with 1 Axes>"
      ]
     },
     "metadata": {
      "needs_background": "light"
     },
     "output_type": "display_data"
    }
   ],
   "source": [
    "# Draw values from the distribution and plot the histogram:\n",
    "h = plt.hist(np.random.default_rng().triangular(4, 6, 12, 10000), bins=100,\n",
    "             density=True)\n",
    "plt.title(\"Triangular Distribution: Maintenance Time for Thruster Repair\")\n",
    "plt.xlabel(\"Maintenance Time (hrs)\")\n",
    "plt.ylabel(\"Probability\")\n",
    "plt.show()"
   ]
  },
  {
   "cell_type": "markdown",
   "metadata": {},
   "source": [
    "Reference: https://www.youtube.com/watch?v=TwvXhX3bJJM"
   ]
  },
  {
   "cell_type": "code",
   "execution_count": 40,
   "metadata": {},
   "outputs": [],
   "source": [
    "from random import random, uniform\n",
    "\n",
    "def random_triangular(low, high, mode):\n",
    "    while True:\n",
    "        proposal = uniform(low, high)\n",
    "        if proposal < mode:\n",
    "            acceptance_prob = (proposal - low) / (mode - low)\n",
    "        else:\n",
    "            acceptance_prob = (high - proposal) / (high - mode)\n",
    "        if random() < acceptance_prob: break\n",
    "    return proposal"
   ]
  },
  {
   "cell_type": "code",
   "execution_count": 43,
   "metadata": {},
   "outputs": [
    {
     "data": {
      "text/plain": [
       "(array([  2.,   1.,   3.,   2.,   0.,   2.,   4.,   3.,   6.,  11.,   7.,\n",
       "          8.,   7.,   6.,   8.,  11.,  11.,  11.,  14.,   7.,  15.,  26.,\n",
       "         15.,  12.,  17.,  19.,  23.,  15.,  14.,  18.,  18.,  17.,  17.,\n",
       "         19.,  19.,  23.,  30.,  21.,  20.,  20.,  29.,  37.,  23.,  29.,\n",
       "         27.,  24.,  29.,  33.,  36.,  43.,  34.,  27.,  45.,  38.,  42.,\n",
       "         33.,  32.,  35.,  44.,  32.,  33.,  54.,  53.,  36.,  41.,  36.,\n",
       "         28.,  41.,  41.,  48.,  36.,  41.,  48.,  43.,  41.,  45.,  52.,\n",
       "         54.,  52.,  39.,  51.,  53.,  44.,  62.,  59.,  59.,  49.,  46.,\n",
       "         61.,  42.,  50.,  50.,  46.,  67.,  64.,  59.,  69.,  70.,  62.,\n",
       "         58.,  53.,  63.,  54.,  67.,  60.,  66.,  63.,  59.,  69.,  67.,\n",
       "         57.,  68.,  66.,  56.,  74.,  71.,  67.,  61.,  69.,  75.,  54.,\n",
       "         62.,  77.,  80.,  86.,  78.,  80.,  87.,  69.,  78.,  86.,  76.,\n",
       "         83.,  71.,  88.,  92.,  86.,  67.,  89.,  89.,  73.,  88.,  74.,\n",
       "         87.,  90.,  96.,  86., 100.,  99., 100., 106.,  87.,  95., 115.,\n",
       "        106., 103.,  90., 101.,  97.,  90.,  83.,  81.,  84.,  86.,  86.,\n",
       "         85.,  89., 103.,  79.,  75.,  83.,  76.,  68.,  76.,  70.,  61.,\n",
       "         56.,  53.,  53.,  56.,  54.,  48.,  52.,  49.,  33.,  45.,  34.,\n",
       "         34.,  36.,  36.,  26.,  34.,  24.,  20.,  16.,  16.,  14.,  12.,\n",
       "          4.,   7.]),\n",
       " array([1.00481804, 1.02962482, 1.05443159, 1.07923837, 1.10404514,\n",
       "        1.12885192, 1.1536587 , 1.17846547, 1.20327225, 1.22807902,\n",
       "        1.2528858 , 1.27769258, 1.30249935, 1.32730613, 1.3521129 ,\n",
       "        1.37691968, 1.40172646, 1.42653323, 1.45134001, 1.47614678,\n",
       "        1.50095356, 1.52576033, 1.55056711, 1.57537389, 1.60018066,\n",
       "        1.62498744, 1.64979421, 1.67460099, 1.69940777, 1.72421454,\n",
       "        1.74902132, 1.77382809, 1.79863487, 1.82344164, 1.84824842,\n",
       "        1.8730552 , 1.89786197, 1.92266875, 1.94747552, 1.9722823 ,\n",
       "        1.99708908, 2.02189585, 2.04670263, 2.0715094 , 2.09631618,\n",
       "        2.12112296, 2.14592973, 2.17073651, 2.19554328, 2.22035006,\n",
       "        2.24515683, 2.26996361, 2.29477039, 2.31957716, 2.34438394,\n",
       "        2.36919071, 2.39399749, 2.41880427, 2.44361104, 2.46841782,\n",
       "        2.49322459, 2.51803137, 2.54283814, 2.56764492, 2.5924517 ,\n",
       "        2.61725847, 2.64206525, 2.66687202, 2.6916788 , 2.71648558,\n",
       "        2.74129235, 2.76609913, 2.7909059 , 2.81571268, 2.84051946,\n",
       "        2.86532623, 2.89013301, 2.91493978, 2.93974656, 2.96455333,\n",
       "        2.98936011, 3.01416689, 3.03897366, 3.06378044, 3.08858721,\n",
       "        3.11339399, 3.13820077, 3.16300754, 3.18781432, 3.21262109,\n",
       "        3.23742787, 3.26223464, 3.28704142, 3.3118482 , 3.33665497,\n",
       "        3.36146175, 3.38626852, 3.4110753 , 3.43588208, 3.46068885,\n",
       "        3.48549563, 3.5103024 , 3.53510918, 3.55991596, 3.58472273,\n",
       "        3.60952951, 3.63433628, 3.65914306, 3.68394983, 3.70875661,\n",
       "        3.73356339, 3.75837016, 3.78317694, 3.80798371, 3.83279049,\n",
       "        3.85759727, 3.88240404, 3.90721082, 3.93201759, 3.95682437,\n",
       "        3.98163114, 4.00643792, 4.0312447 , 4.05605147, 4.08085825,\n",
       "        4.10566502, 4.1304718 , 4.15527858, 4.18008535, 4.20489213,\n",
       "        4.2296989 , 4.25450568, 4.27931246, 4.30411923, 4.32892601,\n",
       "        4.35373278, 4.37853956, 4.40334633, 4.42815311, 4.45295989,\n",
       "        4.47776666, 4.50257344, 4.52738021, 4.55218699, 4.57699377,\n",
       "        4.60180054, 4.62660732, 4.65141409, 4.67622087, 4.70102764,\n",
       "        4.72583442, 4.7506412 , 4.77544797, 4.80025475, 4.82506152,\n",
       "        4.8498683 , 4.87467508, 4.89948185, 4.92428863, 4.9490954 ,\n",
       "        4.97390218, 4.99870896, 5.02351573, 5.04832251, 5.07312928,\n",
       "        5.09793606, 5.12274283, 5.14754961, 5.17235639, 5.19716316,\n",
       "        5.22196994, 5.24677671, 5.27158349, 5.29639027, 5.32119704,\n",
       "        5.34600382, 5.37081059, 5.39561737, 5.42042414, 5.44523092,\n",
       "        5.4700377 , 5.49484447, 5.51965125, 5.54445802, 5.5692648 ,\n",
       "        5.59407158, 5.61887835, 5.64368513, 5.6684919 , 5.69329868,\n",
       "        5.71810546, 5.74291223, 5.76771901, 5.79252578, 5.81733256,\n",
       "        5.84213933, 5.86694611, 5.89175289, 5.91655966, 5.94136644,\n",
       "        5.96617321]),\n",
       " <a list of 200 Patch objects>)"
      ]
     },
     "execution_count": 43,
     "metadata": {},
     "output_type": "execute_result"
    },
    {
     "data": {
      "image/png": "[encoded data removed]",
      "text/plain": [
       "<Figure size 432x288 with 1 Axes>"
      ]
     },
     "metadata": {
      "needs_background": "light"
     },
     "output_type": "display_data"
    }
   ],
   "source": [
    "plt.hist([random_triangular(1, 6, 5) for t in range(10000)], bins=200)"
   ]
  },
  {
   "cell_type": "code",
   "execution_count": null,
   "metadata": {},
   "outputs": [],
   "source": []
  },
  {
   "cell_type": "code",
   "execution_count": null,
   "metadata": {},
   "outputs": [],
   "source": []
  },
  {
   "cell_type": "markdown",
   "metadata": {},
   "source": [
    "#### random.rand example\n",
    "\n",
    "Rand is used to generate random numbers between 0 and 1."
   ]
  },
  {
   "cell_type": "code",
   "execution_count": 4,
   "metadata": {},
   "outputs": [
    {
     "name": "stdout",
     "output_type": "stream",
     "text": [
      "[0.42196379 0.34454535 0.70344509 ... 0.86527477 0.87583384 0.46815598]\n"
     ]
    }
   ],
   "source": [
    "d = np.random.rand(1000000)\n",
    "print(d)"
   ]
  },
  {
   "cell_type": "code",
   "execution_count": 5,
   "metadata": {},
   "outputs": [
    {
     "data": {
      "text/plain": [
       "(array([ 99850., 100113., 100088., 100107.,  99266., 100383., 100509.,\n",
       "         99922.,  99849.,  99913.]),\n",
       " array([4.51842149e-07, 1.00000312e-01, 2.00000173e-01, 3.00000033e-01,\n",
       "        3.99999894e-01, 4.99999755e-01, 5.99999615e-01, 6.99999476e-01,\n",
       "        7.99999336e-01, 8.99999197e-01, 9.99999057e-01]),\n",
       " <a list of 10 Patch objects>)"
      ]
     },
     "execution_count": 5,
     "metadata": {},
     "output_type": "execute_result"
    },
    {
     "data": {
      "image/png": "[encoded data removed]",
      "text/plain": [
       "<Figure size 432x288 with 1 Axes>"
      ]
     },
     "metadata": {
      "needs_background": "light"
     },
     "output_type": "display_data"
    }
   ],
   "source": [
    "plt.hist(d)"
   ]
  },
  {
   "cell_type": "markdown",
   "metadata": {},
   "source": [
    "#### random.uniform example"
   ]
  },
  {
   "cell_type": "markdown",
   "metadata": {},
   "source": [
    "random.uniform is used to produce random numbers of uniform distriution between two numbers. In the below example all 20 datapoints are provided with uniform distribution between two input datapoints,t the first being the low and the latter being the high."
   ]
  },
  {
   "cell_type": "code",
   "execution_count": 37,
   "metadata": {},
   "outputs": [
    {
     "data": {
      "image/png": "[encoded data removed]",
      "text/plain": [
       "<Figure size 432x288 with 1 Axes>"
      ]
     },
     "metadata": {
      "needs_background": "light"
     },
     "output_type": "display_data"
    }
   ],
   "source": [
    "# Rayleigh Function\n",
    "\n",
    "rng = rng = np.random.default_rng()\n",
    "sns.distplot(rng.rayleigh(5.0, size=1000))\n",
    "sns.distplot(rng.uniform(11,21, 1000))\n",
    "sns.distplot(rng.normal(26, 3.0, 1000))\n",
    "sns.distplot(rng.triangular(28, 38, 39, 1000) )\n",
    "# sns.distplot(rng.power(3, 3))\n",
    "\n",
    "\n",
    "\n",
    "plt.show()"
   ]
  },
  {
   "cell_type": "markdown",
   "metadata": {},
   "source": [
    "#### Subplots of 5 Distribution Functions"
   ]
  },
  {
   "cell_type": "code",
   "execution_count": 6,
   "metadata": {},
   "outputs": [
    {
     "name": "stdout",
     "output_type": "stream",
     "text": [
      "[1.8475671  2.99392965 1.59759775 4.57308149 3.0266785  3.47764714\n",
      " 3.06255693 0.35653462 4.59502837 0.93982557 2.65254485 3.03376341\n",
      " 4.99305328 4.87328267 4.62871395 1.9318505  1.37505777 3.0482569\n",
      " 2.31150195 0.92437618]\n"
     ]
    }
   ],
   "source": [
    "x = np.random.uniform(0, 5, 20)\n",
    "print(x)"
   ]
  },
  {
   "cell_type": "code",
   "execution_count": 7,
   "metadata": {},
   "outputs": [
    {
     "name": "stdout",
     "output_type": "stream",
     "text": [
      "[0.         0.26315789 0.52631579 0.78947368 1.05263158 1.31578947\n",
      " 1.57894737 1.84210526 2.10526316 2.36842105 2.63157895 2.89473684\n",
      " 3.15789474 3.42105263 3.68421053 3.94736842 4.21052632 4.47368421\n",
      " 4.73684211 5.        ]\n"
     ]
    }
   ],
   "source": [
    "g = np.linspace(0, 5, 20)\n",
    "print(g)"
   ]
  },
  {
   "cell_type": "code",
   "execution_count": 8,
   "metadata": {},
   "outputs": [
    {
     "name": "stdout",
     "output_type": "stream",
     "text": [
      "[7.25251915 8.47121603 6.4024203  8.91257464 7.0491361  7.0975179\n",
      " 6.26958437 8.63888052 8.8815108  7.85111343 9.27509349 6.69672196\n",
      " 9.93324619 7.22991237 7.28392543 7.91357605 8.51574988 8.62556281\n",
      " 7.26107113 8.23350437]\n"
     ]
    }
   ],
   "source": [
    "y = np.random.uniform(6, 10, 20)\n",
    "print(y)"
   ]
  },
  {
   "cell_type": "markdown",
   "metadata": {},
   "source": [
    "======================================================================"
   ]
  },
  {
   "cell_type": "code",
   "execution_count": 11,
   "metadata": {},
   "outputs": [
    {
     "name": "stdout",
     "output_type": "stream",
     "text": [
      "0.37531628017153973\n",
      "0.9802034714354388\n",
      "0.3109095298636859\n",
      "0.9142912271466794\n",
      "0.30960604545065795\n",
      "0.24557923334284526\n",
      "0.30655089140179725\n",
      "0.879948934300795\n",
      "0.8089447176190708\n",
      "0.8663285501172305\n"
     ]
    }
   ],
   "source": [
    "for i in range(10):\n",
    "    print(random.random())"
   ]
  },
  {
   "cell_type": "code",
   "execution_count": 12,
   "metadata": {},
   "outputs": [
    {
     "name": "stdout",
     "output_type": "stream",
     "text": [
      "3.356802063948651\n",
      "3.1662266992108803\n",
      "6.760929355617986\n",
      "4.7933925105450985\n",
      "3.5861619597501257\n",
      "6.038881926253042\n",
      "4.754692632417672\n",
      "3.8553888598643535\n",
      "5.188489072049226\n",
      "3.6609118753508385\n"
     ]
    }
   ],
   "source": [
    "def my_random():\n",
    "    return 4*random.random() + 3\n",
    "\n",
    "for i in range(10):\n",
    "    print(my_random())"
   ]
  },
  {
   "cell_type": "code",
   "execution_count": 13,
   "metadata": {},
   "outputs": [
    {
     "name": "stdout",
     "output_type": "stream",
     "text": [
      "6.667991689210915\n",
      "5.195151495350453\n",
      "4.805079604275679\n",
      "6.286429499122683\n",
      "4.84338605777012\n",
      "3.371587380796232\n",
      "3.6339894901894323\n",
      "4.790924597617696\n",
      "4.8104205310678045\n",
      "3.764015717428688\n"
     ]
    }
   ],
   "source": [
    "for i in range(10):\n",
    "    print(random.uniform(3, 7))"
   ]
  },
  {
   "cell_type": "code",
   "execution_count": 14,
   "metadata": {},
   "outputs": [
    {
     "name": "stdout",
     "output_type": "stream",
     "text": [
      "6.8841864268835415\n",
      "6.044258323883702\n",
      "11.436624519710348\n",
      "-3.0762235332244026\n",
      "-0.841428621597965\n",
      "14.943849631694\n",
      "-17.172463434824667\n",
      "-0.16808813366449923\n",
      "2.719497541143213\n",
      "-10.581919337936341\n",
      "4.533953522595604\n",
      "9.617657158355724\n",
      "-1.6592859960955453\n",
      "2.708745579278615\n",
      "6.110511620829451\n",
      "16.065427204676528\n",
      "1.3705347856593393\n",
      "-1.1706194205043126\n",
      "12.352634466255287\n",
      "9.130667486000977\n"
     ]
    }
   ],
   "source": [
    "for i in range(20):\n",
    "    print(random.normalvariate(0,  9))"
   ]
  },
  {
   "cell_type": "markdown",
   "metadata": {},
   "source": [
    "### Backgrond info."
   ]
  },
  {
   "cell_type": "markdown",
   "metadata": {},
   "source": [
    "#### What is numpy?\n",
    "It is a way of creating 1D, 2D, 3D, 4D arrays etc "
   ]
  },
  {
   "cell_type": "markdown",
   "metadata": {},
   "source": [
    "Why do we use Numpy arrays instead of lists.\n",
    "**Lists are slow, Numpy is fast**\n",
    "\n",
    "**Why is this?**\n",
    "One reason is because Numpy uses fixed types.\n"
   ]
  },
  {
   "cell_type": "markdown",
   "metadata": {},
   "source": [
    "| |  |  | |\n",
    "|---|---|---|---|\n",
    "|3|1|2|4|\n",
    "|5|7|1|2|\n",
    "|4|1|0|1|"
   ]
  },
  {
   "cell_type": "markdown",
   "metadata": {},
   "source": [
    "* Imagine that we have a 3 by 4 matrix, all integer values, we will look at how they differ between Numpy and list.\n",
    "\n",
    "* In the table above the numpy 5 is interpreted as the binary number 00000101 - Numpy will cast this 5 an int.32 bit (this consits of 4 bites). \n",
    "\n",
    "* On the other hand, lists use a built in int. type that consist of 4 things (the object value, obj type, the reference count and the size of the int. value). Breaking this down into the binary that a list represents, the first 3 list types have 8 bits. This makes the memory space required for lists much larger.\n",
    "\n",
    "* Another reason for this, when iterating though each item in a numpy array, you don't have to have a type cheak each time. Because Numpy only has one type. \n",
    "\n",
    "* Wemory blocks utilised by a list are often split up within the memory. This means a list just contains many pointers leading to the memory blocks within the memory. This measn that lists are quite slow.\n",
    "\n",
    "* In contrast, Numpy also uses contiguous memory. This means that all memory blocks are right next to each other. This is much easier than the pointer-structure of lists. The first benefit of this is that CPU's are utilised better when memory blocks are near each other, i.e. many computations can be done on contiguous memory at the same time.\n",
    "\n",
    "* It also leads to effective cache utilisation. When array values are loaded in, they can all be loaded in at the same time in one load."
   ]
  },
  {
   "cell_type": "markdown",
   "metadata": {},
   "source": [
    "### What can we do with Numpy that can't be done with lists."
   ]
  },
  {
   "cell_type": "markdown",
   "metadata": {},
   "source": [
    "|Lists | Numpy|\n",
    "|:---:| :---: |\n",
    "|Insertion, deletion, appending, concatenation etc.| Insertion, deletion, appending, concatenation etc. + LOTS more |\n",
    "\n",
    "| Multiplying lists | Multiplying arrays |\n",
    "| :---: | :---: |\n",
    "| a = [1,3,5] | a = np.array([1,3,5]) |\n",
    "| b = [1,2,3] | b = np.array([1,2,3])|\n",
    "| a * b = ERROR | a * b = np.array([1,6,15])"
   ]
  },
  {
   "cell_type": "markdown",
   "metadata": {},
   "source": [
    "#### Applications of Numpy"
   ]
  },
  {
   "cell_type": "markdown",
   "metadata": {},
   "source": [
    "* Mathematics (MATLAB Replacement)\n",
    "* Plotting (Matplotlib)\n",
    "* Backend (Pandas, Connect 4, Digital Photography)\n",
    "* Machine learning - 'tenser' libraries are similar to Numpy"
   ]
  },
  {
   "cell_type": "markdown",
   "metadata": {},
   "source": [
    "#### Coding with Numpy"
   ]
  },
  {
   "cell_type": "code",
   "execution_count": 2,
   "metadata": {},
   "outputs": [],
   "source": [
    "import numpy as np"
   ]
  },
  {
   "cell_type": "markdown",
   "metadata": {},
   "source": [
    "##### The basics"
   ]
  },
  {
   "cell_type": "code",
   "execution_count": 71,
   "metadata": {},
   "outputs": [
    {
     "name": "stdout",
     "output_type": "stream",
     "text": [
      "[1 2 3]\n"
     ]
    }
   ],
   "source": [
    "a = np.array([1,2,3], dtype = 'int32')\n",
    "print(a)"
   ]
  },
  {
   "cell_type": "code",
   "execution_count": 72,
   "metadata": {},
   "outputs": [
    {
     "name": "stdout",
     "output_type": "stream",
     "text": [
      "[[9. 8. 7.]\n",
      " [6. 5. 4.]]\n"
     ]
    }
   ],
   "source": [
    "b = np.array([ [9.0, 8.0, 7.0], [6.0, 5.0, 4.0] ])\n",
    "print(b)"
   ]
  },
  {
   "cell_type": "code",
   "execution_count": 73,
   "metadata": {},
   "outputs": [
    {
     "data": {
      "text/plain": [
       "1"
      ]
     },
     "execution_count": 73,
     "metadata": {},
     "output_type": "execute_result"
    }
   ],
   "source": [
    "# Get dimensions\n",
    "a.ndim"
   ]
  },
  {
   "cell_type": "code",
   "execution_count": 74,
   "metadata": {},
   "outputs": [
    {
     "data": {
      "text/plain": [
       "2"
      ]
     },
     "execution_count": 74,
     "metadata": {},
     "output_type": "execute_result"
    }
   ],
   "source": [
    "b.ndim"
   ]
  },
  {
   "cell_type": "code",
   "execution_count": 75,
   "metadata": {},
   "outputs": [
    {
     "data": {
      "text/plain": [
       "(3,)"
      ]
     },
     "execution_count": 75,
     "metadata": {},
     "output_type": "execute_result"
    }
   ],
   "source": [
    "# Get shape\n",
    "a.shape"
   ]
  },
  {
   "cell_type": "code",
   "execution_count": 76,
   "metadata": {},
   "outputs": [
    {
     "data": {
      "text/plain": [
       "(2, 3)"
      ]
     },
     "execution_count": 76,
     "metadata": {},
     "output_type": "execute_result"
    }
   ],
   "source": [
    "b.shape"
   ]
  },
  {
   "cell_type": "code",
   "execution_count": 77,
   "metadata": {},
   "outputs": [
    {
     "data": {
      "text/plain": [
       "dtype('int32')"
      ]
     },
     "execution_count": 77,
     "metadata": {},
     "output_type": "execute_result"
    }
   ],
   "source": [
    "# Get type\n",
    "a.dtype"
   ]
  },
  {
   "cell_type": "code",
   "execution_count": 78,
   "metadata": {},
   "outputs": [
    {
     "data": {
      "text/plain": [
       "dtype('float64')"
      ]
     },
     "execution_count": 78,
     "metadata": {},
     "output_type": "execute_result"
    }
   ],
   "source": [
    "b.dtype"
   ]
  },
  {
   "cell_type": "code",
   "execution_count": 79,
   "metadata": {},
   "outputs": [
    {
     "data": {
      "text/plain": [
       "4"
      ]
     },
     "execution_count": 79,
     "metadata": {},
     "output_type": "execute_result"
    }
   ],
   "source": [
    "# Get size\n",
    "a.itemsize"
   ]
  },
  {
   "cell_type": "code",
   "execution_count": 80,
   "metadata": {},
   "outputs": [
    {
     "data": {
      "text/plain": [
       "8"
      ]
     },
     "execution_count": 80,
     "metadata": {},
     "output_type": "execute_result"
    }
   ],
   "source": [
    "b.itemsize"
   ]
  },
  {
   "cell_type": "code",
   "execution_count": 81,
   "metadata": {},
   "outputs": [
    {
     "data": {
      "text/plain": [
       "3"
      ]
     },
     "execution_count": 81,
     "metadata": {},
     "output_type": "execute_result"
    }
   ],
   "source": [
    "# Get total size\n",
    "a.size # (total number of elements)"
   ]
  },
  {
   "cell_type": "code",
   "execution_count": 82,
   "metadata": {},
   "outputs": [
    {
     "data": {
      "text/plain": [
       "6"
      ]
     },
     "execution_count": 82,
     "metadata": {},
     "output_type": "execute_result"
    }
   ],
   "source": [
    "b.size"
   ]
  },
  {
   "cell_type": "code",
   "execution_count": 83,
   "metadata": {},
   "outputs": [
    {
     "data": {
      "text/plain": [
       "12"
      ]
     },
     "execution_count": 83,
     "metadata": {},
     "output_type": "execute_result"
    }
   ],
   "source": [
    "a.nbytes # (the same as a.size * a.itemsize)"
   ]
  },
  {
   "cell_type": "code",
   "execution_count": 84,
   "metadata": {},
   "outputs": [
    {
     "data": {
      "text/plain": [
       "48"
      ]
     },
     "execution_count": 84,
     "metadata": {},
     "output_type": "execute_result"
    }
   ],
   "source": [
    "b.nbytes"
   ]
  },
  {
   "cell_type": "markdown",
   "metadata": {},
   "source": [
    "#### Accessing/Changine specific elements, rows, columns, etc."
   ]
  },
  {
   "cell_type": "code",
   "execution_count": 121,
   "metadata": {},
   "outputs": [],
   "source": [
    "a = np.array ([ [1, 2, 3, 4, 5, 6, 7],[8,9,10,11,12,13,14] ])"
   ]
  },
  {
   "cell_type": "code",
   "execution_count": 88,
   "metadata": {},
   "outputs": [
    {
     "name": "stdout",
     "output_type": "stream",
     "text": [
      "[[ 1  2  3  4  5  6  7]\n",
      " [ 8  9 10 11 12 13 14]]\n"
     ]
    }
   ],
   "source": [
    "print(a)"
   ]
  },
  {
   "cell_type": "code",
   "execution_count": 89,
   "metadata": {},
   "outputs": [
    {
     "data": {
      "text/plain": [
       "13"
      ]
     },
     "execution_count": 89,
     "metadata": {},
     "output_type": "execute_result"
    }
   ],
   "source": [
    "# Get a specific element\n",
    "a[1, 5]"
   ]
  },
  {
   "cell_type": "code",
   "execution_count": 90,
   "metadata": {},
   "outputs": [
    {
     "data": {
      "text/plain": [
       "13"
      ]
     },
     "execution_count": 90,
     "metadata": {},
     "output_type": "execute_result"
    }
   ],
   "source": [
    "# Using negative notation\n",
    "a[1, -2]"
   ]
  },
  {
   "cell_type": "code",
   "execution_count": 92,
   "metadata": {},
   "outputs": [
    {
     "data": {
      "text/plain": [
       "array([1, 2, 3, 4, 5, 6, 7])"
      ]
     },
     "execution_count": 92,
     "metadata": {},
     "output_type": "execute_result"
    }
   ],
   "source": [
    "# Get a specific row\n",
    "a[0, :]"
   ]
  },
  {
   "cell_type": "code",
   "execution_count": 93,
   "metadata": {},
   "outputs": [
    {
     "data": {
      "text/plain": [
       "array([ 3, 10])"
      ]
     },
     "execution_count": 93,
     "metadata": {},
     "output_type": "execute_result"
    }
   ],
   "source": [
    "a[:, 2]"
   ]
  },
  {
   "cell_type": "code",
   "execution_count": 97,
   "metadata": {},
   "outputs": [
    {
     "data": {
      "text/plain": [
       "array([2, 4, 6])"
      ]
     },
     "execution_count": 97,
     "metadata": {},
     "output_type": "execute_result"
    }
   ],
   "source": [
    "# Getting more nuanced outputs\n",
    "a[0, 1:6:2]"
   ]
  },
  {
   "cell_type": "code",
   "execution_count": 98,
   "metadata": {},
   "outputs": [
    {
     "data": {
      "text/plain": [
       "array([2, 4, 6])"
      ]
     },
     "execution_count": 98,
     "metadata": {},
     "output_type": "execute_result"
    }
   ],
   "source": [
    "a[0, 1:-1:2]"
   ]
  },
  {
   "cell_type": "code",
   "execution_count": 100,
   "metadata": {},
   "outputs": [
    {
     "name": "stdout",
     "output_type": "stream",
     "text": [
      "[[ 1  2  3  4  5  6  7]\n",
      " [ 8  9 10 11 12 20 14]]\n"
     ]
    }
   ],
   "source": [
    "a[1, 5] = 20\n",
    "print(a)"
   ]
  },
  {
   "cell_type": "code",
   "execution_count": 102,
   "metadata": {},
   "outputs": [
    {
     "name": "stdout",
     "output_type": "stream",
     "text": [
      "[[5 5 5 5 5 5 5]\n",
      " [5 5 5 5 5 5 5]]\n"
     ]
    }
   ],
   "source": [
    "a[:,2] = 5\n",
    "print(a)"
   ]
  },
  {
   "cell_type": "code",
   "execution_count": 105,
   "metadata": {},
   "outputs": [
    {
     "name": "stdout",
     "output_type": "stream",
     "text": [
      "[[5 5 1 5 5 5 5]\n",
      " [5 5 2 5 5 5 5]]\n"
     ]
    }
   ],
   "source": [
    "a[:,2] = [1,2]\n",
    "print(a)"
   ]
  },
  {
   "cell_type": "markdown",
   "metadata": {},
   "source": [
    "#### 3-d example"
   ]
  },
  {
   "cell_type": "code",
   "execution_count": 106,
   "metadata": {},
   "outputs": [
    {
     "name": "stdout",
     "output_type": "stream",
     "text": [
      "[[[1 2]\n",
      "  [3 4]]\n",
      "\n",
      " [[5 6]\n",
      "  [7 8]]]\n"
     ]
    }
   ],
   "source": [
    "b = np.array( [ [[1,2], [3,4] ], [ [5,6], [7,8] ] ])\n",
    "print(b)"
   ]
  },
  {
   "cell_type": "code",
   "execution_count": 107,
   "metadata": {},
   "outputs": [
    {
     "data": {
      "text/plain": [
       "4"
      ]
     },
     "execution_count": 107,
     "metadata": {},
     "output_type": "execute_result"
    }
   ],
   "source": [
    "# Get specific element (work outside in)\n",
    "b[0, 1, 1]"
   ]
  },
  {
   "cell_type": "code",
   "execution_count": 108,
   "metadata": {},
   "outputs": [
    {
     "data": {
      "text/plain": [
       "array([[[3, 4]],\n",
       "\n",
       "       [[7, 8]]])"
      ]
     },
     "execution_count": 108,
     "metadata": {},
     "output_type": "execute_result"
    }
   ],
   "source": [
    "b[:, 1: ]"
   ]
  },
  {
   "cell_type": "code",
   "execution_count": null,
   "metadata": {},
   "outputs": [],
   "source": [
    "# Replace\n",
    "b[:, 1: ] = [ [9,9], [8, 8] ]"
   ]
  },
  {
   "cell_type": "markdown",
   "metadata": {},
   "source": [
    "#### Initialising Different Types of Arrays"
   ]
  },
  {
   "cell_type": "code",
   "execution_count": 113,
   "metadata": {},
   "outputs": [
    {
     "data": {
      "text/plain": [
       "array([[0., 0., 0.],\n",
       "       [0., 0., 0.]])"
      ]
     },
     "execution_count": 113,
     "metadata": {},
     "output_type": "execute_result"
    }
   ],
   "source": [
    "# ALL 0's matrix\n",
    "np.zeros( (2,3) )"
   ]
  },
  {
   "cell_type": "code",
   "execution_count": 117,
   "metadata": {},
   "outputs": [
    {
     "data": {
      "text/plain": [
       "array([[[1, 1],\n",
       "        [1, 1]],\n",
       "\n",
       "       [[1, 1],\n",
       "        [1, 1]],\n",
       "\n",
       "       [[1, 1],\n",
       "        [1, 1]],\n",
       "\n",
       "       [[1, 1],\n",
       "        [1, 1]]])"
      ]
     },
     "execution_count": 117,
     "metadata": {},
     "output_type": "execute_result"
    }
   ],
   "source": [
    "# ALL 1's in matrix\n",
    "np.ones( (4,2,2), dtype = 'int32' )"
   ]
  },
  {
   "cell_type": "code",
   "execution_count": 120,
   "metadata": {},
   "outputs": [
    {
     "data": {
      "text/plain": [
       "array([[99., 99.],\n",
       "       [99., 99.]], dtype=float32)"
      ]
     },
     "execution_count": 120,
     "metadata": {},
     "output_type": "execute_result"
    }
   ],
   "source": [
    "# Any other number\n",
    "np.full( (2,2) , 99, dtype = 'float32')"
   ]
  },
  {
   "cell_type": "code",
   "execution_count": 125,
   "metadata": {},
   "outputs": [
    {
     "data": {
      "text/plain": [
       "array([[4, 4, 4, 4, 4, 4, 4],\n",
       "       [4, 4, 4, 4, 4, 4, 4]])"
      ]
     },
     "execution_count": 125,
     "metadata": {},
     "output_type": "execute_result"
    }
   ],
   "source": [
    "# Any other number (full_like method) to create an array of 4's etc,\n",
    "# for a shape already used in a previous array\n",
    "np.full_like(a, 4)"
   ]
  },
  {
   "cell_type": "code",
   "execution_count": 129,
   "metadata": {},
   "outputs": [
    {
     "data": {
      "text/plain": [
       "array([[0.12215718, 0.12422452, 0.78907686, 0.80388721, 0.68035937,\n",
       "        0.34593217, 0.13386641],\n",
       "       [0.58085149, 0.97861637, 0.35905845, 0.34205087, 0.88053344,\n",
       "        0.23651948, 0.69087075]])"
      ]
     },
     "execution_count": 129,
     "metadata": {},
     "output_type": "execute_result"
    }
   ],
   "source": [
    "# Random decimal number (random_sample method)\n",
    "np.random.random_sample(a.shape)"
   ]
  },
  {
   "cell_type": "code",
   "execution_count": 131,
   "metadata": {},
   "outputs": [
    {
     "data": {
      "text/plain": [
       "array([[3, 2, 3],\n",
       "       [2, 0, 3],\n",
       "       [5, 6, 5]])"
      ]
     },
     "execution_count": 131,
     "metadata": {},
     "output_type": "execute_result"
    }
   ],
   "source": [
    "# Random integer values\n",
    "np.random.randint(7, size=(3,3))"
   ]
  },
  {
   "cell_type": "code",
   "execution_count": 148,
   "metadata": {},
   "outputs": [
    {
     "data": {
      "text/plain": [
       "array([[ 6, -4],\n",
       "       [ 7, -1],\n",
       "       [ 1,  4]])"
      ]
     },
     "execution_count": 148,
     "metadata": {},
     "output_type": "execute_result"
    }
   ],
   "source": [
    "np.random.randint(-4, 8, size=(3,2))"
   ]
  },
  {
   "cell_type": "code",
   "execution_count": 137,
   "metadata": {},
   "outputs": [
    {
     "data": {
      "text/plain": [
       "array([[1., 0., 0., 0., 0.],\n",
       "       [0., 1., 0., 0., 0.],\n",
       "       [0., 0., 1., 0., 0.],\n",
       "       [0., 0., 0., 1., 0.],\n",
       "       [0., 0., 0., 0., 1.]])"
      ]
     },
     "execution_count": 137,
     "metadata": {},
     "output_type": "execute_result"
    }
   ],
   "source": [
    "# Identity matrix (only 1 parameter needed)\n",
    "np.identity(5)\n",
    "\n",
    "# Note this always produces a square matrix (e.g. 5 * 5)"
   ]
  },
  {
   "cell_type": "code",
   "execution_count": 143,
   "metadata": {},
   "outputs": [
    {
     "name": "stdout",
     "output_type": "stream",
     "text": [
      "[[1 2 3]\n",
      " [1 2 3]\n",
      " [1 2 3]]\n"
     ]
    }
   ],
   "source": [
    "# Repeat an array a few times\n",
    "arr = np.array( [ [1, 2, 3] ] )\n",
    "r1 = np.repeat(arr, 3, axis=0 )\n",
    "print(r1)"
   ]
  },
  {
   "cell_type": "markdown",
   "metadata": {},
   "source": [
    "| - | - | - | - | - |\n",
    "|---|---|---|---|---|\n",
    "| 1 | 1 | 1 | 1 | 1 |\n",
    "| 1 | 0 | 0 | 0 | 1 |  \n",
    "| 1 | 0 | 9 | 0 | 1 | \n",
    "| 1 | 0 | 0 | 0 | 1 | \n",
    "| 1 | 1 | 1 | 1 | 1 | \n"
   ]
  },
  {
   "cell_type": "markdown",
   "metadata": {},
   "source": [
    "##### Creating the array depicted by the numbers in the above table:"
   ]
  },
  {
   "cell_type": "code",
   "execution_count": 152,
   "metadata": {},
   "outputs": [
    {
     "name": "stdout",
     "output_type": "stream",
     "text": [
      "[[1. 1. 1. 1. 1.]\n",
      " [1. 1. 1. 1. 1.]\n",
      " [1. 1. 1. 1. 1.]\n",
      " [1. 1. 1. 1. 1.]\n",
      " [1. 1. 1. 1. 1.]]\n",
      "[[0. 0. 0.]\n",
      " [0. 9. 0.]\n",
      " [0. 0. 0.]]\n"
     ]
    }
   ],
   "source": [
    "output = np.ones( (5,5) )\n",
    "print(output)\n",
    "\n",
    "z = np.zeros( (3, 3) )\n",
    "\n",
    "z[1,1] = 9\n",
    "\n",
    "print(z)"
   ]
  },
  {
   "cell_type": "code",
   "execution_count": 153,
   "metadata": {},
   "outputs": [
    {
     "name": "stdout",
     "output_type": "stream",
     "text": [
      "[[1. 1. 1. 1. 1.]\n",
      " [1. 0. 0. 0. 1.]\n",
      " [1. 0. 9. 0. 1.]\n",
      " [1. 0. 0. 0. 1.]\n",
      " [1. 1. 1. 1. 1.]]\n"
     ]
    }
   ],
   "source": [
    "# Place z inside 'output'\n",
    "output[ 1:4, 1:4 ] = z\n",
    "print(output)"
   ]
  },
  {
   "cell_type": "markdown",
   "metadata": {},
   "source": [
    "##### Be careful when copying arrays"
   ]
  },
  {
   "cell_type": "code",
   "execution_count": 155,
   "metadata": {},
   "outputs": [
    {
     "name": "stdout",
     "output_type": "stream",
     "text": [
      "[1 2 3]\n"
     ]
    }
   ],
   "source": [
    "a = np.array( [1, 2, 3] )\n",
    "b = a\n",
    "print(b)"
   ]
  },
  {
   "cell_type": "code",
   "execution_count": 157,
   "metadata": {},
   "outputs": [
    {
     "name": "stdout",
     "output_type": "stream",
     "text": [
      "[100   2   3]\n"
     ]
    }
   ],
   "source": [
    "b[0] = 100\n",
    "print(b)"
   ]
  },
  {
   "cell_type": "code",
   "execution_count": 158,
   "metadata": {},
   "outputs": [
    {
     "name": "stdout",
     "output_type": "stream",
     "text": [
      "[100   2   3]\n"
     ]
    }
   ],
   "source": [
    "print(a)"
   ]
  },
  {
   "cell_type": "markdown",
   "metadata": {},
   "source": [
    "##### Note: that in the above examples, the alteration made to the first element of b is carried through to a as well.\n",
    "\n",
    "Because of the variable operations in Python, by setting b = a, we told Python that b points to the same list as a, therefore, both variables are getting their values from the same bucket and any alterations made to an element of b will be carried through to a.\n",
    "\n",
    "##### In the below example the variable d is pointed towards a.copy. When .copy is used on a variable, any alteration is not made to the original list."
   ]
  },
  {
   "cell_type": "code",
   "execution_count": 160,
   "metadata": {},
   "outputs": [
    {
     "name": "stdout",
     "output_type": "stream",
     "text": [
      "[200   2   3]\n"
     ]
    }
   ],
   "source": [
    "c = a.copy()\n",
    "c[0] = 200\n",
    "print(c)"
   ]
  },
  {
   "cell_type": "code",
   "execution_count": 161,
   "metadata": {},
   "outputs": [
    {
     "name": "stdout",
     "output_type": "stream",
     "text": [
      "[100   2   3]\n"
     ]
    }
   ],
   "source": [
    "print(a)"
   ]
  },
  {
   "cell_type": "markdown",
   "metadata": {},
   "source": [
    "### Mathematics\n",
    "One of the primary use of Numpy is the varied type of maths it can perform."
   ]
  },
  {
   "cell_type": "code",
   "execution_count": 171,
   "metadata": {},
   "outputs": [
    {
     "name": "stdout",
     "output_type": "stream",
     "text": [
      "[1 2 3 4]\n"
     ]
    }
   ],
   "source": [
    "a = np.array( [1, 2, 3, 4] )\n",
    "print(a)"
   ]
  },
  {
   "cell_type": "code",
   "execution_count": 172,
   "metadata": {},
   "outputs": [
    {
     "data": {
      "text/plain": [
       "array([3, 4, 5, 6])"
      ]
     },
     "execution_count": 172,
     "metadata": {},
     "output_type": "execute_result"
    }
   ],
   "source": [
    "a + 2"
   ]
  },
  {
   "cell_type": "code",
   "execution_count": 173,
   "metadata": {},
   "outputs": [
    {
     "data": {
      "text/plain": [
       "array([-1,  0,  1,  2])"
      ]
     },
     "execution_count": 173,
     "metadata": {},
     "output_type": "execute_result"
    }
   ],
   "source": [
    "a - 2"
   ]
  },
  {
   "cell_type": "code",
   "execution_count": 174,
   "metadata": {},
   "outputs": [
    {
     "data": {
      "text/plain": [
       "array([2, 4, 6, 8])"
      ]
     },
     "execution_count": 174,
     "metadata": {},
     "output_type": "execute_result"
    }
   ],
   "source": [
    "a * 2"
   ]
  },
  {
   "cell_type": "code",
   "execution_count": 175,
   "metadata": {},
   "outputs": [
    {
     "data": {
      "text/plain": [
       "array([0.5, 1. , 1.5, 2. ])"
      ]
     },
     "execution_count": 175,
     "metadata": {},
     "output_type": "execute_result"
    }
   ],
   "source": [
    "a / 2"
   ]
  },
  {
   "cell_type": "code",
   "execution_count": 176,
   "metadata": {},
   "outputs": [
    {
     "name": "stdout",
     "output_type": "stream",
     "text": [
      "[3 4 5 6]\n"
     ]
    }
   ],
   "source": [
    "a += 2\n",
    "print(a)"
   ]
  },
  {
   "cell_type": "code",
   "execution_count": 177,
   "metadata": {},
   "outputs": [],
   "source": [
    "b = np.array( [1, 0, 1, 0] )"
   ]
  },
  {
   "cell_type": "code",
   "execution_count": 178,
   "metadata": {},
   "outputs": [
    {
     "data": {
      "text/plain": [
       "array([4, 4, 6, 6])"
      ]
     },
     "execution_count": 178,
     "metadata": {},
     "output_type": "execute_result"
    }
   ],
   "source": [
    "a + b"
   ]
  },
  {
   "cell_type": "code",
   "execution_count": 179,
   "metadata": {},
   "outputs": [
    {
     "data": {
      "text/plain": [
       "array([ 9, 16, 25, 36], dtype=int32)"
      ]
     },
     "execution_count": 179,
     "metadata": {},
     "output_type": "execute_result"
    }
   ],
   "source": [
    "a ** 2"
   ]
  },
  {
   "cell_type": "code",
   "execution_count": 182,
   "metadata": {},
   "outputs": [
    {
     "data": {
      "text/plain": [
       "array([-0.9899925 , -0.65364362,  0.28366219,  0.96017029])"
      ]
     },
     "execution_count": 182,
     "metadata": {},
     "output_type": "execute_result"
    }
   ],
   "source": [
    "# Take the sign of all the values\n",
    "np.sin(a)\n",
    "np.cos(a)"
   ]
  },
  {
   "cell_type": "markdown",
   "metadata": {},
   "source": [
    "#### Linear Algebra"
   ]
  },
  {
   "cell_type": "code",
   "execution_count": 185,
   "metadata": {},
   "outputs": [
    {
     "name": "stdout",
     "output_type": "stream",
     "text": [
      "[[1. 1. 1.]\n",
      " [1. 1. 1.]]\n",
      "[[2 2]\n",
      " [2 2]\n",
      " [2 2]]\n"
     ]
    }
   ],
   "source": [
    "a = np.ones( (2, 3) )\n",
    "print(a)\n",
    "\n",
    "b = np.full( (3, 2), 2 )\n",
    "print(b)"
   ]
  },
  {
   "cell_type": "code",
   "execution_count": 186,
   "metadata": {},
   "outputs": [
    {
     "data": {
      "text/plain": [
       "array([[6., 6.],\n",
       "       [6., 6.]])"
      ]
     },
     "execution_count": 186,
     "metadata": {},
     "output_type": "execute_result"
    }
   ],
   "source": [
    "# Matrix Multiplication\n",
    "np.matmul(a, b)"
   ]
  },
  {
   "cell_type": "code",
   "execution_count": 188,
   "metadata": {},
   "outputs": [
    {
     "data": {
      "text/plain": [
       "1.0"
      ]
     },
     "execution_count": 188,
     "metadata": {},
     "output_type": "execute_result"
    }
   ],
   "source": [
    "# Determinant \n",
    "c = np.identity(3)\n",
    "np.linalg.det(c)"
   ]
  },
  {
   "cell_type": "markdown",
   "metadata": {},
   "source": [
    "#### Statistics with Numpy"
   ]
  },
  {
   "cell_type": "code",
   "execution_count": 189,
   "metadata": {},
   "outputs": [
    {
     "data": {
      "text/plain": [
       "array([[1, 2, 3],\n",
       "       [4, 5, 6]])"
      ]
     },
     "execution_count": 189,
     "metadata": {},
     "output_type": "execute_result"
    }
   ],
   "source": [
    "stats = np.array( [ [1, 2, 3], [4, 5, 6] ] )\n",
    "stats"
   ]
  },
  {
   "cell_type": "code",
   "execution_count": 190,
   "metadata": {},
   "outputs": [
    {
     "data": {
      "text/plain": [
       "array([1, 2, 3])"
      ]
     },
     "execution_count": 190,
     "metadata": {},
     "output_type": "execute_result"
    }
   ],
   "source": [
    "np.min(stats, axis = 0)"
   ]
  },
  {
   "cell_type": "code",
   "execution_count": 192,
   "metadata": {},
   "outputs": [
    {
     "data": {
      "text/plain": [
       "array([3, 6])"
      ]
     },
     "execution_count": 192,
     "metadata": {},
     "output_type": "execute_result"
    }
   ],
   "source": [
    "np.max(stats, axis = 1)"
   ]
  },
  {
   "cell_type": "code",
   "execution_count": 193,
   "metadata": {},
   "outputs": [
    {
     "data": {
      "text/plain": [
       "array([5, 7, 9])"
      ]
     },
     "execution_count": 193,
     "metadata": {},
     "output_type": "execute_result"
    }
   ],
   "source": [
    "np.sum(stats, axis=0)"
   ]
  },
  {
   "cell_type": "markdown",
   "metadata": {},
   "source": [
    "#### Reorganising Arrays"
   ]
  },
  {
   "cell_type": "code",
   "execution_count": 194,
   "metadata": {},
   "outputs": [
    {
     "name": "stdout",
     "output_type": "stream",
     "text": [
      "[[1 2 3 4]\n",
      " [5 6 7 8]]\n"
     ]
    }
   ],
   "source": [
    "before = np.array( [ [1, 2, 3, 4], [5, 6, 7, 8] ] )\n",
    "print(before)"
   ]
  },
  {
   "cell_type": "code",
   "execution_count": 198,
   "metadata": {},
   "outputs": [
    {
     "name": "stdout",
     "output_type": "stream",
     "text": [
      "[[[1 2]\n",
      "  [3 4]]\n",
      "\n",
      " [[5 6]\n",
      "  [7 8]]]\n"
     ]
    }
   ],
   "source": [
    "after = before.reshape((2, 2, 2))\n",
    "print(after)"
   ]
  },
  {
   "cell_type": "code",
   "execution_count": 201,
   "metadata": {},
   "outputs": [
    {
     "data": {
      "text/plain": [
       "array([[1, 2, 3, 4],\n",
       "       [5, 6, 7, 8],\n",
       "       [5, 6, 7, 8],\n",
       "       [5, 6, 7, 8]])"
      ]
     },
     "execution_count": 201,
     "metadata": {},
     "output_type": "execute_result"
    }
   ],
   "source": [
    "# Veritcal Staking matrixes\n",
    "v1 = ([1, 2, 3, 4])\n",
    "v2 = ([5, 6, 7, 8])\n",
    "\n",
    "np.vstack( [v1, v2, v2, v2])"
   ]
  },
  {
   "cell_type": "code",
   "execution_count": 204,
   "metadata": {},
   "outputs": [
    {
     "data": {
      "text/plain": [
       "array([[1., 1., 1., 1., 0., 0.],\n",
       "       [1., 1., 1., 1., 0., 0.]])"
      ]
     },
     "execution_count": 204,
     "metadata": {},
     "output_type": "execute_result"
    }
   ],
   "source": [
    "# Horizontal Stacking\n",
    "h1 = np.ones( (2, 4) )\n",
    "h2 = np.zeros( (2, 2) )\n",
    "\n",
    "np.hstack( (h1, h2 ) )"
   ]
  },
  {
   "cell_type": "markdown",
   "metadata": {},
   "source": [
    "#### Miscellaneous Uses of Numpy"
   ]
  },
  {
   "cell_type": "code",
   "execution_count": 209,
   "metadata": {},
   "outputs": [
    {
     "name": "stdout",
     "output_type": "stream",
     "text": [
      "[[nan nan nan nan nan]\n",
      " [nan nan nan nan nan]\n",
      " [5.1 3.5 1.4 0.2 nan]\n",
      " [4.9 3.  1.4 0.2 nan]\n",
      " [4.7 3.2 1.3 0.2 nan]\n",
      " [4.6 3.1 1.5 0.2 nan]\n",
      " [5.  3.6 1.4 0.2 nan]\n",
      " [5.4 3.9 1.7 0.4 nan]\n",
      " [4.6 3.4 1.4 0.3 nan]\n",
      " [5.  3.4 1.5 0.2 nan]\n",
      " [4.4 2.9 1.4 0.2 nan]\n",
      " [4.9 3.1 1.5 0.1 nan]]\n"
     ]
    }
   ],
   "source": [
    "# Load data from a file\n",
    "data5 = np.genfromtxt('data5.txt', delimiter=',' )\n",
    "print(data5)"
   ]
  },
  {
   "cell_type": "code",
   "execution_count": 210,
   "metadata": {},
   "outputs": [
    {
     "data": {
      "text/plain": [
       "array([[nan, nan, nan, nan, nan],\n",
       "       [nan, nan, nan, nan, nan],\n",
       "       [5.1, 3.5, 1.4, 0.2, nan],\n",
       "       [4.9, 3. , 1.4, 0.2, nan],\n",
       "       [4.7, 3.2, 1.3, 0.2, nan],\n",
       "       [4.6, 3.1, 1.5, 0.2, nan],\n",
       "       [5. , 3.6, 1.4, 0.2, nan],\n",
       "       [5.4, 3.9, 1.7, 0.4, nan],\n",
       "       [4.6, 3.4, 1.4, 0.3, nan],\n",
       "       [5. , 3.4, 1.5, 0.2, nan],\n",
       "       [4.4, 2.9, 1.4, 0.2, nan],\n",
       "       [4.9, 3.1, 1.5, 0.1, nan]])"
      ]
     },
     "execution_count": 210,
     "metadata": {},
     "output_type": "execute_result"
    }
   ],
   "source": [
    "data5.astype('int32')\n",
    "data5"
   ]
  },
  {
   "cell_type": "markdown",
   "metadata": {},
   "source": [
    "##### Boolean Masking and Advanced Indexing"
   ]
  },
  {
   "cell_type": "code",
   "execution_count": 216,
   "metadata": {
    "scrolled": true
   },
   "outputs": [
    {
     "name": "stderr",
     "output_type": "stream",
     "text": [
      "<ipython-input-216-af58febc9b87>:1: RuntimeWarning: invalid value encountered in greater\n",
      "  data5[data5 > 5]\n"
     ]
    },
    {
     "data": {
      "text/plain": [
       "array([5.1, 5.4])"
      ]
     },
     "execution_count": 216,
     "metadata": {},
     "output_type": "execute_result"
    }
   ],
   "source": [
    "# Extracting the vectors from a data file that are greater than 5\n",
    "data5[data5 > 5]"
   ]
  },
  {
   "cell_type": "code",
   "execution_count": 219,
   "metadata": {},
   "outputs": [
    {
     "name": "stderr",
     "output_type": "stream",
     "text": [
      "<ipython-input-219-196172771c52>:3: RuntimeWarning: invalid value encountered in greater\n",
      "  np.any(data5 > 4, axis = 0 )\n"
     ]
    },
    {
     "data": {
      "text/plain": [
       "array([ True, False, False, False, False])"
      ]
     },
     "execution_count": 219,
     "metadata": {},
     "output_type": "execute_result"
    }
   ],
   "source": [
    "# Checking through each column to see what columns \n",
    "# contain a value greater than 5.\n",
    "np.any(data5 > 4, axis = 0 )"
   ]
  },
  {
   "cell_type": "code",
   "execution_count": 220,
   "metadata": {},
   "outputs": [
    {
     "name": "stderr",
     "output_type": "stream",
     "text": [
      "<ipython-input-220-28bea8fe32f9>:2: RuntimeWarning: invalid value encountered in greater\n",
      "  ( ( data5 > 4) & (data5 < 4.5 ) )\n",
      "<ipython-input-220-28bea8fe32f9>:2: RuntimeWarning: invalid value encountered in less\n",
      "  ( ( data5 > 4) & (data5 < 4.5 ) )\n"
     ]
    },
    {
     "data": {
      "text/plain": [
       "array([[False, False, False, False, False],\n",
       "       [False, False, False, False, False],\n",
       "       [False, False, False, False, False],\n",
       "       [False, False, False, False, False],\n",
       "       [False, False, False, False, False],\n",
       "       [False, False, False, False, False],\n",
       "       [False, False, False, False, False],\n",
       "       [False, False, False, False, False],\n",
       "       [False, False, False, False, False],\n",
       "       [False, False, False, False, False],\n",
       "       [ True, False, False, False, False],\n",
       "       [False, False, False, False, False]])"
      ]
     },
     "execution_count": 220,
     "metadata": {},
     "output_type": "execute_result"
    }
   ],
   "source": [
    "# Setting a range for extracting values within\n",
    "( ( data5 > 4) & (data5 < 4.5 ) )"
   ]
  },
  {
   "cell_type": "markdown",
   "metadata": {},
   "source": [
    "##### Index matrix including 6, 8, 12, 13"
   ]
  },
  {
   "cell_type": "markdown",
   "metadata": {},
   "source": [
    "|-|-|- |- |- |\n",
    "|---|---|---|---|---|\n",
    "|1 |2 |3 |4 |5 |\n",
    "|6 |8 |9 |10 |11 |\n",
    "|12 |13 |14 |15 |16 |\n",
    "|17|18 |19 |20 |21 |\n",
    "|22 |23 |24 |25 |26 |\n",
    "|27 |28 |29 |30 |31 |"
   ]
  },
  {
   "cell_type": "markdown",
   "metadata": {},
   "source": [
    "### Random Package Explained"
   ]
  },
  {
   "cell_type": "markdown",
   "metadata": {},
   "source": [
    "#### Random Method 0 - 1"
   ]
  },
  {
   "cell_type": "markdown",
   "metadata": {},
   "source": [
    "The random method can be used to get a random number between 0 and 1. However, the 0 will be inclusive and the 1 will be exclusive. I.e. it can 0.999 but never 1.0."
   ]
  },
  {
   "cell_type": "code",
   "execution_count": 2,
   "metadata": {
    "scrolled": true
   },
   "outputs": [
    {
     "name": "stdout",
     "output_type": "stream",
     "text": [
      "0.44374952321015027\n"
     ]
    }
   ],
   "source": [
    "from numpy import random\n",
    "value = random.random()\n",
    "print(value)"
   ]
  },
  {
   "cell_type": "markdown",
   "metadata": {},
   "source": [
    "#### Uniform Method"
   ]
  },
  {
   "cell_type": "markdown",
   "metadata": {},
   "source": [
    "If you wish to generate a random number in a range that exceeds 1, you can use the uniform() method."
   ]
  },
  {
   "cell_type": "code",
   "execution_count": 3,
   "metadata": {},
   "outputs": [
    {
     "name": "stdout",
     "output_type": "stream",
     "text": [
      "2.3941233905231805\n"
     ]
    }
   ],
   "source": [
    "value2 = random.uniform(1, 10)\n",
    "print(value2)"
   ]
  },
  {
   "cell_type": "markdown",
   "metadata": {},
   "source": [
    "#### Randint Method"
   ]
  },
  {
   "cell_type": "markdown",
   "metadata": {},
   "source": [
    "Uniform and Random will often output floating point numbers. If you wish to produce integers exclusively, you can use the randint() method.\n",
    "\n",
    "This method could be used to simulate the rolling of a die or a given number of dice."
   ]
  },
  {
   "cell_type": "code",
   "execution_count": 37,
   "metadata": {},
   "outputs": [
    {
     "name": "stdout",
     "output_type": "stream",
     "text": [
      "4\n"
     ]
    }
   ],
   "source": [
    "value3 = random.randint(1, 6)\n",
    "print(value3)"
   ]
  },
  {
   "cell_type": "code",
   "execution_count": 57,
   "metadata": {},
   "outputs": [
    {
     "name": "stdout",
     "output_type": "stream",
     "text": [
      "4\n"
     ]
    }
   ],
   "source": [
    "# If you wish to simulate a cointoss you can set the paramaters \n",
    "# to 0 and 1.\n",
    "value4 = random.randint(0, 1)\n",
    "print(value3)\n"
   ]
  },
  {
   "cell_type": "markdown",
   "metadata": {},
   "source": [
    "#### Choice Method\n",
    "\n",
    "This method will produce a random value from a given list of values."
   ]
  },
  {
   "cell_type": "code",
   "execution_count": 53,
   "metadata": {},
   "outputs": [],
   "source": [
    "greetings = ['Hello', 'Hi', 'Hey', 'Howdy', 'Hola']"
   ]
  },
  {
   "cell_type": "code",
   "execution_count": 54,
   "metadata": {},
   "outputs": [],
   "source": [
    "value4 = random.choice(greetings)"
   ]
  },
  {
   "cell_type": "code",
   "execution_count": 55,
   "metadata": {},
   "outputs": [
    {
     "name": "stdout",
     "output_type": "stream",
     "text": [
      "Howdy, Konstantina\n"
     ]
    }
   ],
   "source": [
    "print(value4 + ', Konstantina')"
   ]
  },
  {
   "cell_type": "code",
   "execution_count": 62,
   "metadata": {},
   "outputs": [
    {
     "ename": "TypeError",
     "evalue": "random_sample() got an unexpected keyword argument 'k'",
     "output_type": "error",
     "traceback": [
      "\u001b[1;31m---------------------------------------------------------------------------\u001b[0m",
      "\u001b[1;31mTypeError\u001b[0m                                 Traceback (most recent call last)",
      "\u001b[1;32m<ipython-input-62-142be8032915>\u001b[0m in \u001b[0;36m<module>\u001b[1;34m\u001b[0m\n\u001b[0;32m      3\u001b[0m \u001b[0mcolours\u001b[0m \u001b[1;33m=\u001b[0m \u001b[1;33m[\u001b[0m\u001b[1;34m'Red'\u001b[0m\u001b[1;33m,\u001b[0m \u001b[1;34m'Black'\u001b[0m\u001b[1;33m,\u001b[0m \u001b[1;34m'Green'\u001b[0m\u001b[1;33m]\u001b[0m\u001b[1;33m\u001b[0m\u001b[1;33m\u001b[0m\u001b[0m\n\u001b[0;32m      4\u001b[0m \u001b[1;33m\u001b[0m\u001b[0m\n\u001b[1;32m----> 5\u001b[1;33m \u001b[0mvalue5\u001b[0m \u001b[1;33m=\u001b[0m \u001b[0mrandom\u001b[0m\u001b[1;33m.\u001b[0m\u001b[0msample\u001b[0m\u001b[1;33m(\u001b[0m\u001b[0mcolours\u001b[0m\u001b[1;33m,\u001b[0m \u001b[0mk\u001b[0m\u001b[1;33m=\u001b[0m\u001b[1;36m10\u001b[0m\u001b[1;33m)\u001b[0m\u001b[1;33m\u001b[0m\u001b[1;33m\u001b[0m\u001b[0m\n\u001b[0m",
      "\u001b[1;32mmtrand.pyx\u001b[0m in \u001b[0;36mnumpy.random.mtrand.sample\u001b[1;34m()\u001b[0m\n",
      "\u001b[1;32mmtrand.pyx\u001b[0m in \u001b[0;36mnumpy.random.mtrand.RandomState.random_sample\u001b[1;34m()\u001b[0m\n",
      "\u001b[1;31mTypeError\u001b[0m: random_sample() got an unexpected keyword argument 'k'"
     ]
    }
   ],
   "source": [
    "# LOOKUP!!!\n",
    "# Get multiple random values from a list using chices()\n",
    "colours = ['Red', 'Black', 'Green']\n",
    "\n",
    "value5 = random.sample(colours, k=10)"
   ]
  },
  {
   "cell_type": "code",
   "execution_count": 63,
   "metadata": {},
   "outputs": [
    {
     "name": "stdout",
     "output_type": "stream",
     "text": [
      "[1, 2, 3, 4, 5, 6, 7, 8, 9, 10, 11, 12, 13, 14, 15, 16, 17, 18, 19, 20, 21, 22, 23, 24, 25, 26, 27, 28, 29, 30, 31, 32, 33, 34, 35, 36, 37, 38, 39, 40, 41, 42, 43, 44, 45, 46, 47, 48, 49, 50, 51, 52]\n"
     ]
    }
   ],
   "source": [
    "# Randomly shuffle a list of values using sample() method\n",
    "\n",
    "# Create a list (deck of cards)\n",
    "deck = list(range(1, 53) )\n",
    "print(deck)\n"
   ]
  },
  {
   "cell_type": "code",
   "execution_count": 64,
   "metadata": {},
   "outputs": [
    {
     "name": "stdout",
     "output_type": "stream",
     "text": [
      "[20, 3, 15, 27, 45, 29, 9, 11, 33, 42, 21, 43, 32, 24, 36, 31, 52, 12, 25, 14, 1, 35, 22, 41, 34, 6, 26, 19, 16, 23, 30, 48, 38, 2, 5, 44, 49, 18, 46, 37, 51, 50, 7, 17, 28, 4, 13, 47, 8, 10, 40, 39]\n"
     ]
    }
   ],
   "source": [
    "# Use random.shuffle\n",
    "random.shuffle(deck)\n",
    "print(deck)"
   ]
  },
  {
   "cell_type": "code",
   "execution_count": 69,
   "metadata": {},
   "outputs": [
    {
     "ename": "TypeError",
     "evalue": "random_sample() got multiple values for keyword argument 'size'",
     "output_type": "error",
     "traceback": [
      "\u001b[1;31m---------------------------------------------------------------------------\u001b[0m",
      "\u001b[1;31mTypeError\u001b[0m                                 Traceback (most recent call last)",
      "\u001b[1;32m<ipython-input-69-9e995c9222c2>\u001b[0m in \u001b[0;36m<module>\u001b[1;34m\u001b[0m\n\u001b[1;32m----> 1\u001b[1;33m \u001b[0mhand\u001b[0m \u001b[1;33m=\u001b[0m \u001b[0mrandom\u001b[0m\u001b[1;33m.\u001b[0m\u001b[0msample\u001b[0m\u001b[1;33m(\u001b[0m\u001b[0mdeck\u001b[0m\u001b[1;33m,\u001b[0m \u001b[0msize\u001b[0m\u001b[1;33m=\u001b[0m\u001b[1;36m5\u001b[0m\u001b[1;33m)\u001b[0m\u001b[1;33m\u001b[0m\u001b[1;33m\u001b[0m\u001b[0m\n\u001b[0m\u001b[0;32m      2\u001b[0m \u001b[0mprint\u001b[0m\u001b[1;33m(\u001b[0m\u001b[0mhand\u001b[0m\u001b[1;33m)\u001b[0m\u001b[1;33m\u001b[0m\u001b[1;33m\u001b[0m\u001b[0m\n",
      "\u001b[1;32mmtrand.pyx\u001b[0m in \u001b[0;36mnumpy.random.mtrand.sample\u001b[1;34m()\u001b[0m\n",
      "\u001b[1;32mmtrand.pyx\u001b[0m in \u001b[0;36mnumpy.random.mtrand.RandomState.random_sample\u001b[1;34m()\u001b[0m\n",
      "\u001b[1;31mTypeError\u001b[0m: random_sample() got multiple values for keyword argument 'size'"
     ]
    }
   ],
   "source": [
    "hand = random.sample(deck, size=5)\n",
    "print(hand)"
   ]
  },
  {
   "cell_type": "code",
   "execution_count": 70,
   "metadata": {},
   "outputs": [],
   "source": [
    "# LOOKUP!!!"
   ]
  },
  {
   "cell_type": "code",
   "execution_count": null,
   "metadata": {},
   "outputs": [],
   "source": []
  },
  {
   "cell_type": "markdown",
   "metadata": {},
   "source": []
  }
 ],
 "metadata": {
  "kernelspec": {
   "display_name": "Python 3",
   "language": "python",
   "name": "python3"
  },
  "language_info": {
   "codemirror_mode": {
    "name": "ipython",
    "version": 3
   },
   "file_extension": ".py",
   "mimetype": "text/x-python",
   "name": "python",
   "nbconvert_exporter": "python",
   "pygments_lexer": "ipython3",
   "version": "3.8.3"
  }
 },
 "nbformat": 4,
 "nbformat_minor": 4
}
