{
 "cells": [
  {
   "cell_type": "markdown",
   "metadata": {},
   "source": [
    "## Q2: Explain the use of the “Simple random data” and “Permutations” functions."
   ]
  },
  {
   "cell_type": "code",
   "execution_count": 2,
   "metadata": {},
   "outputs": [],
   "source": [
    "import numpy as np\n",
    "import matplotlib.pyplot as plt"
   ]
  },
  {
   "cell_type": "markdown",
   "metadata": {},
   "source": [
    "### 2.1. Simple Random Data\n",
    "\n",
    "#### 2.1.1. What do the Simple Random Data Functions Do?\n",
    "The second section of the numpy.random package relates to the use of simple random data. This sections contains 4 functions that return random values of various types. The four functions are:\n",
    "1. integers\n",
    "2. random\n",
    "3. choice\n",
    "4. bytes\n",
    "\n",
    "Numpy's classification of its Random package into three groups (Simple Random Data, Permuations and Distributions) may not be immediately intuitive when first using the package. However, by practicing the use of functions from each of these groups, one can grasp the distinctions between them. The Permutation functions can take an ordered array as input and output either a shuffled version or a new variable that has been 'randomly' permuted. The Distribution functions all produce random data that reflects a particular statistical distribution. \n",
    "\n",
    "However, the functions under in Simple Random Data section are, it could be argued, the most random of the entire numpy.random package. In the case of the random.integers() and random.random() functions, the output is manipulated based on type (integer or floating point number). Whereas, in the case of the random.choice function(), the random data produced can be set at a specific probability, providing a useful means to replicate rea-life 'chance' scenarios, such as the simulation of a game of roulette. The bytes() function is limited to producing random bites of a given length. These functions have broad use across all probabilities and areas of statistics. They are less concerned with producing manipulated data and are designed to provide the most basic statistical ramdomisation tools. "
   ]
  },
  {
   "cell_type": "markdown",
   "metadata": {},
   "source": [
    "#### 2.1.2. Producing Arrays of Simple Random Data"
   ]
  },
  {
   "cell_type": "markdown",
   "metadata": {},
   "source": [
    "#### random.integers() "
   ]
  },
  {
   "cell_type": "code",
   "execution_count": 13,
   "metadata": {},
   "outputs": [
    {
     "name": "stdout",
     "output_type": "stream",
     "text": [
      "[[5 6 2]\n",
      " [6 4 4]]\n",
      "\n",
      " [[15  6  0  7 13]\n",
      " [ 1 10 18 11 19]\n",
      " [19  0  9 12 11]\n",
      " [ 2 17 14  9  1]]\n"
     ]
    }
   ],
   "source": [
    "rng = np.random.default_rng()\n",
    "\n",
    "# Produce a 2 by 3 array between 1 and 10\n",
    "print(rng.integers(10, size=(2, 3)) )\n",
    "\n",
    "# Produce a 4 by 5 array between 1 and 20\n",
    "print(\"\\n\", rng.integers(20, size=(4, 5)) )"
   ]
  },
  {
   "cell_type": "code",
   "execution_count": 15,
   "metadata": {},
   "outputs": [
    {
     "name": "stdout",
     "output_type": "stream",
     "text": [
      "\n",
      " [[[[28 27 10 23]\n",
      "   [17  5 20 10]\n",
      "   [ 6 47 15 46]]\n",
      "\n",
      "  [[29 22 14  8]\n",
      "   [27 12 18 37]\n",
      "   [34 43 15 15]]]\n",
      "\n",
      "\n",
      " [[[19 44 25 22]\n",
      "   [24  6  5  1]\n",
      "   [35 47 25 13]]\n",
      "\n",
      "  [[ 4 42 15 16]\n",
      "   [33 12 36 43]\n",
      "   [ 9  4  4  9]]]]\n"
     ]
    }
   ],
   "source": [
    "# prduce a matrix of integers between 1 and 48 in 4-d\n",
    "print(\"\\n\", rng.integers(48, size=(2, 2, 3, 4)) )"
   ]
  },
  {
   "cell_type": "code",
   "execution_count": null,
   "metadata": {},
   "outputs": [],
   "source": []
  },
  {
   "cell_type": "markdown",
   "metadata": {},
   "source": [
    "### 2.2. Permutation Functions\n",
    "\n",
    "##### Definition (Webster's Dictionary)\n",
    "*permute (pəˈmjuːt)*\n",
    "*vb (tr)*\n",
    "\n",
    "1. *to change the sequence of*\n",
    "2. *(Mathematics) to subject to permutation [C14: from Latin permūtāre, from per- + mūtāre to change, alter] perˈmutable adj perˌmutaˈbility, perˈmutableness n perˈmutably adv*\n",
    "\n",
    "Accrding to corporatefinanceinstitute.com, a permutation is a mathematical technique that determines the number of possible arrangements in a set when the order of the arrangements matters. Common mathematical problems involve choosing only several items from a set of items with a certain order.\n",
    "\n",
    "There are two functions within Numpy's Permutations Section:\n",
    "* The Shuffle function\n",
    "\n",
    "*and*\n",
    "* The Permutation function\n",
    "\n",
    "Both of these function, permute a list in order to create random data. In particular, they both change the order of elements in an array. However, whist shuffle() merely permutes an array and outputs the altered array, permutation() makes a copy of an array, permutes it and then outputs the change in the form of a new variable."
   ]
  },
  {
   "cell_type": "markdown",
   "metadata": {},
   "source": [
    "#### 2.2.1. numpy.random.Generator.shuffle"
   ]
  },
  {
   "cell_type": "code",
   "execution_count": null,
   "metadata": {},
   "outputs": [],
   "source": []
  },
  {
   "cell_type": "code",
   "execution_count": null,
   "metadata": {},
   "outputs": [],
   "source": []
  }
 ],
 "metadata": {
  "kernelspec": {
   "display_name": "Python 3",
   "language": "python",
   "name": "python3"
  },
  "language_info": {
   "codemirror_mode": {
    "name": "ipython",
    "version": 3
   },
   "file_extension": ".py",
   "mimetype": "text/x-python",
   "name": "python",
   "nbconvert_exporter": "python",
   "pygments_lexer": "ipython3",
   "version": "3.8.3"
  }
 },
 "nbformat": 4,
 "nbformat_minor": 4
}
