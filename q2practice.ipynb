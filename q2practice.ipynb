{
 "cells": [
  {
   "cell_type": "markdown",
   "metadata": {},
   "source": [
    "## Q2: Explain the use of the “Simple random data” and “Permutations” functions."
   ]
  },
  {
   "cell_type": "code",
   "execution_count": 150,
   "metadata": {},
   "outputs": [],
   "source": [
    "import numpy as np\n",
    "import matplotlib.pyplot as plt"
   ]
  },
  {
   "cell_type": "markdown",
   "metadata": {},
   "source": [
    "### 2.1. Simple Random Data\n",
    "\n",
    "#### 2.1.1. What do the Simple Random Data Functions Do?\n",
    "The second section of the numpy.random package relates to the use of simple random data. This sections contains 4 functions that return random values of various types. The four functions are:\n",
    "1. integers\n",
    "2. random\n",
    "3. choice\n",
    "4. bytes\n",
    "\n",
    "Numpy's classification of its Random package into three groups (Simple Random Data, Permuations and Distributions) may not be immediately intuitive when first using the package. However, by practicing the use of functions from each of these groups, one can grasp the distinctions between them. The Permutation functions can take an ordered array as input and output either a shuffled version or a new variable that has been 'randomly' permuted. The Distribution functions all produce random data that reflects a particular statistical distribution. \n",
    "\n",
    "However, the functions under in Simple Random Data section are, it could be argued, the most random of the entire numpy.random package. In the case of the random.integers() and random.random() functions, the output is manipulated based on type (integer or floating point number). Whereas, in the case of the random.choice function(), the random data produced can be set at a specific probability, providing a useful means to replicate rea-life 'chance' scenarios, such as the simulation of a game of roulette. The bytes() function is limited to producing random bites of a given length. These functions have broad use across all probabilities and areas of statistics. They are less concerned with producing manipulated data and are designed to provide the most basic statistical ramdomisation tools. "
   ]
  },
  {
   "cell_type": "markdown",
   "metadata": {},
   "source": [
    "#### 2.1.2. Producing Arrays of Simple Random Data"
   ]
  },
  {
   "cell_type": "markdown",
   "metadata": {},
   "source": [
    "#### Numpy Integers Function"
   ]
  },
  {
   "cell_type": "markdown",
   "metadata": {},
   "source": [
    "<img src=\"https://vrzkj25a871bpq7t1ugcgmn9-wpengine.netdna-ssl.com/wp-content/uploads/2020/03/anp-random-randint_syntax-explanation_v4.png\" alt=\"Drawing\" style=\"width: 600px;\"/>"
   ]
  },
  {
   "cell_type": "code",
   "execution_count": 148,
   "metadata": {},
   "outputs": [
    {
     "data": {
      "text/plain": [
       "16"
      ]
     },
     "execution_count": 148,
     "metadata": {},
     "output_type": "execute_result"
    }
   ],
   "source": [
    "np.random.seed(30) \n",
    "rng = np.random.default_rng()\n",
    "rng.integers(4, 20)"
   ]
  },
  {
   "cell_type": "code",
   "execution_count": 64,
   "metadata": {},
   "outputs": [
    {
     "name": "stdout",
     "output_type": "stream",
     "text": [
      "[[6 0 8]\n",
      " [0 3 2]]\n",
      "\n",
      " [[ 1 10 17 12  9]\n",
      " [ 2 10  6  8 17]\n",
      " [13 16 11 14 11]\n",
      " [ 1  5  0 14 12]]\n"
     ]
    }
   ],
   "source": [
    "rng = np.random.default_rng()\n",
    "np.random.seed(0)\n",
    "\n",
    "# Produce a 2 by 3 array between 1 and 10\n",
    "print(rng.integers(10, size=(2, 3)) )\n",
    "np.random.seed(0)\n",
    "\n",
    "# Produce a 4 by 5 array between 1 and 20\n",
    "print(\"\\n\", rng.integers(20, size=(4, 5)) )"
   ]
  },
  {
   "cell_type": "code",
   "execution_count": 15,
   "metadata": {},
   "outputs": [
    {
     "name": "stdout",
     "output_type": "stream",
     "text": [
      "\n",
      " [[[[28 27 10 23]\n",
      "   [17  5 20 10]\n",
      "   [ 6 47 15 46]]\n",
      "\n",
      "  [[29 22 14  8]\n",
      "   [27 12 18 37]\n",
      "   [34 43 15 15]]]\n",
      "\n",
      "\n",
      " [[[19 44 25 22]\n",
      "   [24  6  5  1]\n",
      "   [35 47 25 13]]\n",
      "\n",
      "  [[ 4 42 15 16]\n",
      "   [33 12 36 43]\n",
      "   [ 9  4  4  9]]]]\n"
     ]
    }
   ],
   "source": [
    "# prduce a matrix of integers between 1 and 48 in 4-d\n",
    "print(\"\\n\", rng.integers(48, size=(2, 2, 3, 4)) )"
   ]
  },
  {
   "cell_type": "markdown",
   "metadata": {},
   "source": [
    "#### Numpy's Random Function - "
   ]
  },
  {
   "cell_type": "markdown",
   "metadata": {},
   "source": [
    "<img src=\"https://cdn.shortpixel.ai/spai/w_995+q_lossy+ret_img+to_webp/https://www.sharpsightlabs.com/wp-content/uploads/2019/05/numpy-random-choice-syntax-explanation.png\" alt=\"Drawing\" style=\"width: 600px;\"/>\n",
    "\n",
    "*Image from sharpsightlabs.com*"
   ]
  },
  {
   "cell_type": "code",
   "execution_count": 206,
   "metadata": {},
   "outputs": [
    {
     "data": {
      "image/png": "[encoded data removed]",
      "text/plain": [
       "<Figure size 432x288 with 1 Axes>"
      ]
     },
     "metadata": {
      "needs_background": "light"
     },
     "output_type": "display_data"
    }
   ],
   "source": [
    "import pandas as pd\n",
    "\n",
    "df = pd.DataFrame(np.random.random(size=(10000,5)), columns=list('ABCDE')) # creating a Dataframe directly with pandas\n",
    "plt.boxplot(df.A, labels = 'A')\n",
    "plt.show()"
   ]
  },
  {
   "cell_type": "code",
   "execution_count": 172,
   "metadata": {},
   "outputs": [
    {
     "name": "stdout",
     "output_type": "stream",
     "text": [
      "[0.83261985 0.83794491 0.60484552 0.96366276 0.5488135  0.43758721\n",
      " 0.0187898  0.26538949 0.56660145 0.36872517 0.11872772 0.21038256\n",
      " 0.10204481 0.61209572 0.06022547 0.36371077 0.67063787 0.13179786\n",
      " 0.26455561 0.66741038 0.16130952 0.38344152 0.891773   0.43860151\n",
      " 0.31542835 0.2532916  0.616934   0.52324805 0.6818203  0.28280696\n",
      " 0.13818295 0.41426299 0.7163272  0.94466892 0.00469548 0.52184832\n",
      " 0.79172504 0.97861834 0.73926358 0.4686512  0.78052918 0.64589411\n",
      " 0.46147936 0.6176355  0.24442559 0.56804456 0.6976312  0.57019677\n",
      " 0.46631077 0.19658236 0.82894003 0.9292962  0.31856895 0.66676672\n",
      " 0.65632959 0.09609841 0.71518937 0.0641475  0.1289263  0.94374808\n",
      " 0.69247212 0.0871293  0.20887676 0.18319136 0.77815675 0.43703195\n",
      " 0.2961402  0.31798318 0.58651293 0.77423369 0.97645947 0.45615033\n",
      " 0.56843395 0.09394051 0.15896958 0.63992102 0.79915856 0.41466194\n",
      " 0.11827443 0.0202184  0.65310833 0.03918779 0.12019656 0.52889492\n",
      " 0.5759465  0.4236548  0.07103606 0.11037514 0.09710128 0.98837384\n",
      " 0.82099323 0.14335329 0.02010755 0.87001215 0.97676109 0.3595079\n",
      " 0.92559664 0.28940609 0.54488318 0.60276338]\n"
     ]
    },
    {
     "data": {
      "image/png": "[encoded data removed]",
      "text/plain": [
       "<Figure size 432x288 with 1 Axes>"
      ]
     },
     "metadata": {
      "needs_background": "light"
     },
     "output_type": "display_data"
    }
   ],
   "source": [
    "# Seed the random number generator\n",
    "np.random.seed(0)\n",
    "\n",
    "# Initialize random numbers: random_numbers\n",
    "random_numbers = np.empty(100)\n",
    "\n",
    "# Generate random numbers by looping over range(100000)\n",
    "for i in range(100):\n",
    "    random_numbers[i] = np.random.random()\n",
    "\n",
    "# Plot a histogram\n",
    "_ = plt.hist(random_numbers)\n",
    "\n",
    "print(random_numbers)\n",
    "# Show the plot\n",
    "plt.show()"
   ]
  },
  {
   "cell_type": "code",
   "execution_count": null,
   "metadata": {},
   "outputs": [],
   "source": []
  },
  {
   "cell_type": "code",
   "execution_count": null,
   "metadata": {},
   "outputs": [],
   "source": []
  },
  {
   "cell_type": "markdown",
   "metadata": {},
   "source": [
    "### 2.2. Permutation Functions\n",
    "\n",
    "##### Definition (Webster's Dictionary)\n",
    "*permute (pəˈmjuːt)*\n",
    "*vb (tr)*\n",
    "\n",
    "1. *to change the sequence of*\n",
    "2. *(Mathematics) to subject to permutation [C14: from Latin permūtāre, from per- + mūtāre to change, alter] perˈmutable adj perˌmutaˈbility, perˈmutableness n perˈmutably adv*\n",
    "\n",
    "Accrding to corporatefinanceinstitute.com, a permutation is a mathematical technique that determines the number of possible arrangements in a set when the order of the arrangements matters. Common mathematical problems involve choosing only several items from a set of items with a certain order.\n",
    "\n",
    "There are two functions within Numpy's Permutations Section:\n",
    "* The Shuffle function\n",
    "\n",
    "*and*\n",
    "* The Permutation function\n",
    "\n",
    "Both of these function, permute a list in order to create random data. In particular, they both change the order of elements in an array. However, whist shuffle() merely permutes an array and outputs the altered array, permutation() makes a copy of an array, permutes it and then outputs the change in the form of a new variable."
   ]
  },
  {
   "cell_type": "markdown",
   "metadata": {},
   "source": [
    "#### 2.2.1. Permutation Function - numpy.random.Generator.permutation"
   ]
  },
  {
   "cell_type": "code",
   "execution_count": null,
   "metadata": {},
   "outputs": [],
   "source": []
  },
  {
   "cell_type": "code",
   "execution_count": null,
   "metadata": {},
   "outputs": [],
   "source": []
  },
  {
   "cell_type": "markdown",
   "metadata": {},
   "source": [
    "#### 2.2.2. Shuffle Function - numpy.random.Generator.shuffle"
   ]
  },
  {
   "cell_type": "code",
   "execution_count": null,
   "metadata": {},
   "outputs": [],
   "source": []
  }
 ],
 "metadata": {
  "kernelspec": {
   "display_name": "Python 3",
   "language": "python",
   "name": "python3"
  },
  "language_info": {
   "codemirror_mode": {
    "name": "ipython",
    "version": 3
   },
   "file_extension": ".py",
   "mimetype": "text/x-python",
   "name": "python",
   "nbconvert_exporter": "python",
   "pygments_lexer": "ipython3",
   "version": "3.8.3"
  }
 },
 "nbformat": 4,
 "nbformat_minor": 4
}
