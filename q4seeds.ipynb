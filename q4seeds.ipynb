{
 "cells": [
  {
   "cell_type": "markdown",
   "metadata": {},
   "source": [
    "## Q.4. Explain the use of seeds in generating pseudorandom numbers."
   ]
  },
  {
   "cell_type": "markdown",
   "metadata": {},
   "source": [
    "### 4.1. The Function of the Seed in Generating 'Random' Numbers\n",
    "\n",
    "The Seed in Numpy's Random package is the entity at the heart of the pseudo-random number generation process. In reality, it is simply a single value. The Seed is the 'BitGenerator' and the Seed value is the reference point that determines which numbers are selected to be provided to the 'Generator'. Numpy uses this reference point to select random numbers from. The Seed provides an 'instant', that is to say an internal state, that is very difficult to determine without knowing the Seed value. The user can, however, determine the seed value and in doing so remove the veil of mystery surrounding numpy.random.\n",
    "\n",
    "In order to understand the basic function of the Seed it might be a good time to utilise a cheesy metaphore drawn from pop-culture!\n",
    "\n",
    "Think of the Seed as the Seed as...\n",
    "\n",
    "![](https://www.nsxprime.com/photopost/data/1032/THE_MATRIX_RELOADED-0.jpg)"
   ]
  },
  {
   "cell_type": "markdown",
   "metadata": {},
   "source": [
    "##### ... The Keymaker from the Matrix series...\n",
    "\n",
    "It might seem cliché to make a reference to the Matrix series when describing an aspect of Data Science (and not even the best of the series), but the comparison may be useful in translating the operations of the Seed into a digestible form.\n",
    "\n",
    "In the film, the Keymaker is a computer program, within the simulation known as the Matrix, which has been created by an alien population that have taken over the Earth and have sedated humans by plugging them into the Matrix. Neo is a human that has been unplugged frm the Marix. He has been selected by 'virus' programs within the Matrix that wish to destroy it. As he has been deemed 'The One', the Keymaker program is designated to take Neo to the Source, which is believed to be the CPU of the Matrix. The Keymaker posseses keys that take Neo away from danger within the Matrix. Each key has been made by hand by the Keymaker and is used in just 1 lock, in scenarios that he, and only he, is aware of before they have happened. The Keymaker takes Neo through a door and is killed before he himself can enter. Having gone through the door, Neo does not find himself at the source but must escape further dangers and return to receive counsel from 'The Oracle'. The Oracle is another retrogade program that wishes to destroy the Matrix. She provides Neo with the location of the Source (sort of).  \n",
    "\n",
    "The Keymaker is a character of importance in the film, as he and only he posseses unique keys for doors that the characters must travel through. By finding the Keymaker, one can use his keys and in some sense cheat the Matix. The Seed in a similar sense is a glimpse of the internal state of the computer. Like obtaining one of the Keymaker's keys, users can set the Seed value and therefore, control what random numbers are generated. The PRNG system, PCG-64, is similar to the Keymaker as the system takes the Seed value and uses it as a reference point to create a random number from. The Generator, a program with a different purpose, takes the stream of bits and transates it into a random distribution for use by the user. Similarly, the Oracle is a program with a different purpose to the Keyholder that Neo must use after the Keymaker's death. This chain eventually leads to the Source, in the case of our metaphor and in reality for Numpy, the production of a random number. \n",
    "\n",
    "\n"
   ]
  },
  {
   "cell_type": "markdown",
   "metadata": {},
   "source": [
    "Neo   > The Keymaker >  The Oracle      >| The Source     > Destruction of the Matrix\n",
    "\n",
    "Human >    Program   > High-level program  >|    CPU         >     Server\n",
    "\n",
    "Bits  >     Seed     >       PCG-64        >| Generator      >  Random Number "
   ]
  },
  {
   "cell_type": "markdown",
   "metadata": {},
   "source": [
    "|    -  |   -  |    The Matrix  |    -  |    - |\n",
    "|:---: | :---: | :---: | :---: | :---: | \n",
    "|    Key  →| The Keymaker(Program)  →|  The Oracle(High-level program)  →|The Source(CPU)  |\n",
    "|     ↕     |            ↕    |       ↕       |                  |\n",
    "|Seed/Seed Value  →     |        PCG-64  →          |       Generator  →          |    A Random Number is produced   | \n",
    "\n",
    "\n"
   ]
  },
  {
   "cell_type": "code",
   "execution_count": null,
   "metadata": {},
   "outputs": [],
   "source": []
  },
  {
   "cell_type": "markdown",
   "metadata": {},
   "source": [
    "|    -  |   -  |    -  |    -  |    - |\n",
    "|:---: | :---: | :---: | :---: | :---: | \n",
    "|    Human  |   Program  | High-level program  | The CPU  |\n",
    "|Neo  →|The Keymaker  →|The Oracle  →|The Source  →|Destruction of the Matrix |\n",
    "|     ↕     |     ↕    |       ↕     |        ↕      |                  |\n",
    "|  Bits  →     |         Seed  →        |       PCG-64  →             | Generator  →     | A Random Number is produced |"
   ]
  },
  {
   "cell_type": "markdown",
   "metadata": {},
   "source": [
    "<img src=\"https://cdn.shortpixel.ai/spai/w_995+q_lossy+ret_img+to_webp/https://www.sharpsightlabs.com/wp-content/uploads/2019/05/numpy-random-seed_syntax.png\" alt=\"Drawing\" style=\"width: 400px;\"/>"
   ]
  },
  {
   "cell_type": "markdown",
   "metadata": {},
   "source": [
    "### 4.2. The Generator and the BitGenerator"
   ]
  },
  {
   "cell_type": "markdown",
   "metadata": {},
   "source": [
    "#### What are they?\n",
    "\n",
    "With Numpy's Version 1.17 release, the package has been divided into two sections: the Generator and the BitGenerator. In order to understand how the seed operates within Numpy, it is first necessary to understand what these functional algorithms do. \n",
    "\n",
    "The Generator is the 'user-facing' umbrella of methods for drawing random numbers from a variety of distributions. Therefore, it emcompasses the Simple Random Data, Permuation and Distribution functions. Before Version 1.17, Numpy utilised a Generator known as RandomState. The Generator interface contained a more complicated Simple Random Data (SRD) section, that contained numerous functions to produce random integers and floating point numbers. The SRD functions of the new Generator has been refined down to 1 function for generating integers, 1 for floats, 1 for random samples and 1 for random bytes. \n",
    "\n",
    "The Bit Generator uses an efficient algorithm to produce a 'stream' of random bits to the Generator, which in turn will be given random shape in a distribution. The BitGenerator, therefore, is responsible for 'instantiating' the Generator, which means it provides bits of data, that are randomised the moment it is called. Since Version 1.17 this process occurs when the user commands the Generator via the numpy.random.default_rng. The default_rng function is a 'constructor' that call on the BitGenerator to instantiate the Generator.\n",
    "\n",
    "The complicated workings of the BitGenerator make it difficult for the user to comprehend in how it operates and its relationship to the interface of Numpy. By investigating the particular Pseudo-Random Number Generator (PRNG) that Numpy has adopted in its latest releases, the PCG-64 (Permutation Congruential Generator, 64-bit), we can understand more about the BitGenerators role in numpy.random.\n",
    "\n",
    "#### PCG-64 \n",
    "\n",
    "PCG-64 is a family of PRNG's that seeks to address a perceived shortcoming of previous algorithms, that are guilty of falling into one pit fall or another when it comes to random number generation. Some PRNG's use encryption to keep the internal state of the generator secret, but these programs use a lot of space and are slow in operation. Other PRNG's are fast but do not offer any methods to conceal the internal state. One the creators of PCG-64 has explained that this new PRNG is designed to to pass the output of a fast well-understood “medium quality” random number generator to an efficient permutation function (O'Neill, 2014). The random number generator used in the first stage of this process is known as a Linear Congruential Generator (LCG). Therefore, the stream of random bits produced by the LCG is further 'randomised' by a special function, before it is passed to the Generator. "
   ]
  },
  {
   "cell_type": "markdown",
   "metadata": {},
   "source": [
    "### 4.3. The SeedSequence\n",
    "\n",
    "#### Introducing the New Seeding Method\n",
    "\n",
    "To further complicate what has been discussed in the previous section, where it was stated that the PCG-64 *was* the BitGenerator, it is more correct to say that PCG-64 is the PRNG method that uses the Seed itself as the BitGenerator. Looking at the paramters for the OCG-64 class in Numpy, we can see how the seed plays a central role in how the BitGenerator works:\n",
    "\n",
    "##### <font color='blue'>np.random.PCG64(seed=[None, int, array_like[ints], SeedSequence}, optional])</font>\n",
    "\n",
    "If the seed is set to 'None' a 'fresh' instantiate entropy will be pulled from the OS using the LCG. However, if one is to set the seed to an integer, or an array of integers, then it will be passed to the SeedSequence class. \n",
    "\n",
    "Leaving the term 'SeedSequence' aside for now, more understanding of the concept of 'the seed' itself is required. The legacy methods now discouraged by Numpy, employ a reseeding method for the BitGenerator. That is to say, if the user wishes to change the seed, they merely change the seed of the BitGenerator. Since Numpy 1.17, users are advised not to reseed, but rather to create a new BitGenerator with a new seed.\n",
    "\n",
    "Before anymore theoretical explanation takes place, it might be appropriate to first test how the seed works in a block or code."
   ]
  },
  {
   "cell_type": "markdown",
   "metadata": {},
   "source": [
    "#### Basic Use of the Seed"
   ]
  },
  {
   "cell_type": "code",
   "execution_count": null,
   "metadata": {},
   "outputs": [],
   "source": []
  },
  {
   "cell_type": "code",
   "execution_count": 6,
   "metadata": {},
   "outputs": [
    {
     "data": {
      "text/plain": [
       "3"
      ]
     },
     "execution_count": 6,
     "metadata": {},
     "output_type": "execute_result"
    }
   ],
   "source": [
    "from numpy.random import default_rng\n",
    "rng = default_rng()\n",
    "vals = rng.integers(10)\n",
    "more_vals = rng.integers(10)\n",
    "vals\n"
   ]
  },
  {
   "cell_type": "code",
   "execution_count": null,
   "metadata": {},
   "outputs": [],
   "source": []
  }
 ],
 "metadata": {
  "kernelspec": {
   "display_name": "Python 3",
   "language": "python",
   "name": "python3"
  },
  "language_info": {
   "codemirror_mode": {
    "name": "ipython",
    "version": 3
   },
   "file_extension": ".py",
   "mimetype": "text/x-python",
   "name": "python",
   "nbconvert_exporter": "python",
   "pygments_lexer": "ipython3",
   "version": "3.8.3"
  }
 },
 "nbformat": 4,
 "nbformat_minor": 4
}
